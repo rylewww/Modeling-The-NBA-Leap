{
 "cells": [
  {
   "cell_type": "code",
   "execution_count": 16,
   "metadata": {},
   "outputs": [],
   "source": [
    "import re\n",
    "import os\n",
    "import time\n",
    "import random\n",
    "import requests\n",
    "import numpy as np\n",
    "import pandas as pd\n",
    "from os import system\n",
    "from math import floor\n",
    "from copy import deepcopy\n",
    "from bs4 import BeautifulSoup\n",
    "from selenium import webdriver\n",
    "from selenium.webdriver.common.by import By\n",
    "from selenium.webdriver.common.keys import Keys\n",
    "from selenium.common.exceptions import TimeoutException\n",
    "from selenium.webdriver.support.ui import WebDriverWait\n",
    "from selenium.webdriver.support import expected_conditions as EC"
   ]
  },
  {
   "cell_type": "code",
   "execution_count": 60,
   "metadata": {},
   "outputs": [],
   "source": [
    "driver = webdriver.Chrome()"
   ]
  },
  {
   "cell_type": "code",
   "execution_count": 61,
   "metadata": {},
   "outputs": [],
   "source": [
    "url = 'https://stathead.com/basketball/psl_finder.cgi?request=1&lg_id=NBA&order_by=ws&season_start=1&is_playoffs=N&as_val=0&per_poss_base=100&order_by_asc=0&as_comp=gt&birth_country_is=Y&height_max=99&match=single&per_minute_base=36&height_min=0&season_end=-1&age_min=0&age_max=99&college_id=0&type=advanced&offset=0'"
   ]
  },
  {
   "cell_type": "code",
   "execution_count": 62,
   "metadata": {},
   "outputs": [],
   "source": [
    "driver.get(url)"
   ]
  },
  {
   "cell_type": "code",
   "execution_count": 27,
   "metadata": {},
   "outputs": [
    {
     "data": {
      "text/plain": [
       "<selenium.webdriver.remote.webelement.WebElement (session=\"0e176bc557d94496a737a868733611d3\", element=\"6fffd7fd-1df0-4116-8592-d7ddd64ee80d\")>"
      ]
     },
     "execution_count": 27,
     "metadata": {},
     "output_type": "execute_result"
    }
   ],
   "source": [
    "driver.find_element_by_tag_name('table')"
   ]
  },
  {
   "cell_type": "code",
   "execution_count": 28,
   "metadata": {},
   "outputs": [],
   "source": [
    "table = driver.find_element_by_tag_name('table')"
   ]
  },
  {
   "cell_type": "code",
   "execution_count": 29,
   "metadata": {},
   "outputs": [
    {
     "data": {
      "text/plain": [
       "'Totals Advanced\\nRk Player Season Age Tm Lg WS G GS MP PER 3PAr FTr ORB% DRB% TRB% AST% STL% BLK% TOV% USG% ORtg DRtg OWS DWS WS/48 OBPM DBPM BPM VORP'"
      ]
     },
     "execution_count": 29,
     "metadata": {},
     "output_type": "execute_result"
    }
   ],
   "source": [
    "table.find_element_by_tag_name('thead').text"
   ]
  },
  {
   "cell_type": "code",
   "execution_count": 34,
   "metadata": {},
   "outputs": [],
   "source": [
    "header = table.find_element_by_tag_name('thead').text"
   ]
  },
  {
   "cell_type": "code",
   "execution_count": 35,
   "metadata": {},
   "outputs": [
    {
     "data": {
      "text/plain": [
       "'Rk Player Season Age Tm Lg WS G GS MP PER 3PAr FTr ORB% DRB% TRB% AST% STL% BLK% TOV% USG% ORtg DRtg OWS DWS WS/48 OBPM DBPM BPM VORP'"
      ]
     },
     "execution_count": 35,
     "metadata": {},
     "output_type": "execute_result"
    }
   ],
   "source": [
    "header = header.split('\\n')[1]\n",
    "header"
   ]
  },
  {
   "cell_type": "code",
   "execution_count": 37,
   "metadata": {},
   "outputs": [],
   "source": [
    "header = header.split()"
   ]
  },
  {
   "cell_type": "code",
   "execution_count": 38,
   "metadata": {},
   "outputs": [],
   "source": [
    "rows = table.find_elements_by_tag_name('tr')"
   ]
  },
  {
   "cell_type": "code",
   "execution_count": 63,
   "metadata": {},
   "outputs": [
    {
     "name": "stdout",
     "output_type": "stream",
     "text": [
      "0\n",
      "1000\n",
      "2000\n",
      "3000\n",
      "4000\n",
      "5000\n",
      "6000\n",
      "7000\n",
      "8000\n",
      "9000\n",
      "10000\n",
      "11000\n",
      "12000\n",
      "13000\n",
      "14000\n"
     ]
    }
   ],
   "source": [
    "master_list = []\n",
    "for i in range(0,15000,100):\n",
    "    time.sleep(random.choice([x/10 for x in range(5,12)]))\n",
    "    url = f'https://stathead.com/basketball/psl_finder.cgi?request=1&lg_id=NBA&order_by=ws&season_start=1&is_playoffs=N&as_val=0&per_poss_base=100&order_by_asc=0&as_comp=gt&birth_country_is=Y&height_max=99&match=single&per_minute_base=36&height_min=0&season_end=-1&age_min=0&age_max=99&college_id=0&type=advanced&offset={i}'\n",
    "    driver.get(url)\n",
    "    table = driver.find_element_by_tag_name('table')\n",
    "    rows = table.find_elements_by_tag_name('tr')\n",
    "    for row in rows[2:]:\n",
    "        master_list.append([x.text for x in row.find_elements_by_tag_name('td')])\n",
    "    if i % 1000 == 0:\n",
    "        pd.DataFrame(master_list).to_csv('NBA_Advanced.csv')\n",
    "        print(i)\n",
    "driver.quit()"
   ]
  },
  {
   "cell_type": "code",
   "execution_count": 64,
   "metadata": {},
   "outputs": [],
   "source": [
    "advanced = pd.read_csv('NBA_Advanced.csv')"
   ]
  },
  {
   "cell_type": "code",
   "execution_count": 66,
   "metadata": {},
   "outputs": [
    {
     "data": {
      "text/html": [
       "<div>\n",
       "<style scoped>\n",
       "    .dataframe tbody tr th:only-of-type {\n",
       "        vertical-align: middle;\n",
       "    }\n",
       "\n",
       "    .dataframe tbody tr th {\n",
       "        vertical-align: top;\n",
       "    }\n",
       "\n",
       "    .dataframe thead th {\n",
       "        text-align: right;\n",
       "    }\n",
       "</style>\n",
       "<table border=\"1\" class=\"dataframe\">\n",
       "  <thead>\n",
       "    <tr style=\"text-align: right;\">\n",
       "      <th></th>\n",
       "      <th>Unnamed: 0</th>\n",
       "      <th>0</th>\n",
       "      <th>1</th>\n",
       "      <th>2</th>\n",
       "      <th>3</th>\n",
       "      <th>4</th>\n",
       "      <th>5</th>\n",
       "      <th>6</th>\n",
       "      <th>7</th>\n",
       "      <th>8</th>\n",
       "      <th>...</th>\n",
       "      <th>19</th>\n",
       "      <th>20</th>\n",
       "      <th>21</th>\n",
       "      <th>22</th>\n",
       "      <th>23</th>\n",
       "      <th>24</th>\n",
       "      <th>25</th>\n",
       "      <th>26</th>\n",
       "      <th>27</th>\n",
       "      <th>28</th>\n",
       "    </tr>\n",
       "  </thead>\n",
       "  <tbody>\n",
       "    <tr>\n",
       "      <th>14659</th>\n",
       "      <td>14659</td>\n",
       "      <td>Jack Nichols</td>\n",
       "      <td>1957-58</td>\n",
       "      <td>31.0</td>\n",
       "      <td>BOS</td>\n",
       "      <td>NBA</td>\n",
       "      <td>1.0</td>\n",
       "      <td>69.0</td>\n",
       "      <td>NaN</td>\n",
       "      <td>1224.0</td>\n",
       "      <td>...</td>\n",
       "      <td>NaN</td>\n",
       "      <td>NaN</td>\n",
       "      <td>NaN</td>\n",
       "      <td>-0.9</td>\n",
       "      <td>1.9</td>\n",
       "      <td>0.040</td>\n",
       "      <td>NaN</td>\n",
       "      <td>NaN</td>\n",
       "      <td>NaN</td>\n",
       "      <td>NaN</td>\n",
       "    </tr>\n",
       "    <tr>\n",
       "      <th>14660</th>\n",
       "      <td>14660</td>\n",
       "      <td>Kurt Nimphius</td>\n",
       "      <td>1987-88</td>\n",
       "      <td>29.0</td>\n",
       "      <td>SAS</td>\n",
       "      <td>NBA</td>\n",
       "      <td>1.0</td>\n",
       "      <td>72.0</td>\n",
       "      <td>7.0</td>\n",
       "      <td>919.0</td>\n",
       "      <td>...</td>\n",
       "      <td>14.7</td>\n",
       "      <td>107.0</td>\n",
       "      <td>113.0</td>\n",
       "      <td>0.6</td>\n",
       "      <td>0.4</td>\n",
       "      <td>0.052</td>\n",
       "      <td>-2.5</td>\n",
       "      <td>-0.4</td>\n",
       "      <td>-2.8</td>\n",
       "      <td>-0.2</td>\n",
       "    </tr>\n",
       "    <tr>\n",
       "      <th>14661</th>\n",
       "      <td>14661</td>\n",
       "      <td>Kyle O'Quinn</td>\n",
       "      <td>2018-19</td>\n",
       "      <td>28.0</td>\n",
       "      <td>IND</td>\n",
       "      <td>NBA</td>\n",
       "      <td>1.0</td>\n",
       "      <td>45.0</td>\n",
       "      <td>3.0</td>\n",
       "      <td>371.0</td>\n",
       "      <td>...</td>\n",
       "      <td>20.8</td>\n",
       "      <td>106.0</td>\n",
       "      <td>102.0</td>\n",
       "      <td>0.2</td>\n",
       "      <td>0.8</td>\n",
       "      <td>0.125</td>\n",
       "      <td>-2.5</td>\n",
       "      <td>3.0</td>\n",
       "      <td>0.4</td>\n",
       "      <td>0.2</td>\n",
       "    </tr>\n",
       "    <tr>\n",
       "      <th>14662</th>\n",
       "      <td>14662</td>\n",
       "      <td>Emeka Okafor</td>\n",
       "      <td>2005-06</td>\n",
       "      <td>23.0</td>\n",
       "      <td>CHA</td>\n",
       "      <td>NBA</td>\n",
       "      <td>1.0</td>\n",
       "      <td>26.0</td>\n",
       "      <td>25.0</td>\n",
       "      <td>874.0</td>\n",
       "      <td>...</td>\n",
       "      <td>21.5</td>\n",
       "      <td>96.0</td>\n",
       "      <td>104.0</td>\n",
       "      <td>-0.2</td>\n",
       "      <td>1.1</td>\n",
       "      <td>0.054</td>\n",
       "      <td>-1.7</td>\n",
       "      <td>-0.4</td>\n",
       "      <td>-2.1</td>\n",
       "      <td>0.0</td>\n",
       "    </tr>\n",
       "    <tr>\n",
       "      <th>14663</th>\n",
       "      <td>14663</td>\n",
       "      <td>Emeka Okafor</td>\n",
       "      <td>2017-18</td>\n",
       "      <td>35.0</td>\n",
       "      <td>NOP</td>\n",
       "      <td>NBA</td>\n",
       "      <td>1.0</td>\n",
       "      <td>26.0</td>\n",
       "      <td>19.0</td>\n",
       "      <td>353.0</td>\n",
       "      <td>...</td>\n",
       "      <td>14.4</td>\n",
       "      <td>116.0</td>\n",
       "      <td>105.0</td>\n",
       "      <td>0.5</td>\n",
       "      <td>0.5</td>\n",
       "      <td>0.140</td>\n",
       "      <td>-1.1</td>\n",
       "      <td>-0.2</td>\n",
       "      <td>-1.2</td>\n",
       "      <td>0.1</td>\n",
       "    </tr>\n",
       "  </tbody>\n",
       "</table>\n",
       "<p>5 rows × 30 columns</p>\n",
       "</div>"
      ],
      "text/plain": [
       "       Unnamed: 0              0        1     2    3    4    5     6     7  \\\n",
       "14659       14659   Jack Nichols  1957-58  31.0  BOS  NBA  1.0  69.0   NaN   \n",
       "14660       14660  Kurt Nimphius  1987-88  29.0  SAS  NBA  1.0  72.0   7.0   \n",
       "14661       14661   Kyle O'Quinn  2018-19  28.0  IND  NBA  1.0  45.0   3.0   \n",
       "14662       14662   Emeka Okafor  2005-06  23.0  CHA  NBA  1.0  26.0  25.0   \n",
       "14663       14663   Emeka Okafor  2017-18  35.0  NOP  NBA  1.0  26.0  19.0   \n",
       "\n",
       "            8  ...    19     20     21   22   23     24   25   26   27   28  \n",
       "14659  1224.0  ...   NaN    NaN    NaN -0.9  1.9  0.040  NaN  NaN  NaN  NaN  \n",
       "14660   919.0  ...  14.7  107.0  113.0  0.6  0.4  0.052 -2.5 -0.4 -2.8 -0.2  \n",
       "14661   371.0  ...  20.8  106.0  102.0  0.2  0.8  0.125 -2.5  3.0  0.4  0.2  \n",
       "14662   874.0  ...  21.5   96.0  104.0 -0.2  1.1  0.054 -1.7 -0.4 -2.1  0.0  \n",
       "14663   353.0  ...  14.4  116.0  105.0  0.5  0.5  0.140 -1.1 -0.2 -1.2  0.1  \n",
       "\n",
       "[5 rows x 30 columns]"
      ]
     },
     "execution_count": 66,
     "metadata": {},
     "output_type": "execute_result"
    }
   ],
   "source": [
    "advanced.tail()"
   ]
  },
  {
   "cell_type": "code",
   "execution_count": null,
   "metadata": {},
   "outputs": [],
   "source": []
  }
 ],
 "metadata": {
  "kernelspec": {
   "display_name": "learn-env",
   "language": "python",
   "name": "learn-env"
  },
  "language_info": {
   "codemirror_mode": {
    "name": "ipython",
    "version": 3
   },
   "file_extension": ".py",
   "mimetype": "text/x-python",
   "name": "python",
   "nbconvert_exporter": "python",
   "pygments_lexer": "ipython3",
   "version": "3.8.5"
  }
 },
 "nbformat": 4,
 "nbformat_minor": 4
}
