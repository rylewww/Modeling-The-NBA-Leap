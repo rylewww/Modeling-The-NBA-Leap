{
 "cells": [
  {
   "cell_type": "code",
   "execution_count": 29,
   "metadata": {},
   "outputs": [],
   "source": [
    "import pandas as pd\n",
    "import matplotlib.pyplot as plt\n",
    "from sklearn.model_selection import train_test_split, GridSearchCV\n",
    "from sklearn.decomposition import PCA"
   ]
  },
  {
   "cell_type": "code",
   "execution_count": 2,
   "metadata": {},
   "outputs": [],
   "source": [
    "df_final = pd.read_csv('Data/Final_NBA_Seasons1-3_1977_final.csv', index_col = 0)\n",
    "df_final.set_index('Player', inplace = True)"
   ]
  },
  {
   "cell_type": "code",
   "execution_count": 5,
   "metadata": {},
   "outputs": [],
   "source": [
    "cols = ['GS','MP','FG','FGA','2P','2PA','FT','FTA','ORB','DRB','TRB','AST','STL','TOV','PTS','roy','all_rookie_1','WS_1','G_1','GS_1','MP_1','FG_1','FGA_1','2P_1',\n",
    "        '2PA_1','3P_1','3PA_1','FT_1','FTA_1','ORB_1','DRB_1','TRB_1','AST_1','STL_1','BLK_1','TOV_1','PF_1','PTS_1','FG%_1','ppg_1','apg_1','rpg_1','spg_1','bpg_1',\n",
    "        'tpg_1','ftpg_1','PER_1','OWS_1','DWS_1','WS/48_1','OBPM_1','DBPM_1','BPM_1','VORP_1','WS_2','G_2','GS_2','MP_2','FG_2','FGA_2','2P_2','2PA_2','3P_2','3PA_2',\n",
    "        'FT_2','FTA_2','ORB_2','DRB_2','TRB_2','AST_2','STL_2','BLK_2','TOV_2','PF_2','PTS_2','ppg_2','apg_2','rpg_2','spg_2','bpg_2','tpg_2','ftpg_2','PER_2','USG%_2',\n",
    "        'ORtg_2','DRtg_2','OWS_2','DWS_2','WS/48_2','OBPM_2','DBPM_2','BPM_2','VORP_2','WS_3','G_3','GS_3','MP_3','FG_3','FGA_3','2P_3','2PA_3','3P_3','3PA_3','FT_3',\n",
    "        'FTA_3','ORB_3','DRB_3','TRB_3','AST_3','STL_3','BLK_3','TOV_3','PF_3','PTS_3','TS%_3','ppg_3','apg_3','rpg_3','spg_3','bpg_3','tpg_3','ftpg_3','PER_3','USG%_3',\n",
    "        'ORtg_3','DRtg_3','OWS_3','DWS_3','WS/48_3','OBPM_3','DBPM_3','BPM_3','VORP_3','target',]\n",
    "\n",
    "df = df_final[cols]"
   ]
  },
  {
   "cell_type": "code",
   "execution_count": 22,
   "metadata": {},
   "outputs": [],
   "source": [
    "df = df.fillna(0)"
   ]
  },
  {
   "cell_type": "code",
   "execution_count": 91,
   "metadata": {},
   "outputs": [
    {
     "data": {
      "text/plain": [
       "['Al Horford\\\\horfoal01',\n",
       " 'Allen Iverson\\\\iversal01',\n",
       " \"Amar'e Stoudemire\\\\stoudam01\",\n",
       " 'Andre Drummond\\\\drumman01',\n",
       " 'Andrew Bogut\\\\bogutan01',\n",
       " 'Anfernee Hardaway\\\\hardaan01',\n",
       " 'Anthony Davis\\\\davisan02',\n",
       " 'Antonio McDyess\\\\mcdyean01',\n",
       " 'Baron Davis\\\\davisba01',\n",
       " 'Bernard King\\\\kingbe01',\n",
       " 'Blake Griffin\\\\griffbl01',\n",
       " 'Brad Daugherty\\\\daughbr01',\n",
       " 'Brandon Roy\\\\roybr01',\n",
       " 'Carlos Boozer\\\\boozeca01',\n",
       " 'Carmelo Anthony\\\\anthoca01',\n",
       " 'Charles Barkley\\\\barklch01',\n",
       " 'Chris Bosh\\\\boshch01',\n",
       " 'Chris Mullin\\\\mullich01',\n",
       " 'Chris Paul\\\\paulch01',\n",
       " 'Chris Webber\\\\webbech01',\n",
       " 'Clyde Drexler\\\\drexlcl01',\n",
       " 'Dale Ellis\\\\ellisda01',\n",
       " 'Damian Lillard\\\\lillada01',\n",
       " 'David Robinson\\\\robinda01',\n",
       " 'DeMarcus Cousins\\\\couside01',\n",
       " 'Dennis Rodman\\\\rodmade01',\n",
       " 'Deron Williams\\\\willide01',\n",
       " 'Derrick Coleman\\\\colemde01',\n",
       " 'Dirk Nowitzki\\\\nowitdi01',\n",
       " 'Dominique Wilkins\\\\wilkido01',\n",
       " 'Draymond Green\\\\greendr01',\n",
       " 'Dwight Howard\\\\howardw01',\n",
       " 'Dwyane Wade\\\\wadedw01',\n",
       " 'Eddie Jones\\\\jonesed02',\n",
       " 'Fat Lever\\\\leverfa01',\n",
       " 'Gary Payton\\\\paytoga01',\n",
       " 'Giannis Antetokounmpo\\\\antetgi01',\n",
       " 'Gilbert Arenas\\\\arenagi01',\n",
       " 'Grant Hill\\\\hillgr01',\n",
       " 'Hakeem Olajuwon\\\\olajuha01',\n",
       " 'Isaiah Thomas\\\\thomais02',\n",
       " 'Isiah Thomas\\\\thomais01',\n",
       " 'James Harden\\\\hardeja01',\n",
       " 'Jason Kidd\\\\kiddja01',\n",
       " \"Jermaine O'Neal\\\\onealje01\",\n",
       " 'Jimmy Butler\\\\butleji01',\n",
       " 'Joe Dumars\\\\dumarjo01',\n",
       " 'John Stockton\\\\stockjo01',\n",
       " 'Karl Malone\\\\malonka01',\n",
       " 'Kawhi Leonard\\\\leonaka01',\n",
       " 'Kevin Durant\\\\duranke01',\n",
       " 'Kevin Garnett\\\\garneke01',\n",
       " 'Kevin Johnson\\\\johnske02',\n",
       " 'Kevin Love\\\\loveke01',\n",
       " 'Klay Thompson\\\\thompkl01',\n",
       " 'Kobe Bryant\\\\bryanko01',\n",
       " 'Kyrie Irving\\\\irvinky01',\n",
       " 'LaMarcus Aldridge\\\\aldrila01',\n",
       " 'Larry Bird\\\\birdla01',\n",
       " 'LeBron James\\\\jamesle01',\n",
       " 'Magic Johnson\\\\johnsma02',\n",
       " 'Marc Gasol\\\\gasolma01',\n",
       " 'Mark Price\\\\pricema01',\n",
       " 'Marques Johnson\\\\johnsma01',\n",
       " 'Metta World Peace\\\\artesro01',\n",
       " 'Michael Jordan\\\\jordami01',\n",
       " 'Michael Redd\\\\reddmi01',\n",
       " 'Mitch Richmond\\\\richmmi01',\n",
       " 'Otis Birdsong\\\\birdsot01',\n",
       " 'Patrick Ewing\\\\ewingpa01',\n",
       " 'Paul George\\\\georgpa01',\n",
       " 'Paul Pierce\\\\piercpa01',\n",
       " 'Rajon Rondo\\\\rondora01',\n",
       " 'Ray Allen\\\\allenra02',\n",
       " 'Rudy Gobert\\\\goberru01',\n",
       " 'Russell Westbrook\\\\westbru01',\n",
       " 'Scottie Pippen\\\\pippesc01',\n",
       " \"Shaquille O'Neal\\\\onealsh01\",\n",
       " 'Shawn Kemp\\\\kempsh01',\n",
       " 'Shawn Marion\\\\mariosh01',\n",
       " 'Sidney Moncrief\\\\moncrsi01',\n",
       " 'Stephen Curry\\\\curryst01',\n",
       " 'Stephon Marbury\\\\marbust01',\n",
       " 'Steve Nash\\\\nashst01',\n",
       " 'Tim Duncan\\\\duncati01',\n",
       " 'Tim Hardaway\\\\hardati01',\n",
       " 'Tracy McGrady\\\\mcgratr01',\n",
       " 'Victor Oladipo\\\\oladivi01',\n",
       " 'Vin Baker\\\\bakervi01',\n",
       " 'Yao Ming\\\\mingya01']"
      ]
     },
     "execution_count": 91,
     "metadata": {},
     "output_type": "execute_result"
    }
   ],
   "source": [
    "all_nba = df[df['target'] == 1]\n",
    "all_nba.index.to_list()"
   ]
  },
  {
   "cell_type": "code",
   "execution_count": 40,
   "metadata": {},
   "outputs": [],
   "source": [
    "X = df.drop(columns = 'target')\n",
    "y = df['target']\n",
    "\n",
    "X_train, X_test, y_train, y_test =  train_test_split(X, y, train_size= .8, random_state= 42)"
   ]
  },
  {
   "cell_type": "markdown",
   "metadata": {},
   "source": [
    "### PCA"
   ]
  },
  {
   "cell_type": "code",
   "execution_count": 43,
   "metadata": {},
   "outputs": [],
   "source": [
    "pca = PCA(n_components= .9, random_state=42)\n",
    "\n",
    "pca_train = pca.fit_transform(X_train)\n",
    "pca_test = pca.transform(X_test)"
   ]
  },
  {
   "cell_type": "code",
   "execution_count": 44,
   "metadata": {},
   "outputs": [
    {
     "data": {
      "text/plain": [
       "2"
      ]
     },
     "execution_count": 44,
     "metadata": {},
     "output_type": "execute_result"
    }
   ],
   "source": [
    "pca.n_components_"
   ]
  },
  {
   "cell_type": "code",
   "execution_count": 34,
   "metadata": {},
   "outputs": [],
   "source": [
    "pca_result = pca.fit_transform(X_train)\n",
    "pca1 = pca_result[:,0]\n",
    "pca2 = pca_result[:,1] \n",
    "\n",
    "\n",
    "target = pd.Categorical(y_train).codes"
   ]
  },
  {
   "cell_type": "code",
   "execution_count": 36,
   "metadata": {},
   "outputs": [
    {
     "data": {
      "image/png": "[encoded data removed]",
      "text/plain": [
       "<Figure size 1368x504 with 1 Axes>"
      ]
     },
     "metadata": {
      "needs_background": "light"
     },
     "output_type": "display_data"
    }
   ],
   "source": [
    "fig = plt.figure(figsize=(19, 7))\n",
    "\n",
    "ax = fig.add_subplot(1, 2, 1, projection='3d')\n",
    "ax.set_title('PCA', fontsize=25, loc='left')\n",
    "ax.scatter(xs=pca1, \n",
    "           ys=pca2, \n",
    "#            zs=pca3, \n",
    "           c=target,\n",
    "           alpha=.9,)\n",
    "\n",
    "ax.w_xaxis.line.set_color((1.0, 1.0, 1.0, 0.0))\n",
    "ax.w_yaxis.line.set_color((1.0, 1.0, 1.0, 0.0))\n",
    "# ax.w_zaxis.line.set_color((1.0, 1.0, 1.0, 0.0))\n",
    "\n",
    "ax.xaxis.set_pane_color((1.0, 1.0, 1.0, 0.0))\n",
    "ax.yaxis.set_pane_color((1.0, 1.0, 1.0, 0.0))\n",
    "# ax.zaxis.set_pane_color((1.0, 1.0, 1.0, 0.0))\n"
   ]
  },
  {
   "cell_type": "code",
   "execution_count": 97,
   "metadata": {},
   "outputs": [],
   "source": [
    "from sklearn.feature_extraction.text import TfidfVectorizer, CountVectorizer\n",
    "from sklearn.ensemble import RandomForestClassifier\n",
    "from sklearn.naive_bayes import MultinomialNB\n",
    "from sklearn import metrics\n",
    "from sklearn.metrics import roc_curve, auc, accuracy_score, precision_score, f1_score, recall_score, confusion_matrix, classification_report, make_scorer\n",
    "from sklearn.decomposition import PCA\n",
    "from sklearn import linear_model\n",
    "from sklearn.preprocessing import MinMaxScaler, StandardScaler\n",
    "from sklearn import tree \n",
    "from xgboost import XGBClassifier\n",
    "from lightgbm import LGBMRegressor, LGBMClassifier, Booster\n",
    "from sklearn.neighbors import KNeighborsClassifier\n",
    "from sklearn.multiclass import OneVsRestClassifier\n",
    "from sklearn.svm import SVC\n",
    "from sklearn.metrics import f1_score, confusion_matrix,\\\n",
    "recall_score, precision_score, accuracy_score, log_loss,\\\n",
    "roc_curve, roc_auc_score, classification_report,plot_confusion_matrix\n",
    "from sklearn.feature_selection import RFE, RFECV\n"
   ]
  },
  {
   "cell_type": "code",
   "execution_count": 98,
   "metadata": {},
   "outputs": [
    {
     "name": "stdout",
     "output_type": "stream",
     "text": [
      "Fitting estimator with 133 features.\n",
      "Fitting estimator with 132 features.\n",
      "Fitting estimator with 131 features.\n",
      "Fitting estimator with 130 features.\n",
      "Fitting estimator with 129 features.\n",
      "Fitting estimator with 128 features.\n",
      "Fitting estimator with 127 features.\n",
      "Fitting estimator with 126 features.\n",
      "Fitting estimator with 125 features.\n",
      "Fitting estimator with 124 features.\n",
      "Fitting estimator with 123 features.\n",
      "Fitting estimator with 122 features.\n",
      "Fitting estimator with 121 features.\n",
      "Fitting estimator with 120 features.\n",
      "Fitting estimator with 119 features.\n",
      "Fitting estimator with 118 features.\n",
      "Fitting estimator with 117 features.\n",
      "Fitting estimator with 116 features.\n",
      "Fitting estimator with 115 features.\n",
      "Fitting estimator with 114 features.\n",
      "Fitting estimator with 113 features.\n",
      "Fitting estimator with 112 features.\n",
      "Fitting estimator with 111 features.\n",
      "Fitting estimator with 110 features.\n",
      "Fitting estimator with 109 features.\n",
      "Fitting estimator with 108 features.\n",
      "Fitting estimator with 107 features.\n",
      "Fitting estimator with 106 features.\n",
      "Fitting estimator with 105 features.\n",
      "Fitting estimator with 104 features.\n",
      "Fitting estimator with 103 features.\n",
      "Fitting estimator with 102 features.\n",
      "Fitting estimator with 101 features.\n",
      "Fitting estimator with 100 features.\n",
      "Fitting estimator with 99 features.\n",
      "Fitting estimator with 98 features.\n",
      "Fitting estimator with 97 features.\n",
      "Fitting estimator with 96 features.\n",
      "Fitting estimator with 95 features.\n",
      "Fitting estimator with 94 features.\n",
      "Fitting estimator with 93 features.\n",
      "Fitting estimator with 92 features.\n",
      "Fitting estimator with 91 features.\n",
      "Fitting estimator with 90 features.\n",
      "Fitting estimator with 89 features.\n",
      "Fitting estimator with 88 features.\n",
      "Fitting estimator with 87 features.\n",
      "Fitting estimator with 86 features.\n",
      "Fitting estimator with 85 features.\n",
      "Fitting estimator with 84 features.\n",
      "Fitting estimator with 83 features.\n",
      "Fitting estimator with 82 features.\n",
      "Fitting estimator with 81 features.\n",
      "Fitting estimator with 80 features.\n",
      "Fitting estimator with 79 features.\n",
      "Fitting estimator with 78 features.\n",
      "Fitting estimator with 77 features.\n",
      "Fitting estimator with 76 features.\n",
      "Fitting estimator with 75 features.\n",
      "Fitting estimator with 74 features.\n",
      "Fitting estimator with 73 features.\n",
      "Fitting estimator with 72 features.\n",
      "Fitting estimator with 71 features.\n",
      "Fitting estimator with 70 features.\n",
      "Fitting estimator with 69 features.\n",
      "Fitting estimator with 68 features.\n",
      "Fitting estimator with 67 features.\n",
      "Fitting estimator with 66 features.\n",
      "Fitting estimator with 65 features.\n",
      "Fitting estimator with 64 features.\n",
      "Fitting estimator with 63 features.\n",
      "Fitting estimator with 62 features.\n",
      "Fitting estimator with 61 features.\n",
      "Fitting estimator with 60 features.\n",
      "Fitting estimator with 59 features.\n",
      "Fitting estimator with 58 features.\n",
      "Fitting estimator with 57 features.\n",
      "Fitting estimator with 56 features.\n",
      "Fitting estimator with 55 features.\n",
      "Fitting estimator with 54 features.\n",
      "Fitting estimator with 53 features.\n",
      "Fitting estimator with 52 features.\n",
      "Fitting estimator with 51 features.\n",
      "Fitting estimator with 50 features.\n",
      "Fitting estimator with 49 features.\n",
      "Fitting estimator with 48 features.\n",
      "Fitting estimator with 47 features.\n",
      "Fitting estimator with 46 features.\n",
      "Fitting estimator with 45 features.\n",
      "Fitting estimator with 44 features.\n",
      "Fitting estimator with 43 features.\n",
      "Fitting estimator with 42 features.\n",
      "Fitting estimator with 41 features.\n",
      "Fitting estimator with 40 features.\n",
      "Fitting estimator with 39 features.\n",
      "Fitting estimator with 38 features.\n",
      "Fitting estimator with 37 features.\n",
      "[ True False False False False False  True  True  True False False False\n",
      "  True False  True False False False False False False False False False\n",
      " False False False False False False False False False False False False\n",
      " False False False False False False False False False False False False\n",
      " False False False False False False  True False False False False False\n",
      " False False False  True  True  True  True False False False False False\n",
      " False False False  True False  True  True False False False  True False\n",
      " False False False False False  True False  True  True  True False False\n",
      "  True False False False False False  True False  True False  True False\n",
      " False  True False False False False False  True False  True  True False\n",
      "  True  True  True False False False  True  True  True  True False  True\n",
      "  True]\n",
      "[ 1 34 56 84 24 33  1  1  1  4 25 48  1 31  1 97 98 46 94 70 83 86 51 65\n",
      " 23 64 39 87 55 77 17 88 44 13 96  9 80 66 67  8 81 78 38 22 20 90 43 19\n",
      " 35 32 54 75 58 72  1 95 93 69 71 82 49 76 21  1  1  1  1 40 12 50 11 45\n",
      " 53 52 26  1  6  1  1 47 30  3  1 74 62 59 37  2  5  1 28  1  1  1 85 73\n",
      "  1 41 42 15  7 60  1 63  1 14  1 27 68  1 61 79 92 29 89  1 18  1  1 91\n",
      "  1  1  1 36 57 10  1  1  1  1 16  1  1]\n"
     ]
    }
   ],
   "source": [
    "RF = RandomForestClassifier(random_state = 42)\n",
    "rfe = RFECV(estimator = DT, step =1, cv = 3, scoring = 'recall', n_jobs = -1, verbose = 1)\n",
    "rfe = rfe.fit(X_train, y_train)\n",
    "# print summaries for the selection of attributes\n",
    "print(rfe.support_)\n",
    "print(rfe.ranking_)\n"
   ]
  },
  {
   "cell_type": "code",
   "execution_count": null,
   "metadata": {},
   "outputs": [],
   "source": [
    "selected_rfe = X_train[rfe_features].columns[selector.support_]"
   ]
  },
  {
   "cell_type": "code",
   "execution_count": 100,
   "metadata": {},
   "outputs": [
    {
     "ename": "NotFittedError",
     "evalue": "This RandomForestClassifier instance is not fitted yet. Call 'fit' with appropriate arguments before using this estimator.",
     "output_type": "error",
     "traceback": [
      "\u001b[0;31m---------------------------------------------------------------------------\u001b[0m",
      "\u001b[0;31mNotFittedError\u001b[0m                            Traceback (most recent call last)",
      "\u001b[0;32m<ipython-input-100-84d7261afd68>\u001b[0m in \u001b[0;36m<module>\u001b[0;34m\u001b[0m\n\u001b[1;32m      1\u001b[0m feat_import = {name: score \n\u001b[1;32m      2\u001b[0m                    \u001b[0;32mfor\u001b[0m \u001b[0mname\u001b[0m\u001b[0;34m,\u001b[0m \u001b[0mscore\u001b[0m\u001b[0;34m\u001b[0m\u001b[0;34m\u001b[0m\u001b[0m\n\u001b[0;32m----> 3\u001b[0;31m                                in zip(X_test.columns, RF.feature_importances_)}\n\u001b[0m\u001b[1;32m      4\u001b[0m \u001b[0mfeat_import\u001b[0m\u001b[0;34m\u001b[0m\u001b[0;34m\u001b[0m\u001b[0m\n",
      "\u001b[0;32m~/opt/anaconda3/envs/learn-env/lib/python3.8/site-packages/sklearn/ensemble/_forest.py\u001b[0m in \u001b[0;36mfeature_importances_\u001b[0;34m(self)\u001b[0m\n\u001b[1;32m    442\u001b[0m             \u001b[0marray\u001b[0m \u001b[0mof\u001b[0m \u001b[0mzeros\u001b[0m\u001b[0;34m.\u001b[0m\u001b[0;34m\u001b[0m\u001b[0;34m\u001b[0m\u001b[0m\n\u001b[1;32m    443\u001b[0m         \"\"\"\n\u001b[0;32m--> 444\u001b[0;31m         \u001b[0mcheck_is_fitted\u001b[0m\u001b[0;34m(\u001b[0m\u001b[0mself\u001b[0m\u001b[0;34m)\u001b[0m\u001b[0;34m\u001b[0m\u001b[0;34m\u001b[0m\u001b[0m\n\u001b[0m\u001b[1;32m    445\u001b[0m \u001b[0;34m\u001b[0m\u001b[0m\n\u001b[1;32m    446\u001b[0m         all_importances = Parallel(n_jobs=self.n_jobs,\n",
      "\u001b[0;32m~/opt/anaconda3/envs/learn-env/lib/python3.8/site-packages/sklearn/utils/validation.py\u001b[0m in \u001b[0;36minner_f\u001b[0;34m(*args, **kwargs)\u001b[0m\n\u001b[1;32m     70\u001b[0m                           FutureWarning)\n\u001b[1;32m     71\u001b[0m         \u001b[0mkwargs\u001b[0m\u001b[0;34m.\u001b[0m\u001b[0mupdate\u001b[0m\u001b[0;34m(\u001b[0m\u001b[0;34m{\u001b[0m\u001b[0mk\u001b[0m\u001b[0;34m:\u001b[0m \u001b[0marg\u001b[0m \u001b[0;32mfor\u001b[0m \u001b[0mk\u001b[0m\u001b[0;34m,\u001b[0m \u001b[0marg\u001b[0m \u001b[0;32min\u001b[0m \u001b[0mzip\u001b[0m\u001b[0;34m(\u001b[0m\u001b[0msig\u001b[0m\u001b[0;34m.\u001b[0m\u001b[0mparameters\u001b[0m\u001b[0;34m,\u001b[0m \u001b[0margs\u001b[0m\u001b[0;34m)\u001b[0m\u001b[0;34m}\u001b[0m\u001b[0;34m)\u001b[0m\u001b[0;34m\u001b[0m\u001b[0;34m\u001b[0m\u001b[0m\n\u001b[0;32m---> 72\u001b[0;31m         \u001b[0;32mreturn\u001b[0m \u001b[0mf\u001b[0m\u001b[0;34m(\u001b[0m\u001b[0;34m**\u001b[0m\u001b[0mkwargs\u001b[0m\u001b[0;34m)\u001b[0m\u001b[0;34m\u001b[0m\u001b[0;34m\u001b[0m\u001b[0m\n\u001b[0m\u001b[1;32m     73\u001b[0m     \u001b[0;32mreturn\u001b[0m \u001b[0minner_f\u001b[0m\u001b[0;34m\u001b[0m\u001b[0;34m\u001b[0m\u001b[0m\n\u001b[1;32m     74\u001b[0m \u001b[0;34m\u001b[0m\u001b[0m\n",
      "\u001b[0;32m~/opt/anaconda3/envs/learn-env/lib/python3.8/site-packages/sklearn/utils/validation.py\u001b[0m in \u001b[0;36mcheck_is_fitted\u001b[0;34m(estimator, attributes, msg, all_or_any)\u001b[0m\n\u001b[1;32m   1017\u001b[0m \u001b[0;34m\u001b[0m\u001b[0m\n\u001b[1;32m   1018\u001b[0m     \u001b[0;32mif\u001b[0m \u001b[0;32mnot\u001b[0m \u001b[0mattrs\u001b[0m\u001b[0;34m:\u001b[0m\u001b[0;34m\u001b[0m\u001b[0;34m\u001b[0m\u001b[0m\n\u001b[0;32m-> 1019\u001b[0;31m         \u001b[0;32mraise\u001b[0m \u001b[0mNotFittedError\u001b[0m\u001b[0;34m(\u001b[0m\u001b[0mmsg\u001b[0m \u001b[0;34m%\u001b[0m \u001b[0;34m{\u001b[0m\u001b[0;34m'name'\u001b[0m\u001b[0;34m:\u001b[0m \u001b[0mtype\u001b[0m\u001b[0;34m(\u001b[0m\u001b[0mestimator\u001b[0m\u001b[0;34m)\u001b[0m\u001b[0;34m.\u001b[0m\u001b[0m__name__\u001b[0m\u001b[0;34m}\u001b[0m\u001b[0;34m)\u001b[0m\u001b[0;34m\u001b[0m\u001b[0;34m\u001b[0m\u001b[0m\n\u001b[0m\u001b[1;32m   1020\u001b[0m \u001b[0;34m\u001b[0m\u001b[0m\n\u001b[1;32m   1021\u001b[0m \u001b[0;34m\u001b[0m\u001b[0m\n",
      "\u001b[0;31mNotFittedError\u001b[0m: This RandomForestClassifier instance is not fitted yet. Call 'fit' with appropriate arguments before using this estimator."
     ]
    }
   ],
   "source": [
    "feat_import = {name: score \n",
    "                   for name, score \n",
    "                               in zip(X_test.columns, RF.feature_importances_)}\n",
    "feat_import"
   ]
  },
  {
   "cell_type": "code",
   "execution_count": 70,
   "metadata": {},
   "outputs": [],
   "source": [
    "# create function to call for evaluation of each model\n",
    "\n",
    "def metrics_score(train_preds, y_train, test_preds, y_test):\n",
    "    print(f\"Training Accuracy:\\t{accuracy_score(y_train, train_preds):.4}\",\n",
    "          f\"\\tTesting Accuracy:\\t{accuracy_score(y_test, test_preds):.4}\")\n",
    "    print(f\"Training Precision:\\t{precision_score(y_train, train_preds, average='weighted'):.4}\",\n",
    "          f\"\\tTesting Precision:\\t{precision_score(y_test, test_preds, average='weighted'):.4}\")\n",
    "    print(f\"Training Recall:\\t{recall_score(y_train, train_preds, average='weighted'):.4}\",\n",
    "          f\"\\tTesting Recall:\\t\\t{recall_score(y_test, test_preds, average='weighted'):.4}\")\n",
    "    print(f\"Training F1:\\t\\t{f1_score(y_train, train_preds, average='weighted'):.4}\",\n",
    "          f\"\\tTesting F1:\\t\\t{f1_score(y_test, test_preds, average='weighted'):.4}\")"
   ]
  },
  {
   "cell_type": "code",
   "execution_count": 101,
   "metadata": {},
   "outputs": [
    {
     "name": "stdout",
     "output_type": "stream",
     "text": [
      "Training Accuracy:\t1.0 \tTesting Accuracy:\t0.9412\n",
      "Training Precision:\t1.0 \tTesting Precision:\t0.9344\n",
      "Training Recall:\t1.0 \tTesting Recall:\t\t0.9412\n",
      "Training F1:\t\t1.0 \tTesting F1:\t\t0.9367\n"
     ]
    }
   ],
   "source": [
    "rf_train_preds = rfe.predict(X_train)\n",
    "rf_test_preds = rfe.predict(X_test)\n",
    "metrics_score(rf_train_preds, y_train, rf_test_preds, y_test)"
   ]
  },
  {
   "cell_type": "code",
   "execution_count": 68,
   "metadata": {},
   "outputs": [
    {
     "data": {
      "image/png": "[encoded data removed]",
      "text/plain": [
       "<Figure size 432x288 with 2 Axes>"
      ]
     },
     "metadata": {
      "needs_background": "light"
     },
     "output_type": "display_data"
    }
   ],
   "source": [
    "fig, ax = plt.subplots()\n",
    "\n",
    "fig.suptitle(\"RF RFE Model\")\n",
    "\n",
    "plot_confusion_matrix(rfe, X_test, y_test, ax=ax, cmap=\"YlGnBu\");"
   ]
  },
  {
   "cell_type": "code",
   "execution_count": 54,
   "metadata": {},
   "outputs": [
    {
     "data": {
      "text/plain": [
       "RandomForestClassifier(random_state=42)"
      ]
     },
     "execution_count": 54,
     "metadata": {},
     "output_type": "execute_result"
    }
   ],
   "source": [
    "RF2 = RandomForestClassifier(random_state = 42)\n",
    "RF2.fit(X_train, y_train)"
   ]
  },
  {
   "cell_type": "code",
   "execution_count": 55,
   "metadata": {},
   "outputs": [
    {
     "name": "stdout",
     "output_type": "stream",
     "text": [
      "Training Accuracy:\t1.0 \tTesting Accuracy:\t0.9373\n",
      "Training Precision:\t1.0 \tTesting Precision:\t0.9312\n",
      "Training Recall:\t1.0 \tTesting Recall:\t\t0.9373\n",
      "Training F1:\t\t1.0 \tTesting F1:\t\t0.9336\n"
     ]
    }
   ],
   "source": [
    "rf_train_preds = RF2.predict(X_train)\n",
    "rf_test_preds = RF2.predict(X_test)\n",
    "metrics_score(rf_train_preds, y_train, rf_test_preds, y_test)"
   ]
  },
  {
   "cell_type": "code",
   "execution_count": 81,
   "metadata": {},
   "outputs": [
    {
     "data": {
      "text/plain": [
       "KNeighborsClassifier(n_neighbors=7, weights='distance')"
      ]
     },
     "execution_count": 81,
     "metadata": {},
     "output_type": "execute_result"
    }
   ],
   "source": [
    "knn = KNeighborsClassifier(n_neighbors=7, weights = 'distance')\n",
    "knn.fit(X_train, y_train)"
   ]
  },
  {
   "cell_type": "code",
   "execution_count": 82,
   "metadata": {},
   "outputs": [
    {
     "data": {
      "text/plain": [
       "array([0.93137255, 0.92156863, 0.93137255, 0.9408867 , 0.93596059])"
      ]
     },
     "execution_count": 82,
     "metadata": {},
     "output_type": "execute_result"
    }
   ],
   "source": [
    "\n",
    "cross_val_score(knn, X_train, y_train, cv=5)"
   ]
  },
  {
   "cell_type": "code",
   "execution_count": 83,
   "metadata": {},
   "outputs": [
    {
     "name": "stdout",
     "output_type": "stream",
     "text": [
      "Training Accuracy:\t1.0 \tTesting Accuracy:\t0.949\n",
      "Training Precision:\t1.0 \tTesting Precision:\t0.9455\n",
      "Training Recall:\t1.0 \tTesting Recall:\t\t0.949\n",
      "Training F1:\t\t1.0 \tTesting F1:\t\t0.9469\n"
     ]
    }
   ],
   "source": [
    "knn_train_preds = knn.predict(X_train)\n",
    "knn_test_preds = knn.predict(X_test)\n",
    "metrics_score(rf_train_preds, y_train, rf_test_preds, y_test)"
   ]
  },
  {
   "cell_type": "code",
   "execution_count": 84,
   "metadata": {},
   "outputs": [
    {
     "data": {
      "text/plain": [
       "0.07069913589945012"
      ]
     },
     "execution_count": 84,
     "metadata": {},
     "output_type": "execute_result"
    }
   ],
   "source": [
    "df['target'].mean()"
   ]
  },
  {
   "cell_type": "code",
   "execution_count": 85,
   "metadata": {},
   "outputs": [
    {
     "data": {
      "image/png": "[encoded data removed]",
      "text/plain": [
       "<Figure size 432x288 with 2 Axes>"
      ]
     },
     "metadata": {
      "needs_background": "light"
     },
     "output_type": "display_data"
    }
   ],
   "source": [
    "fig, ax = plt.subplots()\n",
    "\n",
    "fig.suptitle(\"KNN Model\")\n",
    "\n",
    "plot_confusion_matrix(knn, X_test, y_test, ax=ax, cmap=\"YlGnBu\");"
   ]
  },
  {
   "cell_type": "code",
   "execution_count": null,
   "metadata": {},
   "outputs": [],
   "source": []
  }
 ],
 "metadata": {
  "kernelspec": {
   "display_name": "learn-env",
   "language": "python",
   "name": "learn-env"
  },
  "language_info": {
   "codemirror_mode": {
    "name": "ipython",
    "version": 3
   },
   "file_extension": ".py",
   "mimetype": "text/x-python",
   "name": "python",
   "nbconvert_exporter": "python",
   "pygments_lexer": "ipython3",
   "version": "3.8.5"
  }
 },
 "nbformat": 4,
 "nbformat_minor": 4
}
