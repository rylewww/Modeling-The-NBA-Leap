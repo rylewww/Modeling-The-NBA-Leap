{
 "cells": [
  {
   "cell_type": "code",
   "execution_count": 1,
   "metadata": {},
   "outputs": [],
   "source": [
    "import pandas as pd\n",
    "import matplotlib.pyplot as plt\n",
    "import numpy as np\n",
    "from matplotlib import pyplot\n",
    "from sklearn.model_selection import train_test_split, KFold, GridSearchCV,\\\n",
    "cross_val_score, RandomizedSearchCV\n",
    "from sklearn.decomposition import PCA\n",
    "from sklearn.feature_selection import RFE, RFECV\n",
    "from sklearn.linear_model import LogisticRegression\n",
    "from sklearn.preprocessing import StandardScaler, MinMaxScaler, OneHotEncoder\n",
    "from sklearn.metrics import f1_score, confusion_matrix, recall_score, precision_score, accuracy_score\n",
    "from sklearn.metrics import roc_curve, auc, accuracy_score, precision_score, f1_score, recall_score, confusion_matrix, classification_report, make_scorer\n",
    "from sklearn import metrics\n",
    "from sklearn.ensemble import RandomForestClassifier\n",
    "from sklearn.metrics import confusion_matrix, plot_confusion_matrix\n",
    "from sklearn import tree \n",
    "from sklearn.neighbors import KNeighborsClassifier\n",
    "from imblearn.over_sampling import SMOTE"
   ]
  },
  {
   "cell_type": "markdown",
   "metadata": {},
   "source": [
    "# Modeling"
   ]
  },
  {
   "cell_type": "code",
   "execution_count": 21,
   "metadata": {},
   "outputs": [],
   "source": [
    "df_final = pd.read_csv('Final_NBA_Seasons1-3_1977_final.csv', index_col = 0)\n",
    "# df_final.set_index('Player', inplace = True)\n",
    "full_df = pd.read_csv('Final_NBA_PLayers_updated.csv', index_col = 0)"
   ]
  },
  {
   "cell_type": "markdown",
   "metadata": {},
   "source": [
    "Adding in rookie season to our final data set, through strech goal year-over-year analysis it showed that player age, season count and statistics fluctuate year over year."
   ]
  },
  {
   "cell_type": "code",
   "execution_count": 22,
   "metadata": {},
   "outputs": [
    {
     "data": {
      "text/html": [
       "<div>\n",
       "<style scoped>\n",
       "    .dataframe tbody tr th:only-of-type {\n",
       "        vertical-align: middle;\n",
       "    }\n",
       "\n",
       "    .dataframe tbody tr th {\n",
       "        vertical-align: top;\n",
       "    }\n",
       "\n",
       "    .dataframe thead th {\n",
       "        text-align: right;\n",
       "    }\n",
       "</style>\n",
       "<table border=\"1\" class=\"dataframe\">\n",
       "  <thead>\n",
       "    <tr style=\"text-align: right;\">\n",
       "      <th></th>\n",
       "      <th>Player</th>\n",
       "      <th>Season</th>\n",
       "    </tr>\n",
       "  </thead>\n",
       "  <tbody>\n",
       "    <tr>\n",
       "      <th>0</th>\n",
       "      <td>A.C. Green\\greenac01</td>\n",
       "      <td>1985-86</td>\n",
       "    </tr>\n",
       "    <tr>\n",
       "      <th>16</th>\n",
       "      <td>A.J. Bramlett\\bramlaj01</td>\n",
       "      <td>1999-00</td>\n",
       "    </tr>\n",
       "    <tr>\n",
       "      <th>17</th>\n",
       "      <td>A.J. English\\engliaj01</td>\n",
       "      <td>1990-91</td>\n",
       "    </tr>\n",
       "    <tr>\n",
       "      <th>19</th>\n",
       "      <td>A.J. Guyton\\guytoaj01</td>\n",
       "      <td>2000-01</td>\n",
       "    </tr>\n",
       "    <tr>\n",
       "      <th>22</th>\n",
       "      <td>A.J. Hammons\\hammoaj01</td>\n",
       "      <td>2016-17</td>\n",
       "    </tr>\n",
       "  </tbody>\n",
       "</table>\n",
       "</div>"
      ],
      "text/plain": [
       "                     Player   Season\n",
       "0      A.C. Green\\greenac01  1985-86\n",
       "16  A.J. Bramlett\\bramlaj01  1999-00\n",
       "17   A.J. English\\engliaj01  1990-91\n",
       "19    A.J. Guyton\\guytoaj01  2000-01\n",
       "22   A.J. Hammons\\hammoaj01  2016-17"
      ]
     },
     "execution_count": 22,
     "metadata": {},
     "output_type": "execute_result"
    }
   ],
   "source": [
    "rookie_df = full_df[full_df['season_count'] == 1]\n",
    "rookie_df = rookie_df[['Player','Season']]\n",
    "# rookie_df.set_index('Player', inplace = True)\n",
    "rookie_df.head()"
   ]
  },
  {
   "cell_type": "code",
   "execution_count": 81,
   "metadata": {},
   "outputs": [],
   "source": [
    "#merging rookie season into final dataset\n",
    "df = df_final.merge(rookie_df, how = 'left', on = 'Player')\n"
   ]
  },
  {
   "cell_type": "code",
   "execution_count": 82,
   "metadata": {},
   "outputs": [
    {
     "data": {
      "text/html": [
       "<div>\n",
       "<style scoped>\n",
       "    .dataframe tbody tr th:only-of-type {\n",
       "        vertical-align: middle;\n",
       "    }\n",
       "\n",
       "    .dataframe tbody tr th {\n",
       "        vertical-align: top;\n",
       "    }\n",
       "\n",
       "    .dataframe thead th {\n",
       "        text-align: right;\n",
       "    }\n",
       "</style>\n",
       "<table border=\"1\" class=\"dataframe\">\n",
       "  <thead>\n",
       "    <tr style=\"text-align: right;\">\n",
       "      <th></th>\n",
       "      <th>Player</th>\n",
       "      <th>G</th>\n",
       "      <th>GS</th>\n",
       "      <th>MP</th>\n",
       "      <th>FG</th>\n",
       "      <th>FGA</th>\n",
       "      <th>2P</th>\n",
       "      <th>2PA</th>\n",
       "      <th>3P</th>\n",
       "      <th>3PA</th>\n",
       "      <th>...</th>\n",
       "      <th>USG_1-2</th>\n",
       "      <th>USG_2-3</th>\n",
       "      <th>VORP_1-2</th>\n",
       "      <th>VORP_2-3</th>\n",
       "      <th>target</th>\n",
       "      <th>Qualified</th>\n",
       "      <th>Season</th>\n",
       "      <th>year_split</th>\n",
       "      <th>award_year</th>\n",
       "      <th>season_year</th>\n",
       "    </tr>\n",
       "  </thead>\n",
       "  <tbody>\n",
       "    <tr>\n",
       "      <th>0</th>\n",
       "      <td>A.C. Green\\greenac01</td>\n",
       "      <td>243</td>\n",
       "      <td>137.0</td>\n",
       "      <td>6418.0</td>\n",
       "      <td>847</td>\n",
       "      <td>1615</td>\n",
       "      <td>846</td>\n",
       "      <td>1602</td>\n",
       "      <td>1.0</td>\n",
       "      <td>13.0</td>\n",
       "      <td>...</td>\n",
       "      <td>0.0</td>\n",
       "      <td>0.0</td>\n",
       "      <td>1.5</td>\n",
       "      <td>-0.2</td>\n",
       "      <td>0</td>\n",
       "      <td>1.0</td>\n",
       "      <td>1985-86</td>\n",
       "      <td>[1985, 86]</td>\n",
       "      <td>86</td>\n",
       "      <td>1985</td>\n",
       "    </tr>\n",
       "    <tr>\n",
       "      <th>1</th>\n",
       "      <td>A.J. Price\\priceaj01</td>\n",
       "      <td>150</td>\n",
       "      <td>3.0</td>\n",
       "      <td>2228.0</td>\n",
       "      <td>318</td>\n",
       "      <td>848</td>\n",
       "      <td>191</td>\n",
       "      <td>437</td>\n",
       "      <td>127.0</td>\n",
       "      <td>411.0</td>\n",
       "      <td>...</td>\n",
       "      <td>0.0</td>\n",
       "      <td>-5.0</td>\n",
       "      <td>-0.5</td>\n",
       "      <td>0.3</td>\n",
       "      <td>0</td>\n",
       "      <td>1.0</td>\n",
       "      <td>2009-10</td>\n",
       "      <td>[2009, 10]</td>\n",
       "      <td>10</td>\n",
       "      <td>2009</td>\n",
       "    </tr>\n",
       "    <tr>\n",
       "      <th>2</th>\n",
       "      <td>Aaron Brooks\\brookaa01</td>\n",
       "      <td>213</td>\n",
       "      <td>117.0</td>\n",
       "      <td>5525.0</td>\n",
       "      <td>984</td>\n",
       "      <td>2339</td>\n",
       "      <td>626</td>\n",
       "      <td>1396</td>\n",
       "      <td>358.0</td>\n",
       "      <td>943.0</td>\n",
       "      <td>...</td>\n",
       "      <td>1.1</td>\n",
       "      <td>2.8</td>\n",
       "      <td>0.3</td>\n",
       "      <td>1.3</td>\n",
       "      <td>0</td>\n",
       "      <td>1.0</td>\n",
       "      <td>2007-08</td>\n",
       "      <td>[2007, 08]</td>\n",
       "      <td>08</td>\n",
       "      <td>2007</td>\n",
       "    </tr>\n",
       "    <tr>\n",
       "      <th>3</th>\n",
       "      <td>Aaron Gordon\\gordoaa01</td>\n",
       "      <td>205</td>\n",
       "      <td>117.0</td>\n",
       "      <td>4958.0</td>\n",
       "      <td>760</td>\n",
       "      <td>1652</td>\n",
       "      <td>628</td>\n",
       "      <td>1195</td>\n",
       "      <td>132.0</td>\n",
       "      <td>457.0</td>\n",
       "      <td>...</td>\n",
       "      <td>1.8</td>\n",
       "      <td>2.8</td>\n",
       "      <td>1.6</td>\n",
       "      <td>-0.8</td>\n",
       "      <td>0</td>\n",
       "      <td>1.0</td>\n",
       "      <td>2014-15</td>\n",
       "      <td>[2014, 15]</td>\n",
       "      <td>15</td>\n",
       "      <td>2014</td>\n",
       "    </tr>\n",
       "    <tr>\n",
       "      <th>4</th>\n",
       "      <td>Aaron Gray\\grayaa01</td>\n",
       "      <td>149</td>\n",
       "      <td>19.0</td>\n",
       "      <td>1639.0</td>\n",
       "      <td>226</td>\n",
       "      <td>453</td>\n",
       "      <td>226</td>\n",
       "      <td>451</td>\n",
       "      <td>0.0</td>\n",
       "      <td>2.0</td>\n",
       "      <td>...</td>\n",
       "      <td>-7.5</td>\n",
       "      <td>1.9</td>\n",
       "      <td>0.0</td>\n",
       "      <td>0.3</td>\n",
       "      <td>0</td>\n",
       "      <td>1.0</td>\n",
       "      <td>2007-08</td>\n",
       "      <td>[2007, 08]</td>\n",
       "      <td>08</td>\n",
       "      <td>2007</td>\n",
       "    </tr>\n",
       "  </tbody>\n",
       "</table>\n",
       "<p>5 rows × 221 columns</p>\n",
       "</div>"
      ],
      "text/plain": [
       "                   Player    G     GS      MP   FG   FGA   2P   2PA     3P  \\\n",
       "0    A.C. Green\\greenac01  243  137.0  6418.0  847  1615  846  1602    1.0   \n",
       "1    A.J. Price\\priceaj01  150    3.0  2228.0  318   848  191   437  127.0   \n",
       "2  Aaron Brooks\\brookaa01  213  117.0  5525.0  984  2339  626  1396  358.0   \n",
       "3  Aaron Gordon\\gordoaa01  205  117.0  4958.0  760  1652  628  1195  132.0   \n",
       "4     Aaron Gray\\grayaa01  149   19.0  1639.0  226   453  226   451    0.0   \n",
       "\n",
       "     3PA  ...  USG_1-2  USG_2-3  VORP_1-2  VORP_2-3  target  Qualified  \\\n",
       "0   13.0  ...      0.0      0.0       1.5      -0.2       0        1.0   \n",
       "1  411.0  ...      0.0     -5.0      -0.5       0.3       0        1.0   \n",
       "2  943.0  ...      1.1      2.8       0.3       1.3       0        1.0   \n",
       "3  457.0  ...      1.8      2.8       1.6      -0.8       0        1.0   \n",
       "4    2.0  ...     -7.5      1.9       0.0       0.3       0        1.0   \n",
       "\n",
       "    Season  year_split  award_year  season_year  \n",
       "0  1985-86  [1985, 86]          86         1985  \n",
       "1  2009-10  [2009, 10]          10         2009  \n",
       "2  2007-08  [2007, 08]          08         2007  \n",
       "3  2014-15  [2014, 15]          15         2014  \n",
       "4  2007-08  [2007, 08]          08         2007  \n",
       "\n",
       "[5 rows x 221 columns]"
      ]
     },
     "execution_count": 82,
     "metadata": {},
     "output_type": "execute_result"
    }
   ],
   "source": [
    "#breaking season and coverting into integer to be processed in model\n",
    "df['year_split'] = df['Season'].str.split('-')\n",
    "df['award_year'] = [x[1] for x in df['year_split']]\n",
    "df['season_year'] = [x[0] for x in df['year_split']]\n",
    "df['season_year'] = df['season_year'].astype(int)\n",
    "df.head()"
   ]
  },
  {
   "cell_type": "code",
   "execution_count": 44,
   "metadata": {},
   "outputs": [],
   "source": [
    "#final columns selected after correlation analysis\n",
    "cols = ['MP','FG','2P','FT','TRB','AST','STL','TOV','PTS','roy','all_rookie_1','all_rookie_2','WS_1','GS_1','MP_1','PTS_1','ppg_1','apg_1','rpg_1','spg_1','bpg_1',\n",
    "        'tpg_1','ftpg_1','PER_1','WS/48_1','VORP_1','WS_2','GS_2','MP_2','ppg_2','apg_2','rpg_2','spg_2','bpg_2','tpg_2','ftpg_2','PER_2','USG%_2',\n",
    "        'ORtg_2','DRtg_2','OWS_2','DWS_2','WS/48_2','VORP_2','WS_3','GS_3','MP_3','PTS_3','TS%_3','ppg_3','apg_3','rpg_3','spg_3','bpg_3','tpg_3','ftpg_3','PER_3','USG%_3',\n",
    "        'ORtg_3','DRtg_3','OWS_3','DWS_3','WS/48_3','VORP_3','VORP_1-2','VORP_2-3','season_year','target',]\n",
    "\n",
    "df = df[cols]\n",
    "df = df.fillna(0)"
   ]
  },
  {
   "cell_type": "code",
   "execution_count": 57,
   "metadata": {},
   "outputs": [],
   "source": [
    "# create function to call for evaluation of each model\n",
    "def metrics_score(train_preds, y_train, test_preds, y_test):\n",
    "    print(f\"Training Accuracy:\\t{accuracy_score(y_train, train_preds):.4}\",\n",
    "          f\"\\tTesting Accuracy:\\t{accuracy_score(y_test, test_preds):.4}\")\n",
    "    print(f\"Training Precision:\\t{precision_score(y_train, train_preds):.4}\",\n",
    "          f\"\\tTesting Precision:\\t{precision_score(y_test, test_preds):.4}\")\n",
    "    print(f\"Training Recall:\\t{recall_score(y_train, train_preds):.4}\",\n",
    "          f\"\\tTesting Recall:\\t\\t{recall_score(y_test, test_preds):.4}\")\n",
    "    print(f\"Training F1:\\t\\t{f1_score(y_train, train_preds):.4}\",\n",
    "          f\"\\tTesting F1:\\t\\t{f1_score(y_test, test_preds):.4}\")\n",
    "#defining which metric our models will focus on\n",
    "scorer = make_scorer(recall_score, average='weighted')"
   ]
  },
  {
   "cell_type": "code",
   "execution_count": 51,
   "metadata": {},
   "outputs": [],
   "source": [
    "#splitting our dataset into training and testing\n",
    "X = df.drop(columns = 'target')\n",
    "y = df['target']\n",
    "\n",
    "X_train, X_test, y_train, y_test =  train_test_split(X, y, train_size= .8, random_state= 42)"
   ]
  },
  {
   "cell_type": "code",
   "execution_count": 52,
   "metadata": {},
   "outputs": [],
   "source": [
    "nba_scaled = StandardScaler()\n",
    "\n",
    "nba_scaled.fit(X_train)\n",
    "X_train_sc = pd.DataFrame(nba_scaled.transform(X_train), index = X_train.index, columns = X_train.columns)\n",
    "X_test_sc = pd.DataFrame(nba_scaled.transform(X_test), index = X_test.index, columns = X_test.columns)"
   ]
  },
  {
   "cell_type": "markdown",
   "metadata": {},
   "source": [
    "## Baseline Random Forest Model"
   ]
  },
  {
   "cell_type": "code",
   "execution_count": 70,
   "metadata": {},
   "outputs": [],
   "source": [
    "rf = RandomForestClassifier(class_weight = 'balanced', random_state = 42)"
   ]
  },
  {
   "cell_type": "code",
   "execution_count": 72,
   "metadata": {},
   "outputs": [
    {
     "data": {
      "text/plain": [
       "RandomForestClassifier(class_weight='balanced', random_state=42)"
      ]
     },
     "execution_count": 72,
     "metadata": {},
     "output_type": "execute_result"
    }
   ],
   "source": [
    "rf.fit(X_train_sc, y_train)"
   ]
  },
  {
   "cell_type": "code",
   "execution_count": 74,
   "metadata": {},
   "outputs": [
    {
     "name": "stdout",
     "output_type": "stream",
     "text": [
      "Training Accuracy:\t1.0 \tTesting Accuracy:\t0.9373\n",
      "Training Precision:\t1.0 \tTesting Precision:\t0.6\n",
      "Training Recall:\t1.0 \tTesting Recall:\t\t0.3333\n",
      "Training F1:\t\t1.0 \tTesting F1:\t\t0.4286\n"
     ]
    }
   ],
   "source": [
    "rfbase_train_preds = rf.predict(X_train_sc)\n",
    "rfbase_test_preds = rf.predict(X_test_sc)\n",
    "metrics_score(rfbase_train_preds, y_train, rfbase_test_preds, y_test)"
   ]
  },
  {
   "cell_type": "markdown",
   "metadata": {},
   "source": [
    "Baseline Random Forest Model w/ all features is way too overfit on the training set and does not perform well on the validation set."
   ]
  },
  {
   "cell_type": "markdown",
   "metadata": {},
   "source": [
    "## Random Forest RFE Feature Selection"
   ]
  },
  {
   "cell_type": "code",
   "execution_count": 54,
   "metadata": {},
   "outputs": [
    {
     "name": "stdout",
     "output_type": "stream",
     "text": [
      "Fitting estimator with 67 features.\n",
      "Fitting estimator with 66 features.\n",
      "Fitting estimator with 65 features.\n",
      "Fitting estimator with 64 features.\n",
      "Fitting estimator with 63 features.\n",
      "Fitting estimator with 62 features.\n",
      "Fitting estimator with 61 features.\n",
      "Fitting estimator with 60 features.\n",
      "Fitting estimator with 59 features.\n",
      "Fitting estimator with 58 features.\n",
      "Fitting estimator with 57 features.\n",
      "Fitting estimator with 56 features.\n",
      "Fitting estimator with 55 features.\n",
      "Fitting estimator with 54 features.\n",
      "Fitting estimator with 53 features.\n",
      "Fitting estimator with 52 features.\n",
      "Fitting estimator with 51 features.\n",
      "Fitting estimator with 50 features.\n",
      "Fitting estimator with 49 features.\n",
      "Fitting estimator with 48 features.\n",
      "Fitting estimator with 47 features.\n",
      "Fitting estimator with 46 features.\n",
      "Fitting estimator with 45 features.\n",
      "Fitting estimator with 44 features.\n",
      "Fitting estimator with 43 features.\n",
      "Fitting estimator with 42 features.\n",
      "Fitting estimator with 41 features.\n",
      "Fitting estimator with 40 features.\n",
      "Fitting estimator with 39 features.\n",
      "Fitting estimator with 38 features.\n",
      "Fitting estimator with 37 features.\n",
      "Fitting estimator with 36 features.\n",
      "Fitting estimator with 35 features.\n",
      "Fitting estimator with 34 features.\n",
      "Fitting estimator with 33 features.\n",
      "Fitting estimator with 32 features.\n",
      "Fitting estimator with 31 features.\n",
      "Fitting estimator with 30 features.\n",
      "Fitting estimator with 29 features.\n",
      "Fitting estimator with 28 features.\n",
      "Fitting estimator with 27 features.\n",
      "Fitting estimator with 26 features.\n",
      "Fitting estimator with 25 features.\n",
      "Fitting estimator with 24 features.\n",
      "Fitting estimator with 23 features.\n",
      "Fitting estimator with 22 features.\n",
      "Fitting estimator with 21 features.\n",
      "Fitting estimator with 20 features.\n",
      "Fitting estimator with 19 features.\n",
      "Fitting estimator with 18 features.\n",
      "Fitting estimator with 17 features.\n",
      "Fitting estimator with 16 features.\n",
      "Fitting estimator with 15 features.\n",
      "Fitting estimator with 14 features.\n",
      "Fitting estimator with 13 features.\n",
      "Fitting estimator with 12 features.\n",
      "Fitting estimator with 11 features.\n",
      "Fitting estimator with 10 features.\n",
      "Fitting estimator with 9 features.\n",
      "Fitting estimator with 8 features.\n",
      "Fitting estimator with 7 features.\n"
     ]
    },
    {
     "data": {
      "text/plain": [
       "Index(['PTS', 'WS_2', 'PER_2', 'VORP_2', 'PER_3', 'VORP_3'], dtype='object')"
      ]
     },
     "execution_count": 54,
     "metadata": {},
     "output_type": "execute_result"
    }
   ],
   "source": [
    "rfe_rf = RFECV(estimator=RandomForestClassifier(class_weight = 'balanced', random_state = 42), step = 1, cv = 3, scoring = 'precision', n_jobs = -1, verbose = 1)\n",
    "rfe_rf.fit(X_train_sc, y_train)\n",
    "X_train_sc.columns[rfe_rf.get_support()]"
   ]
  },
  {
   "cell_type": "code",
   "execution_count": 75,
   "metadata": {},
   "outputs": [],
   "source": [
    "rf_cols =['PTS', 'WS_2', 'PER_2', 'VORP_2', 'PER_3', 'VORP_3', 'season_year']"
   ]
  },
  {
   "cell_type": "markdown",
   "metadata": {},
   "source": [
    "## Random Forest Baseline w/ RFE + Season"
   ]
  },
  {
   "cell_type": "code",
   "execution_count": 76,
   "metadata": {},
   "outputs": [
    {
     "data": {
      "text/plain": [
       "RandomForestClassifier(class_weight='balanced', random_state=42)"
      ]
     },
     "execution_count": 76,
     "metadata": {},
     "output_type": "execute_result"
    }
   ],
   "source": [
    "rf = RandomForestClassifier(class_weight = 'balanced', random_state = 42)\n",
    "rf.fit(X_train_sc[rf_cols], y_train)"
   ]
  },
  {
   "cell_type": "code",
   "execution_count": 77,
   "metadata": {},
   "outputs": [
    {
     "name": "stdout",
     "output_type": "stream",
     "text": [
      "Training Accuracy:\t1.0 \tTesting Accuracy:\t0.9373\n",
      "Training Precision:\t1.0 \tTesting Precision:\t0.5714\n",
      "Training Recall:\t1.0 \tTesting Recall:\t\t0.4444\n",
      "Training F1:\t\t1.0 \tTesting F1:\t\t0.5\n"
     ]
    }
   ],
   "source": [
    "rfbaserfe_train_preds = rf.predict(X_train_sc[rf_cols])\n",
    "rfbaserfe_test_preds = rf.predict(X_test_sc[rf_cols])\n",
    "metrics_score(rfbaserfe_train_preds, y_train, rfbaserfe_test_preds, y_test)"
   ]
  },
  {
   "cell_type": "markdown",
   "metadata": {},
   "source": [
    "Our baseline model with RFE selected features continues to be overfit to the training set and underperform on the validation set. "
   ]
  },
  {
   "cell_type": "markdown",
   "metadata": {},
   "source": [
    "## Random Forest Grid Search w/ RFE Selected Features"
   ]
  },
  {
   "cell_type": "code",
   "execution_count": 64,
   "metadata": {},
   "outputs": [],
   "source": [
    "rf_cols =['PTS', 'WS_2', 'PER_2', 'VORP_2', 'PER_3', 'VORP_3', 'season_year']\n",
    "\n",
    "params = { \n",
    "    'n_estimators': [10, 25, 50, 100, 200, 500],\n",
    "    'max_features': ['sqrt', 'auto', 'log2'],\n",
    "    'max_depth' : [2,4,6,8,10,12,15,20],\n",
    "    'criterion' :['gini', 'entropy']\n",
    "}\n",
    "\n",
    "rf = RandomForestClassifier(random_state = 42)\n",
    "\n",
    "grid_search_RF = GridSearchCV(estimator=rf, param_grid=params, scoring=scorer, \n",
    "                              cv = 5, n_jobs = -1, verbose = 2)"
   ]
  },
  {
   "cell_type": "code",
   "execution_count": 65,
   "metadata": {},
   "outputs": [
    {
     "name": "stdout",
     "output_type": "stream",
     "text": [
      "Fitting 5 folds for each of 288 candidates, totalling 1440 fits\n"
     ]
    },
    {
     "name": "stderr",
     "output_type": "stream",
     "text": [
      "[Parallel(n_jobs=-1)]: Using backend LokyBackend with 4 concurrent workers.\n",
      "[Parallel(n_jobs=-1)]: Done  58 tasks      | elapsed:    9.9s\n",
      "[Parallel(n_jobs=-1)]: Done 182 tasks      | elapsed:   35.9s\n",
      "[Parallel(n_jobs=-1)]: Done 385 tasks      | elapsed:  1.4min\n",
      "[Parallel(n_jobs=-1)]: Done 668 tasks      | elapsed:  2.4min\n",
      "[Parallel(n_jobs=-1)]: Done 1033 tasks      | elapsed:  3.7min\n",
      "[Parallel(n_jobs=-1)]: Done 1440 out of 1440 | elapsed:  5.3min finished\n"
     ]
    },
    {
     "data": {
      "text/plain": [
       "GridSearchCV(cv=5, estimator=RandomForestClassifier(random_state=42), n_jobs=-1,\n",
       "             param_grid={'criterion': ['gini', 'entropy'],\n",
       "                         'max_depth': [2, 4, 6, 8, 10, 12, 15, 20],\n",
       "                         'max_features': ['sqrt', 'auto', 'log2'],\n",
       "                         'n_estimators': [10, 25, 50, 100, 200, 500]},\n",
       "             scoring=make_scorer(recall_score, average=weighted), verbose=2)"
      ]
     },
     "execution_count": 65,
     "metadata": {},
     "output_type": "execute_result"
    }
   ],
   "source": [
    "grid_search_RF.fit(X_train_sc[rf_cols], y_train)"
   ]
  },
  {
   "cell_type": "code",
   "execution_count": 66,
   "metadata": {},
   "outputs": [
    {
     "data": {
      "text/plain": [
       "{'criterion': 'gini',\n",
       " 'max_depth': 6,\n",
       " 'max_features': 'sqrt',\n",
       " 'n_estimators': 50}"
      ]
     },
     "execution_count": 66,
     "metadata": {},
     "output_type": "execute_result"
    }
   ],
   "source": [
    "grid_search_RF.best_params_"
   ]
  },
  {
   "cell_type": "code",
   "execution_count": 67,
   "metadata": {},
   "outputs": [
    {
     "name": "stdout",
     "output_type": "stream",
     "text": [
      "Training Accuracy:\t0.9833 \tTesting Accuracy:\t0.9529\n",
      "Training Precision:\t1.0 \tTesting Precision:\t0.75\n",
      "Training Recall:\t0.7639 \tTesting Recall:\t\t0.5\n",
      "Training F1:\t\t0.8661 \tTesting F1:\t\t0.6\n"
     ]
    }
   ],
   "source": [
    "rf_train_preds = grid_search_RF.best_estimator_.predict(X_train_sc[rf_cols])\n",
    "rf_test_preds = grid_search_RF.best_estimator_.predict(X_test_sc[rf_cols])\n",
    "metrics_score(rf_train_preds, y_train, rf_test_preds, y_test)"
   ]
  },
  {
   "cell_type": "code",
   "execution_count": 106,
   "metadata": {},
   "outputs": [
    {
     "name": "stdout",
     "output_type": "stream",
     "text": [
      "Feature: 0, Score: 0.13861\n",
      "Feature: 1, Score: 0.10233\n",
      "Feature: 2, Score: 0.10827\n",
      "Feature: 3, Score: 0.12096\n",
      "Feature: 4, Score: 0.21247\n",
      "Feature: 5, Score: 0.24169\n",
      "Feature: 6, Score: 0.07567\n"
     ]
    },
    {
     "data": {
      "image/png": "[encoded data removed]",
      "text/plain": [
       "<Figure size 432x288 with 1 Axes>"
      ]
     },
     "metadata": {
      "needs_background": "light"
     },
     "output_type": "display_data"
    }
   ],
   "source": [
    "importance = grid_search_RF.best_estimator_.feature_importances_\n",
    "\n",
    "for i,v in enumerate(importance):\n",
    "\tprint('Feature: %0d, Score: %.5f' % (i,v))\n",
    "# plot feature importance\n",
    "plt.bar([x for x in range(len(importance))], importance)\n",
    "plt.xticks([0,1,2,3,4,5,6],['PTS', 'WS_2', 'PER_2', 'VORP_2', 'PER_3', 'VORP_3', 'season_year'], rotation = 15)\n",
    "plt.title('Random Forest Feature Importance')\n",
    "plt.savefig('Feature_Importance_transparent',\n",
    "           transparent = True)\n",
    "plt.show()"
   ]
  },
  {
   "cell_type": "code",
   "execution_count": 131,
   "metadata": {},
   "outputs": [
    {
     "data": {
      "image/png": "[encoded data removed]",
      "text/plain": [
       "<Figure size 432x288 with 2 Axes>"
      ]
     },
     "metadata": {
      "needs_background": "light"
     },
     "output_type": "display_data"
    }
   ],
   "source": [
    "fig, ax = plt.subplots()\n",
    "\n",
    "fig.suptitle(\"Random Forest Classifier Model\")\n",
    "\n",
    "plot_confusion_matrix(grid_search_RF, X_test_sc[rf_cols], y_test, ax=ax, cmap=\"YlGnBu\");\n",
    "\n",
    "plt.savefig('Confusion_updated',\n",
    "           transparent = True)"
   ]
  },
  {
   "cell_type": "markdown",
   "metadata": {},
   "source": [
    "### Random Forest RFE w/ Grid-search + SMOTE Resampling"
   ]
  },
  {
   "cell_type": "code",
   "execution_count": 85,
   "metadata": {},
   "outputs": [
    {
     "name": "stdout",
     "output_type": "stream",
     "text": [
      "Fitting 5 folds for each of 288 candidates, totalling 1440 fits\n"
     ]
    },
    {
     "name": "stderr",
     "output_type": "stream",
     "text": [
      "[Parallel(n_jobs=-1)]: Using backend LokyBackend with 4 concurrent workers.\n",
      "[Parallel(n_jobs=-1)]: Done  33 tasks      | elapsed:    9.9s\n",
      "[Parallel(n_jobs=-1)]: Done 154 tasks      | elapsed:   41.6s\n",
      "[Parallel(n_jobs=-1)]: Done 357 tasks      | elapsed:  1.7min\n",
      "[Parallel(n_jobs=-1)]: Done 640 tasks      | elapsed:  3.3min\n",
      "[Parallel(n_jobs=-1)]: Done 1005 tasks      | elapsed:  5.8min\n",
      "[Parallel(n_jobs=-1)]: Done 1440 out of 1440 | elapsed:  8.9min finished\n"
     ]
    },
    {
     "data": {
      "text/plain": [
       "GridSearchCV(cv=5, estimator=RandomForestClassifier(random_state=42), n_jobs=-1,\n",
       "             param_grid={'criterion': ['gini', 'entropy'],\n",
       "                         'max_depth': [2, 4, 6, 8, 10, 12, 15, 20],\n",
       "                         'max_features': ['sqrt', 'auto', 'log2'],\n",
       "                         'n_estimators': [10, 25, 50, 100, 200, 500]},\n",
       "             scoring=make_scorer(recall_score, average=weighted), verbose=2)"
      ]
     },
     "execution_count": 85,
     "metadata": {},
     "output_type": "execute_result"
    }
   ],
   "source": [
    "sm = SMOTE(random_state = 42)\n",
    "X_train_res, y_train_res = sm.fit_sample(X_train_sc[rf_cols], y_train.ravel())\n",
    "\n",
    "params = { \n",
    "    'n_estimators': [10, 25, 50, 100, 200, 500],\n",
    "    'max_features': ['sqrt', 'auto', 'log2'],\n",
    "    'max_depth' : [2,4,6,8,10,12,15,20],\n",
    "    'criterion' :['gini', 'entropy']\n",
    "}\n",
    "\n",
    "rf = RandomForestClassifier(random_state = 42)\n",
    "\n",
    "grid_search_RF_sm = GridSearchCV(estimator=rf, param_grid=params, scoring=scorer, \n",
    "                              cv = 5, n_jobs = -1, verbose = 2)\n",
    "\n",
    "grid_search_RF_sm.fit(X_train_res, y_train_res)"
   ]
  },
  {
   "cell_type": "code",
   "execution_count": 86,
   "metadata": {},
   "outputs": [
    {
     "data": {
      "text/plain": [
       "{'criterion': 'entropy',\n",
       " 'max_depth': 15,\n",
       " 'max_features': 'sqrt',\n",
       " 'n_estimators': 100}"
      ]
     },
     "execution_count": 86,
     "metadata": {},
     "output_type": "execute_result"
    }
   ],
   "source": [
    "grid_search_RF_sm.best_params_"
   ]
  },
  {
   "cell_type": "code",
   "execution_count": 89,
   "metadata": {},
   "outputs": [
    {
     "name": "stdout",
     "output_type": "stream",
     "text": [
      "Training Accuracy:\t1.0 \tTesting Accuracy:\t0.9216\n",
      "Training Precision:\t1.0 \tTesting Precision:\t0.4643\n",
      "Training Recall:\t1.0 \tTesting Recall:\t\t0.7222\n",
      "Training F1:\t\t1.0 \tTesting F1:\t\t0.5652\n"
     ]
    }
   ],
   "source": [
    "rf_train_preds_sm = grid_search_RF_sm.best_estimator_.predict(X_train_res)\n",
    "rf_test_preds_sm = grid_search_RF_sm.best_estimator_.predict(X_test_sc[rf_cols])\n",
    "metrics_score(rf_train_preds_sm, y_train_res, rf_test_preds_sm, y_test)"
   ]
  },
  {
   "cell_type": "markdown",
   "metadata": {},
   "source": [
    "## Logistic Regression\n",
    "\n",
    "### Baseline Model"
   ]
  },
  {
   "cell_type": "code",
   "execution_count": 96,
   "metadata": {},
   "outputs": [
    {
     "name": "stdout",
     "output_type": "stream",
     "text": [
      "Training Accuracy:\t0.9558 \tTesting Accuracy:\t0.9373\n",
      "Training Precision:\t0.8 \tTesting Precision:\t0.5625\n",
      "Training Recall:\t0.5 \tTesting Recall:\t\t0.5\n",
      "Training F1:\t\t0.6154 \tTesting F1:\t\t0.5294\n"
     ]
    }
   ],
   "source": [
    "lr = LogisticRegression(class_weight = 'balance', random_state = 42)\n",
    "lr.fit(X_train_sc, y_train)\n",
    "\n",
    "lrbase_train_preds = lr.predict(X_train_sc)\n",
    "lrbase_test_preds = lr.predict(X_test_sc)\n",
    "metrics_score(lrbase_train_preds, y_train, lrbase_test_preds, y_test)"
   ]
  },
  {
   "cell_type": "markdown",
   "metadata": {},
   "source": [
    "## Logistic Regression w/ RFE"
   ]
  },
  {
   "cell_type": "code",
   "execution_count": 97,
   "metadata": {
    "collapsed": true,
    "jupyter": {
     "outputs_hidden": true
    }
   },
   "outputs": [
    {
     "name": "stdout",
     "output_type": "stream",
     "text": [
      "Fitting estimator with 67 features.\n",
      "Fitting estimator with 66 features.\n",
      "Fitting estimator with 65 features.\n",
      "Fitting estimator with 64 features.\n",
      "Fitting estimator with 63 features.\n",
      "Fitting estimator with 62 features.\n",
      "Fitting estimator with 61 features.\n",
      "Fitting estimator with 60 features.\n",
      "Fitting estimator with 59 features.\n",
      "Fitting estimator with 58 features.\n",
      "Fitting estimator with 57 features.\n",
      "Fitting estimator with 56 features.\n",
      "Fitting estimator with 55 features.\n",
      "Fitting estimator with 54 features.\n",
      "Fitting estimator with 53 features.\n",
      "Fitting estimator with 52 features.\n",
      "Fitting estimator with 51 features.\n",
      "Fitting estimator with 50 features.\n",
      "Fitting estimator with 49 features.\n",
      "Fitting estimator with 48 features.\n",
      "Fitting estimator with 47 features.\n",
      "Fitting estimator with 46 features.\n",
      "Fitting estimator with 45 features.\n",
      "Fitting estimator with 44 features.\n",
      "Fitting estimator with 43 features.\n",
      "Fitting estimator with 42 features.\n",
      "Fitting estimator with 41 features.\n",
      "Fitting estimator with 40 features.\n",
      "Fitting estimator with 39 features.\n",
      "Fitting estimator with 38 features.\n",
      "Fitting estimator with 37 features.\n",
      "Fitting estimator with 36 features.\n",
      "Fitting estimator with 35 features.\n",
      "Fitting estimator with 34 features.\n",
      "Fitting estimator with 33 features.\n",
      "Fitting estimator with 32 features.\n",
      "Fitting estimator with 31 features.\n",
      "Fitting estimator with 30 features.\n",
      "Fitting estimator with 29 features.\n",
      "Fitting estimator with 28 features.\n",
      "Fitting estimator with 27 features.\n",
      "Fitting estimator with 26 features.\n",
      "Fitting estimator with 25 features.\n",
      "Fitting estimator with 24 features.\n",
      "Fitting estimator with 23 features.\n",
      "Fitting estimator with 22 features.\n",
      "Fitting estimator with 21 features.\n",
      "Fitting estimator with 20 features.\n",
      "Fitting estimator with 19 features.\n",
      "Fitting estimator with 18 features.\n",
      "Fitting estimator with 17 features.\n",
      "Fitting estimator with 16 features.\n",
      "Fitting estimator with 15 features.\n",
      "Fitting estimator with 14 features.\n"
     ]
    },
    {
     "data": {
      "text/plain": [
       "Index(['2P', 'TRB', 'PTS', 'spg_1', 'tpg_1', 'MP_2', 'bpg_2', 'PER_2', 'MP_3',\n",
       "       'TS%_3', 'spg_3', 'PER_3', 'VORP_3'],\n",
       "      dtype='object')"
      ]
     },
     "execution_count": 97,
     "metadata": {},
     "output_type": "execute_result"
    }
   ],
   "source": [
    "rfe_lr = RFECV(estimator=LogisticRegression(class_weight = 'balanced', max_iter = 1000), step = 1, cv = 3, scoring = 'precision', n_jobs = -1, verbose = 1)\n",
    "rfe_lr.fit(X_train_sc, y_train)\n",
    "X_train_sc.columns[rfe_lr.get_support()]"
   ]
  },
  {
   "cell_type": "code",
   "execution_count": 98,
   "metadata": {},
   "outputs": [],
   "source": [
    "lr_cols = ['2P', 'TRB', 'PTS', 'spg_1', 'tpg_1', 'MP_2', 'bpg_2', 'PER_2', 'MP_3',\n",
    "       'TS%_3', 'spg_3', 'PER_3', 'VORP_3', 'season_year']"
   ]
  },
  {
   "cell_type": "code",
   "execution_count": 101,
   "metadata": {},
   "outputs": [
    {
     "data": {
      "text/html": [
       "<div>\n",
       "<style scoped>\n",
       "    .dataframe tbody tr th:only-of-type {\n",
       "        vertical-align: middle;\n",
       "    }\n",
       "\n",
       "    .dataframe tbody tr th {\n",
       "        vertical-align: top;\n",
       "    }\n",
       "\n",
       "    .dataframe thead th {\n",
       "        text-align: right;\n",
       "    }\n",
       "</style>\n",
       "<table border=\"1\" class=\"dataframe\">\n",
       "  <thead>\n",
       "    <tr style=\"text-align: right;\">\n",
       "      <th></th>\n",
       "      <th>2P</th>\n",
       "      <th>TRB</th>\n",
       "      <th>PTS</th>\n",
       "      <th>spg_1</th>\n",
       "      <th>tpg_1</th>\n",
       "      <th>MP_2</th>\n",
       "      <th>bpg_2</th>\n",
       "      <th>PER_2</th>\n",
       "      <th>MP_3</th>\n",
       "      <th>TS%_3</th>\n",
       "      <th>spg_3</th>\n",
       "      <th>PER_3</th>\n",
       "      <th>VORP_3</th>\n",
       "      <th>season_year</th>\n",
       "    </tr>\n",
       "  </thead>\n",
       "  <tbody>\n",
       "    <tr>\n",
       "      <th>2P</th>\n",
       "      <td>1.000000</td>\n",
       "      <td>0.752948</td>\n",
       "      <td>0.961977</td>\n",
       "      <td>0.564395</td>\n",
       "      <td>0.700540</td>\n",
       "      <td>0.794024</td>\n",
       "      <td>0.327550</td>\n",
       "      <td>0.627135</td>\n",
       "      <td>0.759072</td>\n",
       "      <td>0.287028</td>\n",
       "      <td>0.558332</td>\n",
       "      <td>0.596094</td>\n",
       "      <td>0.643094</td>\n",
       "      <td>-0.293510</td>\n",
       "    </tr>\n",
       "    <tr>\n",
       "      <th>TRB</th>\n",
       "      <td>0.752948</td>\n",
       "      <td>1.000000</td>\n",
       "      <td>0.702601</td>\n",
       "      <td>0.333466</td>\n",
       "      <td>0.471621</td>\n",
       "      <td>0.669657</td>\n",
       "      <td>0.603728</td>\n",
       "      <td>0.545663</td>\n",
       "      <td>0.647238</td>\n",
       "      <td>0.310550</td>\n",
       "      <td>0.313820</td>\n",
       "      <td>0.517104</td>\n",
       "      <td>0.508001</td>\n",
       "      <td>-0.134946</td>\n",
       "    </tr>\n",
       "    <tr>\n",
       "      <th>PTS</th>\n",
       "      <td>0.961977</td>\n",
       "      <td>0.702601</td>\n",
       "      <td>1.000000</td>\n",
       "      <td>0.608713</td>\n",
       "      <td>0.733541</td>\n",
       "      <td>0.835116</td>\n",
       "      <td>0.259483</td>\n",
       "      <td>0.633662</td>\n",
       "      <td>0.796804</td>\n",
       "      <td>0.314160</td>\n",
       "      <td>0.603171</td>\n",
       "      <td>0.609791</td>\n",
       "      <td>0.694026</td>\n",
       "      <td>-0.180591</td>\n",
       "    </tr>\n",
       "    <tr>\n",
       "      <th>spg_1</th>\n",
       "      <td>0.564395</td>\n",
       "      <td>0.333466</td>\n",
       "      <td>0.608713</td>\n",
       "      <td>1.000000</td>\n",
       "      <td>0.757831</td>\n",
       "      <td>0.528539</td>\n",
       "      <td>0.028762</td>\n",
       "      <td>0.370467</td>\n",
       "      <td>0.422597</td>\n",
       "      <td>0.089536</td>\n",
       "      <td>0.677636</td>\n",
       "      <td>0.337423</td>\n",
       "      <td>0.491409</td>\n",
       "      <td>-0.165677</td>\n",
       "    </tr>\n",
       "    <tr>\n",
       "      <th>tpg_1</th>\n",
       "      <td>0.700540</td>\n",
       "      <td>0.471621</td>\n",
       "      <td>0.733541</td>\n",
       "      <td>0.757831</td>\n",
       "      <td>1.000000</td>\n",
       "      <td>0.557795</td>\n",
       "      <td>0.162851</td>\n",
       "      <td>0.414641</td>\n",
       "      <td>0.446124</td>\n",
       "      <td>0.116180</td>\n",
       "      <td>0.490676</td>\n",
       "      <td>0.379465</td>\n",
       "      <td>0.483027</td>\n",
       "      <td>-0.236445</td>\n",
       "    </tr>\n",
       "    <tr>\n",
       "      <th>MP_2</th>\n",
       "      <td>0.794024</td>\n",
       "      <td>0.669657</td>\n",
       "      <td>0.835116</td>\n",
       "      <td>0.528539</td>\n",
       "      <td>0.557795</td>\n",
       "      <td>1.000000</td>\n",
       "      <td>0.310852</td>\n",
       "      <td>0.535659</td>\n",
       "      <td>0.678924</td>\n",
       "      <td>0.211218</td>\n",
       "      <td>0.520144</td>\n",
       "      <td>0.409365</td>\n",
       "      <td>0.500771</td>\n",
       "      <td>-0.121784</td>\n",
       "    </tr>\n",
       "    <tr>\n",
       "      <th>bpg_2</th>\n",
       "      <td>0.327550</td>\n",
       "      <td>0.603728</td>\n",
       "      <td>0.259483</td>\n",
       "      <td>0.028762</td>\n",
       "      <td>0.162851</td>\n",
       "      <td>0.310852</td>\n",
       "      <td>1.000000</td>\n",
       "      <td>0.350039</td>\n",
       "      <td>0.237106</td>\n",
       "      <td>0.121907</td>\n",
       "      <td>0.027747</td>\n",
       "      <td>0.275623</td>\n",
       "      <td>0.276091</td>\n",
       "      <td>-0.061570</td>\n",
       "    </tr>\n",
       "    <tr>\n",
       "      <th>PER_2</th>\n",
       "      <td>0.627135</td>\n",
       "      <td>0.545663</td>\n",
       "      <td>0.633662</td>\n",
       "      <td>0.370467</td>\n",
       "      <td>0.414641</td>\n",
       "      <td>0.535659</td>\n",
       "      <td>0.350039</td>\n",
       "      <td>1.000000</td>\n",
       "      <td>0.488120</td>\n",
       "      <td>0.301426</td>\n",
       "      <td>0.415372</td>\n",
       "      <td>0.581705</td>\n",
       "      <td>0.566160</td>\n",
       "      <td>-0.046919</td>\n",
       "    </tr>\n",
       "    <tr>\n",
       "      <th>MP_3</th>\n",
       "      <td>0.759072</td>\n",
       "      <td>0.647238</td>\n",
       "      <td>0.796804</td>\n",
       "      <td>0.422597</td>\n",
       "      <td>0.446124</td>\n",
       "      <td>0.678924</td>\n",
       "      <td>0.237106</td>\n",
       "      <td>0.488120</td>\n",
       "      <td>1.000000</td>\n",
       "      <td>0.401441</td>\n",
       "      <td>0.643711</td>\n",
       "      <td>0.553914</td>\n",
       "      <td>0.659984</td>\n",
       "      <td>-0.092109</td>\n",
       "    </tr>\n",
       "    <tr>\n",
       "      <th>TS%_3</th>\n",
       "      <td>0.287028</td>\n",
       "      <td>0.310550</td>\n",
       "      <td>0.314160</td>\n",
       "      <td>0.089536</td>\n",
       "      <td>0.116180</td>\n",
       "      <td>0.211218</td>\n",
       "      <td>0.121907</td>\n",
       "      <td>0.301426</td>\n",
       "      <td>0.401441</td>\n",
       "      <td>1.000000</td>\n",
       "      <td>0.237658</td>\n",
       "      <td>0.630986</td>\n",
       "      <td>0.415196</td>\n",
       "      <td>-0.018562</td>\n",
       "    </tr>\n",
       "    <tr>\n",
       "      <th>spg_3</th>\n",
       "      <td>0.558332</td>\n",
       "      <td>0.313820</td>\n",
       "      <td>0.603171</td>\n",
       "      <td>0.677636</td>\n",
       "      <td>0.490676</td>\n",
       "      <td>0.520144</td>\n",
       "      <td>0.027747</td>\n",
       "      <td>0.415372</td>\n",
       "      <td>0.643711</td>\n",
       "      <td>0.237658</td>\n",
       "      <td>1.000000</td>\n",
       "      <td>0.502415</td>\n",
       "      <td>0.657844</td>\n",
       "      <td>-0.148423</td>\n",
       "    </tr>\n",
       "    <tr>\n",
       "      <th>PER_3</th>\n",
       "      <td>0.596094</td>\n",
       "      <td>0.517104</td>\n",
       "      <td>0.609791</td>\n",
       "      <td>0.337423</td>\n",
       "      <td>0.379465</td>\n",
       "      <td>0.409365</td>\n",
       "      <td>0.275623</td>\n",
       "      <td>0.581705</td>\n",
       "      <td>0.553914</td>\n",
       "      <td>0.630986</td>\n",
       "      <td>0.502415</td>\n",
       "      <td>1.000000</td>\n",
       "      <td>0.710580</td>\n",
       "      <td>-0.014694</td>\n",
       "    </tr>\n",
       "    <tr>\n",
       "      <th>VORP_3</th>\n",
       "      <td>0.643094</td>\n",
       "      <td>0.508001</td>\n",
       "      <td>0.694026</td>\n",
       "      <td>0.491409</td>\n",
       "      <td>0.483027</td>\n",
       "      <td>0.500771</td>\n",
       "      <td>0.276091</td>\n",
       "      <td>0.566160</td>\n",
       "      <td>0.659984</td>\n",
       "      <td>0.415196</td>\n",
       "      <td>0.657844</td>\n",
       "      <td>0.710580</td>\n",
       "      <td>1.000000</td>\n",
       "      <td>-0.094867</td>\n",
       "    </tr>\n",
       "    <tr>\n",
       "      <th>season_year</th>\n",
       "      <td>-0.293510</td>\n",
       "      <td>-0.134946</td>\n",
       "      <td>-0.180591</td>\n",
       "      <td>-0.165677</td>\n",
       "      <td>-0.236445</td>\n",
       "      <td>-0.121784</td>\n",
       "      <td>-0.061570</td>\n",
       "      <td>-0.046919</td>\n",
       "      <td>-0.092109</td>\n",
       "      <td>-0.018562</td>\n",
       "      <td>-0.148423</td>\n",
       "      <td>-0.014694</td>\n",
       "      <td>-0.094867</td>\n",
       "      <td>1.000000</td>\n",
       "    </tr>\n",
       "  </tbody>\n",
       "</table>\n",
       "</div>"
      ],
      "text/plain": [
       "                   2P       TRB       PTS     spg_1     tpg_1      MP_2  \\\n",
       "2P           1.000000  0.752948  0.961977  0.564395  0.700540  0.794024   \n",
       "TRB          0.752948  1.000000  0.702601  0.333466  0.471621  0.669657   \n",
       "PTS          0.961977  0.702601  1.000000  0.608713  0.733541  0.835116   \n",
       "spg_1        0.564395  0.333466  0.608713  1.000000  0.757831  0.528539   \n",
       "tpg_1        0.700540  0.471621  0.733541  0.757831  1.000000  0.557795   \n",
       "MP_2         0.794024  0.669657  0.835116  0.528539  0.557795  1.000000   \n",
       "bpg_2        0.327550  0.603728  0.259483  0.028762  0.162851  0.310852   \n",
       "PER_2        0.627135  0.545663  0.633662  0.370467  0.414641  0.535659   \n",
       "MP_3         0.759072  0.647238  0.796804  0.422597  0.446124  0.678924   \n",
       "TS%_3        0.287028  0.310550  0.314160  0.089536  0.116180  0.211218   \n",
       "spg_3        0.558332  0.313820  0.603171  0.677636  0.490676  0.520144   \n",
       "PER_3        0.596094  0.517104  0.609791  0.337423  0.379465  0.409365   \n",
       "VORP_3       0.643094  0.508001  0.694026  0.491409  0.483027  0.500771   \n",
       "season_year -0.293510 -0.134946 -0.180591 -0.165677 -0.236445 -0.121784   \n",
       "\n",
       "                bpg_2     PER_2      MP_3     TS%_3     spg_3     PER_3  \\\n",
       "2P           0.327550  0.627135  0.759072  0.287028  0.558332  0.596094   \n",
       "TRB          0.603728  0.545663  0.647238  0.310550  0.313820  0.517104   \n",
       "PTS          0.259483  0.633662  0.796804  0.314160  0.603171  0.609791   \n",
       "spg_1        0.028762  0.370467  0.422597  0.089536  0.677636  0.337423   \n",
       "tpg_1        0.162851  0.414641  0.446124  0.116180  0.490676  0.379465   \n",
       "MP_2         0.310852  0.535659  0.678924  0.211218  0.520144  0.409365   \n",
       "bpg_2        1.000000  0.350039  0.237106  0.121907  0.027747  0.275623   \n",
       "PER_2        0.350039  1.000000  0.488120  0.301426  0.415372  0.581705   \n",
       "MP_3         0.237106  0.488120  1.000000  0.401441  0.643711  0.553914   \n",
       "TS%_3        0.121907  0.301426  0.401441  1.000000  0.237658  0.630986   \n",
       "spg_3        0.027747  0.415372  0.643711  0.237658  1.000000  0.502415   \n",
       "PER_3        0.275623  0.581705  0.553914  0.630986  0.502415  1.000000   \n",
       "VORP_3       0.276091  0.566160  0.659984  0.415196  0.657844  0.710580   \n",
       "season_year -0.061570 -0.046919 -0.092109 -0.018562 -0.148423 -0.014694   \n",
       "\n",
       "               VORP_3  season_year  \n",
       "2P           0.643094    -0.293510  \n",
       "TRB          0.508001    -0.134946  \n",
       "PTS          0.694026    -0.180591  \n",
       "spg_1        0.491409    -0.165677  \n",
       "tpg_1        0.483027    -0.236445  \n",
       "MP_2         0.500771    -0.121784  \n",
       "bpg_2        0.276091    -0.061570  \n",
       "PER_2        0.566160    -0.046919  \n",
       "MP_3         0.659984    -0.092109  \n",
       "TS%_3        0.415196    -0.018562  \n",
       "spg_3        0.657844    -0.148423  \n",
       "PER_3        0.710580    -0.014694  \n",
       "VORP_3       1.000000    -0.094867  \n",
       "season_year -0.094867     1.000000  "
      ]
     },
     "execution_count": 101,
     "metadata": {},
     "output_type": "execute_result"
    }
   ],
   "source": [
    "X_train_sc[lr_cols].corr()"
   ]
  },
  {
   "cell_type": "code",
   "execution_count": 103,
   "metadata": {},
   "outputs": [
    {
     "data": {
      "text/html": [
       "<div>\n",
       "<style scoped>\n",
       "    .dataframe tbody tr th:only-of-type {\n",
       "        vertical-align: middle;\n",
       "    }\n",
       "\n",
       "    .dataframe tbody tr th {\n",
       "        vertical-align: top;\n",
       "    }\n",
       "\n",
       "    .dataframe thead th {\n",
       "        text-align: right;\n",
       "    }\n",
       "</style>\n",
       "<table border=\"1\" class=\"dataframe\">\n",
       "  <thead>\n",
       "    <tr style=\"text-align: right;\">\n",
       "      <th></th>\n",
       "      <th>TRB</th>\n",
       "      <th>PTS</th>\n",
       "      <th>spg_1</th>\n",
       "      <th>tpg_1</th>\n",
       "      <th>MP_2</th>\n",
       "      <th>bpg_2</th>\n",
       "      <th>PER_2</th>\n",
       "      <th>MP_3</th>\n",
       "      <th>TS%_3</th>\n",
       "      <th>spg_3</th>\n",
       "      <th>PER_3</th>\n",
       "      <th>VORP_3</th>\n",
       "      <th>season_year</th>\n",
       "    </tr>\n",
       "  </thead>\n",
       "  <tbody>\n",
       "    <tr>\n",
       "      <th>TRB</th>\n",
       "      <td>1.000000</td>\n",
       "      <td>0.702601</td>\n",
       "      <td>0.333466</td>\n",
       "      <td>0.471621</td>\n",
       "      <td>0.669657</td>\n",
       "      <td>0.603728</td>\n",
       "      <td>0.545663</td>\n",
       "      <td>0.647238</td>\n",
       "      <td>0.310550</td>\n",
       "      <td>0.313820</td>\n",
       "      <td>0.517104</td>\n",
       "      <td>0.508001</td>\n",
       "      <td>-0.134946</td>\n",
       "    </tr>\n",
       "    <tr>\n",
       "      <th>PTS</th>\n",
       "      <td>0.702601</td>\n",
       "      <td>1.000000</td>\n",
       "      <td>0.608713</td>\n",
       "      <td>0.733541</td>\n",
       "      <td>0.835116</td>\n",
       "      <td>0.259483</td>\n",
       "      <td>0.633662</td>\n",
       "      <td>0.796804</td>\n",
       "      <td>0.314160</td>\n",
       "      <td>0.603171</td>\n",
       "      <td>0.609791</td>\n",
       "      <td>0.694026</td>\n",
       "      <td>-0.180591</td>\n",
       "    </tr>\n",
       "    <tr>\n",
       "      <th>spg_1</th>\n",
       "      <td>0.333466</td>\n",
       "      <td>0.608713</td>\n",
       "      <td>1.000000</td>\n",
       "      <td>0.757831</td>\n",
       "      <td>0.528539</td>\n",
       "      <td>0.028762</td>\n",
       "      <td>0.370467</td>\n",
       "      <td>0.422597</td>\n",
       "      <td>0.089536</td>\n",
       "      <td>0.677636</td>\n",
       "      <td>0.337423</td>\n",
       "      <td>0.491409</td>\n",
       "      <td>-0.165677</td>\n",
       "    </tr>\n",
       "    <tr>\n",
       "      <th>tpg_1</th>\n",
       "      <td>0.471621</td>\n",
       "      <td>0.733541</td>\n",
       "      <td>0.757831</td>\n",
       "      <td>1.000000</td>\n",
       "      <td>0.557795</td>\n",
       "      <td>0.162851</td>\n",
       "      <td>0.414641</td>\n",
       "      <td>0.446124</td>\n",
       "      <td>0.116180</td>\n",
       "      <td>0.490676</td>\n",
       "      <td>0.379465</td>\n",
       "      <td>0.483027</td>\n",
       "      <td>-0.236445</td>\n",
       "    </tr>\n",
       "    <tr>\n",
       "      <th>MP_2</th>\n",
       "      <td>0.669657</td>\n",
       "      <td>0.835116</td>\n",
       "      <td>0.528539</td>\n",
       "      <td>0.557795</td>\n",
       "      <td>1.000000</td>\n",
       "      <td>0.310852</td>\n",
       "      <td>0.535659</td>\n",
       "      <td>0.678924</td>\n",
       "      <td>0.211218</td>\n",
       "      <td>0.520144</td>\n",
       "      <td>0.409365</td>\n",
       "      <td>0.500771</td>\n",
       "      <td>-0.121784</td>\n",
       "    </tr>\n",
       "    <tr>\n",
       "      <th>bpg_2</th>\n",
       "      <td>0.603728</td>\n",
       "      <td>0.259483</td>\n",
       "      <td>0.028762</td>\n",
       "      <td>0.162851</td>\n",
       "      <td>0.310852</td>\n",
       "      <td>1.000000</td>\n",
       "      <td>0.350039</td>\n",
       "      <td>0.237106</td>\n",
       "      <td>0.121907</td>\n",
       "      <td>0.027747</td>\n",
       "      <td>0.275623</td>\n",
       "      <td>0.276091</td>\n",
       "      <td>-0.061570</td>\n",
       "    </tr>\n",
       "    <tr>\n",
       "      <th>PER_2</th>\n",
       "      <td>0.545663</td>\n",
       "      <td>0.633662</td>\n",
       "      <td>0.370467</td>\n",
       "      <td>0.414641</td>\n",
       "      <td>0.535659</td>\n",
       "      <td>0.350039</td>\n",
       "      <td>1.000000</td>\n",
       "      <td>0.488120</td>\n",
       "      <td>0.301426</td>\n",
       "      <td>0.415372</td>\n",
       "      <td>0.581705</td>\n",
       "      <td>0.566160</td>\n",
       "      <td>-0.046919</td>\n",
       "    </tr>\n",
       "    <tr>\n",
       "      <th>MP_3</th>\n",
       "      <td>0.647238</td>\n",
       "      <td>0.796804</td>\n",
       "      <td>0.422597</td>\n",
       "      <td>0.446124</td>\n",
       "      <td>0.678924</td>\n",
       "      <td>0.237106</td>\n",
       "      <td>0.488120</td>\n",
       "      <td>1.000000</td>\n",
       "      <td>0.401441</td>\n",
       "      <td>0.643711</td>\n",
       "      <td>0.553914</td>\n",
       "      <td>0.659984</td>\n",
       "      <td>-0.092109</td>\n",
       "    </tr>\n",
       "    <tr>\n",
       "      <th>TS%_3</th>\n",
       "      <td>0.310550</td>\n",
       "      <td>0.314160</td>\n",
       "      <td>0.089536</td>\n",
       "      <td>0.116180</td>\n",
       "      <td>0.211218</td>\n",
       "      <td>0.121907</td>\n",
       "      <td>0.301426</td>\n",
       "      <td>0.401441</td>\n",
       "      <td>1.000000</td>\n",
       "      <td>0.237658</td>\n",
       "      <td>0.630986</td>\n",
       "      <td>0.415196</td>\n",
       "      <td>-0.018562</td>\n",
       "    </tr>\n",
       "    <tr>\n",
       "      <th>spg_3</th>\n",
       "      <td>0.313820</td>\n",
       "      <td>0.603171</td>\n",
       "      <td>0.677636</td>\n",
       "      <td>0.490676</td>\n",
       "      <td>0.520144</td>\n",
       "      <td>0.027747</td>\n",
       "      <td>0.415372</td>\n",
       "      <td>0.643711</td>\n",
       "      <td>0.237658</td>\n",
       "      <td>1.000000</td>\n",
       "      <td>0.502415</td>\n",
       "      <td>0.657844</td>\n",
       "      <td>-0.148423</td>\n",
       "    </tr>\n",
       "    <tr>\n",
       "      <th>PER_3</th>\n",
       "      <td>0.517104</td>\n",
       "      <td>0.609791</td>\n",
       "      <td>0.337423</td>\n",
       "      <td>0.379465</td>\n",
       "      <td>0.409365</td>\n",
       "      <td>0.275623</td>\n",
       "      <td>0.581705</td>\n",
       "      <td>0.553914</td>\n",
       "      <td>0.630986</td>\n",
       "      <td>0.502415</td>\n",
       "      <td>1.000000</td>\n",
       "      <td>0.710580</td>\n",
       "      <td>-0.014694</td>\n",
       "    </tr>\n",
       "    <tr>\n",
       "      <th>VORP_3</th>\n",
       "      <td>0.508001</td>\n",
       "      <td>0.694026</td>\n",
       "      <td>0.491409</td>\n",
       "      <td>0.483027</td>\n",
       "      <td>0.500771</td>\n",
       "      <td>0.276091</td>\n",
       "      <td>0.566160</td>\n",
       "      <td>0.659984</td>\n",
       "      <td>0.415196</td>\n",
       "      <td>0.657844</td>\n",
       "      <td>0.710580</td>\n",
       "      <td>1.000000</td>\n",
       "      <td>-0.094867</td>\n",
       "    </tr>\n",
       "    <tr>\n",
       "      <th>season_year</th>\n",
       "      <td>-0.134946</td>\n",
       "      <td>-0.180591</td>\n",
       "      <td>-0.165677</td>\n",
       "      <td>-0.236445</td>\n",
       "      <td>-0.121784</td>\n",
       "      <td>-0.061570</td>\n",
       "      <td>-0.046919</td>\n",
       "      <td>-0.092109</td>\n",
       "      <td>-0.018562</td>\n",
       "      <td>-0.148423</td>\n",
       "      <td>-0.014694</td>\n",
       "      <td>-0.094867</td>\n",
       "      <td>1.000000</td>\n",
       "    </tr>\n",
       "  </tbody>\n",
       "</table>\n",
       "</div>"
      ],
      "text/plain": [
       "                  TRB       PTS     spg_1     tpg_1      MP_2     bpg_2  \\\n",
       "TRB          1.000000  0.702601  0.333466  0.471621  0.669657  0.603728   \n",
       "PTS          0.702601  1.000000  0.608713  0.733541  0.835116  0.259483   \n",
       "spg_1        0.333466  0.608713  1.000000  0.757831  0.528539  0.028762   \n",
       "tpg_1        0.471621  0.733541  0.757831  1.000000  0.557795  0.162851   \n",
       "MP_2         0.669657  0.835116  0.528539  0.557795  1.000000  0.310852   \n",
       "bpg_2        0.603728  0.259483  0.028762  0.162851  0.310852  1.000000   \n",
       "PER_2        0.545663  0.633662  0.370467  0.414641  0.535659  0.350039   \n",
       "MP_3         0.647238  0.796804  0.422597  0.446124  0.678924  0.237106   \n",
       "TS%_3        0.310550  0.314160  0.089536  0.116180  0.211218  0.121907   \n",
       "spg_3        0.313820  0.603171  0.677636  0.490676  0.520144  0.027747   \n",
       "PER_3        0.517104  0.609791  0.337423  0.379465  0.409365  0.275623   \n",
       "VORP_3       0.508001  0.694026  0.491409  0.483027  0.500771  0.276091   \n",
       "season_year -0.134946 -0.180591 -0.165677 -0.236445 -0.121784 -0.061570   \n",
       "\n",
       "                PER_2      MP_3     TS%_3     spg_3     PER_3    VORP_3  \\\n",
       "TRB          0.545663  0.647238  0.310550  0.313820  0.517104  0.508001   \n",
       "PTS          0.633662  0.796804  0.314160  0.603171  0.609791  0.694026   \n",
       "spg_1        0.370467  0.422597  0.089536  0.677636  0.337423  0.491409   \n",
       "tpg_1        0.414641  0.446124  0.116180  0.490676  0.379465  0.483027   \n",
       "MP_2         0.535659  0.678924  0.211218  0.520144  0.409365  0.500771   \n",
       "bpg_2        0.350039  0.237106  0.121907  0.027747  0.275623  0.276091   \n",
       "PER_2        1.000000  0.488120  0.301426  0.415372  0.581705  0.566160   \n",
       "MP_3         0.488120  1.000000  0.401441  0.643711  0.553914  0.659984   \n",
       "TS%_3        0.301426  0.401441  1.000000  0.237658  0.630986  0.415196   \n",
       "spg_3        0.415372  0.643711  0.237658  1.000000  0.502415  0.657844   \n",
       "PER_3        0.581705  0.553914  0.630986  0.502415  1.000000  0.710580   \n",
       "VORP_3       0.566160  0.659984  0.415196  0.657844  0.710580  1.000000   \n",
       "season_year -0.046919 -0.092109 -0.018562 -0.148423 -0.014694 -0.094867   \n",
       "\n",
       "             season_year  \n",
       "TRB            -0.134946  \n",
       "PTS            -0.180591  \n",
       "spg_1          -0.165677  \n",
       "tpg_1          -0.236445  \n",
       "MP_2           -0.121784  \n",
       "bpg_2          -0.061570  \n",
       "PER_2          -0.046919  \n",
       "MP_3           -0.092109  \n",
       "TS%_3          -0.018562  \n",
       "spg_3          -0.148423  \n",
       "PER_3          -0.014694  \n",
       "VORP_3         -0.094867  \n",
       "season_year     1.000000  "
      ]
     },
     "execution_count": 103,
     "metadata": {},
     "output_type": "execute_result"
    }
   ],
   "source": [
    "#dropping features that are over .9 correlated with eachother (2P)\n",
    "\n",
    "lr_cols = ['TRB', 'PTS', 'spg_1', 'tpg_1', 'MP_2', 'bpg_2', 'PER_2', 'MP_3',\n",
    "       'TS%_3', 'spg_3', 'PER_3', 'VORP_3', 'season_year']\n",
    "\n",
    "X_train_sc[lr_cols].corr()"
   ]
  },
  {
   "cell_type": "markdown",
   "metadata": {},
   "source": [
    "### Logistic Regression w/ RFE Columns"
   ]
  },
  {
   "cell_type": "code",
   "execution_count": 107,
   "metadata": {},
   "outputs": [
    {
     "name": "stdout",
     "output_type": "stream",
     "text": [
      "Training Accuracy:\t0.9528 \tTesting Accuracy:\t0.9451\n",
      "Training Precision:\t0.7609 \tTesting Precision:\t0.625\n",
      "Training Recall:\t0.4861 \tTesting Recall:\t\t0.5556\n",
      "Training F1:\t\t0.5932 \tTesting F1:\t\t0.5882\n"
     ]
    }
   ],
   "source": [
    "lr = LogisticRegression(class_weight = 'balance', random_state = 42)\n",
    "lr.fit(X_train_sc[lr_cols], y_train)\n",
    "\n",
    "lrbaserfe_train_preds = lr.predict(X_train_sc[lr_cols])\n",
    "lrbaserfe_test_preds = lr.predict(X_test_sc[lr_cols])\n",
    "metrics_score(lrbaserfe_train_preds, y_train, lrbaserfe_test_preds, y_test)"
   ]
  },
  {
   "cell_type": "markdown",
   "metadata": {},
   "source": [
    "### Logistic Regression w/ RFE & Grid-search"
   ]
  },
  {
   "cell_type": "code",
   "execution_count": 110,
   "metadata": {},
   "outputs": [
    {
     "name": "stdout",
     "output_type": "stream",
     "text": [
      "Fitting 3 folds for each of 40 candidates, totalling 120 fits\n"
     ]
    },
    {
     "name": "stderr",
     "output_type": "stream",
     "text": [
      "[Parallel(n_jobs=-1)]: Using backend LokyBackend with 4 concurrent workers.\n",
      "[Parallel(n_jobs=-1)]: Done  60 tasks      | elapsed:    1.1s\n"
     ]
    },
    {
     "name": "stdout",
     "output_type": "stream",
     "text": [
      "Training Accuracy:\t0.9528 \tTesting Accuracy:\t0.9451\n",
      "Training Precision:\t0.7609 \tTesting Precision:\t0.625\n",
      "Training Recall:\t0.4861 \tTesting Recall:\t\t0.5556\n",
      "Training F1:\t\t0.5932 \tTesting F1:\t\t0.5882\n"
     ]
    },
    {
     "name": "stderr",
     "output_type": "stream",
     "text": [
      "[Parallel(n_jobs=-1)]: Done 120 out of 120 | elapsed:    1.8s finished\n"
     ]
    }
   ],
   "source": [
    "C = np.logspace(0, 1, 10)\n",
    "\n",
    "params = dict(C=C, max_iter=[50, 100], class_weight = ['balanced', None])\n",
    "\n",
    "logistic = LogisticRegression(penalty='l2', random_state=42)\n",
    "\n",
    "grid_search_LR = GridSearchCV(estimator = logistic,scoring=scorer, param_grid = params, \n",
    "                              cv = 3, n_jobs = -1, verbose = 2)\n",
    "\n",
    "grid_search_LR.fit(X_train_sc[lr_cols], y_train)\n",
    "\n",
    "lrgsrfe_train_preds = grid_search_LR.best_estimator_.predict(X_train_sc[lr_cols])\n",
    "lrgsrfe_test_preds = grid_search_LR.best_estimator_.predict(X_test_sc[lr_cols])\n",
    "metrics_score(lrgsrfe_train_preds, y_train, lrgsrfe_test_preds, y_test)"
   ]
  },
  {
   "cell_type": "code",
   "execution_count": 112,
   "metadata": {},
   "outputs": [
    {
     "data": {
      "image/png": "[encoded data removed]",
      "text/plain": [
       "<Figure size 432x288 with 2 Axes>"
      ]
     },
     "metadata": {
      "needs_background": "light"
     },
     "output_type": "display_data"
    }
   ],
   "source": [
    "fig, ax = plt.subplots()\n",
    "\n",
    "fig.suptitle(\"Logistic Regression Classifier Model\")\n",
    "\n",
    "plot_confusion_matrix(grid_search_LR, X_test_sc[lr_cols], y_test, ax=ax, cmap=\"YlGnBu\");"
   ]
  },
  {
   "cell_type": "code",
   "execution_count": 116,
   "metadata": {},
   "outputs": [
    {
     "name": "stdout",
     "output_type": "stream",
     "text": [
      "Fitting 3 folds for each of 40 candidates, totalling 120 fits\n"
     ]
    },
    {
     "name": "stderr",
     "output_type": "stream",
     "text": [
      "[Parallel(n_jobs=-1)]: Using backend LokyBackend with 4 concurrent workers.\n",
      "[Parallel(n_jobs=-1)]: Done  33 tasks      | elapsed:    8.7s\n",
      "[Parallel(n_jobs=-1)]: Done 113 out of 120 | elapsed:   13.0s remaining:    0.8s\n",
      "[Parallel(n_jobs=-1)]: Done 120 out of 120 | elapsed:   13.0s finished\n"
     ]
    },
    {
     "name": "stdout",
     "output_type": "stream",
     "text": [
      "Training Accuracy:\t0.9419 \tTesting Accuracy:\t0.8941\n",
      "Training Precision:\t0.9197 \tTesting Precision:\t0.3784\n",
      "Training Recall:\t0.9683 \tTesting Recall:\t\t0.7778\n",
      "Training F1:\t\t0.9434 \tTesting F1:\t\t0.5091\n"
     ]
    }
   ],
   "source": [
    "sm = SMOTE(random_state = 42)\n",
    "X_train_res, y_train_res = sm.fit_sample(X_train_sc[lr_cols], y_train.ravel())\n",
    "\n",
    "C = np.logspace(0, 1, 10)\n",
    "\n",
    "params = dict(C=C, max_iter=[50, 100], class_weight = ['balanced', None])\n",
    "\n",
    "logistic = LogisticRegression(penalty='l2', random_state=42)\n",
    "\n",
    "grid_search_LR_sm = GridSearchCV(estimator = logistic,scoring=scorer, param_grid = params, \n",
    "                              cv = 3, n_jobs = -1, verbose = 2)\n",
    "grid_search_LR_sm.fit(X_train_res, y_train_res)\n",
    "\n",
    "lr_train_preds_sm = grid_search_LR_sm.best_estimator_.predict(X_train_res)\n",
    "lr_test_preds_sm = grid_search_LR_sm.best_estimator_.predict(X_test_sc[lr_cols])\n",
    "metrics_score(lr_train_preds_sm, y_train_res, lr_test_preds_sm, y_test)"
   ]
  },
  {
   "cell_type": "markdown",
   "metadata": {},
   "source": [
    "## Decision Tree Modeling\n",
    "\n",
    "### Baseline Model"
   ]
  },
  {
   "cell_type": "code",
   "execution_count": 117,
   "metadata": {},
   "outputs": [
    {
     "name": "stdout",
     "output_type": "stream",
     "text": [
      "Training Accuracy:\t1.0 \tTesting Accuracy:\t0.9098\n",
      "Training Precision:\t1.0 \tTesting Precision:\t0.3684\n",
      "Training Recall:\t1.0 \tTesting Recall:\t\t0.3889\n",
      "Training F1:\t\t1.0 \tTesting F1:\t\t0.3784\n"
     ]
    }
   ],
   "source": [
    "DT = tree.DecisionTreeClassifier(random_state = 42, class_weight = 'balanced')\n",
    "\n",
    "\n",
    "DT.fit(X_train_sc, y_train)\n",
    "\n",
    "dt_train_preds = DT.predict(X_train_sc)\n",
    "dt_test_preds = DT.predict(X_test_sc)\n",
    "metrics_score(dt_train_preds, y_train, dt_test_preds, y_test)"
   ]
  },
  {
   "cell_type": "markdown",
   "metadata": {},
   "source": [
    "Baseline Decision Tree model is very overfit"
   ]
  },
  {
   "cell_type": "markdown",
   "metadata": {},
   "source": [
    "### RFE w/ Decision Tree"
   ]
  },
  {
   "cell_type": "code",
   "execution_count": 118,
   "metadata": {
    "collapsed": true,
    "jupyter": {
     "outputs_hidden": true
    }
   },
   "outputs": [
    {
     "name": "stdout",
     "output_type": "stream",
     "text": [
      "Fitting estimator with 67 features.\n",
      "Fitting estimator with 66 features.\n",
      "Fitting estimator with 65 features.\n",
      "Fitting estimator with 64 features.\n",
      "Fitting estimator with 63 features.\n",
      "Fitting estimator with 62 features.\n",
      "Fitting estimator with 61 features.\n",
      "Fitting estimator with 60 features.\n",
      "Fitting estimator with 59 features.\n",
      "Fitting estimator with 58 features.\n",
      "Fitting estimator with 57 features.\n",
      "Fitting estimator with 56 features.\n",
      "Fitting estimator with 55 features.\n",
      "Fitting estimator with 54 features.\n",
      "Fitting estimator with 53 features.\n",
      "Fitting estimator with 52 features.\n",
      "Fitting estimator with 51 features.\n",
      "Fitting estimator with 50 features.\n",
      "Fitting estimator with 49 features.\n",
      "Fitting estimator with 48 features.\n",
      "Fitting estimator with 47 features.\n",
      "Fitting estimator with 46 features.\n",
      "Fitting estimator with 45 features.\n",
      "Fitting estimator with 44 features.\n",
      "Fitting estimator with 43 features.\n",
      "Fitting estimator with 42 features.\n",
      "Fitting estimator with 41 features.\n",
      "Fitting estimator with 40 features.\n",
      "Fitting estimator with 39 features.\n",
      "Fitting estimator with 38 features.\n",
      "Fitting estimator with 37 features.\n",
      "Fitting estimator with 36 features.\n",
      "Fitting estimator with 35 features.\n",
      "Fitting estimator with 34 features.\n",
      "Fitting estimator with 33 features.\n",
      "Fitting estimator with 32 features.\n",
      "Fitting estimator with 31 features.\n",
      "Fitting estimator with 30 features.\n",
      "Fitting estimator with 29 features.\n",
      "Fitting estimator with 28 features.\n",
      "Fitting estimator with 27 features.\n",
      "Fitting estimator with 26 features.\n",
      "Fitting estimator with 25 features.\n",
      "Fitting estimator with 24 features.\n",
      "Fitting estimator with 23 features.\n",
      "Fitting estimator with 22 features.\n",
      "Fitting estimator with 21 features.\n",
      "Fitting estimator with 20 features.\n",
      "Fitting estimator with 19 features.\n",
      "Fitting estimator with 18 features.\n",
      "Fitting estimator with 17 features.\n",
      "Fitting estimator with 16 features.\n",
      "Fitting estimator with 15 features.\n",
      "Fitting estimator with 14 features.\n",
      "Fitting estimator with 13 features.\n",
      "Fitting estimator with 12 features.\n",
      "Fitting estimator with 11 features.\n",
      "Fitting estimator with 10 features.\n",
      "Fitting estimator with 9 features.\n"
     ]
    },
    {
     "data": {
      "text/plain": [
       "Index(['FT', 'PER_1', 'WS_2', 'GS_2', 'VORP_2', 'rpg_3', 'spg_3', 'PER_3'], dtype='object')"
      ]
     },
     "execution_count": 118,
     "metadata": {},
     "output_type": "execute_result"
    }
   ],
   "source": [
    "rfe_dt = RFECV(estimator=tree.DecisionTreeClassifier(class_weight = 'balanced'), step = 1, cv = 3, scoring = 'precision', n_jobs = -1, verbose = 1)\n",
    "rfe_dt.fit(X_train_sc, y_train)\n",
    "X_train_sc.columns[rfe_dt.get_support()]"
   ]
  },
  {
   "cell_type": "code",
   "execution_count": 119,
   "metadata": {},
   "outputs": [],
   "source": [
    "dt_cols = ['FT', 'PER_1', 'WS_2', 'GS_2', 'VORP_2', 'rpg_3', 'spg_3', 'PER_3', 'season_year']"
   ]
  },
  {
   "cell_type": "code",
   "execution_count": 121,
   "metadata": {},
   "outputs": [
    {
     "name": "stdout",
     "output_type": "stream",
     "text": [
      "Training Accuracy:\t1.0 \tTesting Accuracy:\t0.898\n",
      "Training Precision:\t1.0 \tTesting Precision:\t0.3182\n",
      "Training Recall:\t1.0 \tTesting Recall:\t\t0.3889\n",
      "Training F1:\t\t1.0 \tTesting F1:\t\t0.35\n"
     ]
    }
   ],
   "source": [
    "DT = tree.DecisionTreeClassifier(random_state = 42, class_weight = 'balanced')\n",
    "DT.fit(X_train_sc[dt_cols], y_train)\n",
    "\n",
    "DTbaserfe_train_preds = DT.predict(X_train_sc[dt_cols])\n",
    "DTbaserfe_test_preds = DT.predict(X_test_sc[dt_cols])\n",
    "metrics_score(DTbaserfe_train_preds, y_train, DTbaserfe_test_preds, y_test)"
   ]
  },
  {
   "cell_type": "markdown",
   "metadata": {},
   "source": [
    "Baseline with RFE still very over fit"
   ]
  },
  {
   "cell_type": "markdown",
   "metadata": {},
   "source": [
    "### Decision Tree w/ RFE + Gridsearch"
   ]
  },
  {
   "cell_type": "code",
   "execution_count": 123,
   "metadata": {},
   "outputs": [
    {
     "name": "stdout",
     "output_type": "stream",
     "text": [
      "Fitting 5 folds for each of 36 candidates, totalling 180 fits\n"
     ]
    },
    {
     "name": "stderr",
     "output_type": "stream",
     "text": [
      "[Parallel(n_jobs=-1)]: Using backend LokyBackend with 4 concurrent workers.\n",
      "[Parallel(n_jobs=-1)]: Done  34 tasks      | elapsed:    4.4s\n"
     ]
    },
    {
     "name": "stdout",
     "output_type": "stream",
     "text": [
      "Training Accuracy:\t1.0 \tTesting Accuracy:\t0.898\n",
      "Training Precision:\t1.0 \tTesting Precision:\t0.3182\n",
      "Training Recall:\t1.0 \tTesting Recall:\t\t0.3889\n",
      "Training F1:\t\t1.0 \tTesting F1:\t\t0.35\n"
     ]
    },
    {
     "name": "stderr",
     "output_type": "stream",
     "text": [
      "[Parallel(n_jobs=-1)]: Done 180 out of 180 | elapsed:    5.3s finished\n"
     ]
    }
   ],
   "source": [
    "criterion = ['gini', 'entropy']\n",
    "max_depth = [2,4,6,8,10,12]\n",
    "\n",
    "params = dict(criterion=['gini', 'entropy'],\n",
    "                max_depth=[2,4,6,8,10,12,15,20,25],\n",
    "                 splitter = ['best', 'random'],\n",
    "             )\n",
    "\n",
    "DT = tree.DecisionTreeClassifier(random_state = 42, class_weight = 'balanced')\n",
    "\n",
    "grid_search_DT = GridSearchCV(estimator=DT, param_grid=params, scoring=scorer, \n",
    "                              cv = 5, n_jobs = -1, verbose = 2)\n",
    "\n",
    "grid_search_DT.fit(X_train_sc[dt_cols], y_train)\n",
    "\n",
    "dtrfegs_train_preds = grid_search_DT.best_estimator_.predict(X_train_sc[dt_cols])\n",
    "dtrfegs_test_preds = grid_search_DT.best_estimator_.predict(X_test_sc[dt_cols])\n",
    "metrics_score(dtrfegs_train_preds, y_train, dtrfegs_test_preds, y_test)"
   ]
  },
  {
   "cell_type": "markdown",
   "metadata": {},
   "source": [
    "### Decision Tree w/ RFE + Grid Search + Resampling"
   ]
  },
  {
   "cell_type": "code",
   "execution_count": 125,
   "metadata": {},
   "outputs": [
    {
     "name": "stdout",
     "output_type": "stream",
     "text": [
      "Fitting 5 folds for each of 36 candidates, totalling 180 fits\n"
     ]
    },
    {
     "name": "stderr",
     "output_type": "stream",
     "text": [
      "[Parallel(n_jobs=-1)]: Using backend LokyBackend with 4 concurrent workers.\n",
      "[Parallel(n_jobs=-1)]: Done  68 tasks      | elapsed:    1.1s\n"
     ]
    },
    {
     "name": "stdout",
     "output_type": "stream",
     "text": [
      "Training Accuracy:\t0.9921 \tTesting Accuracy:\t0.9137\n",
      "Training Precision:\t0.9854 \tTesting Precision:\t0.4231\n",
      "Training Recall:\t0.9989 \tTesting Recall:\t\t0.6111\n",
      "Training F1:\t\t0.9921 \tTesting F1:\t\t0.5\n"
     ]
    },
    {
     "name": "stderr",
     "output_type": "stream",
     "text": [
      "[Parallel(n_jobs=-1)]: Done 180 out of 180 | elapsed:    1.9s finished\n"
     ]
    }
   ],
   "source": [
    "sm = SMOTE(random_state = 42)\n",
    "X_train_res, y_train_res = sm.fit_sample(X_train_sc[dt_cols], y_train.ravel())\n",
    "\n",
    "criterion = ['gini', 'entropy']\n",
    "max_depth = [2,4,6,8,10,12]\n",
    "\n",
    "params = dict(criterion=['gini', 'entropy'],\n",
    "                max_depth=[2,4,6,8,10,12,15,20,25],\n",
    "                 splitter = ['best', 'random'],\n",
    "             )\n",
    "\n",
    "DT = tree.DecisionTreeClassifier(random_state = 42, class_weight = 'balanced')\n",
    "\n",
    "grid_search_DT_sm = GridSearchCV(estimator=DT, param_grid=params, scoring=scorer, \n",
    "                              cv = 5, n_jobs = -1, verbose = 2)\n",
    "\n",
    "grid_search_DT_sm.fit(X_train_res, y_train_res)\n",
    "\n",
    "dtrfegssm_train_preds = grid_search_DT_sm.best_estimator_.predict(X_train_res)\n",
    "dtrfegssm_test_preds = grid_search_DT_sm.best_estimator_.predict(X_test_sc[dt_cols])\n",
    "metrics_score(dtrfegssm_train_preds, y_train_res, dtrfegssm_test_preds, y_test)\n",
    "\n"
   ]
  },
  {
   "cell_type": "code",
   "execution_count": 130,
   "metadata": {},
   "outputs": [],
   "source": [
    "model_candidates = [\n",
    "    \n",
    "    {'name':'Logistic Regression',\n",
    "     'accuracy score':accuracy_score(y_test, lrgsrfe_test_preds),\n",
    "     'recall score' : recall_score(y_test, lrgsrfe_test_preds),\n",
    "     'precision score' : precision_score(y_test,lrgsrfe_test_preds),\n",
    "         'f1 score':metrics.f1_score(y_test, lrgsrfe_test_preds)},\n",
    "    \n",
    "    {'name':'Logistic Regression w/ Resampling',\n",
    "     'accuracy score':accuracy_score(y_test, lr_test_preds_sm),\n",
    "     'recall score' : recall_score(y_test, lr_test_preds_sm),\n",
    "     'precision score' : precision_score(y_test,lr_test_preds_sm),\n",
    "     'f1 score':metrics.f1_score(y_test, lr_test_preds_sm)},\n",
    "    \n",
    "    {'name':'Random Forest',\n",
    "     'accuracy score':accuracy_score(y_test, rf_test_preds),\n",
    "     'recall score' : recall_score(y_test, rf_test_preds,),\n",
    "     'precision score' : precision_score(y_test,rf_test_preds),\n",
    "    'f1 score':metrics.f1_score(y_test, rf_test_preds)},\n",
    "    \n",
    "    {'name':'Random Forest w/ Resampling',\n",
    "     'accuracy score':accuracy_score(y_test, rf_test_preds_sm),\n",
    "     'recall score' : recall_score(y_test, rf_test_preds_sm),\n",
    "     'precision score' : precision_score(y_test,rf_test_preds_sm),\n",
    "     'f1 score':metrics.f1_score(y_test, dt_test_preds)},\n",
    "    \n",
    "    {'name':'Decision Tree',\n",
    "     'accuracy score':accuracy_score(y_test, dtrfegs_test_preds),\n",
    "     'recall score' : recall_score(y_test, dtrfegs_test_preds),\n",
    "     'precision score' : precision_score(y_test,dtrfegs_test_preds),\n",
    "     'f1 score':metrics.f1_score(y_test, dtrfegs_test_preds)},\n",
    "    \n",
    "    {'name':'Decision Tree w/ Resampling',\n",
    "     'accuracy score':accuracy_score(y_test, dtrfegssm_test_preds),\n",
    "     'recall score' : recall_score(y_test, dtrfegssm_test_preds),\n",
    "     'precision score' : precision_score(y_test,dtrfegssm_test_preds),\n",
    "     'f1 score':metrics.f1_score(y_test, dtrfegssm_test_preds)},\n",
    "    \n",
    "]\n"
   ]
  },
  {
   "cell_type": "code",
   "execution_count": 129,
   "metadata": {},
   "outputs": [
    {
     "data": {
      "text/html": [
       "<div>\n",
       "<style scoped>\n",
       "    .dataframe tbody tr th:only-of-type {\n",
       "        vertical-align: middle;\n",
       "    }\n",
       "\n",
       "    .dataframe tbody tr th {\n",
       "        vertical-align: top;\n",
       "    }\n",
       "\n",
       "    .dataframe thead th {\n",
       "        text-align: right;\n",
       "    }\n",
       "</style>\n",
       "<table border=\"1\" class=\"dataframe\">\n",
       "  <thead>\n",
       "    <tr style=\"text-align: right;\">\n",
       "      <th></th>\n",
       "      <th>accuracy score</th>\n",
       "      <th>recall score</th>\n",
       "      <th>precision score</th>\n",
       "      <th>f1 score</th>\n",
       "    </tr>\n",
       "    <tr>\n",
       "      <th>name</th>\n",
       "      <th></th>\n",
       "      <th></th>\n",
       "      <th></th>\n",
       "      <th></th>\n",
       "    </tr>\n",
       "  </thead>\n",
       "  <tbody>\n",
       "    <tr>\n",
       "      <th>Logistic Regression</th>\n",
       "      <td>0.945098</td>\n",
       "      <td>0.555556</td>\n",
       "      <td>0.625000</td>\n",
       "      <td>0.588235</td>\n",
       "    </tr>\n",
       "    <tr>\n",
       "      <th>Logistic Regression w/ Resampling</th>\n",
       "      <td>0.894118</td>\n",
       "      <td>0.777778</td>\n",
       "      <td>0.378378</td>\n",
       "      <td>0.509091</td>\n",
       "    </tr>\n",
       "    <tr>\n",
       "      <th>Random Forest</th>\n",
       "      <td>0.952941</td>\n",
       "      <td>0.500000</td>\n",
       "      <td>0.750000</td>\n",
       "      <td>0.600000</td>\n",
       "    </tr>\n",
       "    <tr>\n",
       "      <th>Random Forest w/ Resampling</th>\n",
       "      <td>0.921569</td>\n",
       "      <td>0.722222</td>\n",
       "      <td>0.464286</td>\n",
       "      <td>0.378378</td>\n",
       "    </tr>\n",
       "    <tr>\n",
       "      <th>Decision Tree</th>\n",
       "      <td>0.898039</td>\n",
       "      <td>0.388889</td>\n",
       "      <td>0.318182</td>\n",
       "      <td>0.350000</td>\n",
       "    </tr>\n",
       "    <tr>\n",
       "      <th>Decision Tree w/ Resampling</th>\n",
       "      <td>0.913725</td>\n",
       "      <td>0.611111</td>\n",
       "      <td>0.423077</td>\n",
       "      <td>0.500000</td>\n",
       "    </tr>\n",
       "  </tbody>\n",
       "</table>\n",
       "</div>"
      ],
      "text/plain": [
       "                                   accuracy score  recall score  \\\n",
       "name                                                              \n",
       "Logistic Regression                      0.945098      0.555556   \n",
       "Logistic Regression w/ Resampling        0.894118      0.777778   \n",
       "Random Forest                            0.952941      0.500000   \n",
       "Random Forest w/ Resampling              0.921569      0.722222   \n",
       "Decision Tree                            0.898039      0.388889   \n",
       "Decision Tree w/ Resampling              0.913725      0.611111   \n",
       "\n",
       "                                   precision score  f1 score  \n",
       "name                                                          \n",
       "Logistic Regression                       0.625000  0.588235  \n",
       "Logistic Regression w/ Resampling         0.378378  0.509091  \n",
       "Random Forest                             0.750000  0.600000  \n",
       "Random Forest w/ Resampling               0.464286  0.378378  \n",
       "Decision Tree                             0.318182  0.350000  \n",
       "Decision Tree w/ Resampling               0.423077  0.500000  "
      ]
     },
     "execution_count": 129,
     "metadata": {},
     "output_type": "execute_result"
    }
   ],
   "source": [
    "final_scores_df = pd.DataFrame(model_candidates).set_index('name')\n",
    "final_scores_df"
   ]
  },
  {
   "cell_type": "code",
   "execution_count": null,
   "metadata": {},
   "outputs": [],
   "source": []
  }
 ],
 "metadata": {
  "kernelspec": {
   "display_name": "learn-env",
   "language": "python",
   "name": "learn-env"
  },
  "language_info": {
   "codemirror_mode": {
    "name": "ipython",
    "version": 3
   },
   "file_extension": ".py",
   "mimetype": "text/x-python",
   "name": "python",
   "nbconvert_exporter": "python",
   "pygments_lexer": "ipython3",
   "version": "3.8.5"
  }
 },
 "nbformat": 4,
 "nbformat_minor": 4
}
