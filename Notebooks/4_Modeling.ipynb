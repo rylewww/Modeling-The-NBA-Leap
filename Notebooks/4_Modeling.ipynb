{
 "cells": [
  {
   "cell_type": "code",
   "execution_count": 215,
   "metadata": {},
   "outputs": [],
   "source": [
    "import pandas as pd\n",
    "import matplotlib.pyplot as plt\n",
    "import numpy as np\n",
    "from matplotlib import pyplot\n",
    "from sklearn.model_selection import train_test_split, KFold, GridSearchCV,\\\n",
    "cross_val_score, RandomizedSearchCV\n",
    "from sklearn.decomposition import PCA\n",
    "from sklearn.feature_selection import RFE, RFECV\n",
    "from sklearn.linear_model import LogisticRegression\n",
    "from sklearn.preprocessing import StandardScaler, MinMaxScaler, OneHotEncoder\n",
    "from sklearn.metrics import f1_score, confusion_matrix, recall_score, precision_score, accuracy_score\n",
    "from sklearn.metrics import roc_curve, auc, accuracy_score, precision_score, f1_score, recall_score, confusion_matrix, classification_report, make_scorer\n",
    "from sklearn import metrics\n",
    "from sklearn.ensemble import RandomForestClassifier\n",
    "from sklearn.metrics import confusion_matrix, plot_confusion_matrix\n",
    "from sklearn import tree \n",
    "from sklearn.neighbors import KNeighborsClassifier\n",
    "from imblearn.over_sampling import SMOTE"
   ]
  },
  {
   "cell_type": "code",
   "execution_count": 203,
   "metadata": {},
   "outputs": [],
   "source": [
    "df_final = pd.read_csv('Data/Final_NBA_Seasons1-3_1977_final.csv', index_col = 0)\n",
    "df_final.set_index('Player', inplace = True)"
   ]
  },
  {
   "cell_type": "code",
   "execution_count": 204,
   "metadata": {},
   "outputs": [],
   "source": [
    "cols = ['MP','FG','2P','FT','TRB','AST','STL','TOV','PTS','roy','all_rookie_1','all_rookie_2','WS_1','GS_1','MP_1','PTS_1','ppg_1','apg_1','rpg_1','spg_1','bpg_1',\n",
    "        'tpg_1','ftpg_1','PER_1','WS/48_1','VORP_1','WS_2','GS_2','MP_2','ppg_2','apg_2','rpg_2','spg_2','bpg_2','tpg_2','ftpg_2','PER_2','USG%_2',\n",
    "        'ORtg_2','DRtg_2','OWS_2','DWS_2','WS/48_2','VORP_2','WS_3','GS_3','MP_3','PTS_3','TS%_3','ppg_3','apg_3','rpg_3','spg_3','bpg_3','tpg_3','ftpg_3','PER_3','USG%_3',\n",
    "        'ORtg_3','DRtg_3','OWS_3','DWS_3','WS/48_3','VORP_3','target',]\n",
    "\n",
    "df = df_final[cols]"
   ]
  },
  {
   "cell_type": "code",
   "execution_count": 205,
   "metadata": {},
   "outputs": [
    {
     "data": {
      "text/html": [
       "<div>\n",
       "<style scoped>\n",
       "    .dataframe tbody tr th:only-of-type {\n",
       "        vertical-align: middle;\n",
       "    }\n",
       "\n",
       "    .dataframe tbody tr th {\n",
       "        vertical-align: top;\n",
       "    }\n",
       "\n",
       "    .dataframe thead th {\n",
       "        text-align: right;\n",
       "    }\n",
       "</style>\n",
       "<table border=\"1\" class=\"dataframe\">\n",
       "  <thead>\n",
       "    <tr style=\"text-align: right;\">\n",
       "      <th></th>\n",
       "      <th>MP</th>\n",
       "      <th>FG</th>\n",
       "      <th>2P</th>\n",
       "      <th>FT</th>\n",
       "      <th>TRB</th>\n",
       "      <th>AST</th>\n",
       "      <th>STL</th>\n",
       "      <th>TOV</th>\n",
       "      <th>PTS</th>\n",
       "      <th>roy</th>\n",
       "      <th>...</th>\n",
       "      <th>ftpg_3</th>\n",
       "      <th>PER_3</th>\n",
       "      <th>USG%_3</th>\n",
       "      <th>ORtg_3</th>\n",
       "      <th>DRtg_3</th>\n",
       "      <th>OWS_3</th>\n",
       "      <th>DWS_3</th>\n",
       "      <th>WS/48_3</th>\n",
       "      <th>VORP_3</th>\n",
       "      <th>target</th>\n",
       "    </tr>\n",
       "    <tr>\n",
       "      <th>Player</th>\n",
       "      <th></th>\n",
       "      <th></th>\n",
       "      <th></th>\n",
       "      <th></th>\n",
       "      <th></th>\n",
       "      <th></th>\n",
       "      <th></th>\n",
       "      <th></th>\n",
       "      <th></th>\n",
       "      <th></th>\n",
       "      <th></th>\n",
       "      <th></th>\n",
       "      <th></th>\n",
       "      <th></th>\n",
       "      <th></th>\n",
       "      <th></th>\n",
       "      <th></th>\n",
       "      <th></th>\n",
       "      <th></th>\n",
       "      <th></th>\n",
       "      <th></th>\n",
       "    </tr>\n",
       "  </thead>\n",
       "  <tbody>\n",
       "    <tr>\n",
       "      <th>A.C. Green\\greenac01</th>\n",
       "      <td>6418.0</td>\n",
       "      <td>847</td>\n",
       "      <td>846</td>\n",
       "      <td>615</td>\n",
       "      <td>1706.0</td>\n",
       "      <td>231</td>\n",
       "      <td>206.0</td>\n",
       "      <td>321.0</td>\n",
       "      <td>2310</td>\n",
       "      <td>0.0</td>\n",
       "      <td>...</td>\n",
       "      <td>3.573171</td>\n",
       "      <td>14.5</td>\n",
       "      <td>14.7</td>\n",
       "      <td>119.0</td>\n",
       "      <td>106.0</td>\n",
       "      <td>4.5</td>\n",
       "      <td>3.4</td>\n",
       "      <td>0.144</td>\n",
       "      <td>1.5</td>\n",
       "      <td>0</td>\n",
       "    </tr>\n",
       "    <tr>\n",
       "      <th>A.J. Price\\priceaj01</th>\n",
       "      <td>2228.0</td>\n",
       "      <td>318</td>\n",
       "      <td>191</td>\n",
       "      <td>142</td>\n",
       "      <td>221.0</td>\n",
       "      <td>303</td>\n",
       "      <td>84.0</td>\n",
       "      <td>144.0</td>\n",
       "      <td>905</td>\n",
       "      <td>0.0</td>\n",
       "      <td>...</td>\n",
       "      <td>0.636364</td>\n",
       "      <td>11.5</td>\n",
       "      <td>17.7</td>\n",
       "      <td>100.0</td>\n",
       "      <td>106.0</td>\n",
       "      <td>0.2</td>\n",
       "      <td>0.5</td>\n",
       "      <td>0.063</td>\n",
       "      <td>0.1</td>\n",
       "      <td>0</td>\n",
       "    </tr>\n",
       "    <tr>\n",
       "      <th>Aaron Brooks\\brookaa01</th>\n",
       "      <td>5525.0</td>\n",
       "      <td>984</td>\n",
       "      <td>626</td>\n",
       "      <td>436</td>\n",
       "      <td>428.0</td>\n",
       "      <td>759</td>\n",
       "      <td>128.0</td>\n",
       "      <td>401.0</td>\n",
       "      <td>2762</td>\n",
       "      <td>0.0</td>\n",
       "      <td>...</td>\n",
       "      <td>2.987805</td>\n",
       "      <td>16.0</td>\n",
       "      <td>25.7</td>\n",
       "      <td>108.0</td>\n",
       "      <td>112.0</td>\n",
       "      <td>3.9</td>\n",
       "      <td>1.6</td>\n",
       "      <td>0.091</td>\n",
       "      <td>1.9</td>\n",
       "      <td>0</td>\n",
       "    </tr>\n",
       "    <tr>\n",
       "      <th>Aaron Gordon\\gordoaa01</th>\n",
       "      <td>4958.0</td>\n",
       "      <td>760</td>\n",
       "      <td>628</td>\n",
       "      <td>329</td>\n",
       "      <td>1081.0</td>\n",
       "      <td>311</td>\n",
       "      <td>145.0</td>\n",
       "      <td>193.0</td>\n",
       "      <td>1981</td>\n",
       "      <td>0.0</td>\n",
       "      <td>...</td>\n",
       "      <td>1.950000</td>\n",
       "      <td>14.5</td>\n",
       "      <td>20.1</td>\n",
       "      <td>107.0</td>\n",
       "      <td>111.0</td>\n",
       "      <td>2.0</td>\n",
       "      <td>1.7</td>\n",
       "      <td>0.077</td>\n",
       "      <td>0.6</td>\n",
       "      <td>0</td>\n",
       "    </tr>\n",
       "    <tr>\n",
       "      <th>Aaron Gray\\grayaa01</th>\n",
       "      <td>1639.0</td>\n",
       "      <td>226</td>\n",
       "      <td>226</td>\n",
       "      <td>110</td>\n",
       "      <td>494.0</td>\n",
       "      <td>109</td>\n",
       "      <td>44.0</td>\n",
       "      <td>115.0</td>\n",
       "      <td>562</td>\n",
       "      <td>0.0</td>\n",
       "      <td>...</td>\n",
       "      <td>0.625000</td>\n",
       "      <td>16.6</td>\n",
       "      <td>16.4</td>\n",
       "      <td>115.0</td>\n",
       "      <td>106.0</td>\n",
       "      <td>0.5</td>\n",
       "      <td>0.4</td>\n",
       "      <td>0.142</td>\n",
       "      <td>0.1</td>\n",
       "      <td>0</td>\n",
       "    </tr>\n",
       "  </tbody>\n",
       "</table>\n",
       "<p>5 rows × 65 columns</p>\n",
       "</div>"
      ],
      "text/plain": [
       "                            MP   FG   2P   FT     TRB  AST    STL    TOV  \\\n",
       "Player                                                                     \n",
       "A.C. Green\\greenac01    6418.0  847  846  615  1706.0  231  206.0  321.0   \n",
       "A.J. Price\\priceaj01    2228.0  318  191  142   221.0  303   84.0  144.0   \n",
       "Aaron Brooks\\brookaa01  5525.0  984  626  436   428.0  759  128.0  401.0   \n",
       "Aaron Gordon\\gordoaa01  4958.0  760  628  329  1081.0  311  145.0  193.0   \n",
       "Aaron Gray\\grayaa01     1639.0  226  226  110   494.0  109   44.0  115.0   \n",
       "\n",
       "                         PTS  roy  ...    ftpg_3  PER_3  USG%_3  ORtg_3  \\\n",
       "Player                             ...                                    \n",
       "A.C. Green\\greenac01    2310  0.0  ...  3.573171   14.5    14.7   119.0   \n",
       "A.J. Price\\priceaj01     905  0.0  ...  0.636364   11.5    17.7   100.0   \n",
       "Aaron Brooks\\brookaa01  2762  0.0  ...  2.987805   16.0    25.7   108.0   \n",
       "Aaron Gordon\\gordoaa01  1981  0.0  ...  1.950000   14.5    20.1   107.0   \n",
       "Aaron Gray\\grayaa01      562  0.0  ...  0.625000   16.6    16.4   115.0   \n",
       "\n",
       "                        DRtg_3  OWS_3  DWS_3  WS/48_3  VORP_3  target  \n",
       "Player                                                                 \n",
       "A.C. Green\\greenac01     106.0    4.5    3.4    0.144     1.5       0  \n",
       "A.J. Price\\priceaj01     106.0    0.2    0.5    0.063     0.1       0  \n",
       "Aaron Brooks\\brookaa01   112.0    3.9    1.6    0.091     1.9       0  \n",
       "Aaron Gordon\\gordoaa01   111.0    2.0    1.7    0.077     0.6       0  \n",
       "Aaron Gray\\grayaa01      106.0    0.5    0.4    0.142     0.1       0  \n",
       "\n",
       "[5 rows x 65 columns]"
      ]
     },
     "execution_count": 205,
     "metadata": {},
     "output_type": "execute_result"
    }
   ],
   "source": [
    "df = df.fillna(0)\n",
    "df.head()"
   ]
  },
  {
   "cell_type": "code",
   "execution_count": 206,
   "metadata": {
    "collapsed": true,
    "jupyter": {
     "outputs_hidden": true
    }
   },
   "outputs": [
    {
     "data": {
      "text/plain": [
       "['Al Horford\\\\horfoal01',\n",
       " 'Allen Iverson\\\\iversal01',\n",
       " \"Amar'e Stoudemire\\\\stoudam01\",\n",
       " 'Andre Drummond\\\\drumman01',\n",
       " 'Andrew Bogut\\\\bogutan01',\n",
       " 'Anfernee Hardaway\\\\hardaan01',\n",
       " 'Anthony Davis\\\\davisan02',\n",
       " 'Antonio McDyess\\\\mcdyean01',\n",
       " 'Baron Davis\\\\davisba01',\n",
       " 'Bernard King\\\\kingbe01',\n",
       " 'Blake Griffin\\\\griffbl01',\n",
       " 'Brad Daugherty\\\\daughbr01',\n",
       " 'Brandon Roy\\\\roybr01',\n",
       " 'Carlos Boozer\\\\boozeca01',\n",
       " 'Carmelo Anthony\\\\anthoca01',\n",
       " 'Charles Barkley\\\\barklch01',\n",
       " 'Chris Bosh\\\\boshch01',\n",
       " 'Chris Mullin\\\\mullich01',\n",
       " 'Chris Paul\\\\paulch01',\n",
       " 'Chris Webber\\\\webbech01',\n",
       " 'Clyde Drexler\\\\drexlcl01',\n",
       " 'Dale Ellis\\\\ellisda01',\n",
       " 'Damian Lillard\\\\lillada01',\n",
       " 'David Robinson\\\\robinda01',\n",
       " 'DeMarcus Cousins\\\\couside01',\n",
       " 'Dennis Rodman\\\\rodmade01',\n",
       " 'Deron Williams\\\\willide01',\n",
       " 'Derrick Coleman\\\\colemde01',\n",
       " 'Dirk Nowitzki\\\\nowitdi01',\n",
       " 'Dominique Wilkins\\\\wilkido01',\n",
       " 'Draymond Green\\\\greendr01',\n",
       " 'Dwight Howard\\\\howardw01',\n",
       " 'Dwyane Wade\\\\wadedw01',\n",
       " 'Eddie Jones\\\\jonesed02',\n",
       " 'Fat Lever\\\\leverfa01',\n",
       " 'Gary Payton\\\\paytoga01',\n",
       " 'Giannis Antetokounmpo\\\\antetgi01',\n",
       " 'Gilbert Arenas\\\\arenagi01',\n",
       " 'Grant Hill\\\\hillgr01',\n",
       " 'Hakeem Olajuwon\\\\olajuha01',\n",
       " 'Isaiah Thomas\\\\thomais02',\n",
       " 'Isiah Thomas\\\\thomais01',\n",
       " 'James Harden\\\\hardeja01',\n",
       " 'Jason Kidd\\\\kiddja01',\n",
       " \"Jermaine O'Neal\\\\onealje01\",\n",
       " 'Jimmy Butler\\\\butleji01',\n",
       " 'Joe Dumars\\\\dumarjo01',\n",
       " 'John Stockton\\\\stockjo01',\n",
       " 'Karl Malone\\\\malonka01',\n",
       " 'Kawhi Leonard\\\\leonaka01',\n",
       " 'Kevin Durant\\\\duranke01',\n",
       " 'Kevin Garnett\\\\garneke01',\n",
       " 'Kevin Johnson\\\\johnske02',\n",
       " 'Kevin Love\\\\loveke01',\n",
       " 'Klay Thompson\\\\thompkl01',\n",
       " 'Kobe Bryant\\\\bryanko01',\n",
       " 'Kyrie Irving\\\\irvinky01',\n",
       " 'LaMarcus Aldridge\\\\aldrila01',\n",
       " 'Larry Bird\\\\birdla01',\n",
       " 'LeBron James\\\\jamesle01',\n",
       " 'Magic Johnson\\\\johnsma02',\n",
       " 'Marc Gasol\\\\gasolma01',\n",
       " 'Mark Price\\\\pricema01',\n",
       " 'Marques Johnson\\\\johnsma01',\n",
       " 'Metta World Peace\\\\artesro01',\n",
       " 'Michael Jordan\\\\jordami01',\n",
       " 'Michael Redd\\\\reddmi01',\n",
       " 'Mitch Richmond\\\\richmmi01',\n",
       " 'Otis Birdsong\\\\birdsot01',\n",
       " 'Patrick Ewing\\\\ewingpa01',\n",
       " 'Paul George\\\\georgpa01',\n",
       " 'Paul Pierce\\\\piercpa01',\n",
       " 'Rajon Rondo\\\\rondora01',\n",
       " 'Ray Allen\\\\allenra02',\n",
       " 'Rudy Gobert\\\\goberru01',\n",
       " 'Russell Westbrook\\\\westbru01',\n",
       " 'Scottie Pippen\\\\pippesc01',\n",
       " \"Shaquille O'Neal\\\\onealsh01\",\n",
       " 'Shawn Kemp\\\\kempsh01',\n",
       " 'Shawn Marion\\\\mariosh01',\n",
       " 'Sidney Moncrief\\\\moncrsi01',\n",
       " 'Stephen Curry\\\\curryst01',\n",
       " 'Stephon Marbury\\\\marbust01',\n",
       " 'Steve Nash\\\\nashst01',\n",
       " 'Tim Duncan\\\\duncati01',\n",
       " 'Tim Hardaway\\\\hardati01',\n",
       " 'Tracy McGrady\\\\mcgratr01',\n",
       " 'Victor Oladipo\\\\oladivi01',\n",
       " 'Vin Baker\\\\bakervi01',\n",
       " 'Yao Ming\\\\mingya01']"
      ]
     },
     "execution_count": 206,
     "metadata": {},
     "output_type": "execute_result"
    }
   ],
   "source": [
    "all_nba = df[df['target'] == 1]\n",
    "all_nba.index.to_list()"
   ]
  },
  {
   "cell_type": "code",
   "execution_count": 25,
   "metadata": {},
   "outputs": [],
   "source": [
    "X = df.drop(columns = 'target')\n",
    "y = df['target']\n",
    "\n",
    "X_train, X_test, y_train, y_test =  train_test_split(X, y, train_size= .8, random_state= 42)"
   ]
  },
  {
   "cell_type": "code",
   "execution_count": 492,
   "metadata": {},
   "outputs": [],
   "source": [
    "weight = ((1 /(y_train.value_counts(normalize = True)))/1.076110).values"
   ]
  },
  {
   "cell_type": "code",
   "execution_count": 493,
   "metadata": {},
   "outputs": [],
   "source": [
    "weights = {0:weight[0],\n",
    "          1:weight[1]}"
   ]
  },
  {
   "cell_type": "code",
   "execution_count": 494,
   "metadata": {},
   "outputs": [
    {
     "data": {
      "text/plain": [
       "{0: 0.9999999410609073, 1: 13.1388881144947}"
      ]
     },
     "execution_count": 494,
     "metadata": {},
     "output_type": "execute_result"
    }
   ],
   "source": [
    "weights"
   ]
  },
  {
   "cell_type": "code",
   "execution_count": 512,
   "metadata": {},
   "outputs": [],
   "source": [
    "nba_scaled = StandardScaler()\n",
    "\n",
    "nba_scaled.fit(X_train)\n",
    "X_train_sc = pd.DataFrame(nba_scaled.transform(X_train), index = X_train.index, columns = X_train.columns)\n",
    "X_test_sc = pd.DataFrame(nba_scaled.transform(X_test), index = X_test.index, columns = X_test.columns)"
   ]
  },
  {
   "cell_type": "markdown",
   "metadata": {},
   "source": [
    "#### RFE Logistic Regression Model"
   ]
  },
  {
   "cell_type": "code",
   "execution_count": 483,
   "metadata": {
    "collapsed": true,
    "jupyter": {
     "outputs_hidden": true
    }
   },
   "outputs": [
    {
     "name": "stdout",
     "output_type": "stream",
     "text": [
      "Fitting estimator with 64 features.\n",
      "Fitting estimator with 63 features.\n",
      "Fitting estimator with 62 features.\n",
      "Fitting estimator with 61 features.\n",
      "Fitting estimator with 60 features.\n",
      "Fitting estimator with 59 features.\n",
      "Fitting estimator with 58 features.\n",
      "Fitting estimator with 57 features.\n",
      "Fitting estimator with 56 features.\n",
      "Fitting estimator with 55 features.\n",
      "Fitting estimator with 54 features.\n",
      "Fitting estimator with 53 features.\n",
      "Fitting estimator with 52 features.\n",
      "Fitting estimator with 51 features.\n",
      "Fitting estimator with 50 features.\n",
      "Fitting estimator with 49 features.\n",
      "Fitting estimator with 48 features.\n",
      "Fitting estimator with 47 features.\n",
      "Fitting estimator with 46 features.\n",
      "Fitting estimator with 45 features.\n",
      "Fitting estimator with 44 features.\n",
      "Fitting estimator with 43 features.\n",
      "Fitting estimator with 42 features.\n",
      "Fitting estimator with 41 features.\n",
      "Fitting estimator with 40 features.\n",
      "Fitting estimator with 39 features.\n",
      "Fitting estimator with 38 features.\n",
      "Fitting estimator with 37 features.\n",
      "Fitting estimator with 36 features.\n",
      "Fitting estimator with 35 features.\n",
      "Fitting estimator with 34 features.\n",
      "Fitting estimator with 33 features.\n",
      "Fitting estimator with 32 features.\n",
      "Fitting estimator with 31 features.\n",
      "Fitting estimator with 30 features.\n",
      "Fitting estimator with 29 features.\n",
      "Fitting estimator with 28 features.\n",
      "Fitting estimator with 27 features.\n",
      "Fitting estimator with 26 features.\n",
      "Fitting estimator with 25 features.\n",
      "Fitting estimator with 24 features.\n",
      "Fitting estimator with 23 features.\n",
      "Fitting estimator with 22 features.\n",
      "Fitting estimator with 21 features.\n",
      "Fitting estimator with 20 features.\n",
      "Fitting estimator with 19 features.\n",
      "Fitting estimator with 18 features.\n",
      "Fitting estimator with 17 features.\n",
      "Fitting estimator with 16 features.\n",
      "Fitting estimator with 15 features.\n",
      "Fitting estimator with 14 features.\n",
      "Fitting estimator with 13 features.\n"
     ]
    },
    {
     "data": {
      "text/plain": [
       "Index(['2P', 'TRB', 'PTS', 'spg_1', 'ppg_2', 'PER_2', 'MP_3', 'PTS_3', 'TS%_3',\n",
       "       'spg_3', 'PER_3', 'VORP_3'],\n",
       "      dtype='object')"
      ]
     },
     "execution_count": 483,
     "metadata": {},
     "output_type": "execute_result"
    }
   ],
   "source": [
    "rfe_lr = RFECV(estimator=LogisticRegression(class_weight = 'balanced', max_iter = 1000), step = 1, cv = 3, scoring = 'precision', n_jobs = -1, verbose = 1)\n",
    "rfe_lr.fit(X_train_sc, y_train)\n",
    "X_train_sc.columns[rfe_lr.get_support()]"
   ]
  },
  {
   "cell_type": "code",
   "execution_count": 316,
   "metadata": {
    "collapsed": true,
    "jupyter": {
     "outputs_hidden": true
    }
   },
   "outputs": [
    {
     "name": "stdout",
     "output_type": "stream",
     "text": [
      "Fitting estimator with 64 features.\n",
      "Fitting estimator with 63 features.\n",
      "Fitting estimator with 62 features.\n",
      "Fitting estimator with 61 features.\n",
      "Fitting estimator with 60 features.\n",
      "Fitting estimator with 59 features.\n",
      "Fitting estimator with 58 features.\n",
      "Fitting estimator with 57 features.\n",
      "Fitting estimator with 56 features.\n",
      "Fitting estimator with 55 features.\n",
      "Fitting estimator with 54 features.\n",
      "Fitting estimator with 53 features.\n",
      "Fitting estimator with 52 features.\n",
      "Fitting estimator with 51 features.\n",
      "Fitting estimator with 50 features.\n",
      "Fitting estimator with 49 features.\n",
      "Fitting estimator with 64 features.\n",
      "Fitting estimator with 63 features.\n",
      "Fitting estimator with 62 features.\n",
      "Fitting estimator with 61 features.\n",
      "Fitting estimator with 60 features.\n",
      "Fitting estimator with 59 features.\n",
      "Fitting estimator with 58 features.\n",
      "Fitting estimator with 57 features.\n",
      "Fitting estimator with 56 features.\n",
      "Fitting estimator with 55 features.\n",
      "Fitting estimator with 54 features.\n",
      "Fitting estimator with 53 features.\n",
      "Fitting estimator with 52 features.\n",
      "Fitting estimator with 51 features.\n",
      "Fitting estimator with 50 features.\n",
      "Fitting estimator with 49 features.\n",
      "Fitting estimator with 48 features.\n",
      "Fitting estimator with 47 features.\n",
      "Fitting estimator with 46 features.\n",
      "Fitting estimator with 45 features.\n",
      "Fitting estimator with 44 features.\n",
      "Fitting estimator with 43 features.\n",
      "Fitting estimator with 42 features.\n",
      "Fitting estimator with 41 features.\n",
      "Fitting estimator with 40 features.\n",
      "Fitting estimator with 39 features.\n",
      "Fitting estimator with 38 features.\n",
      "Fitting estimator with 37 features.\n",
      "Fitting estimator with 36 features.\n",
      "Fitting estimator with 35 features.\n",
      "Fitting estimator with 34 features.\n",
      "Fitting estimator with 33 features.\n",
      "Fitting estimator with 32 features.\n",
      "Fitting estimator with 31 features.\n",
      "Fitting estimator with 30 features.\n",
      "Fitting estimator with 29 features.\n",
      "Fitting estimator with 28 features.\n",
      "Fitting estimator with 27 features.\n",
      "Fitting estimator with 26 features.\n",
      "Fitting estimator with 25 features.\n",
      "Fitting estimator with 24 features.\n",
      "Fitting estimator with 23 features.\n",
      "Fitting estimator with 22 features.\n",
      "Fitting estimator with 21 features.\n",
      "Fitting estimator with 20 features.\n",
      "Fitting estimator with 64 features.\n",
      "Fitting estimator with 63 features.\n",
      "Fitting estimator with 62 features.\n",
      "Fitting estimator with 61 features.\n",
      "Fitting estimator with 60 features.\n",
      "Fitting estimator with 59 features.\n",
      "Fitting estimator with 58 features.\n",
      "Fitting estimator with 57 features.\n",
      "Fitting estimator with 56 features.\n",
      "Fitting estimator with 55 features.\n",
      "Fitting estimator with 54 features.\n",
      "Fitting estimator with 53 features.\n",
      "Fitting estimator with 52 features.\n",
      "Fitting estimator with 51 features.\n",
      "Fitting estimator with 50 features.\n",
      "Fitting estimator with 49 features.\n",
      "Fitting estimator with 48 features.\n",
      "Fitting estimator with 47 features.\n",
      "Fitting estimator with 46 features.\n",
      "Fitting estimator with 45 features.\n",
      "Fitting estimator with 44 features.\n"
     ]
    },
    {
     "data": {
      "text/plain": [
       "array([0.90588235, 0.90855457, 0.86430678])"
      ]
     },
     "execution_count": 316,
     "metadata": {},
     "output_type": "execute_result"
    }
   ],
   "source": [
    "cross_val_score(rfe_lr, X_train_sc, y_train, cv=3)"
   ]
  },
  {
   "cell_type": "code",
   "execution_count": 317,
   "metadata": {},
   "outputs": [],
   "source": [
    "selected_rfe = X_train_sc.columns[rfe_lr.support_]\n",
    "removed_rfe = X_train_sc.columns[~rfe_lr.support_]"
   ]
  },
  {
   "cell_type": "code",
   "execution_count": 318,
   "metadata": {},
   "outputs": [],
   "source": [
    "#instantiate a logistic regression object\n",
    "lr_rfe = LogisticRegression(class_weight = 'balanced')\n",
    "\n",
    "#fit the linear regression to the data\n",
    "lr_rfe = lm_rfe.fit(X_train_sc[selected_rfe], y_train)\n",
    "\n",
    "#Use the model to predict on the training and test set\n",
    "y_rfe = lm_rfe.predict(X_train_sc[selected_rfe])"
   ]
  },
  {
   "cell_type": "code",
   "execution_count": 319,
   "metadata": {},
   "outputs": [],
   "source": [
    "y_train_pred_rfe = lr_rfe.predict(X_train_sc[selected_rfe])\n",
    "y_pred_rfe = lr_rfe.predict(X_test_sc[selected_rfe])"
   ]
  },
  {
   "cell_type": "code",
   "execution_count": 320,
   "metadata": {},
   "outputs": [
    {
     "data": {
      "text/html": [
       "<div>\n",
       "<style scoped>\n",
       "    .dataframe tbody tr th:only-of-type {\n",
       "        vertical-align: middle;\n",
       "    }\n",
       "\n",
       "    .dataframe tbody tr th {\n",
       "        vertical-align: top;\n",
       "    }\n",
       "\n",
       "    .dataframe thead th {\n",
       "        text-align: right;\n",
       "    }\n",
       "</style>\n",
       "<table border=\"1\" class=\"dataframe\">\n",
       "  <thead>\n",
       "    <tr style=\"text-align: right;\">\n",
       "      <th></th>\n",
       "      <th>Model</th>\n",
       "      <th>Accuracy</th>\n",
       "      <th>Precision</th>\n",
       "      <th>Recall</th>\n",
       "      <th>F1 Score</th>\n",
       "    </tr>\n",
       "  </thead>\n",
       "  <tbody>\n",
       "    <tr>\n",
       "      <th>0</th>\n",
       "      <td>LR_RFE Model</td>\n",
       "      <td>0.894118</td>\n",
       "      <td>0.384615</td>\n",
       "      <td>0.833333</td>\n",
       "      <td>0.526316</td>\n",
       "    </tr>\n",
       "  </tbody>\n",
       "</table>\n",
       "</div>"
      ],
      "text/plain": [
       "          Model  Accuracy  Precision    Recall  F1 Score\n",
       "0  LR_RFE Model  0.894118   0.384615  0.833333  0.526316"
      ]
     },
     "execution_count": 320,
     "metadata": {},
     "output_type": "execute_result"
    }
   ],
   "source": [
    "acc_rfe = accuracy_score(y_test, y_pred_rfe)\n",
    "prec_rfe = precision_score(y_test, y_pred_rfe)\n",
    "rec_rfe = recall_score(y_test, y_pred_rfe)\n",
    "f1_rfe = f1_score(y_test, y_pred_rfe)\n",
    "\n",
    "results = pd.DataFrame([['LR_RFE Model', acc_rfe, prec_rfe, rec_rfe, f1_rfe]],\n",
    "               columns = ['Model', 'Accuracy', 'Precision', 'Recall', 'F1 Score'])\n",
    "# results = results.append(rfe_model, ignore_index = True)\n",
    "results"
   ]
  },
  {
   "cell_type": "code",
   "execution_count": 321,
   "metadata": {},
   "outputs": [
    {
     "data": {
      "text/plain": [
       "Index(['2P', 'TRB', 'PTS', 'spg_1', 'ppg_2', 'PER_2', 'MP_3', 'PTS_3', 'TS%_3',\n",
       "       'spg_3', 'PER_3', 'VORP_3'],\n",
       "      dtype='object')"
      ]
     },
     "execution_count": 321,
     "metadata": {},
     "output_type": "execute_result"
    }
   ],
   "source": [
    "rfe_rf = RFECV(estimator=RandomForestClassifier(random_state = 42))\n",
    "rfe_rf.fit(X_train_sc, y_train)\n",
    "X_train_sc.columns[rfe_selector.get_support()]"
   ]
  },
  {
   "cell_type": "code",
   "execution_count": 322,
   "metadata": {},
   "outputs": [],
   "source": [
    "selected_rfe = X_train_sc.columns[rfe_rf.support_]\n",
    "removed_rfe = X_train_sc.columns[~rfe_rf.support_]"
   ]
  },
  {
   "cell_type": "code",
   "execution_count": 369,
   "metadata": {},
   "outputs": [
    {
     "data": {
      "text/html": [
       "<div>\n",
       "<style scoped>\n",
       "    .dataframe tbody tr th:only-of-type {\n",
       "        vertical-align: middle;\n",
       "    }\n",
       "\n",
       "    .dataframe tbody tr th {\n",
       "        vertical-align: top;\n",
       "    }\n",
       "\n",
       "    .dataframe thead th {\n",
       "        text-align: right;\n",
       "    }\n",
       "</style>\n",
       "<table border=\"1\" class=\"dataframe\">\n",
       "  <thead>\n",
       "    <tr style=\"text-align: right;\">\n",
       "      <th></th>\n",
       "      <th>TRB</th>\n",
       "      <th>PTS</th>\n",
       "      <th>ppg_2</th>\n",
       "      <th>PER_2</th>\n",
       "      <th>MP_3</th>\n",
       "      <th>PTS_3</th>\n",
       "      <th>TS%_3</th>\n",
       "      <th>spg_3</th>\n",
       "      <th>PER_3</th>\n",
       "      <th>VORP_3</th>\n",
       "    </tr>\n",
       "  </thead>\n",
       "  <tbody>\n",
       "    <tr>\n",
       "      <th>TRB</th>\n",
       "      <td>1.000000</td>\n",
       "      <td>0.702601</td>\n",
       "      <td>0.626824</td>\n",
       "      <td>0.545663</td>\n",
       "      <td>0.647238</td>\n",
       "      <td>0.625867</td>\n",
       "      <td>0.310550</td>\n",
       "      <td>0.313820</td>\n",
       "      <td>0.517104</td>\n",
       "      <td>0.508001</td>\n",
       "    </tr>\n",
       "    <tr>\n",
       "      <th>PTS</th>\n",
       "      <td>0.702601</td>\n",
       "      <td>1.000000</td>\n",
       "      <td>0.934921</td>\n",
       "      <td>0.633662</td>\n",
       "      <td>0.796804</td>\n",
       "      <td>0.898308</td>\n",
       "      <td>0.314160</td>\n",
       "      <td>0.603171</td>\n",
       "      <td>0.609791</td>\n",
       "      <td>0.694026</td>\n",
       "    </tr>\n",
       "    <tr>\n",
       "      <th>ppg_2</th>\n",
       "      <td>0.626824</td>\n",
       "      <td>0.934921</td>\n",
       "      <td>1.000000</td>\n",
       "      <td>0.689106</td>\n",
       "      <td>0.659851</td>\n",
       "      <td>0.778592</td>\n",
       "      <td>0.229082</td>\n",
       "      <td>0.547472</td>\n",
       "      <td>0.534220</td>\n",
       "      <td>0.600544</td>\n",
       "    </tr>\n",
       "    <tr>\n",
       "      <th>PER_2</th>\n",
       "      <td>0.545663</td>\n",
       "      <td>0.633662</td>\n",
       "      <td>0.689106</td>\n",
       "      <td>1.000000</td>\n",
       "      <td>0.488120</td>\n",
       "      <td>0.571536</td>\n",
       "      <td>0.301426</td>\n",
       "      <td>0.415372</td>\n",
       "      <td>0.581705</td>\n",
       "      <td>0.566160</td>\n",
       "    </tr>\n",
       "    <tr>\n",
       "      <th>MP_3</th>\n",
       "      <td>0.647238</td>\n",
       "      <td>0.796804</td>\n",
       "      <td>0.659851</td>\n",
       "      <td>0.488120</td>\n",
       "      <td>1.000000</td>\n",
       "      <td>0.918940</td>\n",
       "      <td>0.401441</td>\n",
       "      <td>0.643711</td>\n",
       "      <td>0.553914</td>\n",
       "      <td>0.659984</td>\n",
       "    </tr>\n",
       "    <tr>\n",
       "      <th>PTS_3</th>\n",
       "      <td>0.625867</td>\n",
       "      <td>0.898308</td>\n",
       "      <td>0.778592</td>\n",
       "      <td>0.571536</td>\n",
       "      <td>0.918940</td>\n",
       "      <td>1.000000</td>\n",
       "      <td>0.399158</td>\n",
       "      <td>0.622068</td>\n",
       "      <td>0.664616</td>\n",
       "      <td>0.753422</td>\n",
       "    </tr>\n",
       "    <tr>\n",
       "      <th>TS%_3</th>\n",
       "      <td>0.310550</td>\n",
       "      <td>0.314160</td>\n",
       "      <td>0.229082</td>\n",
       "      <td>0.301426</td>\n",
       "      <td>0.401441</td>\n",
       "      <td>0.399158</td>\n",
       "      <td>1.000000</td>\n",
       "      <td>0.237658</td>\n",
       "      <td>0.630986</td>\n",
       "      <td>0.415196</td>\n",
       "    </tr>\n",
       "    <tr>\n",
       "      <th>spg_3</th>\n",
       "      <td>0.313820</td>\n",
       "      <td>0.603171</td>\n",
       "      <td>0.547472</td>\n",
       "      <td>0.415372</td>\n",
       "      <td>0.643711</td>\n",
       "      <td>0.622068</td>\n",
       "      <td>0.237658</td>\n",
       "      <td>1.000000</td>\n",
       "      <td>0.502415</td>\n",
       "      <td>0.657844</td>\n",
       "    </tr>\n",
       "    <tr>\n",
       "      <th>PER_3</th>\n",
       "      <td>0.517104</td>\n",
       "      <td>0.609791</td>\n",
       "      <td>0.534220</td>\n",
       "      <td>0.581705</td>\n",
       "      <td>0.553914</td>\n",
       "      <td>0.664616</td>\n",
       "      <td>0.630986</td>\n",
       "      <td>0.502415</td>\n",
       "      <td>1.000000</td>\n",
       "      <td>0.710580</td>\n",
       "    </tr>\n",
       "    <tr>\n",
       "      <th>VORP_3</th>\n",
       "      <td>0.508001</td>\n",
       "      <td>0.694026</td>\n",
       "      <td>0.600544</td>\n",
       "      <td>0.566160</td>\n",
       "      <td>0.659984</td>\n",
       "      <td>0.753422</td>\n",
       "      <td>0.415196</td>\n",
       "      <td>0.657844</td>\n",
       "      <td>0.710580</td>\n",
       "      <td>1.000000</td>\n",
       "    </tr>\n",
       "  </tbody>\n",
       "</table>\n",
       "</div>"
      ],
      "text/plain": [
       "             TRB       PTS     ppg_2     PER_2      MP_3     PTS_3     TS%_3  \\\n",
       "TRB     1.000000  0.702601  0.626824  0.545663  0.647238  0.625867  0.310550   \n",
       "PTS     0.702601  1.000000  0.934921  0.633662  0.796804  0.898308  0.314160   \n",
       "ppg_2   0.626824  0.934921  1.000000  0.689106  0.659851  0.778592  0.229082   \n",
       "PER_2   0.545663  0.633662  0.689106  1.000000  0.488120  0.571536  0.301426   \n",
       "MP_3    0.647238  0.796804  0.659851  0.488120  1.000000  0.918940  0.401441   \n",
       "PTS_3   0.625867  0.898308  0.778592  0.571536  0.918940  1.000000  0.399158   \n",
       "TS%_3   0.310550  0.314160  0.229082  0.301426  0.401441  0.399158  1.000000   \n",
       "spg_3   0.313820  0.603171  0.547472  0.415372  0.643711  0.622068  0.237658   \n",
       "PER_3   0.517104  0.609791  0.534220  0.581705  0.553914  0.664616  0.630986   \n",
       "VORP_3  0.508001  0.694026  0.600544  0.566160  0.659984  0.753422  0.415196   \n",
       "\n",
       "           spg_3     PER_3    VORP_3  \n",
       "TRB     0.313820  0.517104  0.508001  \n",
       "PTS     0.603171  0.609791  0.694026  \n",
       "ppg_2   0.547472  0.534220  0.600544  \n",
       "PER_2   0.415372  0.581705  0.566160  \n",
       "MP_3    0.643711  0.553914  0.659984  \n",
       "PTS_3   0.622068  0.664616  0.753422  \n",
       "TS%_3   0.237658  0.630986  0.415196  \n",
       "spg_3   1.000000  0.502415  0.657844  \n",
       "PER_3   0.502415  1.000000  0.710580  \n",
       "VORP_3  0.657844  0.710580  1.000000  "
      ]
     },
     "execution_count": 369,
     "metadata": {},
     "output_type": "execute_result"
    }
   ],
   "source": [
    "X_train[[ 'TRB', 'PTS', 'ppg_2', 'PER_2', 'MP_3', 'PTS_3', 'TS%_3',\n",
    "       'spg_3', 'PER_3', 'VORP_3']].corr()"
   ]
  },
  {
   "cell_type": "code",
   "execution_count": 370,
   "metadata": {},
   "outputs": [],
   "source": [
    "#instantiate a RF object\n",
    "rf_rfe = RandomForestClassifier(random_state = 42)\n",
    "\n",
    "#fit the linear regression to the data\n",
    "rf_rfe = rf_rfe.fit(X_train_sc[selected_rfe], y_train)\n",
    "\n",
    "#Use the model to predict on the training and test set\n",
    "y_rfe = rf_rfe.predict(X_train_sc[selected_rfe])"
   ]
  },
  {
   "cell_type": "code",
   "execution_count": 371,
   "metadata": {},
   "outputs": [],
   "source": [
    "y_train_pred_rfe = rf_rfe.predict(X_train_sc[selected_rfe])\n",
    "y_pred_rfe = rf_rfe.predict(X_test_sc[selected_rfe])"
   ]
  },
  {
   "cell_type": "code",
   "execution_count": 372,
   "metadata": {},
   "outputs": [
    {
     "data": {
      "text/html": [
       "<div>\n",
       "<style scoped>\n",
       "    .dataframe tbody tr th:only-of-type {\n",
       "        vertical-align: middle;\n",
       "    }\n",
       "\n",
       "    .dataframe tbody tr th {\n",
       "        vertical-align: top;\n",
       "    }\n",
       "\n",
       "    .dataframe thead th {\n",
       "        text-align: right;\n",
       "    }\n",
       "</style>\n",
       "<table border=\"1\" class=\"dataframe\">\n",
       "  <thead>\n",
       "    <tr style=\"text-align: right;\">\n",
       "      <th></th>\n",
       "      <th>Model</th>\n",
       "      <th>Accuracy</th>\n",
       "      <th>Precision</th>\n",
       "      <th>Recall</th>\n",
       "      <th>F1 Score</th>\n",
       "    </tr>\n",
       "  </thead>\n",
       "  <tbody>\n",
       "    <tr>\n",
       "      <th>0</th>\n",
       "      <td>LR_RFE Model</td>\n",
       "      <td>0.894118</td>\n",
       "      <td>0.384615</td>\n",
       "      <td>0.833333</td>\n",
       "      <td>0.526316</td>\n",
       "    </tr>\n",
       "    <tr>\n",
       "      <th>1</th>\n",
       "      <td>RF_RFE Model</td>\n",
       "      <td>0.941176</td>\n",
       "      <td>0.600000</td>\n",
       "      <td>0.500000</td>\n",
       "      <td>0.545455</td>\n",
       "    </tr>\n",
       "    <tr>\n",
       "      <th>2</th>\n",
       "      <td>RF_RFE Model</td>\n",
       "      <td>0.941176</td>\n",
       "      <td>0.600000</td>\n",
       "      <td>0.500000</td>\n",
       "      <td>0.545455</td>\n",
       "    </tr>\n",
       "  </tbody>\n",
       "</table>\n",
       "</div>"
      ],
      "text/plain": [
       "          Model  Accuracy  Precision    Recall  F1 Score\n",
       "0  LR_RFE Model  0.894118   0.384615  0.833333  0.526316\n",
       "1  RF_RFE Model  0.941176   0.600000  0.500000  0.545455\n",
       "2  RF_RFE Model  0.941176   0.600000  0.500000  0.545455"
      ]
     },
     "execution_count": 372,
     "metadata": {},
     "output_type": "execute_result"
    }
   ],
   "source": [
    "acc_rfe = accuracy_score(y_test, y_pred_rfe)\n",
    "prec_rfe = precision_score(y_test, y_pred_rfe)\n",
    "rec_rfe = recall_score(y_test, y_pred_rfe)\n",
    "f1_rfe = f1_score(y_test, y_pred_rfe)\n",
    "\n",
    "rf_rfe = pd.DataFrame([['RF_RFE Model', acc_rfe, prec_rfe, rec_rfe, f1_rfe]],\n",
    "               columns = ['Model', 'Accuracy', 'Precision', 'Recall', 'F1 Score'])\n",
    "results = results.append(rf_rfe, ignore_index = True)\n",
    "results"
   ]
  },
  {
   "cell_type": "markdown",
   "metadata": {},
   "source": [
    "#### ..."
   ]
  },
  {
   "cell_type": "code",
   "execution_count": 430,
   "metadata": {},
   "outputs": [],
   "source": [
    "#final columns based on recursive feature elimination\n",
    "final_cols = ['2P', 'TRB', 'PTS', 'spg_1', 'ppg_2', 'PER_2', 'MP_3', 'PTS_3', 'TS%_3',\n",
    "       'spg_3', 'PER_3', 'VORP_3']"
   ]
  },
  {
   "cell_type": "code",
   "execution_count": 431,
   "metadata": {},
   "outputs": [],
   "source": [
    "# create function to call for evaluation of each model\n",
    "\n",
    "def metrics_score(train_preds, y_train, test_preds, y_test):\n",
    "    print(f\"Training Accuracy:\\t{accuracy_score(y_train, train_preds):.4}\",\n",
    "          f\"\\tTesting Accuracy:\\t{accuracy_score(y_test, test_preds):.4}\")\n",
    "    print(f\"Training Precision:\\t{precision_score(y_train, train_preds):.4}\",\n",
    "          f\"\\tTesting Precision:\\t{precision_score(y_test, test_preds):.4}\")\n",
    "    print(f\"Training Recall:\\t{recall_score(y_train, train_preds):.4}\",\n",
    "          f\"\\tTesting Recall:\\t\\t{recall_score(y_test, test_preds):.4}\")\n",
    "    print(f\"Training F1:\\t\\t{f1_score(y_train, train_preds):.4}\",\n",
    "          f\"\\tTesting F1:\\t\\t{f1_score(y_test, test_preds):.4}\")"
   ]
  },
  {
   "cell_type": "markdown",
   "metadata": {},
   "source": [
    "#### Logistic Regression GS Model w/ RFE selected features"
   ]
  },
  {
   "cell_type": "code",
   "execution_count": 513,
   "metadata": {},
   "outputs": [],
   "source": [
    "ss = StandardScaler()\n",
    "train_scaled = ss.fit_transform(X_train[final_cols])\n",
    "test_scaled = ss.transform(X_test[final_cols])\n",
    "\n",
    "scorer = make_scorer(precision_score)"
   ]
  },
  {
   "cell_type": "code",
   "execution_count": 514,
   "metadata": {},
   "outputs": [],
   "source": [
    "C = np.logspace(0, 1, 10)\n",
    "\n",
    "params = dict(C=C, max_iter=[50, 100])\n",
    "\n",
    "logistic = LogisticRegression(penalty='l2', class_weight=weights, random_state=42)\n",
    "\n",
    "grid_search_LR = GridSearchCV(estimator = logistic,scoring=scorer, param_grid = params, \n",
    "                              cv = 3, n_jobs = -1, verbose = 2)"
   ]
  },
  {
   "cell_type": "code",
   "execution_count": 515,
   "metadata": {},
   "outputs": [
    {
     "name": "stdout",
     "output_type": "stream",
     "text": [
      "Fitting 3 folds for each of 20 candidates, totalling 60 fits\n"
     ]
    },
    {
     "name": "stderr",
     "output_type": "stream",
     "text": [
      "[Parallel(n_jobs=-1)]: Using backend LokyBackend with 4 concurrent workers.\n",
      "[Parallel(n_jobs=-1)]: Done  34 tasks      | elapsed:    4.2s\n",
      "[Parallel(n_jobs=-1)]: Done  60 out of  60 | elapsed:    4.5s finished\n"
     ]
    },
    {
     "data": {
      "text/plain": [
       "GridSearchCV(cv=3,\n",
       "             estimator=LogisticRegression(class_weight={0: 0.9999999410609073,\n",
       "                                                        1: 13.1388881144947},\n",
       "                                          random_state=42),\n",
       "             n_jobs=-1,\n",
       "             param_grid={'C': array([ 1.        ,  1.29154967,  1.66810054,  2.15443469,  2.7825594 ,\n",
       "        3.59381366,  4.64158883,  5.9948425 ,  7.74263683, 10.        ]),\n",
       "                         'max_iter': [50, 100]},\n",
       "             scoring=make_scorer(precision_score), verbose=2)"
      ]
     },
     "execution_count": 515,
     "metadata": {},
     "output_type": "execute_result"
    }
   ],
   "source": [
    "grid_search_LR.fit(train_scaled, y_train)"
   ]
  },
  {
   "cell_type": "code",
   "execution_count": 516,
   "metadata": {},
   "outputs": [
    {
     "name": "stdout",
     "output_type": "stream",
     "text": [
      "Training Accuracy:\t0.9008 \tTesting Accuracy:\t0.8941\n",
      "Training Precision:\t0.411 \tTesting Precision:\t0.3846\n",
      "Training Recall:\t0.9306 \tTesting Recall:\t\t0.8333\n",
      "Training F1:\t\t0.5702 \tTesting F1:\t\t0.5263\n"
     ]
    }
   ],
   "source": [
    "lr_train_preds = grid_search_LR.best_estimator_.predict(train_scaled)\n",
    "lr_test_preds = grid_search_LR.best_estimator_.predict(test_scaled)\n",
    "metrics_score(lr_train_preds, y_train, lr_test_preds, y_test)"
   ]
  },
  {
   "cell_type": "code",
   "execution_count": 517,
   "metadata": {},
   "outputs": [
    {
     "data": {
      "image/png": "[encoded data removed]",
      "text/plain": [
       "<Figure size 432x288 with 2 Axes>"
      ]
     },
     "metadata": {
      "needs_background": "light"
     },
     "output_type": "display_data"
    }
   ],
   "source": [
    "fig, ax = plt.subplots()\n",
    "\n",
    "fig.suptitle(\"Logistic Regression Model\")\n",
    "\n",
    "plot_confusion_matrix(grid_search_LR, test_scaled, y_test, ax=ax, cmap=\"YlGnBu\");"
   ]
  },
  {
   "cell_type": "markdown",
   "metadata": {},
   "source": [
    "##### w/ resampling"
   ]
  },
  {
   "cell_type": "code",
   "execution_count": 518,
   "metadata": {},
   "outputs": [
    {
     "name": "stdout",
     "output_type": "stream",
     "text": [
      "Fitting 3 folds for each of 20 candidates, totalling 60 fits\n"
     ]
    },
    {
     "name": "stderr",
     "output_type": "stream",
     "text": [
      "[Parallel(n_jobs=-1)]: Using backend LokyBackend with 4 concurrent workers.\n",
      "[Parallel(n_jobs=-1)]: Done  42 tasks      | elapsed:    3.3s\n",
      "[Parallel(n_jobs=-1)]: Done  60 out of  60 | elapsed:    3.5s finished\n",
      "/Users/ryanlewis/opt/anaconda3/envs/learn-env/lib/python3.8/site-packages/sklearn/linear_model/_logistic.py:762: ConvergenceWarning: lbfgs failed to converge (status=1):\n",
      "STOP: TOTAL NO. of ITERATIONS REACHED LIMIT.\n",
      "\n",
      "Increase the number of iterations (max_iter) or scale the data as shown in:\n",
      "    https://scikit-learn.org/stable/modules/preprocessing.html\n",
      "Please also refer to the documentation for alternative solver options:\n",
      "    https://scikit-learn.org/stable/modules/linear_model.html#logistic-regression\n",
      "  n_iter_i = _check_optimize_result(\n"
     ]
    },
    {
     "data": {
      "text/plain": [
       "GridSearchCV(cv=3,\n",
       "             estimator=LogisticRegression(class_weight={0: 0.9999999410609073,\n",
       "                                                        1: 13.1388881144947},\n",
       "                                          random_state=42),\n",
       "             n_jobs=-1,\n",
       "             param_grid={'C': array([ 1.        ,  1.29154967,  1.66810054,  2.15443469,  2.7825594 ,\n",
       "        3.59381366,  4.64158883,  5.9948425 ,  7.74263683, 10.        ]),\n",
       "                         'max_iter': [50, 100]},\n",
       "             scoring=make_scorer(precision_score), verbose=2)"
      ]
     },
     "execution_count": 518,
     "metadata": {},
     "output_type": "execute_result"
    }
   ],
   "source": [
    "sm = SMOTE(random_state = 42)\n",
    "X_train_res, y_train_res = sm.fit_sample(train_scaled, y_train.ravel())\n",
    "\n",
    "C = np.logspace(0, 1, 10)\n",
    "\n",
    "params = dict(C=C, max_iter=[50, 100])\n",
    "\n",
    "logistic = LogisticRegression(penalty='l2', class_weight=weights, random_state=42)\n",
    "\n",
    "grid_search_LR_sm = GridSearchCV(estimator = logistic,scoring=scorer, param_grid = params, \n",
    "                              cv = 3, n_jobs = -1, verbose = 2)\n",
    "grid_search_LR_sm.fit(X_train_res, y_train_res)"
   ]
  },
  {
   "cell_type": "code",
   "execution_count": 519,
   "metadata": {},
   "outputs": [
    {
     "name": "stdout",
     "output_type": "stream",
     "text": [
      "Training Accuracy:\t0.8705 \tTesting Accuracy:\t0.7412\n",
      "Training Precision:\t0.7978 \tTesting Precision:\t0.2\n",
      "Training Recall:\t0.9926 \tTesting Recall:\t\t0.8889\n",
      "Training F1:\t\t0.8846 \tTesting F1:\t\t0.3265\n"
     ]
    }
   ],
   "source": [
    "lr_train_preds_sm = grid_search_LR_sm.best_estimator_.predict(X_train_res)\n",
    "lr_test_preds_sm = grid_search_LR_sm.best_estimator_.predict(test_scaled)\n",
    "metrics_score(lr_train_preds_sm, y_train_res, lr_test_preds_sm, y_test)"
   ]
  },
  {
   "cell_type": "code",
   "execution_count": 520,
   "metadata": {},
   "outputs": [
    {
     "data": {
      "image/png": "[encoded data removed]",
      "text/plain": [
       "<Figure size 432x288 with 2 Axes>"
      ]
     },
     "metadata": {
      "needs_background": "light"
     },
     "output_type": "display_data"
    }
   ],
   "source": [
    "fig, ax = plt.subplots()\n",
    "\n",
    "fig.suptitle(\"Logistic Regression Model w/ SMOTE\")\n",
    "\n",
    "plot_confusion_matrix(grid_search_LR_sm, test_scaled, y_test, ax=ax, cmap=\"YlGnBu\");"
   ]
  },
  {
   "cell_type": "markdown",
   "metadata": {},
   "source": [
    "#### Random Forest GS Model w/ RFE Features"
   ]
  },
  {
   "cell_type": "code",
   "execution_count": 496,
   "metadata": {},
   "outputs": [],
   "source": [
    "weights_2 = {0: 1, 1: 20}"
   ]
  },
  {
   "cell_type": "code",
   "execution_count": 521,
   "metadata": {},
   "outputs": [],
   "source": [
    "params = { \n",
    "    'n_estimators': [10, 25, 50, 100, 200, 500],\n",
    "    'max_features': ['sqrt', 'auto', 'log2'],\n",
    "    'max_depth' : [2,4,6,8,10,12,15,20],\n",
    "    'criterion' :['gini', 'entropy'],\n",
    "    'class_weight' : [weights, weights_2, 'balanced', 'none']\n",
    "}\n",
    "\n",
    "rf = RandomForestClassifier(random_state = 42)\n",
    "\n",
    "grid_search_RF = GridSearchCV(estimator=rf, param_grid=params, scoring=scorer, \n",
    "                              cv = 3, n_jobs = -1, verbose = 2)"
   ]
  },
  {
   "cell_type": "code",
   "execution_count": 522,
   "metadata": {},
   "outputs": [
    {
     "name": "stdout",
     "output_type": "stream",
     "text": [
      "Fitting 3 folds for each of 1152 candidates, totalling 3456 fits\n"
     ]
    },
    {
     "name": "stderr",
     "output_type": "stream",
     "text": [
      "[Parallel(n_jobs=-1)]: Using backend LokyBackend with 4 concurrent workers.\n",
      "[Parallel(n_jobs=-1)]: Done  33 tasks      | elapsed:    4.1s\n",
      "[Parallel(n_jobs=-1)]: Done 154 tasks      | elapsed:   23.1s\n",
      "[Parallel(n_jobs=-1)]: Done 357 tasks      | elapsed:  1.0min\n",
      "[Parallel(n_jobs=-1)]: Done 640 tasks      | elapsed:  2.2min\n",
      "[Parallel(n_jobs=-1)]: Done 1005 tasks      | elapsed:  3.5min\n",
      "[Parallel(n_jobs=-1)]: Done 1450 tasks      | elapsed:  5.3min\n",
      "[Parallel(n_jobs=-1)]: Done 1977 tasks      | elapsed:  7.2min\n",
      "[Parallel(n_jobs=-1)]: Done 2584 tasks      | elapsed: 10.5min\n",
      "[Parallel(n_jobs=-1)]: Done 3456 out of 3456 | elapsed: 10.6min finished\n"
     ]
    },
    {
     "data": {
      "text/plain": [
       "GridSearchCV(cv=3, estimator=RandomForestClassifier(random_state=42), n_jobs=-1,\n",
       "             param_grid={'class_weight': [{0: 0.9999999410609073,\n",
       "                                           1: 13.1388881144947},\n",
       "                                          {0: 1, 1: 20}, 'balanced', 'none'],\n",
       "                         'criterion': ['gini', 'entropy'],\n",
       "                         'max_depth': [2, 4, 6, 8, 10, 12, 15, 20],\n",
       "                         'max_features': ['sqrt', 'auto', 'log2'],\n",
       "                         'n_estimators': [10, 25, 50, 100, 200, 500]},\n",
       "             scoring=make_scorer(precision_score), verbose=2)"
      ]
     },
     "execution_count": 522,
     "metadata": {},
     "output_type": "execute_result"
    }
   ],
   "source": [
    "grid_search_RF.fit(train_scaled, y_train)"
   ]
  },
  {
   "cell_type": "code",
   "execution_count": 523,
   "metadata": {},
   "outputs": [
    {
     "data": {
      "text/plain": [
       "{'class_weight': {0: 0.9999999410609073, 1: 13.1388881144947},\n",
       " 'criterion': 'entropy',\n",
       " 'max_depth': 12,\n",
       " 'max_features': 'sqrt',\n",
       " 'n_estimators': 10}"
      ]
     },
     "execution_count": 523,
     "metadata": {},
     "output_type": "execute_result"
    }
   ],
   "source": [
    "grid_search_RF.best_params_"
   ]
  },
  {
   "cell_type": "code",
   "execution_count": 524,
   "metadata": {},
   "outputs": [
    {
     "name": "stdout",
     "output_type": "stream",
     "text": [
      "Training Accuracy:\t0.9961 \tTesting Accuracy:\t0.9294\n",
      "Training Precision:\t0.9857 \tTesting Precision:\t0.5\n",
      "Training Recall:\t0.9583 \tTesting Recall:\t\t0.4444\n",
      "Training F1:\t\t0.9718 \tTesting F1:\t\t0.4706\n"
     ]
    }
   ],
   "source": [
    "rf_train_preds = grid_search_RF.best_estimator_.predict(train_scaled)\n",
    "rf_test_preds = grid_search_RF.best_estimator_.predict(test_scaled)\n",
    "metrics_score(rf_train_preds, y_train, rf_test_preds, y_test)"
   ]
  },
  {
   "cell_type": "code",
   "execution_count": 525,
   "metadata": {},
   "outputs": [
    {
     "name": "stdout",
     "output_type": "stream",
     "text": [
      "Feature: 0, Score: 0.03062\n",
      "Feature: 1, Score: 0.03238\n",
      "Feature: 2, Score: 0.19911\n",
      "Feature: 3, Score: 0.03404\n",
      "Feature: 4, Score: 0.10418\n",
      "Feature: 5, Score: 0.13113\n",
      "Feature: 6, Score: 0.02413\n",
      "Feature: 7, Score: 0.09974\n",
      "Feature: 8, Score: 0.04844\n",
      "Feature: 9, Score: 0.07746\n",
      "Feature: 10, Score: 0.09685\n",
      "Feature: 11, Score: 0.12191\n"
     ]
    },
    {
     "data": {
      "image/png": "[encoded data removed]",
      "text/plain": [
       "<Figure size 432x288 with 1 Axes>"
      ]
     },
     "metadata": {
      "needs_background": "light"
     },
     "output_type": "display_data"
    }
   ],
   "source": [
    "importance = grid_search_RF.best_estimator_.feature_importances_\n",
    "\n",
    "for i,v in enumerate(importance):\n",
    "\tprint('Feature: %0d, Score: %.5f' % (i,v))\n",
    "# plot feature importance\n",
    "plt.bar([x for x in range(len(importance))], importance)\n",
    "plt.xticks([0,1,2,3,4,5,6,7,8,9,10,11],['2P', 'TRB', 'PTS', 'spg_1', 'ppg_2', 'PER_2', 'MP_3', 'PTS_3', 'TS%_3',\n",
    "       'spg_3', 'PER_3', 'VORP_3'], rotation = 45)\n",
    "plt.title('Feature Importance')\n",
    "plt.show()\n",
    "# plt.savefig('feature_importance.png')"
   ]
  },
  {
   "cell_type": "code",
   "execution_count": 526,
   "metadata": {},
   "outputs": [
    {
     "data": {
      "image/png": "[encoded data removed]",
      "text/plain": [
       "<Figure size 432x288 with 2 Axes>"
      ]
     },
     "metadata": {
      "needs_background": "light"
     },
     "output_type": "display_data"
    }
   ],
   "source": [
    "fig, ax = plt.subplots()\n",
    "\n",
    "fig.suptitle(\"Random Forest Classifier Model\")\n",
    "\n",
    "plot_confusion_matrix(grid_search_RF, train_scaled, y_train, ax=ax, cmap=\"YlGnBu\");\n"
   ]
  },
  {
   "cell_type": "code",
   "execution_count": 527,
   "metadata": {},
   "outputs": [
    {
     "data": {
      "image/png": "[encoded data removed]",
      "text/plain": [
       "<Figure size 432x288 with 2 Axes>"
      ]
     },
     "metadata": {
      "needs_background": "light"
     },
     "output_type": "display_data"
    }
   ],
   "source": [
    "fig, ax = plt.subplots()\n",
    "\n",
    "fig.suptitle(\"Random Forest Classifier Model - TEST\")\n",
    "\n",
    "plot_confusion_matrix(grid_search_RF, test_scaled, y_test, ax=ax, cmap=\"YlGnBu\");\n",
    "fig.savefig('RF_CM')"
   ]
  },
  {
   "cell_type": "markdown",
   "metadata": {},
   "source": [
    "##### w/ SMOTE resampling"
   ]
  },
  {
   "cell_type": "code",
   "execution_count": 508,
   "metadata": {},
   "outputs": [
    {
     "name": "stdout",
     "output_type": "stream",
     "text": [
      "Fitting 5 folds for each of 864 candidates, totalling 4320 fits\n"
     ]
    },
    {
     "name": "stderr",
     "output_type": "stream",
     "text": [
      "[Parallel(n_jobs=-1)]: Using backend LokyBackend with 4 concurrent workers.\n",
      "[Parallel(n_jobs=-1)]: Done  58 tasks      | elapsed:    8.9s\n",
      "[Parallel(n_jobs=-1)]: Done 182 tasks      | elapsed:   50.1s\n",
      "[Parallel(n_jobs=-1)]: Done 385 tasks      | elapsed:  1.9min\n",
      "[Parallel(n_jobs=-1)]: Done 668 tasks      | elapsed:  3.8min\n",
      "[Parallel(n_jobs=-1)]: Done 1033 tasks      | elapsed:  5.7min\n",
      "[Parallel(n_jobs=-1)]: Done 1478 tasks      | elapsed:  8.8min\n",
      "[Parallel(n_jobs=-1)]: Done 2005 tasks      | elapsed: 11.4min\n",
      "[Parallel(n_jobs=-1)]: Done 2612 tasks      | elapsed: 14.9min\n",
      "[Parallel(n_jobs=-1)]: Done 3301 tasks      | elapsed: 19.2min\n",
      "[Parallel(n_jobs=-1)]: Done 4070 tasks      | elapsed: 24.0min\n",
      "[Parallel(n_jobs=-1)]: Done 4320 out of 4320 | elapsed: 25.8min finished\n"
     ]
    },
    {
     "data": {
      "text/plain": [
       "GridSearchCV(cv=5, estimator=RandomForestClassifier(random_state=42), n_jobs=-1,\n",
       "             param_grid={'class_weight': [{0: 0.9999999410609073,\n",
       "                                           1: 13.1388881144947},\n",
       "                                          {0: 1, 1: 20}, 'balanced'],\n",
       "                         'criterion': ['gini', 'entropy'],\n",
       "                         'max_depth': [2, 4, 6, 8, 10, 12, 15, 20],\n",
       "                         'max_features': ['sqrt', 'auto', 'log2'],\n",
       "                         'n_estimators': [10, 25, 50, 100, 200, 500]},\n",
       "             scoring=make_scorer(precision_score), verbose=2)"
      ]
     },
     "execution_count": 508,
     "metadata": {},
     "output_type": "execute_result"
    }
   ],
   "source": [
    "params = { \n",
    "    'n_estimators': [10, 25, 50, 100, 200, 500],\n",
    "    'max_features': ['sqrt', 'auto', 'log2'],\n",
    "    'max_depth' : [2,4,6,8,10,12,15,20],\n",
    "    'criterion' :['gini', 'entropy'],\n",
    "    'class_weight' : [weights, weights_2, 'balanced']\n",
    "}\n",
    "\n",
    "rf = RandomForestClassifier(random_state = 42)\n",
    "\n",
    "grid_search_RF_sm = GridSearchCV(estimator=rf, param_grid=params, scoring=scorer, \n",
    "                              cv = 5, n_jobs = -1, verbose = 2)\n",
    "\n",
    "grid_search_RF_sm.fit(X_train_res, y_train_res)"
   ]
  },
  {
   "cell_type": "code",
   "execution_count": 509,
   "metadata": {},
   "outputs": [
    {
     "data": {
      "text/plain": [
       "{'class_weight': {0: 1, 1: 20},\n",
       " 'criterion': 'entropy',\n",
       " 'max_depth': 20,\n",
       " 'max_features': 'sqrt',\n",
       " 'n_estimators': 10}"
      ]
     },
     "execution_count": 509,
     "metadata": {},
     "output_type": "execute_result"
    }
   ],
   "source": [
    "grid_search_RF_sm.best_params_"
   ]
  },
  {
   "cell_type": "code",
   "execution_count": 510,
   "metadata": {},
   "outputs": [
    {
     "name": "stdout",
     "output_type": "stream",
     "text": [
      "Training Accuracy:\t0.9984 \tTesting Accuracy:\t0.9216\n",
      "Training Precision:\t1.0 \tTesting Precision:\t0.4545\n",
      "Training Recall:\t0.9968 \tTesting Recall:\t\t0.5556\n",
      "Training F1:\t\t0.9984 \tTesting F1:\t\t0.5\n"
     ]
    }
   ],
   "source": [
    "rf_train_preds_sm = grid_search_RF_sm.best_estimator_.predict(X_train_res)\n",
    "rf_test_preds_sm = grid_search_RF_sm.best_estimator_.predict(test_scaled)\n",
    "metrics_score(rf_train_preds_sm, y_train_res, rf_test_preds_sm, y_test)"
   ]
  },
  {
   "cell_type": "code",
   "execution_count": 511,
   "metadata": {},
   "outputs": [
    {
     "data": {
      "image/png": "[encoded data removed]",
      "text/plain": [
       "<Figure size 432x288 with 2 Axes>"
      ]
     },
     "metadata": {
      "needs_background": "light"
     },
     "output_type": "display_data"
    }
   ],
   "source": [
    "fig, ax = plt.subplots()\n",
    "\n",
    "fig.suptitle(\"Random Forest Classifier Model w/ SMOTE\")\n",
    "\n",
    "plot_confusion_matrix(grid_search_RF_sm, test_scaled, y_test, ax=ax, cmap=\"YlGnBu\");"
   ]
  },
  {
   "cell_type": "markdown",
   "metadata": {},
   "source": [
    "#### Decision Tree GS w/ RFE "
   ]
  },
  {
   "cell_type": "code",
   "execution_count": 451,
   "metadata": {},
   "outputs": [],
   "source": [
    "criterion = ['gini', 'entropy']\n",
    "max_depth = [2,4,6,8,10,12]\n",
    "\n",
    "params = dict(criterion=['gini', 'entropy'],\n",
    "                max_depth=[2,4,6,8,10,12,15,20,25],\n",
    "                 splitter = ['best', 'random'],\n",
    "             )\n",
    "\n",
    "DT = tree.DecisionTreeClassifier(random_state = 42, class_weight = 'balanced')\n",
    "\n",
    "grid_search_DT = GridSearchCV(estimator=DT, param_grid=params, scoring=scorer, \n",
    "                              cv = 5, n_jobs = -1, verbose = 2)"
   ]
  },
  {
   "cell_type": "code",
   "execution_count": 452,
   "metadata": {},
   "outputs": [
    {
     "name": "stdout",
     "output_type": "stream",
     "text": [
      "Fitting 5 folds for each of 36 candidates, totalling 180 fits\n"
     ]
    },
    {
     "name": "stderr",
     "output_type": "stream",
     "text": [
      "[Parallel(n_jobs=-1)]: Using backend LokyBackend with 4 concurrent workers.\n",
      "[Parallel(n_jobs=-1)]: Done 128 tasks      | elapsed:    1.1s\n",
      "[Parallel(n_jobs=-1)]: Done 180 out of 180 | elapsed:    1.5s finished\n"
     ]
    },
    {
     "data": {
      "text/plain": [
       "GridSearchCV(cv=5,\n",
       "             estimator=DecisionTreeClassifier(class_weight='balanced',\n",
       "                                              random_state=42),\n",
       "             n_jobs=-1,\n",
       "             param_grid={'criterion': ['gini', 'entropy'],\n",
       "                         'max_depth': [2, 4, 6, 8, 10, 12, 15, 20, 25],\n",
       "                         'splitter': ['best', 'random']},\n",
       "             scoring=make_scorer(precision_score), verbose=2)"
      ]
     },
     "execution_count": 452,
     "metadata": {},
     "output_type": "execute_result"
    }
   ],
   "source": [
    "grid_search_DT.fit(train_scaled, y_train)"
   ]
  },
  {
   "cell_type": "code",
   "execution_count": 453,
   "metadata": {},
   "outputs": [
    {
     "data": {
      "text/plain": [
       "{'criterion': 'gini', 'max_depth': 12, 'splitter': 'best'}"
      ]
     },
     "execution_count": 453,
     "metadata": {},
     "output_type": "execute_result"
    }
   ],
   "source": [
    "grid_search_DT.best_params_"
   ]
  },
  {
   "cell_type": "code",
   "execution_count": 454,
   "metadata": {},
   "outputs": [
    {
     "name": "stdout",
     "output_type": "stream",
     "text": [
      "Training Accuracy:\t0.9833 \tTesting Accuracy:\t0.8941\n",
      "Training Precision:\t0.809 \tTesting Precision:\t0.3333\n",
      "Training Recall:\t1.0 \tTesting Recall:\t\t0.5\n",
      "Training F1:\t\t0.8944 \tTesting F1:\t\t0.4\n"
     ]
    }
   ],
   "source": [
    "dt_train_preds = grid_search_DT.best_estimator_.predict(train_scaled)\n",
    "dt_test_preds = grid_search_DT.best_estimator_.predict(test_scaled)\n",
    "metrics_score(dt_train_preds, y_train, dt_test_preds, y_test)"
   ]
  },
  {
   "cell_type": "code",
   "execution_count": 455,
   "metadata": {},
   "outputs": [
    {
     "data": {
      "image/png": "[encoded data removed]",
      "text/plain": [
       "<Figure size 432x288 with 2 Axes>"
      ]
     },
     "metadata": {
      "needs_background": "light"
     },
     "output_type": "display_data"
    }
   ],
   "source": [
    "fig, ax = plt.subplots()\n",
    "\n",
    "fig.suptitle(\"Decision Tree Classifier Model\")\n",
    "\n",
    "plot_confusion_matrix(grid_search_DT, test_scaled, y_test, ax=ax, cmap=\"YlGnBu\");"
   ]
  },
  {
   "cell_type": "markdown",
   "metadata": {},
   "source": [
    "##### w/ SMOTE"
   ]
  },
  {
   "cell_type": "code",
   "execution_count": 456,
   "metadata": {},
   "outputs": [
    {
     "name": "stdout",
     "output_type": "stream",
     "text": [
      "Fitting 5 folds for each of 36 candidates, totalling 180 fits\n"
     ]
    },
    {
     "name": "stderr",
     "output_type": "stream",
     "text": [
      "[Parallel(n_jobs=-1)]: Using backend LokyBackend with 4 concurrent workers.\n",
      "[Parallel(n_jobs=-1)]: Done  92 tasks      | elapsed:    1.1s\n",
      "[Parallel(n_jobs=-1)]: Done 173 out of 180 | elapsed:    1.9s remaining:    0.1s\n",
      "[Parallel(n_jobs=-1)]: Done 180 out of 180 | elapsed:    1.9s finished\n"
     ]
    },
    {
     "data": {
      "text/plain": [
       "GridSearchCV(cv=5,\n",
       "             estimator=DecisionTreeClassifier(class_weight='balanced',\n",
       "                                              random_state=42),\n",
       "             n_jobs=-1,\n",
       "             param_grid={'criterion': ['gini', 'entropy'],\n",
       "                         'max_depth': [2, 4, 6, 8, 10, 12, 15, 20, 25],\n",
       "                         'splitter': ['best', 'random']},\n",
       "             scoring=make_scorer(precision_score), verbose=2)"
      ]
     },
     "execution_count": 456,
     "metadata": {},
     "output_type": "execute_result"
    }
   ],
   "source": [
    "params = dict(criterion=['gini', 'entropy'],\n",
    "                max_depth=[2,4,6,8,10,12,15,20,25],\n",
    "                 splitter = ['best', 'random'],\n",
    "             )\n",
    "\n",
    "DT = tree.DecisionTreeClassifier(random_state = 42, class_weight = 'balanced')\n",
    "\n",
    "\n",
    "grid_search_DT_sm = GridSearchCV(estimator=DT, param_grid=params, scoring=scorer, \n",
    "                              cv = 5, n_jobs = -1, verbose = 2)\n",
    "\n",
    "grid_search_DT_sm.fit(X_train_res, y_train_res)"
   ]
  },
  {
   "cell_type": "code",
   "execution_count": 457,
   "metadata": {},
   "outputs": [
    {
     "data": {
      "text/plain": [
       "{'criterion': 'entropy', 'max_depth': 15, 'splitter': 'random'}"
      ]
     },
     "execution_count": 457,
     "metadata": {},
     "output_type": "execute_result"
    }
   ],
   "source": [
    "grid_search_DT_sm.best_params_"
   ]
  },
  {
   "cell_type": "code",
   "execution_count": 458,
   "metadata": {},
   "outputs": [
    {
     "name": "stdout",
     "output_type": "stream",
     "text": [
      "Training Accuracy:\t0.9958 \tTesting Accuracy:\t0.9098\n",
      "Training Precision:\t0.9979 \tTesting Precision:\t0.3913\n",
      "Training Recall:\t0.9937 \tTesting Recall:\t\t0.5\n",
      "Training F1:\t\t0.9958 \tTesting F1:\t\t0.439\n"
     ]
    }
   ],
   "source": [
    "dt_train_preds_sm = grid_search_DT_sm.best_estimator_.predict(X_train_res)\n",
    "dt_test_preds_sm = grid_search_DT_sm.best_estimator_.predict(test_scaled)\n",
    "metrics_score(dt_train_preds_sm, y_train_res, dt_test_preds_sm, y_test)"
   ]
  },
  {
   "cell_type": "code",
   "execution_count": 459,
   "metadata": {},
   "outputs": [
    {
     "data": {
      "image/png": "[encoded data removed]",
      "text/plain": [
       "<Figure size 432x288 with 2 Axes>"
      ]
     },
     "metadata": {
      "needs_background": "light"
     },
     "output_type": "display_data"
    }
   ],
   "source": [
    "fig, ax = plt.subplots()\n",
    "\n",
    "fig.suptitle(\"Decision Tree Classifier Model w/ SMOTE\")\n",
    "\n",
    "plot_confusion_matrix(grid_search_DT_sm, test_scaled, y_test, ax=ax, cmap=\"YlGnBu\");"
   ]
  },
  {
   "cell_type": "markdown",
   "metadata": {},
   "source": [
    "#### KNN GS w/ RFE Features"
   ]
  },
  {
   "cell_type": "code",
   "execution_count": 460,
   "metadata": {},
   "outputs": [],
   "source": [
    "knn = KNeighborsClassifier()\n",
    "params = {\n",
    "    'n_neighbors': [3,5,11,15,19],\n",
    "    'weights': ['uniform', 'distance'],\n",
    "    'metric': ['eucilidean', 'manhattan', 'minkowski']\n",
    "}\n",
    "\n",
    "grid_knn = GridSearchCV(knn, params, verbose = 1,\n",
    "                        cv = 3, n_jobs =-1)"
   ]
  },
  {
   "cell_type": "code",
   "execution_count": 461,
   "metadata": {},
   "outputs": [
    {
     "name": "stdout",
     "output_type": "stream",
     "text": [
      "Fitting 3 folds for each of 30 candidates, totalling 90 fits\n"
     ]
    },
    {
     "name": "stderr",
     "output_type": "stream",
     "text": [
      "[Parallel(n_jobs=-1)]: Using backend LokyBackend with 4 concurrent workers.\n",
      "[Parallel(n_jobs=-1)]: Done  90 out of  90 | elapsed:    1.1s finished\n"
     ]
    },
    {
     "data": {
      "text/plain": [
       "GridSearchCV(cv=3, estimator=KNeighborsClassifier(), n_jobs=-1,\n",
       "             param_grid={'metric': ['eucilidean', 'manhattan', 'minkowski'],\n",
       "                         'n_neighbors': [3, 5, 11, 15, 19],\n",
       "                         'weights': ['uniform', 'distance']},\n",
       "             verbose=1)"
      ]
     },
     "execution_count": 461,
     "metadata": {},
     "output_type": "execute_result"
    }
   ],
   "source": [
    "grid_knn.fit(train_scaled, y_train)"
   ]
  },
  {
   "cell_type": "code",
   "execution_count": 462,
   "metadata": {},
   "outputs": [
    {
     "data": {
      "text/plain": [
       "{'metric': 'minkowski', 'n_neighbors': 11, 'weights': 'uniform'}"
      ]
     },
     "execution_count": 462,
     "metadata": {},
     "output_type": "execute_result"
    }
   ],
   "source": [
    "grid_knn.best_params_"
   ]
  },
  {
   "cell_type": "code",
   "execution_count": 463,
   "metadata": {},
   "outputs": [
    {
     "name": "stdout",
     "output_type": "stream",
     "text": [
      "Training Accuracy:\t0.944 \tTesting Accuracy:\t0.9451\n",
      "Training Precision:\t0.7419 \tTesting Precision:\t0.7\n",
      "Training Recall:\t0.3194 \tTesting Recall:\t\t0.3889\n",
      "Training F1:\t\t0.4466 \tTesting F1:\t\t0.5\n"
     ]
    }
   ],
   "source": [
    "knn_train_preds = grid_knn.best_estimator_.predict(train_scaled)\n",
    "knn_test_preds = grid_knn.best_estimator_.predict(test_scaled)\n",
    "metrics_score(knn_train_preds, y_train, knn_test_preds, y_test)"
   ]
  },
  {
   "cell_type": "markdown",
   "metadata": {},
   "source": [
    "##### KNN w/ resampling"
   ]
  },
  {
   "cell_type": "code",
   "execution_count": 464,
   "metadata": {},
   "outputs": [
    {
     "name": "stdout",
     "output_type": "stream",
     "text": [
      "Fitting 3 folds for each of 30 candidates, totalling 90 fits\n"
     ]
    },
    {
     "name": "stderr",
     "output_type": "stream",
     "text": [
      "[Parallel(n_jobs=-1)]: Using backend LokyBackend with 4 concurrent workers.\n"
     ]
    },
    {
     "name": "stdout",
     "output_type": "stream",
     "text": [
      "{'metric': 'minkowski', 'n_neighbors': 3, 'weights': 'distance'}\n",
      "Training Accuracy:\t1.0 \tTesting Accuracy:\t0.8941\n",
      "Training Precision:\t1.0 \tTesting Precision:\t0.3714\n",
      "Training Recall:\t1.0 \tTesting Recall:\t\t0.7222\n",
      "Training F1:\t\t1.0 \tTesting F1:\t\t0.4906\n"
     ]
    },
    {
     "name": "stderr",
     "output_type": "stream",
     "text": [
      "[Parallel(n_jobs=-1)]: Done  90 out of  90 | elapsed:    2.0s finished\n"
     ]
    }
   ],
   "source": [
    "knn = KNeighborsClassifier()\n",
    "params = {\n",
    "    'n_neighbors': [3,5,11,15,19],\n",
    "    'weights': ['uniform', 'distance'],\n",
    "    'metric': ['eucilidean', 'manhattan', 'minkowski']\n",
    "}\n",
    "\n",
    "grid_knn_sm = GridSearchCV(knn, params, verbose = 1,\n",
    "                        cv = 3, n_jobs =-1)\n",
    "\n",
    "grid_knn_sm.fit(X_train_res, y_train_res)\n",
    "\n",
    "print(grid_knn_sm.best_params_)\n",
    "\n",
    "knn_train_preds_sm = grid_knn_sm.best_estimator_.predict(X_train_res)\n",
    "knn_test_preds_sm = grid_knn_sm.best_estimator_.predict(test_scaled)\n",
    "metrics_score(knn_train_preds_sm, y_train_res, knn_test_preds_sm, y_test)"
   ]
  },
  {
   "cell_type": "code",
   "execution_count": null,
   "metadata": {},
   "outputs": [],
   "source": []
  },
  {
   "cell_type": "code",
   "execution_count": 465,
   "metadata": {},
   "outputs": [],
   "source": [
    "model_candidates = [\n",
    "    \n",
    "    {'name':'Logistic Regression',\n",
    "     'accuracy score':accuracy_score(y_test, lr_test_preds),\n",
    "     'recall score' : recall_score(y_test, lr_test_preds),\n",
    "     'precision score' : precision_score(y_test,lr_test_preds),\n",
    "         'f1 score':metrics.f1_score(y_test, lr_test_preds)},\n",
    "    \n",
    "    {'name':'Logistic Regression w/ Resampling',\n",
    "     'accuracy score':accuracy_score(y_test, lr_test_preds_sm),\n",
    "     'recall score' : recall_score(y_test, lr_test_preds_sm),\n",
    "     'precision score' : precision_score(y_test,lr_test_preds_sm),\n",
    "     'f1 score':metrics.f1_score(y_test, lr_test_preds_sm)},\n",
    "    \n",
    "    {'name':'Random Forest',\n",
    "     'accuracy score':accuracy_score(y_test, rf_test_preds),\n",
    "     'recall score' : recall_score(y_test, rf_test_preds,),\n",
    "     'precision score' : precision_score(y_test,rf_test_preds),\n",
    "    'f1 score':metrics.f1_score(y_test, rf_test_preds)},\n",
    "    \n",
    "    {'name':'Random Forest w/ Resampling',\n",
    "     'accuracy score':accuracy_score(y_test, rf_test_preds_sm),\n",
    "     'recall score' : recall_score(y_test, rf_test_preds_sm),\n",
    "     'precision score' : precision_score(y_test,rf_test_preds_sm),\n",
    "     'f1 score':metrics.f1_score(y_test, dt_test_preds)},\n",
    "    \n",
    "    {'name':'Decision Tree',\n",
    "     'accuracy score':accuracy_score(y_test, dt_test_preds),\n",
    "     'recall score' : recall_score(y_test, dt_test_preds),\n",
    "     'precision score' : precision_score(y_test,dt_test_preds),\n",
    "     'f1 score':metrics.f1_score(y_test, dt_test_preds)},\n",
    "    \n",
    "    {'name':'Decision Tree w/ Resampling',\n",
    "     'accuracy score':accuracy_score(y_test, dt_test_preds_sm),\n",
    "     'recall score' : recall_score(y_test, dt_test_preds_sm),\n",
    "     'precision score' : precision_score(y_test,dt_test_preds_sm),\n",
    "     'f1 score':metrics.f1_score(y_test, dt_test_preds_sm)},\n",
    "    \n",
    "]"
   ]
  },
  {
   "cell_type": "code",
   "execution_count": 466,
   "metadata": {},
   "outputs": [
    {
     "data": {
      "text/html": [
       "<div>\n",
       "<style scoped>\n",
       "    .dataframe tbody tr th:only-of-type {\n",
       "        vertical-align: middle;\n",
       "    }\n",
       "\n",
       "    .dataframe tbody tr th {\n",
       "        vertical-align: top;\n",
       "    }\n",
       "\n",
       "    .dataframe thead th {\n",
       "        text-align: right;\n",
       "    }\n",
       "</style>\n",
       "<table border=\"1\" class=\"dataframe\">\n",
       "  <thead>\n",
       "    <tr style=\"text-align: right;\">\n",
       "      <th></th>\n",
       "      <th>accuracy score</th>\n",
       "      <th>recall score</th>\n",
       "      <th>precision score</th>\n",
       "      <th>f1 score</th>\n",
       "    </tr>\n",
       "    <tr>\n",
       "      <th>name</th>\n",
       "      <th></th>\n",
       "      <th></th>\n",
       "      <th></th>\n",
       "      <th></th>\n",
       "    </tr>\n",
       "  </thead>\n",
       "  <tbody>\n",
       "    <tr>\n",
       "      <th>Logistic Regression</th>\n",
       "      <td>0.894118</td>\n",
       "      <td>0.833333</td>\n",
       "      <td>0.384615</td>\n",
       "      <td>0.526316</td>\n",
       "    </tr>\n",
       "    <tr>\n",
       "      <th>Logistic Regression w/ Resampling</th>\n",
       "      <td>0.886275</td>\n",
       "      <td>0.777778</td>\n",
       "      <td>0.358974</td>\n",
       "      <td>0.491228</td>\n",
       "    </tr>\n",
       "    <tr>\n",
       "      <th>Random Forest</th>\n",
       "      <td>0.945098</td>\n",
       "      <td>0.333333</td>\n",
       "      <td>0.750000</td>\n",
       "      <td>0.461538</td>\n",
       "    </tr>\n",
       "    <tr>\n",
       "      <th>Random Forest w/ Resampling</th>\n",
       "      <td>0.925490</td>\n",
       "      <td>0.555556</td>\n",
       "      <td>0.476190</td>\n",
       "      <td>0.400000</td>\n",
       "    </tr>\n",
       "    <tr>\n",
       "      <th>Decision Tree</th>\n",
       "      <td>0.894118</td>\n",
       "      <td>0.500000</td>\n",
       "      <td>0.333333</td>\n",
       "      <td>0.400000</td>\n",
       "    </tr>\n",
       "    <tr>\n",
       "      <th>Decision Tree w/ Resampling</th>\n",
       "      <td>0.909804</td>\n",
       "      <td>0.500000</td>\n",
       "      <td>0.391304</td>\n",
       "      <td>0.439024</td>\n",
       "    </tr>\n",
       "  </tbody>\n",
       "</table>\n",
       "</div>"
      ],
      "text/plain": [
       "                                   accuracy score  recall score  \\\n",
       "name                                                              \n",
       "Logistic Regression                      0.894118      0.833333   \n",
       "Logistic Regression w/ Resampling        0.886275      0.777778   \n",
       "Random Forest                            0.945098      0.333333   \n",
       "Random Forest w/ Resampling              0.925490      0.555556   \n",
       "Decision Tree                            0.894118      0.500000   \n",
       "Decision Tree w/ Resampling              0.909804      0.500000   \n",
       "\n",
       "                                   precision score  f1 score  \n",
       "name                                                          \n",
       "Logistic Regression                       0.384615  0.526316  \n",
       "Logistic Regression w/ Resampling         0.358974  0.491228  \n",
       "Random Forest                             0.750000  0.461538  \n",
       "Random Forest w/ Resampling               0.476190  0.400000  \n",
       "Decision Tree                             0.333333  0.400000  \n",
       "Decision Tree w/ Resampling               0.391304  0.439024  "
      ]
     },
     "execution_count": 466,
     "metadata": {},
     "output_type": "execute_result"
    }
   ],
   "source": [
    "final_scores_df = pd.DataFrame(model_candidates).set_index('name')\n",
    "final_scores_df"
   ]
  },
  {
   "cell_type": "code",
   "execution_count": null,
   "metadata": {},
   "outputs": [],
   "source": []
  },
  {
   "cell_type": "markdown",
   "metadata": {},
   "source": [
    "### PCA"
   ]
  },
  {
   "cell_type": "code",
   "execution_count": 209,
   "metadata": {},
   "outputs": [],
   "source": [
    "pca = PCA(n_components= 3, random_state=42)\n",
    "\n",
    "pca_train = pca.fit_transform(X_train)\n",
    "pca_test = pca.transform(X_test)"
   ]
  },
  {
   "cell_type": "code",
   "execution_count": 210,
   "metadata": {},
   "outputs": [
    {
     "data": {
      "text/plain": [
       "3"
      ]
     },
     "execution_count": 210,
     "metadata": {},
     "output_type": "execute_result"
    }
   ],
   "source": [
    "pca.n_components_"
   ]
  },
  {
   "cell_type": "code",
   "execution_count": 212,
   "metadata": {},
   "outputs": [],
   "source": [
    "pca_result = pca.fit_transform(X_train)\n",
    "pca1 = pca_result[:,0]\n",
    "pca2 = pca_result[:,1] \n",
    "pca3 = pca_result[:,2] \n",
    "\n",
    "target = pd.Categorical(y_train).codes"
   ]
  },
  {
   "cell_type": "code",
   "execution_count": 213,
   "metadata": {},
   "outputs": [
    {
     "data": {
      "image/png": "[encoded data removed]",
      "text/plain": [
       "<Figure size 1368x504 with 1 Axes>"
      ]
     },
     "metadata": {
      "needs_background": "light"
     },
     "output_type": "display_data"
    }
   ],
   "source": [
    "fig = plt.figure(figsize=(19, 7))\n",
    "\n",
    "ax = fig.add_subplot(1, 2, 1, projection='3d')\n",
    "ax.set_title('PCA', fontsize=25, loc='left')\n",
    "ax.scatter(xs=pca1, \n",
    "           ys=pca2, \n",
    "           zs=pca3, \n",
    "           c=target,\n",
    "           alpha=.9,)\n",
    "\n",
    "ax.w_xaxis.line.set_color((1.0, 1.0, 1.0, 0.0))\n",
    "ax.w_yaxis.line.set_color((1.0, 1.0, 1.0, 0.0))\n",
    "ax.w_zaxis.line.set_color((1.0, 1.0, 1.0, 0.0))\n",
    "\n",
    "ax.xaxis.set_pane_color((1.0, 1.0, 1.0, 0.0))\n",
    "ax.yaxis.set_pane_color((1.0, 1.0, 1.0, 0.0))\n",
    "ax.zaxis.set_pane_color((1.0, 1.0, 1.0, 0.0))\n"
   ]
  },
  {
   "cell_type": "code",
   "execution_count": 97,
   "metadata": {},
   "outputs": [],
   "source": [
    "from sklearn.feature_extraction.text import TfidfVectorizer, CountVectorizer\n",
    "from sklearn.ensemble import RandomForestClassifier\n",
    "from sklearn.naive_bayes import MultinomialNB\n",
    "from sklearn import metrics\n",
    "from sklearn.metrics import roc_curve, auc, accuracy_score, precision_score, f1_score, recall_score, confusion_matrix, classification_report, make_scorer\n",
    "from sklearn.decomposition import PCA\n",
    "from sklearn import linear_model\n",
    "from sklearn.preprocessing import MinMaxScaler, StandardScaler\n",
    "from sklearn import tree \n",
    "from xgboost import XGBClassifier\n",
    "from lightgbm import LGBMRegressor, LGBMClassifier, Booster\n",
    "from sklearn.neighbors import KNeighborsClassifier\n",
    "from sklearn.multiclass import OneVsRestClassifier\n",
    "from sklearn.svm import SVC\n",
    "from sklearn.metrics import f1_score, confusion_matrix,\\\n",
    "recall_score, precision_score, accuracy_score, log_loss,\\\n",
    "roc_curve, roc_auc_score, classification_report,plot_confusion_matrix\n",
    "from sklearn.feature_selection import RFE, RFECV\n"
   ]
  },
  {
   "cell_type": "code",
   "execution_count": 98,
   "metadata": {
    "collapsed": true,
    "jupyter": {
     "outputs_hidden": true
    }
   },
   "outputs": [
    {
     "name": "stdout",
     "output_type": "stream",
     "text": [
      "Fitting estimator with 133 features.\n",
      "Fitting estimator with 132 features.\n",
      "Fitting estimator with 131 features.\n",
      "Fitting estimator with 130 features.\n",
      "Fitting estimator with 129 features.\n",
      "Fitting estimator with 128 features.\n",
      "Fitting estimator with 127 features.\n",
      "Fitting estimator with 126 features.\n",
      "Fitting estimator with 125 features.\n",
      "Fitting estimator with 124 features.\n",
      "Fitting estimator with 123 features.\n",
      "Fitting estimator with 122 features.\n",
      "Fitting estimator with 121 features.\n",
      "Fitting estimator with 120 features.\n",
      "Fitting estimator with 119 features.\n",
      "Fitting estimator with 118 features.\n",
      "Fitting estimator with 117 features.\n",
      "Fitting estimator with 116 features.\n",
      "Fitting estimator with 115 features.\n",
      "Fitting estimator with 114 features.\n",
      "Fitting estimator with 113 features.\n",
      "Fitting estimator with 112 features.\n",
      "Fitting estimator with 111 features.\n",
      "Fitting estimator with 110 features.\n",
      "Fitting estimator with 109 features.\n",
      "Fitting estimator with 108 features.\n",
      "Fitting estimator with 107 features.\n",
      "Fitting estimator with 106 features.\n",
      "Fitting estimator with 105 features.\n",
      "Fitting estimator with 104 features.\n",
      "Fitting estimator with 103 features.\n",
      "Fitting estimator with 102 features.\n",
      "Fitting estimator with 101 features.\n",
      "Fitting estimator with 100 features.\n",
      "Fitting estimator with 99 features.\n",
      "Fitting estimator with 98 features.\n",
      "Fitting estimator with 97 features.\n",
      "Fitting estimator with 96 features.\n",
      "Fitting estimator with 95 features.\n",
      "Fitting estimator with 94 features.\n",
      "Fitting estimator with 93 features.\n",
      "Fitting estimator with 92 features.\n",
      "Fitting estimator with 91 features.\n",
      "Fitting estimator with 90 features.\n",
      "Fitting estimator with 89 features.\n",
      "Fitting estimator with 88 features.\n",
      "Fitting estimator with 87 features.\n",
      "Fitting estimator with 86 features.\n",
      "Fitting estimator with 85 features.\n",
      "Fitting estimator with 84 features.\n",
      "Fitting estimator with 83 features.\n",
      "Fitting estimator with 82 features.\n",
      "Fitting estimator with 81 features.\n",
      "Fitting estimator with 80 features.\n",
      "Fitting estimator with 79 features.\n",
      "Fitting estimator with 78 features.\n",
      "Fitting estimator with 77 features.\n",
      "Fitting estimator with 76 features.\n",
      "Fitting estimator with 75 features.\n",
      "Fitting estimator with 74 features.\n",
      "Fitting estimator with 73 features.\n",
      "Fitting estimator with 72 features.\n",
      "Fitting estimator with 71 features.\n",
      "Fitting estimator with 70 features.\n",
      "Fitting estimator with 69 features.\n",
      "Fitting estimator with 68 features.\n",
      "Fitting estimator with 67 features.\n",
      "Fitting estimator with 66 features.\n",
      "Fitting estimator with 65 features.\n",
      "Fitting estimator with 64 features.\n",
      "Fitting estimator with 63 features.\n",
      "Fitting estimator with 62 features.\n",
      "Fitting estimator with 61 features.\n",
      "Fitting estimator with 60 features.\n",
      "Fitting estimator with 59 features.\n",
      "Fitting estimator with 58 features.\n",
      "Fitting estimator with 57 features.\n",
      "Fitting estimator with 56 features.\n",
      "Fitting estimator with 55 features.\n",
      "Fitting estimator with 54 features.\n",
      "Fitting estimator with 53 features.\n",
      "Fitting estimator with 52 features.\n",
      "Fitting estimator with 51 features.\n",
      "Fitting estimator with 50 features.\n",
      "Fitting estimator with 49 features.\n",
      "Fitting estimator with 48 features.\n",
      "Fitting estimator with 47 features.\n",
      "Fitting estimator with 46 features.\n",
      "Fitting estimator with 45 features.\n",
      "Fitting estimator with 44 features.\n",
      "Fitting estimator with 43 features.\n",
      "Fitting estimator with 42 features.\n",
      "Fitting estimator with 41 features.\n",
      "Fitting estimator with 40 features.\n",
      "Fitting estimator with 39 features.\n",
      "Fitting estimator with 38 features.\n",
      "Fitting estimator with 37 features.\n",
      "[ True False False False False False  True  True  True False False False\n",
      "  True False  True False False False False False False False False False\n",
      " False False False False False False False False False False False False\n",
      " False False False False False False False False False False False False\n",
      " False False False False False False  True False False False False False\n",
      " False False False  True  True  True  True False False False False False\n",
      " False False False  True False  True  True False False False  True False\n",
      " False False False False False  True False  True  True  True False False\n",
      "  True False False False False False  True False  True False  True False\n",
      " False  True False False False False False  True False  True  True False\n",
      "  True  True  True False False False  True  True  True  True False  True\n",
      "  True]\n",
      "[ 1 34 56 84 24 33  1  1  1  4 25 48  1 31  1 97 98 46 94 70 83 86 51 65\n",
      " 23 64 39 87 55 77 17 88 44 13 96  9 80 66 67  8 81 78 38 22 20 90 43 19\n",
      " 35 32 54 75 58 72  1 95 93 69 71 82 49 76 21  1  1  1  1 40 12 50 11 45\n",
      " 53 52 26  1  6  1  1 47 30  3  1 74 62 59 37  2  5  1 28  1  1  1 85 73\n",
      "  1 41 42 15  7 60  1 63  1 14  1 27 68  1 61 79 92 29 89  1 18  1  1 91\n",
      "  1  1  1 36 57 10  1  1  1  1 16  1  1]\n"
     ]
    }
   ],
   "source": [
    "RF = RandomForestClassifier(random_state = 42)\n",
    "rfe = RFECV(estimator = DT, step =1, cv = 3, scoring = 'recall', n_jobs = -1, verbose = 1)\n",
    "rfe = rfe.fit(X_train, y_train)\n",
    "# print summaries for the selection of attributes\n",
    "print(rfe.support_)\n",
    "print(rfe.ranking_)\n"
   ]
  },
  {
   "cell_type": "code",
   "execution_count": 102,
   "metadata": {},
   "outputs": [
    {
     "ename": "NameError",
     "evalue": "name 'rfe_features' is not defined",
     "output_type": "error",
     "traceback": [
      "\u001b[0;31m---------------------------------------------------------------------------\u001b[0m",
      "\u001b[0;31mNameError\u001b[0m                                 Traceback (most recent call last)",
      "\u001b[0;32m<ipython-input-102-87b55b3fe432>\u001b[0m in \u001b[0;36m<module>\u001b[0;34m\u001b[0m\n\u001b[0;32m----> 1\u001b[0;31m \u001b[0mselected_rfe\u001b[0m \u001b[0;34m=\u001b[0m \u001b[0mX_train\u001b[0m\u001b[0;34m[\u001b[0m\u001b[0mrfe_features\u001b[0m\u001b[0;34m]\u001b[0m\u001b[0;34m.\u001b[0m\u001b[0mcolumns\u001b[0m\u001b[0;34m[\u001b[0m\u001b[0mselector\u001b[0m\u001b[0;34m.\u001b[0m\u001b[0msupport_\u001b[0m\u001b[0;34m]\u001b[0m\u001b[0;34m\u001b[0m\u001b[0;34m\u001b[0m\u001b[0m\n\u001b[0m",
      "\u001b[0;31mNameError\u001b[0m: name 'rfe_features' is not defined"
     ]
    }
   ],
   "source": [
    "selected_rfe = X_train[rfe_features].columns[selector.support_]"
   ]
  },
  {
   "cell_type": "code",
   "execution_count": 100,
   "metadata": {},
   "outputs": [
    {
     "ename": "NotFittedError",
     "evalue": "This RandomForestClassifier instance is not fitted yet. Call 'fit' with appropriate arguments before using this estimator.",
     "output_type": "error",
     "traceback": [
      "\u001b[0;31m---------------------------------------------------------------------------\u001b[0m",
      "\u001b[0;31mNotFittedError\u001b[0m                            Traceback (most recent call last)",
      "\u001b[0;32m<ipython-input-100-84d7261afd68>\u001b[0m in \u001b[0;36m<module>\u001b[0;34m\u001b[0m\n\u001b[1;32m      1\u001b[0m feat_import = {name: score \n\u001b[1;32m      2\u001b[0m                    \u001b[0;32mfor\u001b[0m \u001b[0mname\u001b[0m\u001b[0;34m,\u001b[0m \u001b[0mscore\u001b[0m\u001b[0;34m\u001b[0m\u001b[0;34m\u001b[0m\u001b[0m\n\u001b[0;32m----> 3\u001b[0;31m                                in zip(X_test.columns, RF.feature_importances_)}\n\u001b[0m\u001b[1;32m      4\u001b[0m \u001b[0mfeat_import\u001b[0m\u001b[0;34m\u001b[0m\u001b[0;34m\u001b[0m\u001b[0m\n",
      "\u001b[0;32m~/opt/anaconda3/envs/learn-env/lib/python3.8/site-packages/sklearn/ensemble/_forest.py\u001b[0m in \u001b[0;36mfeature_importances_\u001b[0;34m(self)\u001b[0m\n\u001b[1;32m    442\u001b[0m             \u001b[0marray\u001b[0m \u001b[0mof\u001b[0m \u001b[0mzeros\u001b[0m\u001b[0;34m.\u001b[0m\u001b[0;34m\u001b[0m\u001b[0;34m\u001b[0m\u001b[0m\n\u001b[1;32m    443\u001b[0m         \"\"\"\n\u001b[0;32m--> 444\u001b[0;31m         \u001b[0mcheck_is_fitted\u001b[0m\u001b[0;34m(\u001b[0m\u001b[0mself\u001b[0m\u001b[0;34m)\u001b[0m\u001b[0;34m\u001b[0m\u001b[0;34m\u001b[0m\u001b[0m\n\u001b[0m\u001b[1;32m    445\u001b[0m \u001b[0;34m\u001b[0m\u001b[0m\n\u001b[1;32m    446\u001b[0m         all_importances = Parallel(n_jobs=self.n_jobs,\n",
      "\u001b[0;32m~/opt/anaconda3/envs/learn-env/lib/python3.8/site-packages/sklearn/utils/validation.py\u001b[0m in \u001b[0;36minner_f\u001b[0;34m(*args, **kwargs)\u001b[0m\n\u001b[1;32m     70\u001b[0m                           FutureWarning)\n\u001b[1;32m     71\u001b[0m         \u001b[0mkwargs\u001b[0m\u001b[0;34m.\u001b[0m\u001b[0mupdate\u001b[0m\u001b[0;34m(\u001b[0m\u001b[0;34m{\u001b[0m\u001b[0mk\u001b[0m\u001b[0;34m:\u001b[0m \u001b[0marg\u001b[0m \u001b[0;32mfor\u001b[0m \u001b[0mk\u001b[0m\u001b[0;34m,\u001b[0m \u001b[0marg\u001b[0m \u001b[0;32min\u001b[0m \u001b[0mzip\u001b[0m\u001b[0;34m(\u001b[0m\u001b[0msig\u001b[0m\u001b[0;34m.\u001b[0m\u001b[0mparameters\u001b[0m\u001b[0;34m,\u001b[0m \u001b[0margs\u001b[0m\u001b[0;34m)\u001b[0m\u001b[0;34m}\u001b[0m\u001b[0;34m)\u001b[0m\u001b[0;34m\u001b[0m\u001b[0;34m\u001b[0m\u001b[0m\n\u001b[0;32m---> 72\u001b[0;31m         \u001b[0;32mreturn\u001b[0m \u001b[0mf\u001b[0m\u001b[0;34m(\u001b[0m\u001b[0;34m**\u001b[0m\u001b[0mkwargs\u001b[0m\u001b[0;34m)\u001b[0m\u001b[0;34m\u001b[0m\u001b[0;34m\u001b[0m\u001b[0m\n\u001b[0m\u001b[1;32m     73\u001b[0m     \u001b[0;32mreturn\u001b[0m \u001b[0minner_f\u001b[0m\u001b[0;34m\u001b[0m\u001b[0;34m\u001b[0m\u001b[0m\n\u001b[1;32m     74\u001b[0m \u001b[0;34m\u001b[0m\u001b[0m\n",
      "\u001b[0;32m~/opt/anaconda3/envs/learn-env/lib/python3.8/site-packages/sklearn/utils/validation.py\u001b[0m in \u001b[0;36mcheck_is_fitted\u001b[0;34m(estimator, attributes, msg, all_or_any)\u001b[0m\n\u001b[1;32m   1017\u001b[0m \u001b[0;34m\u001b[0m\u001b[0m\n\u001b[1;32m   1018\u001b[0m     \u001b[0;32mif\u001b[0m \u001b[0;32mnot\u001b[0m \u001b[0mattrs\u001b[0m\u001b[0;34m:\u001b[0m\u001b[0;34m\u001b[0m\u001b[0;34m\u001b[0m\u001b[0m\n\u001b[0;32m-> 1019\u001b[0;31m         \u001b[0;32mraise\u001b[0m \u001b[0mNotFittedError\u001b[0m\u001b[0;34m(\u001b[0m\u001b[0mmsg\u001b[0m \u001b[0;34m%\u001b[0m \u001b[0;34m{\u001b[0m\u001b[0;34m'name'\u001b[0m\u001b[0;34m:\u001b[0m \u001b[0mtype\u001b[0m\u001b[0;34m(\u001b[0m\u001b[0mestimator\u001b[0m\u001b[0;34m)\u001b[0m\u001b[0;34m.\u001b[0m\u001b[0m__name__\u001b[0m\u001b[0;34m}\u001b[0m\u001b[0;34m)\u001b[0m\u001b[0;34m\u001b[0m\u001b[0;34m\u001b[0m\u001b[0m\n\u001b[0m\u001b[1;32m   1020\u001b[0m \u001b[0;34m\u001b[0m\u001b[0m\n\u001b[1;32m   1021\u001b[0m \u001b[0;34m\u001b[0m\u001b[0m\n",
      "\u001b[0;31mNotFittedError\u001b[0m: This RandomForestClassifier instance is not fitted yet. Call 'fit' with appropriate arguments before using this estimator."
     ]
    }
   ],
   "source": [
    "feat_import = {name: score \n",
    "                   for name, score \n",
    "                               in zip(X_test.columns, RF.feature_importances_)}\n",
    "feat_import"
   ]
  },
  {
   "cell_type": "code",
   "execution_count": 70,
   "metadata": {},
   "outputs": [],
   "source": [
    "# create function to call for evaluation of each model\n",
    "\n",
    "def metrics_score(train_preds, y_train, test_preds, y_test):\n",
    "    print(f\"Training Accuracy:\\t{accuracy_score(y_train, train_preds):.4}\",\n",
    "          f\"\\tTesting Accuracy:\\t{accuracy_score(y_test, test_preds):.4}\")\n",
    "    print(f\"Training Precision:\\t{precision_score(y_train, train_preds, average='weighted'):.4}\",\n",
    "          f\"\\tTesting Precision:\\t{precision_score(y_test, test_preds, average='weighted'):.4}\")\n",
    "    print(f\"Training Recall:\\t{recall_score(y_train, train_preds, average='weighted'):.4}\",\n",
    "          f\"\\tTesting Recall:\\t\\t{recall_score(y_test, test_preds, average='weighted'):.4}\")\n",
    "    print(f\"Training F1:\\t\\t{f1_score(y_train, train_preds, average='weighted'):.4}\",\n",
    "          f\"\\tTesting F1:\\t\\t{f1_score(y_test, test_preds, average='weighted'):.4}\")"
   ]
  },
  {
   "cell_type": "code",
   "execution_count": 101,
   "metadata": {},
   "outputs": [
    {
     "name": "stdout",
     "output_type": "stream",
     "text": [
      "Training Accuracy:\t1.0 \tTesting Accuracy:\t0.9412\n",
      "Training Precision:\t1.0 \tTesting Precision:\t0.9344\n",
      "Training Recall:\t1.0 \tTesting Recall:\t\t0.9412\n",
      "Training F1:\t\t1.0 \tTesting F1:\t\t0.9367\n"
     ]
    }
   ],
   "source": [
    "rf_train_preds = rfe.predict(X_train)\n",
    "rf_test_preds = rfe.predict(X_test)\n",
    "metrics_score(rf_train_preds, y_train, rf_test_preds, y_test)"
   ]
  },
  {
   "cell_type": "code",
   "execution_count": 68,
   "metadata": {},
   "outputs": [
    {
     "data": {
      "image/png": "[encoded data removed]",
      "text/plain": [
       "<Figure size 432x288 with 2 Axes>"
      ]
     },
     "metadata": {
      "needs_background": "light"
     },
     "output_type": "display_data"
    }
   ],
   "source": [
    "fig, ax = plt.subplots()\n",
    "\n",
    "fig.suptitle(\"RF RFE Model\")\n",
    "\n",
    "plot_confusion_matrix(rfe, X_test, y_test, ax=ax, cmap=\"YlGnBu\");"
   ]
  },
  {
   "cell_type": "code",
   "execution_count": 54,
   "metadata": {},
   "outputs": [
    {
     "data": {
      "text/plain": [
       "RandomForestClassifier(random_state=42)"
      ]
     },
     "execution_count": 54,
     "metadata": {},
     "output_type": "execute_result"
    }
   ],
   "source": [
    "RF2 = RandomForestClassifier(random_state = 42)\n",
    "RF2.fit(X_train, y_train)"
   ]
  },
  {
   "cell_type": "code",
   "execution_count": 55,
   "metadata": {},
   "outputs": [
    {
     "name": "stdout",
     "output_type": "stream",
     "text": [
      "Training Accuracy:\t1.0 \tTesting Accuracy:\t0.9373\n",
      "Training Precision:\t1.0 \tTesting Precision:\t0.9312\n",
      "Training Recall:\t1.0 \tTesting Recall:\t\t0.9373\n",
      "Training F1:\t\t1.0 \tTesting F1:\t\t0.9336\n"
     ]
    }
   ],
   "source": [
    "rf_train_preds = RF2.predict(X_train)\n",
    "rf_test_preds = RF2.predict(X_test)\n",
    "metrics_score(rf_train_preds, y_train, rf_test_preds, y_test)"
   ]
  },
  {
   "cell_type": "code",
   "execution_count": 81,
   "metadata": {},
   "outputs": [
    {
     "data": {
      "text/plain": [
       "KNeighborsClassifier(n_neighbors=7, weights='distance')"
      ]
     },
     "execution_count": 81,
     "metadata": {},
     "output_type": "execute_result"
    }
   ],
   "source": [
    "knn = KNeighborsClassifier(n_neighbors=7, weights = 'distance')\n",
    "knn.fit(X_train, y_train)"
   ]
  },
  {
   "cell_type": "code",
   "execution_count": 82,
   "metadata": {},
   "outputs": [
    {
     "data": {
      "text/plain": [
       "array([0.93137255, 0.92156863, 0.93137255, 0.9408867 , 0.93596059])"
      ]
     },
     "execution_count": 82,
     "metadata": {},
     "output_type": "execute_result"
    }
   ],
   "source": [
    "\n",
    "cross_val_score(knn, X_train, y_train, cv=5)"
   ]
  },
  {
   "cell_type": "code",
   "execution_count": 83,
   "metadata": {},
   "outputs": [
    {
     "name": "stdout",
     "output_type": "stream",
     "text": [
      "Training Accuracy:\t1.0 \tTesting Accuracy:\t0.949\n",
      "Training Precision:\t1.0 \tTesting Precision:\t0.9455\n",
      "Training Recall:\t1.0 \tTesting Recall:\t\t0.949\n",
      "Training F1:\t\t1.0 \tTesting F1:\t\t0.9469\n"
     ]
    }
   ],
   "source": [
    "knn_train_preds = knn.predict(X_train)\n",
    "knn_test_preds = knn.predict(X_test)\n",
    "metrics_score(rf_train_preds, y_train, rf_test_preds, y_test)"
   ]
  },
  {
   "cell_type": "code",
   "execution_count": 84,
   "metadata": {},
   "outputs": [
    {
     "data": {
      "text/plain": [
       "0.07069913589945012"
      ]
     },
     "execution_count": 84,
     "metadata": {},
     "output_type": "execute_result"
    }
   ],
   "source": [
    "df['target'].mean()"
   ]
  },
  {
   "cell_type": "code",
   "execution_count": 85,
   "metadata": {},
   "outputs": [
    {
     "data": {
      "image/png": "[encoded data removed]",
      "text/plain": [
       "<Figure size 432x288 with 2 Axes>"
      ]
     },
     "metadata": {
      "needs_background": "light"
     },
     "output_type": "display_data"
    }
   ],
   "source": [
    "fig, ax = plt.subplots()\n",
    "\n",
    "fig.suptitle(\"KNN Model\")\n",
    "\n",
    "plot_confusion_matrix(knn, X_test, y_test, ax=ax, cmap=\"YlGnBu\");"
   ]
  },
  {
   "cell_type": "code",
   "execution_count": null,
   "metadata": {},
   "outputs": [],
   "source": []
  }
 ],
 "metadata": {
  "kernelspec": {
   "display_name": "learn-env",
   "language": "python",
   "name": "learn-env"
  },
  "language_info": {
   "codemirror_mode": {
    "name": "ipython",
    "version": 3
   },
   "file_extension": ".py",
   "mimetype": "text/x-python",
   "name": "python",
   "nbconvert_exporter": "python",
   "pygments_lexer": "ipython3",
   "version": "3.8.5"
  }
 },
 "nbformat": 4,
 "nbformat_minor": 4
}
