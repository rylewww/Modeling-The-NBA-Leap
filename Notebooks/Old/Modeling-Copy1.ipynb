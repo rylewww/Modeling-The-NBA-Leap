{
 "cells": [
  {
   "cell_type": "code",
   "execution_count": 74,
   "metadata": {},
   "outputs": [],
   "source": [
    "import pandas as pd\n",
    "import matplotlib.pyplot as plt\n",
    "import numpy as np\n",
    "from matplotlib import pyplot\n",
    "from sklearn.model_selection import train_test_split, KFold, GridSearchCV,\\\n",
    "cross_val_score, RandomizedSearchCV\n",
    "from sklearn.decomposition import PCA\n",
    "from sklearn.feature_selection import RFE, RFECV\n",
    "from sklearn.linear_model import LogisticRegression\n",
    "from sklearn.preprocessing import StandardScaler, MinMaxScaler, OneHotEncoder\n",
    "from sklearn.metrics import f1_score, confusion_matrix, recall_score, precision_score, accuracy_score\n",
    "from sklearn.metrics import roc_curve, auc, accuracy_score, precision_score, f1_score, recall_score, confusion_matrix, classification_report, make_scorer\n",
    "from sklearn.ensemble import RandomForestClassifier\n",
    "from sklearn.metrics import confusion_matrix, plot_confusion_matrix\n",
    "from sklearn import tree \n",
    "from sklearn.neighbors import KNeighborsClassifier\n",
    "from imblearn.over_sampling import SMOTE\n",
    "from imblearn.under_sampling import TomekLinks\n",
    "from imblearn.combine import SMOTETomek"
   ]
  },
  {
   "cell_type": "code",
   "execution_count": 75,
   "metadata": {},
   "outputs": [],
   "source": [
    "df_final = pd.read_csv('Final_NBA_Seasons1-3_1977_final.csv', index_col = 0)\n",
    "df_final.set_index('Player', inplace = True)"
   ]
  },
  {
   "cell_type": "code",
   "execution_count": 168,
   "metadata": {
    "collapsed": true,
    "jupyter": {
     "outputs_hidden": true
    }
   },
   "outputs": [
    {
     "data": {
      "text/plain": [
       "['G',\n",
       " 'GS',\n",
       " 'MP',\n",
       " 'FG',\n",
       " 'FGA',\n",
       " '2P',\n",
       " '2PA',\n",
       " '3P',\n",
       " '3PA',\n",
       " 'FT',\n",
       " 'FTA',\n",
       " 'ORB',\n",
       " 'DRB',\n",
       " 'TRB',\n",
       " 'AST',\n",
       " 'STL',\n",
       " 'BLK',\n",
       " 'TOV',\n",
       " 'PF',\n",
       " 'PTS',\n",
       " 'season_count',\n",
       " 'roy',\n",
       " 'all_rookie_1',\n",
       " 'all_rookie_2',\n",
       " 'WS_1',\n",
       " 'G_1',\n",
       " 'GS_1',\n",
       " 'MP_1',\n",
       " 'FG_1',\n",
       " 'FGA_1',\n",
       " '2P_1',\n",
       " '2PA_1',\n",
       " '3P_1',\n",
       " '3PA_1',\n",
       " 'FT_1',\n",
       " 'FTA_1',\n",
       " 'ORB_1',\n",
       " 'DRB_1',\n",
       " 'TRB_1',\n",
       " 'AST_1',\n",
       " 'STL_1',\n",
       " 'BLK_1',\n",
       " 'TOV_1',\n",
       " 'PF_1',\n",
       " 'PTS_1',\n",
       " 'FG%_1',\n",
       " '2P%_1',\n",
       " '3P%_1',\n",
       " 'eFG%_1',\n",
       " 'FT%_1',\n",
       " 'TS%_1',\n",
       " 'ppg_1',\n",
       " 'apg_1',\n",
       " 'rpg_1',\n",
       " 'spg_1',\n",
       " 'bpg_1',\n",
       " 'tpg_1',\n",
       " 'ftpg_1',\n",
       " 'PER_1',\n",
       " '3PAr_1',\n",
       " 'FTr_1',\n",
       " 'ORB%_1',\n",
       " 'DRB%_1',\n",
       " 'TRB%_1',\n",
       " 'AST%_1',\n",
       " 'STL%_1',\n",
       " 'BLK%_1',\n",
       " 'TOV%_1',\n",
       " 'USG%_1',\n",
       " 'ORtg_1',\n",
       " 'DRtg_1',\n",
       " 'OWS_1',\n",
       " 'DWS_1',\n",
       " 'WS/48_1',\n",
       " 'OBPM_1',\n",
       " 'DBPM_1',\n",
       " 'BPM_1',\n",
       " 'VORP_1',\n",
       " 'WS_2',\n",
       " 'G_2',\n",
       " 'GS_2',\n",
       " 'MP_2',\n",
       " 'FG_2',\n",
       " 'FGA_2',\n",
       " '2P_2',\n",
       " '2PA_2',\n",
       " '3P_2',\n",
       " '3PA_2',\n",
       " 'FT_2',\n",
       " 'FTA_2',\n",
       " 'ORB_2',\n",
       " 'DRB_2',\n",
       " 'TRB_2',\n",
       " 'AST_2',\n",
       " 'STL_2',\n",
       " 'BLK_2',\n",
       " 'TOV_2',\n",
       " 'PF_2',\n",
       " 'PTS_2',\n",
       " 'FG%_2',\n",
       " '2P%_2',\n",
       " '3P%_2',\n",
       " 'eFG%_2',\n",
       " 'FT%_2',\n",
       " 'TS%_2',\n",
       " 'ppg_2',\n",
       " 'apg_2',\n",
       " 'rpg_2',\n",
       " 'spg_2',\n",
       " 'bpg_2',\n",
       " 'tpg_2',\n",
       " 'ftpg_2',\n",
       " 'PER_2',\n",
       " '3PAr_2',\n",
       " 'FTr_2',\n",
       " 'ORB%_2',\n",
       " 'DRB%_2',\n",
       " 'TRB%_2',\n",
       " 'AST%_2',\n",
       " 'STL%_2',\n",
       " 'BLK%_2',\n",
       " 'TOV%_2',\n",
       " 'USG%_2',\n",
       " 'ORtg_2',\n",
       " 'DRtg_2',\n",
       " 'OWS_2',\n",
       " 'DWS_2',\n",
       " 'WS/48_2',\n",
       " 'OBPM_2',\n",
       " 'DBPM_2',\n",
       " 'BPM_2',\n",
       " 'VORP_2',\n",
       " 'WS_3',\n",
       " 'G_3',\n",
       " 'GS_3',\n",
       " 'MP_3',\n",
       " 'FG_3',\n",
       " 'FGA_3',\n",
       " '2P_3',\n",
       " '2PA_3',\n",
       " '3P_3',\n",
       " '3PA_3',\n",
       " 'FT_3',\n",
       " 'FTA_3',\n",
       " 'ORB_3',\n",
       " 'DRB_3',\n",
       " 'TRB_3',\n",
       " 'AST_3',\n",
       " 'STL_3',\n",
       " 'BLK_3',\n",
       " 'TOV_3',\n",
       " 'PF_3',\n",
       " 'PTS_3',\n",
       " 'FG%_3',\n",
       " '2P%_3',\n",
       " '3P%_3',\n",
       " 'eFG%_3',\n",
       " 'FT%_3',\n",
       " 'TS%_3',\n",
       " 'ppg_3',\n",
       " 'apg_3',\n",
       " 'rpg_3',\n",
       " 'spg_3',\n",
       " 'bpg_3',\n",
       " 'tpg_3',\n",
       " 'ftpg_3',\n",
       " 'PER_3',\n",
       " '3PAr_3',\n",
       " 'FTr_3',\n",
       " 'ORB%_3',\n",
       " 'DRB%_3',\n",
       " 'TRB%_3',\n",
       " 'AST%_3',\n",
       " 'STL%_3',\n",
       " 'BLK%_3',\n",
       " 'TOV%_3',\n",
       " 'USG%_3',\n",
       " 'ORtg_3',\n",
       " 'DRtg_3',\n",
       " 'OWS_3',\n",
       " 'DWS_3',\n",
       " 'WS/48_3',\n",
       " 'OBPM_3',\n",
       " 'DBPM_3',\n",
       " 'BPM_3',\n",
       " 'VORP_3',\n",
       " 'G_1-2',\n",
       " 'G_2-3',\n",
       " 'GS_1-2',\n",
       " 'GS_2-3',\n",
       " 'MP_1-2',\n",
       " 'MP_2-3',\n",
       " 'PPG_1-2',\n",
       " 'PPG_2-3',\n",
       " 'APG_1-2',\n",
       " 'APG_2-3',\n",
       " 'RPG_1-2',\n",
       " 'RPG_2-3',\n",
       " 'SPG_1-2',\n",
       " 'SPG_2-3',\n",
       " 'BPG_1-2',\n",
       " 'BPG_2-3',\n",
       " 'WS_1-2',\n",
       " 'WS_2-3',\n",
       " 'OWS_1-2',\n",
       " 'OWS_2-3',\n",
       " 'DWS_1-2',\n",
       " 'DWS_2-3',\n",
       " 'PER_1-2',\n",
       " 'PER_2-3',\n",
       " 'USG_1-2',\n",
       " 'USG_2-3',\n",
       " 'VORP_1-2',\n",
       " 'VORP_2-3',\n",
       " 'target',\n",
       " 'Qualified',\n",
       " 'G_1-2%',\n",
       " 'G_2-3%',\n",
       " 'GS_1-2%',\n",
       " 'GS_2-3%',\n",
       " 'MP_1-2%',\n",
       " 'MP_2-3%',\n",
       " 'PPG_1-2%',\n",
       " 'PPG_2-3%',\n",
       " 'WS_1-2%',\n",
       " 'WS_2-3%',\n",
       " 'PER_1-2%',\n",
       " 'PER_2-3%',\n",
       " 'USG_1-2%',\n",
       " 'USG_2-3%',\n",
       " 'VORP_1-2%',\n",
       " 'VORP_2-3%']"
      ]
     },
     "execution_count": 168,
     "metadata": {},
     "output_type": "execute_result"
    }
   ],
   "source": [
    "list(df_final.columns)"
   ]
  },
  {
   "cell_type": "code",
   "execution_count": 77,
   "metadata": {},
   "outputs": [],
   "source": [
    "#creating features that multiple statistical totals by season over season difference\n",
    "df_final['G_1-2%'] = ((df_final['GS_2'] - df_final['GS_1'])/df_final['GS_1'])/100 #games played year 2 v 1 \n",
    "df_final['G_2-3%'] = ((df_final['GS_3'] - df_final['GS_2'])/df_final['GS_2'])/100 #games played year 3 v 2\n",
    "df_final['GS_1-2%'] = ((df_final['GS_2'] - df_final['GS_1'])/df_final['GS_1'])/100 #games started year 2 v 1 \n",
    "df_final['GS_2-3%'] = ((df_final['GS_3'] - df_final['GS_2'])/df_final['GS_2'])/100 #games started year 3 v 2\n",
    "df_final['MP_1-2%'] = ((df_final['MP_2'] - df_final['MP_1'])/df_final['MP_1'])/100 #minutes played 2 v 1 \n",
    "df_final['MP_2-3%'] = ((df_final['MP_3'] - df_final['MP_2'])/df_final['MP_2'])/100 #minutes played 3 v 2\n",
    "df_final['PPG_1-2%'] = ((df_final['ppg_2'] - df_final['ppg_1'])/df_final['ppg_1'])/100 #ppg 2 v 1 \n",
    "df_final['PPG_2-3%'] = ((df_final['ppg_3'] - df_final['ppg_2'])/df_final['ppg_2'])/100 #ppg 3 v 2\n",
    "# df_final['APG_1-2'] = df_final['apg_2'] - df_final['apg_1'] #apg 2 v 1 \n",
    "# df_final['APG_2-3'] = df_final['apg_3'] - df_final['apg_2'] #apg 3 v 2\n",
    "# df_final['RPG_1-2'] = df_final['rpg_2'] - df_final['rpg_1'] #rpg 2 v 1 \n",
    "# df_final['RPG_2-3'] = df_final['rpg_3'] - df_final['rpg_2'] #rpg 3 v 2\n",
    "# df_final['SPG_1-2'] = df_final['spg_2'] - df_final['spg_1'] #spg 2 v 1 \n",
    "# df_final['SPG_2-3'] = df_final['spg_3'] - df_final['spg_2'] #spg 3 v 2\n",
    "# df_final['BPG_1-2'] = df_final['bpg_2'] - df_final['bpg_1'] #bpg 2 v 1 \n",
    "# df_final['BPG_2-3'] = df_final['bpg_3'] - df_final['bpg_2'] #bpg 3 v 2\n",
    "df_final['WS_1-2%'] = ((df_final['WS_2'] - df_final['WS_1'])/df_final['WS_1'])/100 #wins shares season 2 v 1 \n",
    "df_final['WS_2-3%'] = ((df_final['WS_3'] - df_final['WS_2'])/df_final['WS_2'])/100 #wins shares season 3 v 2\n",
    "# df_final['OWS_1-2'] = df_final['OWS_2'] - df_final['OWS_1'] #offensive wins shares season 2 v 1 \n",
    "# df_final['OWS_2-3'] = df_final['OWS_3'] - df_final['OWS_2'] #offensive wins shares season 3 v 2\n",
    "# df_final['DWS_1-2'] = df_final['DWS_2'] - df_final['DWS_1'] #defensive wins shares season 2 v 1 \n",
    "# df_final['DWS_2-3'] = df_final['DWS_3'] - df_final['DWS_2'] #defensive wins shares season 3 v 2\n",
    "df_final['PER_1-2%'] = ((df_final['PER_2'] - df_final['PER_1'])/df_final['PER_1'])/100 #PER 2 v 1 \n",
    "df_final['PER_2-3%'] = ((df_final['PER_3'] - df_final['PER_2'])/df_final['PER_2'])/100 #PER 3 v 3 \n",
    "df_final['USG_1-2%'] = ((df_final['USG%_2'] - df_final['USG%_1'])/df_final['USG%_1'])/100 #USG% 2 v 1 \n",
    "df_final['USG_2-3%'] = ((df_final['USG%_3'] - df_final['USG%_2'])/df_final['USG%_2'])/100 #USG% 3 v 2 \n",
    "df_final['VORP_1-2%'] = ((df_final['VORP_2'] - df_final['VORP_1'])/df_final['VORP_1'])/100 #value over replacement player diff year 1 v 2 \n",
    "df_final['VORP_2-3%'] = ((df_final['VORP_3'] - df_final['VORP_2'])/df_final['VORP_2'])/100 #value over replacement player diff year 2 v 3"
   ]
  },
  {
   "cell_type": "code",
   "execution_count": 78,
   "metadata": {},
   "outputs": [
    {
     "data": {
      "text/html": [
       "<div>\n",
       "<style scoped>\n",
       "    .dataframe tbody tr th:only-of-type {\n",
       "        vertical-align: middle;\n",
       "    }\n",
       "\n",
       "    .dataframe tbody tr th {\n",
       "        vertical-align: top;\n",
       "    }\n",
       "\n",
       "    .dataframe thead th {\n",
       "        text-align: right;\n",
       "    }\n",
       "</style>\n",
       "<table border=\"1\" class=\"dataframe\">\n",
       "  <thead>\n",
       "    <tr style=\"text-align: right;\">\n",
       "      <th></th>\n",
       "      <th>G</th>\n",
       "      <th>GS</th>\n",
       "      <th>MP</th>\n",
       "      <th>FG</th>\n",
       "      <th>FGA</th>\n",
       "      <th>2P</th>\n",
       "      <th>2PA</th>\n",
       "      <th>3P</th>\n",
       "      <th>3PA</th>\n",
       "      <th>FT</th>\n",
       "      <th>...</th>\n",
       "      <th>PPG_1-2%</th>\n",
       "      <th>PPG_2-3%</th>\n",
       "      <th>WS_1-2%</th>\n",
       "      <th>WS_2-3%</th>\n",
       "      <th>PER_1-2%</th>\n",
       "      <th>PER_2-3%</th>\n",
       "      <th>USG_1-2%</th>\n",
       "      <th>USG_2-3%</th>\n",
       "      <th>VORP_1-2%</th>\n",
       "      <th>VORP_2-3%</th>\n",
       "    </tr>\n",
       "    <tr>\n",
       "      <th>Player</th>\n",
       "      <th></th>\n",
       "      <th></th>\n",
       "      <th></th>\n",
       "      <th></th>\n",
       "      <th></th>\n",
       "      <th></th>\n",
       "      <th></th>\n",
       "      <th></th>\n",
       "      <th></th>\n",
       "      <th></th>\n",
       "      <th></th>\n",
       "      <th></th>\n",
       "      <th></th>\n",
       "      <th></th>\n",
       "      <th></th>\n",
       "      <th></th>\n",
       "      <th></th>\n",
       "      <th></th>\n",
       "      <th></th>\n",
       "      <th></th>\n",
       "      <th></th>\n",
       "    </tr>\n",
       "  </thead>\n",
       "  <tbody>\n",
       "    <tr>\n",
       "      <th>A.C. Green\\greenac01</th>\n",
       "      <td>243</td>\n",
       "      <td>137.0</td>\n",
       "      <td>6418.0</td>\n",
       "      <td>847</td>\n",
       "      <td>1615</td>\n",
       "      <td>846</td>\n",
       "      <td>1602</td>\n",
       "      <td>1.0</td>\n",
       "      <td>13.0</td>\n",
       "      <td>615</td>\n",
       "      <td>...</td>\n",
       "      <td>0.006974</td>\n",
       "      <td>0.000595</td>\n",
       "      <td>0.013030</td>\n",
       "      <td>0.000395</td>\n",
       "      <td>0.003305</td>\n",
       "      <td>-0.000764</td>\n",
       "      <td>0.000000</td>\n",
       "      <td>0.000000</td>\n",
       "      <td>0.075000</td>\n",
       "      <td>-0.001176</td>\n",
       "    </tr>\n",
       "    <tr>\n",
       "      <th>A.J. Price\\priceaj01</th>\n",
       "      <td>150</td>\n",
       "      <td>3.0</td>\n",
       "      <td>2228.0</td>\n",
       "      <td>318</td>\n",
       "      <td>848</td>\n",
       "      <td>191</td>\n",
       "      <td>437</td>\n",
       "      <td>127.0</td>\n",
       "      <td>411.0</td>\n",
       "      <td>142</td>\n",
       "      <td>...</td>\n",
       "      <td>-0.001177</td>\n",
       "      <td>-0.003949</td>\n",
       "      <td>-0.007500</td>\n",
       "      <td>0.013333</td>\n",
       "      <td>-0.002357</td>\n",
       "      <td>0.000748</td>\n",
       "      <td>0.000000</td>\n",
       "      <td>-0.002203</td>\n",
       "      <td>-0.016667</td>\n",
       "      <td>-0.015000</td>\n",
       "    </tr>\n",
       "    <tr>\n",
       "      <th>Aaron Brooks\\brookaa01</th>\n",
       "      <td>213</td>\n",
       "      <td>117.0</td>\n",
       "      <td>5525.0</td>\n",
       "      <td>984</td>\n",
       "      <td>2339</td>\n",
       "      <td>626</td>\n",
       "      <td>1396</td>\n",
       "      <td>358.0</td>\n",
       "      <td>943.0</td>\n",
       "      <td>436</td>\n",
       "      <td>...</td>\n",
       "      <td>0.011588</td>\n",
       "      <td>0.007504</td>\n",
       "      <td>0.015714</td>\n",
       "      <td>0.005278</td>\n",
       "      <td>-0.000153</td>\n",
       "      <td>0.002403</td>\n",
       "      <td>0.000505</td>\n",
       "      <td>0.001223</td>\n",
       "      <td>0.010000</td>\n",
       "      <td>0.021667</td>\n",
       "    </tr>\n",
       "    <tr>\n",
       "      <th>Aaron Gordon\\gordoaa01</th>\n",
       "      <td>205</td>\n",
       "      <td>117.0</td>\n",
       "      <td>4958.0</td>\n",
       "      <td>760</td>\n",
       "      <td>1652</td>\n",
       "      <td>628</td>\n",
       "      <td>1195</td>\n",
       "      <td>132.0</td>\n",
       "      <td>457.0</td>\n",
       "      <td>329</td>\n",
       "      <td>...</td>\n",
       "      <td>0.007829</td>\n",
       "      <td>0.003818</td>\n",
       "      <td>0.044000</td>\n",
       "      <td>-0.003148</td>\n",
       "      <td>0.004912</td>\n",
       "      <td>-0.001471</td>\n",
       "      <td>0.001161</td>\n",
       "      <td>0.001618</td>\n",
       "      <td>-0.080000</td>\n",
       "      <td>-0.005714</td>\n",
       "    </tr>\n",
       "    <tr>\n",
       "      <th>Aaron Gray\\grayaa01</th>\n",
       "      <td>149</td>\n",
       "      <td>19.0</td>\n",
       "      <td>1639.0</td>\n",
       "      <td>226</td>\n",
       "      <td>453</td>\n",
       "      <td>226</td>\n",
       "      <td>451</td>\n",
       "      <td>0.0</td>\n",
       "      <td>2.0</td>\n",
       "      <td>110</td>\n",
       "      <td>...</td>\n",
       "      <td>-0.001851</td>\n",
       "      <td>-0.000714</td>\n",
       "      <td>0.006250</td>\n",
       "      <td>-0.003077</td>\n",
       "      <td>-0.001727</td>\n",
       "      <td>0.004435</td>\n",
       "      <td>-0.003409</td>\n",
       "      <td>0.001310</td>\n",
       "      <td>-0.000000</td>\n",
       "      <td>-0.015000</td>\n",
       "    </tr>\n",
       "  </tbody>\n",
       "</table>\n",
       "<p>5 rows × 232 columns</p>\n",
       "</div>"
      ],
      "text/plain": [
       "                          G     GS      MP   FG   FGA   2P   2PA     3P  \\\n",
       "Player                                                                    \n",
       "A.C. Green\\greenac01    243  137.0  6418.0  847  1615  846  1602    1.0   \n",
       "A.J. Price\\priceaj01    150    3.0  2228.0  318   848  191   437  127.0   \n",
       "Aaron Brooks\\brookaa01  213  117.0  5525.0  984  2339  626  1396  358.0   \n",
       "Aaron Gordon\\gordoaa01  205  117.0  4958.0  760  1652  628  1195  132.0   \n",
       "Aaron Gray\\grayaa01     149   19.0  1639.0  226   453  226   451    0.0   \n",
       "\n",
       "                          3PA   FT  ...  PPG_1-2%  PPG_2-3%   WS_1-2%  \\\n",
       "Player                              ...                                 \n",
       "A.C. Green\\greenac01     13.0  615  ...  0.006974  0.000595  0.013030   \n",
       "A.J. Price\\priceaj01    411.0  142  ... -0.001177 -0.003949 -0.007500   \n",
       "Aaron Brooks\\brookaa01  943.0  436  ...  0.011588  0.007504  0.015714   \n",
       "Aaron Gordon\\gordoaa01  457.0  329  ...  0.007829  0.003818  0.044000   \n",
       "Aaron Gray\\grayaa01       2.0  110  ... -0.001851 -0.000714  0.006250   \n",
       "\n",
       "                         WS_2-3%  PER_1-2%  PER_2-3%  USG_1-2%  USG_2-3%  \\\n",
       "Player                                                                     \n",
       "A.C. Green\\greenac01    0.000395  0.003305 -0.000764  0.000000  0.000000   \n",
       "A.J. Price\\priceaj01    0.013333 -0.002357  0.000748  0.000000 -0.002203   \n",
       "Aaron Brooks\\brookaa01  0.005278 -0.000153  0.002403  0.000505  0.001223   \n",
       "Aaron Gordon\\gordoaa01 -0.003148  0.004912 -0.001471  0.001161  0.001618   \n",
       "Aaron Gray\\grayaa01    -0.003077 -0.001727  0.004435 -0.003409  0.001310   \n",
       "\n",
       "                        VORP_1-2%  VORP_2-3%  \n",
       "Player                                        \n",
       "A.C. Green\\greenac01     0.075000  -0.001176  \n",
       "A.J. Price\\priceaj01    -0.016667  -0.015000  \n",
       "Aaron Brooks\\brookaa01   0.010000   0.021667  \n",
       "Aaron Gordon\\gordoaa01  -0.080000  -0.005714  \n",
       "Aaron Gray\\grayaa01     -0.000000  -0.015000  \n",
       "\n",
       "[5 rows x 232 columns]"
      ]
     },
     "execution_count": 78,
     "metadata": {},
     "output_type": "execute_result"
    }
   ],
   "source": [
    "df_final.head()"
   ]
  },
  {
   "cell_type": "code",
   "execution_count": 79,
   "metadata": {},
   "outputs": [],
   "source": [
    "cols = ['MP','FG','2P','FT','TRB','AST','STL','TOV','PTS','roy','all_rookie_1','all_rookie_2','WS_1','GS_1','MP_1','PTS_1','ppg_1','apg_1','rpg_1','spg_1','bpg_1',\n",
    "        'tpg_1','ftpg_1','PER_1','WS/48_1','VORP_1','WS_2','GS_2','MP_2','ppg_2','apg_2','rpg_2','spg_2','bpg_2','tpg_2','ftpg_2','PER_2','USG%_2',\n",
    "        'ORtg_2','DRtg_2','OWS_2','DWS_2','WS/48_2','VORP_2','WS_3','GS_3','MP_3','PTS_3','TS%_3','ppg_3','apg_3','rpg_3','spg_3','bpg_3','tpg_3','ftpg_3','PER_3','USG%_3',\n",
    "        'ORtg_3','DRtg_3','OWS_3','DWS_3','WS/48_3','VORP_3','target',]\n",
    "\n",
    "df = df_final[cols]"
   ]
  },
  {
   "cell_type": "code",
   "execution_count": 80,
   "metadata": {},
   "outputs": [
    {
     "data": {
      "text/html": [
       "<div>\n",
       "<style scoped>\n",
       "    .dataframe tbody tr th:only-of-type {\n",
       "        vertical-align: middle;\n",
       "    }\n",
       "\n",
       "    .dataframe tbody tr th {\n",
       "        vertical-align: top;\n",
       "    }\n",
       "\n",
       "    .dataframe thead th {\n",
       "        text-align: right;\n",
       "    }\n",
       "</style>\n",
       "<table border=\"1\" class=\"dataframe\">\n",
       "  <thead>\n",
       "    <tr style=\"text-align: right;\">\n",
       "      <th></th>\n",
       "      <th>MP</th>\n",
       "      <th>FG</th>\n",
       "      <th>2P</th>\n",
       "      <th>FT</th>\n",
       "      <th>TRB</th>\n",
       "      <th>AST</th>\n",
       "      <th>STL</th>\n",
       "      <th>TOV</th>\n",
       "      <th>PTS</th>\n",
       "      <th>roy</th>\n",
       "      <th>...</th>\n",
       "      <th>ftpg_3</th>\n",
       "      <th>PER_3</th>\n",
       "      <th>USG%_3</th>\n",
       "      <th>ORtg_3</th>\n",
       "      <th>DRtg_3</th>\n",
       "      <th>OWS_3</th>\n",
       "      <th>DWS_3</th>\n",
       "      <th>WS/48_3</th>\n",
       "      <th>VORP_3</th>\n",
       "      <th>target</th>\n",
       "    </tr>\n",
       "    <tr>\n",
       "      <th>Player</th>\n",
       "      <th></th>\n",
       "      <th></th>\n",
       "      <th></th>\n",
       "      <th></th>\n",
       "      <th></th>\n",
       "      <th></th>\n",
       "      <th></th>\n",
       "      <th></th>\n",
       "      <th></th>\n",
       "      <th></th>\n",
       "      <th></th>\n",
       "      <th></th>\n",
       "      <th></th>\n",
       "      <th></th>\n",
       "      <th></th>\n",
       "      <th></th>\n",
       "      <th></th>\n",
       "      <th></th>\n",
       "      <th></th>\n",
       "      <th></th>\n",
       "      <th></th>\n",
       "    </tr>\n",
       "  </thead>\n",
       "  <tbody>\n",
       "    <tr>\n",
       "      <th>A.C. Green\\greenac01</th>\n",
       "      <td>6418.0</td>\n",
       "      <td>847</td>\n",
       "      <td>846</td>\n",
       "      <td>615</td>\n",
       "      <td>1706.0</td>\n",
       "      <td>231</td>\n",
       "      <td>206.0</td>\n",
       "      <td>321.0</td>\n",
       "      <td>2310</td>\n",
       "      <td>0.0</td>\n",
       "      <td>...</td>\n",
       "      <td>3.573171</td>\n",
       "      <td>14.5</td>\n",
       "      <td>14.7</td>\n",
       "      <td>119.0</td>\n",
       "      <td>106.0</td>\n",
       "      <td>4.5</td>\n",
       "      <td>3.4</td>\n",
       "      <td>0.144</td>\n",
       "      <td>1.5</td>\n",
       "      <td>0</td>\n",
       "    </tr>\n",
       "    <tr>\n",
       "      <th>A.J. Price\\priceaj01</th>\n",
       "      <td>2228.0</td>\n",
       "      <td>318</td>\n",
       "      <td>191</td>\n",
       "      <td>142</td>\n",
       "      <td>221.0</td>\n",
       "      <td>303</td>\n",
       "      <td>84.0</td>\n",
       "      <td>144.0</td>\n",
       "      <td>905</td>\n",
       "      <td>0.0</td>\n",
       "      <td>...</td>\n",
       "      <td>0.636364</td>\n",
       "      <td>11.5</td>\n",
       "      <td>17.7</td>\n",
       "      <td>100.0</td>\n",
       "      <td>106.0</td>\n",
       "      <td>0.2</td>\n",
       "      <td>0.5</td>\n",
       "      <td>0.063</td>\n",
       "      <td>0.1</td>\n",
       "      <td>0</td>\n",
       "    </tr>\n",
       "    <tr>\n",
       "      <th>Aaron Brooks\\brookaa01</th>\n",
       "      <td>5525.0</td>\n",
       "      <td>984</td>\n",
       "      <td>626</td>\n",
       "      <td>436</td>\n",
       "      <td>428.0</td>\n",
       "      <td>759</td>\n",
       "      <td>128.0</td>\n",
       "      <td>401.0</td>\n",
       "      <td>2762</td>\n",
       "      <td>0.0</td>\n",
       "      <td>...</td>\n",
       "      <td>2.987805</td>\n",
       "      <td>16.0</td>\n",
       "      <td>25.7</td>\n",
       "      <td>108.0</td>\n",
       "      <td>112.0</td>\n",
       "      <td>3.9</td>\n",
       "      <td>1.6</td>\n",
       "      <td>0.091</td>\n",
       "      <td>1.9</td>\n",
       "      <td>0</td>\n",
       "    </tr>\n",
       "    <tr>\n",
       "      <th>Aaron Gordon\\gordoaa01</th>\n",
       "      <td>4958.0</td>\n",
       "      <td>760</td>\n",
       "      <td>628</td>\n",
       "      <td>329</td>\n",
       "      <td>1081.0</td>\n",
       "      <td>311</td>\n",
       "      <td>145.0</td>\n",
       "      <td>193.0</td>\n",
       "      <td>1981</td>\n",
       "      <td>0.0</td>\n",
       "      <td>...</td>\n",
       "      <td>1.950000</td>\n",
       "      <td>14.5</td>\n",
       "      <td>20.1</td>\n",
       "      <td>107.0</td>\n",
       "      <td>111.0</td>\n",
       "      <td>2.0</td>\n",
       "      <td>1.7</td>\n",
       "      <td>0.077</td>\n",
       "      <td>0.6</td>\n",
       "      <td>0</td>\n",
       "    </tr>\n",
       "    <tr>\n",
       "      <th>Aaron Gray\\grayaa01</th>\n",
       "      <td>1639.0</td>\n",
       "      <td>226</td>\n",
       "      <td>226</td>\n",
       "      <td>110</td>\n",
       "      <td>494.0</td>\n",
       "      <td>109</td>\n",
       "      <td>44.0</td>\n",
       "      <td>115.0</td>\n",
       "      <td>562</td>\n",
       "      <td>0.0</td>\n",
       "      <td>...</td>\n",
       "      <td>0.625000</td>\n",
       "      <td>16.6</td>\n",
       "      <td>16.4</td>\n",
       "      <td>115.0</td>\n",
       "      <td>106.0</td>\n",
       "      <td>0.5</td>\n",
       "      <td>0.4</td>\n",
       "      <td>0.142</td>\n",
       "      <td>0.1</td>\n",
       "      <td>0</td>\n",
       "    </tr>\n",
       "  </tbody>\n",
       "</table>\n",
       "<p>5 rows × 65 columns</p>\n",
       "</div>"
      ],
      "text/plain": [
       "                            MP   FG   2P   FT     TRB  AST    STL    TOV  \\\n",
       "Player                                                                     \n",
       "A.C. Green\\greenac01    6418.0  847  846  615  1706.0  231  206.0  321.0   \n",
       "A.J. Price\\priceaj01    2228.0  318  191  142   221.0  303   84.0  144.0   \n",
       "Aaron Brooks\\brookaa01  5525.0  984  626  436   428.0  759  128.0  401.0   \n",
       "Aaron Gordon\\gordoaa01  4958.0  760  628  329  1081.0  311  145.0  193.0   \n",
       "Aaron Gray\\grayaa01     1639.0  226  226  110   494.0  109   44.0  115.0   \n",
       "\n",
       "                         PTS  roy  ...    ftpg_3  PER_3  USG%_3  ORtg_3  \\\n",
       "Player                             ...                                    \n",
       "A.C. Green\\greenac01    2310  0.0  ...  3.573171   14.5    14.7   119.0   \n",
       "A.J. Price\\priceaj01     905  0.0  ...  0.636364   11.5    17.7   100.0   \n",
       "Aaron Brooks\\brookaa01  2762  0.0  ...  2.987805   16.0    25.7   108.0   \n",
       "Aaron Gordon\\gordoaa01  1981  0.0  ...  1.950000   14.5    20.1   107.0   \n",
       "Aaron Gray\\grayaa01      562  0.0  ...  0.625000   16.6    16.4   115.0   \n",
       "\n",
       "                        DRtg_3  OWS_3  DWS_3  WS/48_3  VORP_3  target  \n",
       "Player                                                                 \n",
       "A.C. Green\\greenac01     106.0    4.5    3.4    0.144     1.5       0  \n",
       "A.J. Price\\priceaj01     106.0    0.2    0.5    0.063     0.1       0  \n",
       "Aaron Brooks\\brookaa01   112.0    3.9    1.6    0.091     1.9       0  \n",
       "Aaron Gordon\\gordoaa01   111.0    2.0    1.7    0.077     0.6       0  \n",
       "Aaron Gray\\grayaa01      106.0    0.5    0.4    0.142     0.1       0  \n",
       "\n",
       "[5 rows x 65 columns]"
      ]
     },
     "execution_count": 80,
     "metadata": {},
     "output_type": "execute_result"
    }
   ],
   "source": [
    "df = df.fillna(0)\n",
    "df.head()"
   ]
  },
  {
   "cell_type": "code",
   "execution_count": 161,
   "metadata": {},
   "outputs": [
    {
     "data": {
      "text/html": [
       "<div>\n",
       "<style scoped>\n",
       "    .dataframe tbody tr th:only-of-type {\n",
       "        vertical-align: middle;\n",
       "    }\n",
       "\n",
       "    .dataframe tbody tr th {\n",
       "        vertical-align: top;\n",
       "    }\n",
       "\n",
       "    .dataframe thead th {\n",
       "        text-align: right;\n",
       "    }\n",
       "</style>\n",
       "<table border=\"1\" class=\"dataframe\">\n",
       "  <thead>\n",
       "    <tr style=\"text-align: right;\">\n",
       "      <th></th>\n",
       "      <th>MP</th>\n",
       "      <th>FG</th>\n",
       "      <th>2P</th>\n",
       "      <th>FT</th>\n",
       "      <th>TRB</th>\n",
       "      <th>AST</th>\n",
       "      <th>STL</th>\n",
       "      <th>TOV</th>\n",
       "      <th>PTS</th>\n",
       "      <th>roy</th>\n",
       "      <th>...</th>\n",
       "      <th>ftpg_3</th>\n",
       "      <th>PER_3</th>\n",
       "      <th>USG%_3</th>\n",
       "      <th>ORtg_3</th>\n",
       "      <th>DRtg_3</th>\n",
       "      <th>OWS_3</th>\n",
       "      <th>DWS_3</th>\n",
       "      <th>WS/48_3</th>\n",
       "      <th>VORP_3</th>\n",
       "      <th>target</th>\n",
       "    </tr>\n",
       "    <tr>\n",
       "      <th>Player</th>\n",
       "      <th></th>\n",
       "      <th></th>\n",
       "      <th></th>\n",
       "      <th></th>\n",
       "      <th></th>\n",
       "      <th></th>\n",
       "      <th></th>\n",
       "      <th></th>\n",
       "      <th></th>\n",
       "      <th></th>\n",
       "      <th></th>\n",
       "      <th></th>\n",
       "      <th></th>\n",
       "      <th></th>\n",
       "      <th></th>\n",
       "      <th></th>\n",
       "      <th></th>\n",
       "      <th></th>\n",
       "      <th></th>\n",
       "      <th></th>\n",
       "      <th></th>\n",
       "    </tr>\n",
       "  </thead>\n",
       "  <tbody>\n",
       "    <tr>\n",
       "      <th>DeAndre Liggins\\liggide01</th>\n",
       "      <td>406.0</td>\n",
       "      <td>34</td>\n",
       "      <td>27</td>\n",
       "      <td>18</td>\n",
       "      <td>69.0</td>\n",
       "      <td>20</td>\n",
       "      <td>24.0</td>\n",
       "      <td>24.0</td>\n",
       "      <td>93</td>\n",
       "      <td>0.0</td>\n",
       "      <td>...</td>\n",
       "      <td>0.000000</td>\n",
       "      <td>129.1</td>\n",
       "      <td>47.8</td>\n",
       "      <td>205.0</td>\n",
       "      <td>116.0</td>\n",
       "      <td>0.0</td>\n",
       "      <td>0.0</td>\n",
       "      <td>2.123</td>\n",
       "      <td>0.0</td>\n",
       "      <td>0</td>\n",
       "    </tr>\n",
       "    <tr>\n",
       "      <th>Ben Davis\\davisbe01</th>\n",
       "      <td>132.0</td>\n",
       "      <td>19</td>\n",
       "      <td>19</td>\n",
       "      <td>12</td>\n",
       "      <td>44.0</td>\n",
       "      <td>3</td>\n",
       "      <td>5.0</td>\n",
       "      <td>4.0</td>\n",
       "      <td>50</td>\n",
       "      <td>0.0</td>\n",
       "      <td>...</td>\n",
       "      <td>0.375000</td>\n",
       "      <td>34.4</td>\n",
       "      <td>47.2</td>\n",
       "      <td>107.0</td>\n",
       "      <td>103.0</td>\n",
       "      <td>0.1</td>\n",
       "      <td>0.0</td>\n",
       "      <td>0.238</td>\n",
       "      <td>0.0</td>\n",
       "      <td>0</td>\n",
       "    </tr>\n",
       "    <tr>\n",
       "      <th>Anthony Davis\\davisan02</th>\n",
       "      <td>6659.0</td>\n",
       "      <td>1513</td>\n",
       "      <td>1510</td>\n",
       "      <td>888</td>\n",
       "      <td>1891.0</td>\n",
       "      <td>317</td>\n",
       "      <td>264.0</td>\n",
       "      <td>293.0</td>\n",
       "      <td>3917</td>\n",
       "      <td>0.0</td>\n",
       "      <td>...</td>\n",
       "      <td>5.455882</td>\n",
       "      <td>30.8</td>\n",
       "      <td>27.8</td>\n",
       "      <td>122.0</td>\n",
       "      <td>100.0</td>\n",
       "      <td>9.9</td>\n",
       "      <td>4.2</td>\n",
       "      <td>0.274</td>\n",
       "      <td>6.7</td>\n",
       "      <td>1</td>\n",
       "    </tr>\n",
       "    <tr>\n",
       "      <th>Michael Jordan\\jordami01</th>\n",
       "      <td>6876.0</td>\n",
       "      <td>2085</td>\n",
       "      <td>2061</td>\n",
       "      <td>1568</td>\n",
       "      <td>1028.0</td>\n",
       "      <td>911</td>\n",
       "      <td>469.0</td>\n",
       "      <td>608.0</td>\n",
       "      <td>5762</td>\n",
       "      <td>1.0</td>\n",
       "      <td>...</td>\n",
       "      <td>10.158537</td>\n",
       "      <td>29.8</td>\n",
       "      <td>38.3</td>\n",
       "      <td>117.0</td>\n",
       "      <td>104.0</td>\n",
       "      <td>11.9</td>\n",
       "      <td>5.0</td>\n",
       "      <td>0.247</td>\n",
       "      <td>10.6</td>\n",
       "      <td>1</td>\n",
       "    </tr>\n",
       "    <tr>\n",
       "      <th>Shaquille O'Neal\\onealsh01</th>\n",
       "      <td>9218.0</td>\n",
       "      <td>2616</td>\n",
       "      <td>2616</td>\n",
       "      <td>1353</td>\n",
       "      <td>3095.0</td>\n",
       "      <td>561</td>\n",
       "      <td>209.0</td>\n",
       "      <td>733.0</td>\n",
       "      <td>6585</td>\n",
       "      <td>1.0</td>\n",
       "      <td>...</td>\n",
       "      <td>5.759494</td>\n",
       "      <td>28.6</td>\n",
       "      <td>31.9</td>\n",
       "      <td>118.0</td>\n",
       "      <td>104.0</td>\n",
       "      <td>9.6</td>\n",
       "      <td>4.4</td>\n",
       "      <td>0.230</td>\n",
       "      <td>5.7</td>\n",
       "      <td>1</td>\n",
       "    </tr>\n",
       "    <tr>\n",
       "      <th>...</th>\n",
       "      <td>...</td>\n",
       "      <td>...</td>\n",
       "      <td>...</td>\n",
       "      <td>...</td>\n",
       "      <td>...</td>\n",
       "      <td>...</td>\n",
       "      <td>...</td>\n",
       "      <td>...</td>\n",
       "      <td>...</td>\n",
       "      <td>...</td>\n",
       "      <td>...</td>\n",
       "      <td>...</td>\n",
       "      <td>...</td>\n",
       "      <td>...</td>\n",
       "      <td>...</td>\n",
       "      <td>...</td>\n",
       "      <td>...</td>\n",
       "      <td>...</td>\n",
       "      <td>...</td>\n",
       "      <td>...</td>\n",
       "      <td>...</td>\n",
       "    </tr>\n",
       "    <tr>\n",
       "      <th>Damone Brown\\brownda02</th>\n",
       "      <td>199.0</td>\n",
       "      <td>20</td>\n",
       "      <td>20</td>\n",
       "      <td>14</td>\n",
       "      <td>24.0</td>\n",
       "      <td>5</td>\n",
       "      <td>4.0</td>\n",
       "      <td>16.0</td>\n",
       "      <td>54</td>\n",
       "      <td>0.0</td>\n",
       "      <td>...</td>\n",
       "      <td>0.333333</td>\n",
       "      <td>-4.3</td>\n",
       "      <td>32.8</td>\n",
       "      <td>45.0</td>\n",
       "      <td>90.0</td>\n",
       "      <td>-0.2</td>\n",
       "      <td>0.0</td>\n",
       "      <td>-0.345</td>\n",
       "      <td>-0.1</td>\n",
       "      <td>0</td>\n",
       "    </tr>\n",
       "    <tr>\n",
       "      <th>Anthony Miller\\millean01</th>\n",
       "      <td>664.0</td>\n",
       "      <td>85</td>\n",
       "      <td>83</td>\n",
       "      <td>53</td>\n",
       "      <td>184.0</td>\n",
       "      <td>39</td>\n",
       "      <td>24.0</td>\n",
       "      <td>46.0</td>\n",
       "      <td>225</td>\n",
       "      <td>0.0</td>\n",
       "      <td>...</td>\n",
       "      <td>0.000000</td>\n",
       "      <td>-4.6</td>\n",
       "      <td>16.9</td>\n",
       "      <td>30.0</td>\n",
       "      <td>97.0</td>\n",
       "      <td>-0.1</td>\n",
       "      <td>0.0</td>\n",
       "      <td>-0.195</td>\n",
       "      <td>0.0</td>\n",
       "      <td>0</td>\n",
       "    </tr>\n",
       "    <tr>\n",
       "      <th>Darius Miller\\milleda01</th>\n",
       "      <td>1460.0</td>\n",
       "      <td>118</td>\n",
       "      <td>71</td>\n",
       "      <td>37</td>\n",
       "      <td>131.0</td>\n",
       "      <td>89</td>\n",
       "      <td>42.0</td>\n",
       "      <td>46.0</td>\n",
       "      <td>320</td>\n",
       "      <td>0.0</td>\n",
       "      <td>...</td>\n",
       "      <td>0.000000</td>\n",
       "      <td>-5.1</td>\n",
       "      <td>8.5</td>\n",
       "      <td>42.0</td>\n",
       "      <td>113.0</td>\n",
       "      <td>-0.1</td>\n",
       "      <td>0.0</td>\n",
       "      <td>-0.122</td>\n",
       "      <td>-0.1</td>\n",
       "      <td>0</td>\n",
       "    </tr>\n",
       "    <tr>\n",
       "      <th>Lonny Baxter\\baxtelo01</th>\n",
       "      <td>1484.0</td>\n",
       "      <td>202</td>\n",
       "      <td>201</td>\n",
       "      <td>114</td>\n",
       "      <td>360.0</td>\n",
       "      <td>36</td>\n",
       "      <td>26.0</td>\n",
       "      <td>88.0</td>\n",
       "      <td>519</td>\n",
       "      <td>0.0</td>\n",
       "      <td>...</td>\n",
       "      <td>0.000000</td>\n",
       "      <td>-8.0</td>\n",
       "      <td>20.5</td>\n",
       "      <td>52.0</td>\n",
       "      <td>112.0</td>\n",
       "      <td>-0.2</td>\n",
       "      <td>0.0</td>\n",
       "      <td>-0.266</td>\n",
       "      <td>-0.2</td>\n",
       "      <td>0</td>\n",
       "    </tr>\n",
       "    <tr>\n",
       "      <th>Sedric Toney\\toneyse01</th>\n",
       "      <td>378.0</td>\n",
       "      <td>50</td>\n",
       "      <td>42</td>\n",
       "      <td>31</td>\n",
       "      <td>35.0</td>\n",
       "      <td>50</td>\n",
       "      <td>15.0</td>\n",
       "      <td>36.0</td>\n",
       "      <td>139</td>\n",
       "      <td>0.0</td>\n",
       "      <td>...</td>\n",
       "      <td>0.000000</td>\n",
       "      <td>-14.9</td>\n",
       "      <td>34.6</td>\n",
       "      <td>37.0</td>\n",
       "      <td>115.0</td>\n",
       "      <td>-0.1</td>\n",
       "      <td>0.0</td>\n",
       "      <td>-0.586</td>\n",
       "      <td>-0.1</td>\n",
       "      <td>0</td>\n",
       "    </tr>\n",
       "  </tbody>\n",
       "</table>\n",
       "<p>1273 rows × 65 columns</p>\n",
       "</div>"
      ],
      "text/plain": [
       "                                MP    FG    2P    FT     TRB  AST    STL  \\\n",
       "Player                                                                     \n",
       "DeAndre Liggins\\liggide01    406.0    34    27    18    69.0   20   24.0   \n",
       "Ben Davis\\davisbe01          132.0    19    19    12    44.0    3    5.0   \n",
       "Anthony Davis\\davisan02     6659.0  1513  1510   888  1891.0  317  264.0   \n",
       "Michael Jordan\\jordami01    6876.0  2085  2061  1568  1028.0  911  469.0   \n",
       "Shaquille O'Neal\\onealsh01  9218.0  2616  2616  1353  3095.0  561  209.0   \n",
       "...                            ...   ...   ...   ...     ...  ...    ...   \n",
       "Damone Brown\\brownda02       199.0    20    20    14    24.0    5    4.0   \n",
       "Anthony Miller\\millean01     664.0    85    83    53   184.0   39   24.0   \n",
       "Darius Miller\\milleda01     1460.0   118    71    37   131.0   89   42.0   \n",
       "Lonny Baxter\\baxtelo01      1484.0   202   201   114   360.0   36   26.0   \n",
       "Sedric Toney\\toneyse01       378.0    50    42    31    35.0   50   15.0   \n",
       "\n",
       "                              TOV   PTS  roy  ...     ftpg_3  PER_3  USG%_3  \\\n",
       "Player                                        ...                             \n",
       "DeAndre Liggins\\liggide01    24.0    93  0.0  ...   0.000000  129.1    47.8   \n",
       "Ben Davis\\davisbe01           4.0    50  0.0  ...   0.375000   34.4    47.2   \n",
       "Anthony Davis\\davisan02     293.0  3917  0.0  ...   5.455882   30.8    27.8   \n",
       "Michael Jordan\\jordami01    608.0  5762  1.0  ...  10.158537   29.8    38.3   \n",
       "Shaquille O'Neal\\onealsh01  733.0  6585  1.0  ...   5.759494   28.6    31.9   \n",
       "...                           ...   ...  ...  ...        ...    ...     ...   \n",
       "Damone Brown\\brownda02       16.0    54  0.0  ...   0.333333   -4.3    32.8   \n",
       "Anthony Miller\\millean01     46.0   225  0.0  ...   0.000000   -4.6    16.9   \n",
       "Darius Miller\\milleda01      46.0   320  0.0  ...   0.000000   -5.1     8.5   \n",
       "Lonny Baxter\\baxtelo01       88.0   519  0.0  ...   0.000000   -8.0    20.5   \n",
       "Sedric Toney\\toneyse01       36.0   139  0.0  ...   0.000000  -14.9    34.6   \n",
       "\n",
       "                            ORtg_3  DRtg_3  OWS_3  DWS_3  WS/48_3  VORP_3  \\\n",
       "Player                                                                      \n",
       "DeAndre Liggins\\liggide01    205.0   116.0    0.0    0.0    2.123     0.0   \n",
       "Ben Davis\\davisbe01          107.0   103.0    0.1    0.0    0.238     0.0   \n",
       "Anthony Davis\\davisan02      122.0   100.0    9.9    4.2    0.274     6.7   \n",
       "Michael Jordan\\jordami01     117.0   104.0   11.9    5.0    0.247    10.6   \n",
       "Shaquille O'Neal\\onealsh01   118.0   104.0    9.6    4.4    0.230     5.7   \n",
       "...                            ...     ...    ...    ...      ...     ...   \n",
       "Damone Brown\\brownda02        45.0    90.0   -0.2    0.0   -0.345    -0.1   \n",
       "Anthony Miller\\millean01      30.0    97.0   -0.1    0.0   -0.195     0.0   \n",
       "Darius Miller\\milleda01       42.0   113.0   -0.1    0.0   -0.122    -0.1   \n",
       "Lonny Baxter\\baxtelo01        52.0   112.0   -0.2    0.0   -0.266    -0.2   \n",
       "Sedric Toney\\toneyse01        37.0   115.0   -0.1    0.0   -0.586    -0.1   \n",
       "\n",
       "                            target  \n",
       "Player                              \n",
       "DeAndre Liggins\\liggide01        0  \n",
       "Ben Davis\\davisbe01              0  \n",
       "Anthony Davis\\davisan02          1  \n",
       "Michael Jordan\\jordami01         1  \n",
       "Shaquille O'Neal\\onealsh01       1  \n",
       "...                            ...  \n",
       "Damone Brown\\brownda02           0  \n",
       "Anthony Miller\\millean01         0  \n",
       "Darius Miller\\milleda01          0  \n",
       "Lonny Baxter\\baxtelo01           0  \n",
       "Sedric Toney\\toneyse01           0  \n",
       "\n",
       "[1273 rows x 65 columns]"
      ]
     },
     "execution_count": 161,
     "metadata": {},
     "output_type": "execute_result"
    }
   ],
   "source": [
    "df.sort_values(by = 'PER_3', ascending = False)"
   ]
  },
  {
   "cell_type": "code",
   "execution_count": 165,
   "metadata": {},
   "outputs": [],
   "source": [
    "df['PER_3'] = np.where(df.PER_3 > 34, 0, df.PER_3)"
   ]
  },
  {
   "cell_type": "code",
   "execution_count": 166,
   "metadata": {},
   "outputs": [
    {
     "data": {
      "text/html": [
       "<div>\n",
       "<style scoped>\n",
       "    .dataframe tbody tr th:only-of-type {\n",
       "        vertical-align: middle;\n",
       "    }\n",
       "\n",
       "    .dataframe tbody tr th {\n",
       "        vertical-align: top;\n",
       "    }\n",
       "\n",
       "    .dataframe thead th {\n",
       "        text-align: right;\n",
       "    }\n",
       "</style>\n",
       "<table border=\"1\" class=\"dataframe\">\n",
       "  <thead>\n",
       "    <tr style=\"text-align: right;\">\n",
       "      <th></th>\n",
       "      <th>MP</th>\n",
       "      <th>FG</th>\n",
       "      <th>2P</th>\n",
       "      <th>FT</th>\n",
       "      <th>TRB</th>\n",
       "      <th>AST</th>\n",
       "      <th>STL</th>\n",
       "      <th>TOV</th>\n",
       "      <th>PTS</th>\n",
       "      <th>roy</th>\n",
       "      <th>...</th>\n",
       "      <th>ftpg_3</th>\n",
       "      <th>PER_3</th>\n",
       "      <th>USG%_3</th>\n",
       "      <th>ORtg_3</th>\n",
       "      <th>DRtg_3</th>\n",
       "      <th>OWS_3</th>\n",
       "      <th>DWS_3</th>\n",
       "      <th>WS/48_3</th>\n",
       "      <th>VORP_3</th>\n",
       "      <th>target</th>\n",
       "    </tr>\n",
       "    <tr>\n",
       "      <th>Player</th>\n",
       "      <th></th>\n",
       "      <th></th>\n",
       "      <th></th>\n",
       "      <th></th>\n",
       "      <th></th>\n",
       "      <th></th>\n",
       "      <th></th>\n",
       "      <th></th>\n",
       "      <th></th>\n",
       "      <th></th>\n",
       "      <th></th>\n",
       "      <th></th>\n",
       "      <th></th>\n",
       "      <th></th>\n",
       "      <th></th>\n",
       "      <th></th>\n",
       "      <th></th>\n",
       "      <th></th>\n",
       "      <th></th>\n",
       "      <th></th>\n",
       "      <th></th>\n",
       "    </tr>\n",
       "  </thead>\n",
       "  <tbody>\n",
       "    <tr>\n",
       "      <th>Anthony Davis\\davisan02</th>\n",
       "      <td>6659.0</td>\n",
       "      <td>1513</td>\n",
       "      <td>1510</td>\n",
       "      <td>888</td>\n",
       "      <td>1891.0</td>\n",
       "      <td>317</td>\n",
       "      <td>264.0</td>\n",
       "      <td>293.0</td>\n",
       "      <td>3917</td>\n",
       "      <td>0.0</td>\n",
       "      <td>...</td>\n",
       "      <td>5.455882</td>\n",
       "      <td>30.8</td>\n",
       "      <td>27.8</td>\n",
       "      <td>122.0</td>\n",
       "      <td>100.0</td>\n",
       "      <td>9.9</td>\n",
       "      <td>4.2</td>\n",
       "      <td>0.274</td>\n",
       "      <td>6.7</td>\n",
       "      <td>1</td>\n",
       "    </tr>\n",
       "    <tr>\n",
       "      <th>Michael Jordan\\jordami01</th>\n",
       "      <td>6876.0</td>\n",
       "      <td>2085</td>\n",
       "      <td>2061</td>\n",
       "      <td>1568</td>\n",
       "      <td>1028.0</td>\n",
       "      <td>911</td>\n",
       "      <td>469.0</td>\n",
       "      <td>608.0</td>\n",
       "      <td>5762</td>\n",
       "      <td>1.0</td>\n",
       "      <td>...</td>\n",
       "      <td>10.158537</td>\n",
       "      <td>29.8</td>\n",
       "      <td>38.3</td>\n",
       "      <td>117.0</td>\n",
       "      <td>104.0</td>\n",
       "      <td>11.9</td>\n",
       "      <td>5.0</td>\n",
       "      <td>0.247</td>\n",
       "      <td>10.6</td>\n",
       "      <td>1</td>\n",
       "    </tr>\n",
       "    <tr>\n",
       "      <th>Shaquille O'Neal\\onealsh01</th>\n",
       "      <td>9218.0</td>\n",
       "      <td>2616</td>\n",
       "      <td>2616</td>\n",
       "      <td>1353</td>\n",
       "      <td>3095.0</td>\n",
       "      <td>561</td>\n",
       "      <td>209.0</td>\n",
       "      <td>733.0</td>\n",
       "      <td>6585</td>\n",
       "      <td>1.0</td>\n",
       "      <td>...</td>\n",
       "      <td>5.759494</td>\n",
       "      <td>28.6</td>\n",
       "      <td>31.9</td>\n",
       "      <td>118.0</td>\n",
       "      <td>104.0</td>\n",
       "      <td>9.6</td>\n",
       "      <td>4.4</td>\n",
       "      <td>0.230</td>\n",
       "      <td>5.7</td>\n",
       "      <td>1</td>\n",
       "    </tr>\n",
       "    <tr>\n",
       "      <th>Chris Paul\\paulch01</th>\n",
       "      <td>8167.0</td>\n",
       "      <td>1418</td>\n",
       "      <td>1226</td>\n",
       "      <td>1018</td>\n",
       "      <td>1001.0</td>\n",
       "      <td>2105</td>\n",
       "      <td>510.0</td>\n",
       "      <td>545.0</td>\n",
       "      <td>4046</td>\n",
       "      <td>1.0</td>\n",
       "      <td>...</td>\n",
       "      <td>4.150000</td>\n",
       "      <td>28.3</td>\n",
       "      <td>25.7</td>\n",
       "      <td>125.0</td>\n",
       "      <td>103.0</td>\n",
       "      <td>13.2</td>\n",
       "      <td>4.6</td>\n",
       "      <td>0.284</td>\n",
       "      <td>9.3</td>\n",
       "      <td>1</td>\n",
       "    </tr>\n",
       "    <tr>\n",
       "      <th>LeBron James\\jamesle01</th>\n",
       "      <td>9871.0</td>\n",
       "      <td>2292</td>\n",
       "      <td>1994</td>\n",
       "      <td>1425</td>\n",
       "      <td>1576.0</td>\n",
       "      <td>1563</td>\n",
       "      <td>430.0</td>\n",
       "      <td>795.0</td>\n",
       "      <td>6307</td>\n",
       "      <td>1.0</td>\n",
       "      <td>...</td>\n",
       "      <td>7.607595</td>\n",
       "      <td>28.1</td>\n",
       "      <td>33.6</td>\n",
       "      <td>115.0</td>\n",
       "      <td>104.0</td>\n",
       "      <td>12.0</td>\n",
       "      <td>4.3</td>\n",
       "      <td>0.232</td>\n",
       "      <td>9.4</td>\n",
       "      <td>1</td>\n",
       "    </tr>\n",
       "    <tr>\n",
       "      <th>...</th>\n",
       "      <td>...</td>\n",
       "      <td>...</td>\n",
       "      <td>...</td>\n",
       "      <td>...</td>\n",
       "      <td>...</td>\n",
       "      <td>...</td>\n",
       "      <td>...</td>\n",
       "      <td>...</td>\n",
       "      <td>...</td>\n",
       "      <td>...</td>\n",
       "      <td>...</td>\n",
       "      <td>...</td>\n",
       "      <td>...</td>\n",
       "      <td>...</td>\n",
       "      <td>...</td>\n",
       "      <td>...</td>\n",
       "      <td>...</td>\n",
       "      <td>...</td>\n",
       "      <td>...</td>\n",
       "      <td>...</td>\n",
       "      <td>...</td>\n",
       "    </tr>\n",
       "    <tr>\n",
       "      <th>Damone Brown\\brownda02</th>\n",
       "      <td>199.0</td>\n",
       "      <td>20</td>\n",
       "      <td>20</td>\n",
       "      <td>14</td>\n",
       "      <td>24.0</td>\n",
       "      <td>5</td>\n",
       "      <td>4.0</td>\n",
       "      <td>16.0</td>\n",
       "      <td>54</td>\n",
       "      <td>0.0</td>\n",
       "      <td>...</td>\n",
       "      <td>0.333333</td>\n",
       "      <td>-4.3</td>\n",
       "      <td>32.8</td>\n",
       "      <td>45.0</td>\n",
       "      <td>90.0</td>\n",
       "      <td>-0.2</td>\n",
       "      <td>0.0</td>\n",
       "      <td>-0.345</td>\n",
       "      <td>-0.1</td>\n",
       "      <td>0</td>\n",
       "    </tr>\n",
       "    <tr>\n",
       "      <th>Anthony Miller\\millean01</th>\n",
       "      <td>664.0</td>\n",
       "      <td>85</td>\n",
       "      <td>83</td>\n",
       "      <td>53</td>\n",
       "      <td>184.0</td>\n",
       "      <td>39</td>\n",
       "      <td>24.0</td>\n",
       "      <td>46.0</td>\n",
       "      <td>225</td>\n",
       "      <td>0.0</td>\n",
       "      <td>...</td>\n",
       "      <td>0.000000</td>\n",
       "      <td>-4.6</td>\n",
       "      <td>16.9</td>\n",
       "      <td>30.0</td>\n",
       "      <td>97.0</td>\n",
       "      <td>-0.1</td>\n",
       "      <td>0.0</td>\n",
       "      <td>-0.195</td>\n",
       "      <td>0.0</td>\n",
       "      <td>0</td>\n",
       "    </tr>\n",
       "    <tr>\n",
       "      <th>Darius Miller\\milleda01</th>\n",
       "      <td>1460.0</td>\n",
       "      <td>118</td>\n",
       "      <td>71</td>\n",
       "      <td>37</td>\n",
       "      <td>131.0</td>\n",
       "      <td>89</td>\n",
       "      <td>42.0</td>\n",
       "      <td>46.0</td>\n",
       "      <td>320</td>\n",
       "      <td>0.0</td>\n",
       "      <td>...</td>\n",
       "      <td>0.000000</td>\n",
       "      <td>-5.1</td>\n",
       "      <td>8.5</td>\n",
       "      <td>42.0</td>\n",
       "      <td>113.0</td>\n",
       "      <td>-0.1</td>\n",
       "      <td>0.0</td>\n",
       "      <td>-0.122</td>\n",
       "      <td>-0.1</td>\n",
       "      <td>0</td>\n",
       "    </tr>\n",
       "    <tr>\n",
       "      <th>Lonny Baxter\\baxtelo01</th>\n",
       "      <td>1484.0</td>\n",
       "      <td>202</td>\n",
       "      <td>201</td>\n",
       "      <td>114</td>\n",
       "      <td>360.0</td>\n",
       "      <td>36</td>\n",
       "      <td>26.0</td>\n",
       "      <td>88.0</td>\n",
       "      <td>519</td>\n",
       "      <td>0.0</td>\n",
       "      <td>...</td>\n",
       "      <td>0.000000</td>\n",
       "      <td>-8.0</td>\n",
       "      <td>20.5</td>\n",
       "      <td>52.0</td>\n",
       "      <td>112.0</td>\n",
       "      <td>-0.2</td>\n",
       "      <td>0.0</td>\n",
       "      <td>-0.266</td>\n",
       "      <td>-0.2</td>\n",
       "      <td>0</td>\n",
       "    </tr>\n",
       "    <tr>\n",
       "      <th>Sedric Toney\\toneyse01</th>\n",
       "      <td>378.0</td>\n",
       "      <td>50</td>\n",
       "      <td>42</td>\n",
       "      <td>31</td>\n",
       "      <td>35.0</td>\n",
       "      <td>50</td>\n",
       "      <td>15.0</td>\n",
       "      <td>36.0</td>\n",
       "      <td>139</td>\n",
       "      <td>0.0</td>\n",
       "      <td>...</td>\n",
       "      <td>0.000000</td>\n",
       "      <td>-14.9</td>\n",
       "      <td>34.6</td>\n",
       "      <td>37.0</td>\n",
       "      <td>115.0</td>\n",
       "      <td>-0.1</td>\n",
       "      <td>0.0</td>\n",
       "      <td>-0.586</td>\n",
       "      <td>-0.1</td>\n",
       "      <td>0</td>\n",
       "    </tr>\n",
       "  </tbody>\n",
       "</table>\n",
       "<p>1273 rows × 65 columns</p>\n",
       "</div>"
      ],
      "text/plain": [
       "                                MP    FG    2P    FT     TRB   AST    STL  \\\n",
       "Player                                                                      \n",
       "Anthony Davis\\davisan02     6659.0  1513  1510   888  1891.0   317  264.0   \n",
       "Michael Jordan\\jordami01    6876.0  2085  2061  1568  1028.0   911  469.0   \n",
       "Shaquille O'Neal\\onealsh01  9218.0  2616  2616  1353  3095.0   561  209.0   \n",
       "Chris Paul\\paulch01         8167.0  1418  1226  1018  1001.0  2105  510.0   \n",
       "LeBron James\\jamesle01      9871.0  2292  1994  1425  1576.0  1563  430.0   \n",
       "...                            ...   ...   ...   ...     ...   ...    ...   \n",
       "Damone Brown\\brownda02       199.0    20    20    14    24.0     5    4.0   \n",
       "Anthony Miller\\millean01     664.0    85    83    53   184.0    39   24.0   \n",
       "Darius Miller\\milleda01     1460.0   118    71    37   131.0    89   42.0   \n",
       "Lonny Baxter\\baxtelo01      1484.0   202   201   114   360.0    36   26.0   \n",
       "Sedric Toney\\toneyse01       378.0    50    42    31    35.0    50   15.0   \n",
       "\n",
       "                              TOV   PTS  roy  ...     ftpg_3  PER_3  USG%_3  \\\n",
       "Player                                        ...                             \n",
       "Anthony Davis\\davisan02     293.0  3917  0.0  ...   5.455882   30.8    27.8   \n",
       "Michael Jordan\\jordami01    608.0  5762  1.0  ...  10.158537   29.8    38.3   \n",
       "Shaquille O'Neal\\onealsh01  733.0  6585  1.0  ...   5.759494   28.6    31.9   \n",
       "Chris Paul\\paulch01         545.0  4046  1.0  ...   4.150000   28.3    25.7   \n",
       "LeBron James\\jamesle01      795.0  6307  1.0  ...   7.607595   28.1    33.6   \n",
       "...                           ...   ...  ...  ...        ...    ...     ...   \n",
       "Damone Brown\\brownda02       16.0    54  0.0  ...   0.333333   -4.3    32.8   \n",
       "Anthony Miller\\millean01     46.0   225  0.0  ...   0.000000   -4.6    16.9   \n",
       "Darius Miller\\milleda01      46.0   320  0.0  ...   0.000000   -5.1     8.5   \n",
       "Lonny Baxter\\baxtelo01       88.0   519  0.0  ...   0.000000   -8.0    20.5   \n",
       "Sedric Toney\\toneyse01       36.0   139  0.0  ...   0.000000  -14.9    34.6   \n",
       "\n",
       "                            ORtg_3  DRtg_3  OWS_3  DWS_3  WS/48_3  VORP_3  \\\n",
       "Player                                                                      \n",
       "Anthony Davis\\davisan02      122.0   100.0    9.9    4.2    0.274     6.7   \n",
       "Michael Jordan\\jordami01     117.0   104.0   11.9    5.0    0.247    10.6   \n",
       "Shaquille O'Neal\\onealsh01   118.0   104.0    9.6    4.4    0.230     5.7   \n",
       "Chris Paul\\paulch01          125.0   103.0   13.2    4.6    0.284     9.3   \n",
       "LeBron James\\jamesle01       115.0   104.0   12.0    4.3    0.232     9.4   \n",
       "...                            ...     ...    ...    ...      ...     ...   \n",
       "Damone Brown\\brownda02        45.0    90.0   -0.2    0.0   -0.345    -0.1   \n",
       "Anthony Miller\\millean01      30.0    97.0   -0.1    0.0   -0.195     0.0   \n",
       "Darius Miller\\milleda01       42.0   113.0   -0.1    0.0   -0.122    -0.1   \n",
       "Lonny Baxter\\baxtelo01        52.0   112.0   -0.2    0.0   -0.266    -0.2   \n",
       "Sedric Toney\\toneyse01        37.0   115.0   -0.1    0.0   -0.586    -0.1   \n",
       "\n",
       "                            target  \n",
       "Player                              \n",
       "Anthony Davis\\davisan02          1  \n",
       "Michael Jordan\\jordami01         1  \n",
       "Shaquille O'Neal\\onealsh01       1  \n",
       "Chris Paul\\paulch01              1  \n",
       "LeBron James\\jamesle01           1  \n",
       "...                            ...  \n",
       "Damone Brown\\brownda02           0  \n",
       "Anthony Miller\\millean01         0  \n",
       "Darius Miller\\milleda01          0  \n",
       "Lonny Baxter\\baxtelo01           0  \n",
       "Sedric Toney\\toneyse01           0  \n",
       "\n",
       "[1273 rows x 65 columns]"
      ]
     },
     "execution_count": 166,
     "metadata": {},
     "output_type": "execute_result"
    }
   ],
   "source": [
    "df.sort_values(by = 'PER_3', ascending = False)"
   ]
  },
  {
   "cell_type": "code",
   "execution_count": null,
   "metadata": {},
   "outputs": [],
   "source": []
  },
  {
   "cell_type": "code",
   "execution_count": 9,
   "metadata": {
    "collapsed": true,
    "jupyter": {
     "outputs_hidden": true
    }
   },
   "outputs": [
    {
     "data": {
      "text/plain": [
       "['Al Horford\\\\horfoal01',\n",
       " 'Allen Iverson\\\\iversal01',\n",
       " \"Amar'e Stoudemire\\\\stoudam01\",\n",
       " 'Andre Drummond\\\\drumman01',\n",
       " 'Andrew Bogut\\\\bogutan01',\n",
       " 'Anfernee Hardaway\\\\hardaan01',\n",
       " 'Anthony Davis\\\\davisan02',\n",
       " 'Antonio McDyess\\\\mcdyean01',\n",
       " 'Baron Davis\\\\davisba01',\n",
       " 'Bernard King\\\\kingbe01',\n",
       " 'Blake Griffin\\\\griffbl01',\n",
       " 'Brad Daugherty\\\\daughbr01',\n",
       " 'Brandon Roy\\\\roybr01',\n",
       " 'Carlos Boozer\\\\boozeca01',\n",
       " 'Carmelo Anthony\\\\anthoca01',\n",
       " 'Charles Barkley\\\\barklch01',\n",
       " 'Chris Bosh\\\\boshch01',\n",
       " 'Chris Mullin\\\\mullich01',\n",
       " 'Chris Paul\\\\paulch01',\n",
       " 'Chris Webber\\\\webbech01',\n",
       " 'Clyde Drexler\\\\drexlcl01',\n",
       " 'Dale Ellis\\\\ellisda01',\n",
       " 'Damian Lillard\\\\lillada01',\n",
       " 'David Robinson\\\\robinda01',\n",
       " 'DeMarcus Cousins\\\\couside01',\n",
       " 'Dennis Rodman\\\\rodmade01',\n",
       " 'Deron Williams\\\\willide01',\n",
       " 'Derrick Coleman\\\\colemde01',\n",
       " 'Dirk Nowitzki\\\\nowitdi01',\n",
       " 'Dominique Wilkins\\\\wilkido01',\n",
       " 'Draymond Green\\\\greendr01',\n",
       " 'Dwight Howard\\\\howardw01',\n",
       " 'Dwyane Wade\\\\wadedw01',\n",
       " 'Eddie Jones\\\\jonesed02',\n",
       " 'Fat Lever\\\\leverfa01',\n",
       " 'Gary Payton\\\\paytoga01',\n",
       " 'Giannis Antetokounmpo\\\\antetgi01',\n",
       " 'Gilbert Arenas\\\\arenagi01',\n",
       " 'Grant Hill\\\\hillgr01',\n",
       " 'Hakeem Olajuwon\\\\olajuha01',\n",
       " 'Isaiah Thomas\\\\thomais02',\n",
       " 'Isiah Thomas\\\\thomais01',\n",
       " 'James Harden\\\\hardeja01',\n",
       " 'Jason Kidd\\\\kiddja01',\n",
       " \"Jermaine O'Neal\\\\onealje01\",\n",
       " 'Jimmy Butler\\\\butleji01',\n",
       " 'Joe Dumars\\\\dumarjo01',\n",
       " 'John Stockton\\\\stockjo01',\n",
       " 'Karl Malone\\\\malonka01',\n",
       " 'Kawhi Leonard\\\\leonaka01',\n",
       " 'Kevin Durant\\\\duranke01',\n",
       " 'Kevin Garnett\\\\garneke01',\n",
       " 'Kevin Johnson\\\\johnske02',\n",
       " 'Kevin Love\\\\loveke01',\n",
       " 'Klay Thompson\\\\thompkl01',\n",
       " 'Kobe Bryant\\\\bryanko01',\n",
       " 'Kyrie Irving\\\\irvinky01',\n",
       " 'LaMarcus Aldridge\\\\aldrila01',\n",
       " 'Larry Bird\\\\birdla01',\n",
       " 'LeBron James\\\\jamesle01',\n",
       " 'Magic Johnson\\\\johnsma02',\n",
       " 'Marc Gasol\\\\gasolma01',\n",
       " 'Mark Price\\\\pricema01',\n",
       " 'Marques Johnson\\\\johnsma01',\n",
       " 'Metta World Peace\\\\artesro01',\n",
       " 'Michael Jordan\\\\jordami01',\n",
       " 'Michael Redd\\\\reddmi01',\n",
       " 'Mitch Richmond\\\\richmmi01',\n",
       " 'Otis Birdsong\\\\birdsot01',\n",
       " 'Patrick Ewing\\\\ewingpa01',\n",
       " 'Paul George\\\\georgpa01',\n",
       " 'Paul Pierce\\\\piercpa01',\n",
       " 'Rajon Rondo\\\\rondora01',\n",
       " 'Ray Allen\\\\allenra02',\n",
       " 'Rudy Gobert\\\\goberru01',\n",
       " 'Russell Westbrook\\\\westbru01',\n",
       " 'Scottie Pippen\\\\pippesc01',\n",
       " \"Shaquille O'Neal\\\\onealsh01\",\n",
       " 'Shawn Kemp\\\\kempsh01',\n",
       " 'Shawn Marion\\\\mariosh01',\n",
       " 'Sidney Moncrief\\\\moncrsi01',\n",
       " 'Stephen Curry\\\\curryst01',\n",
       " 'Stephon Marbury\\\\marbust01',\n",
       " 'Steve Nash\\\\nashst01',\n",
       " 'Tim Duncan\\\\duncati01',\n",
       " 'Tim Hardaway\\\\hardati01',\n",
       " 'Tracy McGrady\\\\mcgratr01',\n",
       " 'Victor Oladipo\\\\oladivi01',\n",
       " 'Vin Baker\\\\bakervi01',\n",
       " 'Yao Ming\\\\mingya01']"
      ]
     },
     "execution_count": 9,
     "metadata": {},
     "output_type": "execute_result"
    }
   ],
   "source": [
    "all_nba = df[df['target'] == 1]\n",
    "all_nba.index.to_list()"
   ]
  },
  {
   "cell_type": "code",
   "execution_count": 48,
   "metadata": {},
   "outputs": [
    {
     "data": {
      "text/plain": [
       "0    1183\n",
       "1      90\n",
       "Name: target, dtype: int64"
      ]
     },
     "execution_count": 48,
     "metadata": {},
     "output_type": "execute_result"
    }
   ],
   "source": [
    "y.value_counts()"
   ]
  },
  {
   "cell_type": "code",
   "execution_count": 81,
   "metadata": {},
   "outputs": [],
   "source": [
    "X = df.drop(columns = 'target')\n",
    "y = df['target']\n",
    "\n",
    "X_train, X_test, y_train, y_test =  train_test_split(X, y, train_size= .8, random_state= 42)"
   ]
  },
  {
   "cell_type": "code",
   "execution_count": 62,
   "metadata": {},
   "outputs": [
    {
     "data": {
      "text/html": [
       "<div>\n",
       "<style scoped>\n",
       "    .dataframe tbody tr th:only-of-type {\n",
       "        vertical-align: middle;\n",
       "    }\n",
       "\n",
       "    .dataframe tbody tr th {\n",
       "        vertical-align: top;\n",
       "    }\n",
       "\n",
       "    .dataframe thead th {\n",
       "        text-align: right;\n",
       "    }\n",
       "</style>\n",
       "<table border=\"1\" class=\"dataframe\">\n",
       "  <thead>\n",
       "    <tr style=\"text-align: right;\">\n",
       "      <th></th>\n",
       "      <th>MP</th>\n",
       "      <th>FG</th>\n",
       "      <th>2P</th>\n",
       "      <th>FT</th>\n",
       "      <th>TRB</th>\n",
       "      <th>AST</th>\n",
       "      <th>STL</th>\n",
       "      <th>TOV</th>\n",
       "      <th>PTS</th>\n",
       "      <th>roy</th>\n",
       "      <th>...</th>\n",
       "      <th>tpg_3</th>\n",
       "      <th>ftpg_3</th>\n",
       "      <th>PER_3</th>\n",
       "      <th>USG%_3</th>\n",
       "      <th>ORtg_3</th>\n",
       "      <th>DRtg_3</th>\n",
       "      <th>OWS_3</th>\n",
       "      <th>DWS_3</th>\n",
       "      <th>WS/48_3</th>\n",
       "      <th>VORP_3</th>\n",
       "    </tr>\n",
       "    <tr>\n",
       "      <th>Player</th>\n",
       "      <th></th>\n",
       "      <th></th>\n",
       "      <th></th>\n",
       "      <th></th>\n",
       "      <th></th>\n",
       "      <th></th>\n",
       "      <th></th>\n",
       "      <th></th>\n",
       "      <th></th>\n",
       "      <th></th>\n",
       "      <th></th>\n",
       "      <th></th>\n",
       "      <th></th>\n",
       "      <th></th>\n",
       "      <th></th>\n",
       "      <th></th>\n",
       "      <th></th>\n",
       "      <th></th>\n",
       "      <th></th>\n",
       "      <th></th>\n",
       "      <th></th>\n",
       "    </tr>\n",
       "  </thead>\n",
       "  <tbody>\n",
       "    <tr>\n",
       "      <th>A.C. Green\\greenac01</th>\n",
       "      <td>6418.0</td>\n",
       "      <td>847</td>\n",
       "      <td>846</td>\n",
       "      <td>615</td>\n",
       "      <td>1706.0</td>\n",
       "      <td>231</td>\n",
       "      <td>206.0</td>\n",
       "      <td>321.0</td>\n",
       "      <td>2310</td>\n",
       "      <td>0.0</td>\n",
       "      <td>...</td>\n",
       "      <td>1.463415</td>\n",
       "      <td>3.573171</td>\n",
       "      <td>14.5</td>\n",
       "      <td>14.7</td>\n",
       "      <td>119.0</td>\n",
       "      <td>106.0</td>\n",
       "      <td>4.5</td>\n",
       "      <td>3.4</td>\n",
       "      <td>0.144</td>\n",
       "      <td>1.5</td>\n",
       "    </tr>\n",
       "    <tr>\n",
       "      <th>A.J. Price\\priceaj01</th>\n",
       "      <td>2228.0</td>\n",
       "      <td>318</td>\n",
       "      <td>191</td>\n",
       "      <td>142</td>\n",
       "      <td>221.0</td>\n",
       "      <td>303</td>\n",
       "      <td>84.0</td>\n",
       "      <td>144.0</td>\n",
       "      <td>905</td>\n",
       "      <td>0.0</td>\n",
       "      <td>...</td>\n",
       "      <td>0.727273</td>\n",
       "      <td>0.636364</td>\n",
       "      <td>11.5</td>\n",
       "      <td>17.7</td>\n",
       "      <td>100.0</td>\n",
       "      <td>106.0</td>\n",
       "      <td>0.2</td>\n",
       "      <td>0.5</td>\n",
       "      <td>0.063</td>\n",
       "      <td>0.1</td>\n",
       "    </tr>\n",
       "    <tr>\n",
       "      <th>Aaron Brooks\\brookaa01</th>\n",
       "      <td>5525.0</td>\n",
       "      <td>984</td>\n",
       "      <td>626</td>\n",
       "      <td>436</td>\n",
       "      <td>428.0</td>\n",
       "      <td>759</td>\n",
       "      <td>128.0</td>\n",
       "      <td>401.0</td>\n",
       "      <td>2762</td>\n",
       "      <td>0.0</td>\n",
       "      <td>...</td>\n",
       "      <td>2.829268</td>\n",
       "      <td>2.987805</td>\n",
       "      <td>16.0</td>\n",
       "      <td>25.7</td>\n",
       "      <td>108.0</td>\n",
       "      <td>112.0</td>\n",
       "      <td>3.9</td>\n",
       "      <td>1.6</td>\n",
       "      <td>0.091</td>\n",
       "      <td>1.9</td>\n",
       "    </tr>\n",
       "    <tr>\n",
       "      <th>Aaron Gordon\\gordoaa01</th>\n",
       "      <td>4958.0</td>\n",
       "      <td>760</td>\n",
       "      <td>628</td>\n",
       "      <td>329</td>\n",
       "      <td>1081.0</td>\n",
       "      <td>311</td>\n",
       "      <td>145.0</td>\n",
       "      <td>193.0</td>\n",
       "      <td>1981</td>\n",
       "      <td>0.0</td>\n",
       "      <td>...</td>\n",
       "      <td>1.112500</td>\n",
       "      <td>1.950000</td>\n",
       "      <td>14.5</td>\n",
       "      <td>20.1</td>\n",
       "      <td>107.0</td>\n",
       "      <td>111.0</td>\n",
       "      <td>2.0</td>\n",
       "      <td>1.7</td>\n",
       "      <td>0.077</td>\n",
       "      <td>0.6</td>\n",
       "    </tr>\n",
       "    <tr>\n",
       "      <th>Aaron Gray\\grayaa01</th>\n",
       "      <td>1639.0</td>\n",
       "      <td>226</td>\n",
       "      <td>226</td>\n",
       "      <td>110</td>\n",
       "      <td>494.0</td>\n",
       "      <td>109</td>\n",
       "      <td>44.0</td>\n",
       "      <td>115.0</td>\n",
       "      <td>562</td>\n",
       "      <td>0.0</td>\n",
       "      <td>...</td>\n",
       "      <td>0.562500</td>\n",
       "      <td>0.625000</td>\n",
       "      <td>16.6</td>\n",
       "      <td>16.4</td>\n",
       "      <td>115.0</td>\n",
       "      <td>106.0</td>\n",
       "      <td>0.5</td>\n",
       "      <td>0.4</td>\n",
       "      <td>0.142</td>\n",
       "      <td>0.1</td>\n",
       "    </tr>\n",
       "    <tr>\n",
       "      <th>...</th>\n",
       "      <td>...</td>\n",
       "      <td>...</td>\n",
       "      <td>...</td>\n",
       "      <td>...</td>\n",
       "      <td>...</td>\n",
       "      <td>...</td>\n",
       "      <td>...</td>\n",
       "      <td>...</td>\n",
       "      <td>...</td>\n",
       "      <td>...</td>\n",
       "      <td>...</td>\n",
       "      <td>...</td>\n",
       "      <td>...</td>\n",
       "      <td>...</td>\n",
       "      <td>...</td>\n",
       "      <td>...</td>\n",
       "      <td>...</td>\n",
       "      <td>...</td>\n",
       "      <td>...</td>\n",
       "      <td>...</td>\n",
       "      <td>...</td>\n",
       "    </tr>\n",
       "    <tr>\n",
       "      <th>Zaza Pachulia\\pachuza01</th>\n",
       "      <td>4513.0</td>\n",
       "      <td>535</td>\n",
       "      <td>535</td>\n",
       "      <td>493</td>\n",
       "      <td>1165.0</td>\n",
       "      <td>202</td>\n",
       "      <td>154.0</td>\n",
       "      <td>284.0</td>\n",
       "      <td>1563</td>\n",
       "      <td>0.0</td>\n",
       "      <td>...</td>\n",
       "      <td>2.307692</td>\n",
       "      <td>3.807692</td>\n",
       "      <td>15.0</td>\n",
       "      <td>19.2</td>\n",
       "      <td>106.0</td>\n",
       "      <td>110.0</td>\n",
       "      <td>2.5</td>\n",
       "      <td>1.4</td>\n",
       "      <td>0.077</td>\n",
       "      <td>-0.1</td>\n",
       "    </tr>\n",
       "    <tr>\n",
       "      <th>Zydrunas Ilgauskas\\ilgauzy01</th>\n",
       "      <td>3166.0</td>\n",
       "      <td>597</td>\n",
       "      <td>596</td>\n",
       "      <td>301</td>\n",
       "      <td>927.0</td>\n",
       "      <td>93</td>\n",
       "      <td>71.0</td>\n",
       "      <td>215.0</td>\n",
       "      <td>1496</td>\n",
       "      <td>0.0</td>\n",
       "      <td>...</td>\n",
       "      <td>2.500000</td>\n",
       "      <td>2.208333</td>\n",
       "      <td>16.0</td>\n",
       "      <td>24.1</td>\n",
       "      <td>96.0</td>\n",
       "      <td>103.0</td>\n",
       "      <td>0.1</td>\n",
       "      <td>0.7</td>\n",
       "      <td>0.056</td>\n",
       "      <td>0.0</td>\n",
       "    </tr>\n",
       "    <tr>\n",
       "      <th>Ömer Aşık\\asikom01</th>\n",
       "      <td>4424.0</td>\n",
       "      <td>489</td>\n",
       "      <td>489</td>\n",
       "      <td>288</td>\n",
       "      <td>1612.0</td>\n",
       "      <td>139</td>\n",
       "      <td>96.0</td>\n",
       "      <td>305.0</td>\n",
       "      <td>1266</td>\n",
       "      <td>0.0</td>\n",
       "      <td>...</td>\n",
       "      <td>2.109756</td>\n",
       "      <td>2.048780</td>\n",
       "      <td>14.9</td>\n",
       "      <td>16.3</td>\n",
       "      <td>105.0</td>\n",
       "      <td>103.0</td>\n",
       "      <td>2.0</td>\n",
       "      <td>3.5</td>\n",
       "      <td>0.108</td>\n",
       "      <td>0.3</td>\n",
       "    </tr>\n",
       "    <tr>\n",
       "      <th>Šarūnas Marčiulionis\\marcisa01</th>\n",
       "      <td>4799.0</td>\n",
       "      <td>963</td>\n",
       "      <td>949</td>\n",
       "      <td>871</td>\n",
       "      <td>547.0</td>\n",
       "      <td>449</td>\n",
       "      <td>272.0</td>\n",
       "      <td>405.0</td>\n",
       "      <td>2811</td>\n",
       "      <td>0.0</td>\n",
       "      <td>...</td>\n",
       "      <td>2.680556</td>\n",
       "      <td>5.222222</td>\n",
       "      <td>18.8</td>\n",
       "      <td>24.9</td>\n",
       "      <td>116.0</td>\n",
       "      <td>111.0</td>\n",
       "      <td>4.9</td>\n",
       "      <td>1.4</td>\n",
       "      <td>0.144</td>\n",
       "      <td>1.7</td>\n",
       "    </tr>\n",
       "    <tr>\n",
       "      <th>Žan Tabak\\tabakza01</th>\n",
       "      <td>1732.0</td>\n",
       "      <td>281</td>\n",
       "      <td>281</td>\n",
       "      <td>111</td>\n",
       "      <td>426.0</td>\n",
       "      <td>80</td>\n",
       "      <td>32.0</td>\n",
       "      <td>140.0</td>\n",
       "      <td>673</td>\n",
       "      <td>0.0</td>\n",
       "      <td>...</td>\n",
       "      <td>1.615385</td>\n",
       "      <td>1.538462</td>\n",
       "      <td>12.5</td>\n",
       "      <td>21.5</td>\n",
       "      <td>96.0</td>\n",
       "      <td>107.0</td>\n",
       "      <td>-0.1</td>\n",
       "      <td>0.2</td>\n",
       "      <td>0.032</td>\n",
       "      <td>-0.1</td>\n",
       "    </tr>\n",
       "  </tbody>\n",
       "</table>\n",
       "<p>1273 rows × 64 columns</p>\n",
       "</div>"
      ],
      "text/plain": [
       "                                    MP   FG   2P   FT     TRB  AST    STL  \\\n",
       "Player                                                                      \n",
       "A.C. Green\\greenac01            6418.0  847  846  615  1706.0  231  206.0   \n",
       "A.J. Price\\priceaj01            2228.0  318  191  142   221.0  303   84.0   \n",
       "Aaron Brooks\\brookaa01          5525.0  984  626  436   428.0  759  128.0   \n",
       "Aaron Gordon\\gordoaa01          4958.0  760  628  329  1081.0  311  145.0   \n",
       "Aaron Gray\\grayaa01             1639.0  226  226  110   494.0  109   44.0   \n",
       "...                                ...  ...  ...  ...     ...  ...    ...   \n",
       "Zaza Pachulia\\pachuza01         4513.0  535  535  493  1165.0  202  154.0   \n",
       "Zydrunas Ilgauskas\\ilgauzy01    3166.0  597  596  301   927.0   93   71.0   \n",
       "Ömer Aşık\\asikom01              4424.0  489  489  288  1612.0  139   96.0   \n",
       "Šarūnas Marčiulionis\\marcisa01  4799.0  963  949  871   547.0  449  272.0   \n",
       "Žan Tabak\\tabakza01             1732.0  281  281  111   426.0   80   32.0   \n",
       "\n",
       "                                  TOV   PTS  roy  ...     tpg_3    ftpg_3  \\\n",
       "Player                                            ...                       \n",
       "A.C. Green\\greenac01            321.0  2310  0.0  ...  1.463415  3.573171   \n",
       "A.J. Price\\priceaj01            144.0   905  0.0  ...  0.727273  0.636364   \n",
       "Aaron Brooks\\brookaa01          401.0  2762  0.0  ...  2.829268  2.987805   \n",
       "Aaron Gordon\\gordoaa01          193.0  1981  0.0  ...  1.112500  1.950000   \n",
       "Aaron Gray\\grayaa01             115.0   562  0.0  ...  0.562500  0.625000   \n",
       "...                               ...   ...  ...  ...       ...       ...   \n",
       "Zaza Pachulia\\pachuza01         284.0  1563  0.0  ...  2.307692  3.807692   \n",
       "Zydrunas Ilgauskas\\ilgauzy01    215.0  1496  0.0  ...  2.500000  2.208333   \n",
       "Ömer Aşık\\asikom01              305.0  1266  0.0  ...  2.109756  2.048780   \n",
       "Šarūnas Marčiulionis\\marcisa01  405.0  2811  0.0  ...  2.680556  5.222222   \n",
       "Žan Tabak\\tabakza01             140.0   673  0.0  ...  1.615385  1.538462   \n",
       "\n",
       "                                PER_3  USG%_3  ORtg_3  DRtg_3  OWS_3  DWS_3  \\\n",
       "Player                                                                        \n",
       "A.C. Green\\greenac01             14.5    14.7   119.0   106.0    4.5    3.4   \n",
       "A.J. Price\\priceaj01             11.5    17.7   100.0   106.0    0.2    0.5   \n",
       "Aaron Brooks\\brookaa01           16.0    25.7   108.0   112.0    3.9    1.6   \n",
       "Aaron Gordon\\gordoaa01           14.5    20.1   107.0   111.0    2.0    1.7   \n",
       "Aaron Gray\\grayaa01              16.6    16.4   115.0   106.0    0.5    0.4   \n",
       "...                               ...     ...     ...     ...    ...    ...   \n",
       "Zaza Pachulia\\pachuza01          15.0    19.2   106.0   110.0    2.5    1.4   \n",
       "Zydrunas Ilgauskas\\ilgauzy01     16.0    24.1    96.0   103.0    0.1    0.7   \n",
       "Ömer Aşık\\asikom01               14.9    16.3   105.0   103.0    2.0    3.5   \n",
       "Šarūnas Marčiulionis\\marcisa01   18.8    24.9   116.0   111.0    4.9    1.4   \n",
       "Žan Tabak\\tabakza01              12.5    21.5    96.0   107.0   -0.1    0.2   \n",
       "\n",
       "                                WS/48_3  VORP_3  \n",
       "Player                                           \n",
       "A.C. Green\\greenac01              0.144     1.5  \n",
       "A.J. Price\\priceaj01              0.063     0.1  \n",
       "Aaron Brooks\\brookaa01            0.091     1.9  \n",
       "Aaron Gordon\\gordoaa01            0.077     0.6  \n",
       "Aaron Gray\\grayaa01               0.142     0.1  \n",
       "...                                 ...     ...  \n",
       "Zaza Pachulia\\pachuza01           0.077    -0.1  \n",
       "Zydrunas Ilgauskas\\ilgauzy01      0.056     0.0  \n",
       "Ömer Aşık\\asikom01                0.108     0.3  \n",
       "Šarūnas Marčiulionis\\marcisa01    0.144     1.7  \n",
       "Žan Tabak\\tabakza01               0.032    -0.1  \n",
       "\n",
       "[1273 rows x 64 columns]"
      ]
     },
     "execution_count": 62,
     "metadata": {},
     "output_type": "execute_result"
    }
   ],
   "source": [
    "X"
   ]
  },
  {
   "cell_type": "code",
   "execution_count": 90,
   "metadata": {},
   "outputs": [],
   "source": [
    "nba_scaled = StandardScaler()\n",
    "# X_train_sc = ss.fit_transform(X_train)\n",
    "# X_test_sc = ss.transform(X_test)\n",
    "\n",
    "nba_scaled.fit(X_train)\n",
    "X_train_sc = pd.DataFrame(nba_scaled.transform(X_train), index = X_train.index, columns = X_train.columns)\n",
    "X_test_sc = pd.DataFrame(nba_scaled.transform(X_test), index = X_test.index, columns = X_test.columns)"
   ]
  },
  {
   "cell_type": "code",
   "execution_count": 91,
   "metadata": {},
   "outputs": [],
   "source": [
    "#create tomek links\n",
    "# t1 = TomekLinks()\n",
    "# X_train_sc_t1, X_test_sc_t1 = t1.fit_resample(X_train_sc,X_test_sc)\n",
    "# #remove tomek links\n",
    "# t1 = TomekLinks()\n",
    "# X_train_sc_rs, X_test_sc_rs = t1.fit_sample()"
   ]
  },
  {
   "cell_type": "code",
   "execution_count": 92,
   "metadata": {},
   "outputs": [],
   "source": [
    "smt = SMOTETomek(tomek=TomekLinks(sampling_strategy='not majority'))\n",
    "X_train_smt, y_train_smt = smt.fit_sample(X_train_sc, y_train)"
   ]
  },
  {
   "cell_type": "markdown",
   "metadata": {},
   "source": [
    "#### RFE Logistic Regression Model"
   ]
  },
  {
   "cell_type": "code",
   "execution_count": null,
   "metadata": {},
   "outputs": [],
   "source": []
  },
  {
   "cell_type": "code",
   "execution_count": 106,
   "metadata": {},
   "outputs": [
    {
     "name": "stdout",
     "output_type": "stream",
     "text": [
      "Fitting estimator with 64 features.\n",
      "Fitting estimator with 63 features.\n",
      "Fitting estimator with 62 features.\n",
      "Fitting estimator with 61 features.\n",
      "Fitting estimator with 60 features.\n",
      "Fitting estimator with 59 features.\n",
      "Fitting estimator with 58 features.\n",
      "Fitting estimator with 57 features.\n",
      "Fitting estimator with 56 features.\n",
      "Fitting estimator with 55 features.\n",
      "Fitting estimator with 54 features.\n",
      "Fitting estimator with 53 features.\n",
      "Fitting estimator with 52 features.\n",
      "Fitting estimator with 51 features.\n",
      "Fitting estimator with 50 features.\n",
      "Fitting estimator with 49 features.\n",
      "Fitting estimator with 48 features.\n",
      "Fitting estimator with 47 features.\n",
      "Fitting estimator with 46 features.\n",
      "Fitting estimator with 45 features.\n",
      "Fitting estimator with 44 features.\n",
      "Fitting estimator with 43 features.\n",
      "Fitting estimator with 42 features.\n",
      "Fitting estimator with 41 features.\n",
      "Fitting estimator with 40 features.\n",
      "Fitting estimator with 39 features.\n",
      "Fitting estimator with 38 features.\n",
      "Fitting estimator with 37 features.\n",
      "Fitting estimator with 36 features.\n",
      "Fitting estimator with 35 features.\n",
      "Fitting estimator with 34 features.\n",
      "Fitting estimator with 33 features.\n",
      "Fitting estimator with 32 features.\n",
      "Fitting estimator with 31 features.\n",
      "Fitting estimator with 30 features.\n",
      "Fitting estimator with 29 features.\n",
      "Fitting estimator with 28 features.\n",
      "Fitting estimator with 27 features.\n",
      "Fitting estimator with 26 features.\n",
      "Fitting estimator with 25 features.\n",
      "Fitting estimator with 24 features.\n",
      "Fitting estimator with 23 features.\n",
      "Fitting estimator with 22 features.\n",
      "Fitting estimator with 21 features.\n",
      "Fitting estimator with 20 features.\n",
      "Fitting estimator with 19 features.\n",
      "Fitting estimator with 18 features.\n",
      "Fitting estimator with 17 features.\n",
      "Fitting estimator with 16 features.\n",
      "Fitting estimator with 15 features.\n",
      "Fitting estimator with 14 features.\n",
      "Fitting estimator with 13 features.\n"
     ]
    },
    {
     "data": {
      "text/plain": [
       "RFECV(cv=3,\n",
       "      estimator=LogisticRegression(class_weight='balanced', max_iter=1000),\n",
       "      n_jobs=-1, scoring='precision', verbose=1)"
      ]
     },
     "execution_count": 106,
     "metadata": {},
     "output_type": "execute_result"
    }
   ],
   "source": [
    "rfe_lr = RFECV(estimator=LogisticRegression(class_weight = 'balanced', max_iter = 1000), step = 1, cv = 3, scoring = 'precision', n_jobs = -1, verbose = 1)\n",
    "rfe_lr.fit(X_train_sc, y_train)"
   ]
  },
  {
   "cell_type": "code",
   "execution_count": 94,
   "metadata": {},
   "outputs": [
    {
     "name": "stdout",
     "output_type": "stream",
     "text": [
      "Fitting estimator with 64 features.\n",
      "Fitting estimator with 63 features.\n",
      "Fitting estimator with 62 features.\n",
      "Fitting estimator with 61 features.\n",
      "Fitting estimator with 60 features.\n",
      "Fitting estimator with 59 features.\n",
      "Fitting estimator with 58 features.\n",
      "Fitting estimator with 57 features.\n",
      "Fitting estimator with 56 features.\n",
      "Fitting estimator with 55 features.\n",
      "Fitting estimator with 54 features.\n",
      "Fitting estimator with 53 features.\n",
      "Fitting estimator with 52 features.\n",
      "Fitting estimator with 51 features.\n",
      "Fitting estimator with 50 features.\n",
      "Fitting estimator with 49 features.\n",
      "Fitting estimator with 48 features.\n",
      "Fitting estimator with 47 features.\n",
      "Fitting estimator with 46 features.\n",
      "Fitting estimator with 45 features.\n",
      "Fitting estimator with 44 features.\n",
      "Fitting estimator with 43 features.\n",
      "Fitting estimator with 42 features.\n",
      "Fitting estimator with 41 features.\n",
      "Fitting estimator with 40 features.\n",
      "Fitting estimator with 39 features.\n",
      "Fitting estimator with 38 features.\n",
      "Fitting estimator with 37 features.\n",
      "Fitting estimator with 36 features.\n",
      "Fitting estimator with 35 features.\n",
      "Fitting estimator with 34 features.\n",
      "Fitting estimator with 33 features.\n",
      "Fitting estimator with 32 features.\n",
      "Fitting estimator with 31 features.\n",
      "Fitting estimator with 30 features.\n",
      "Fitting estimator with 29 features.\n",
      "Fitting estimator with 28 features.\n",
      "Fitting estimator with 27 features.\n",
      "Fitting estimator with 26 features.\n",
      "Fitting estimator with 25 features.\n",
      "Fitting estimator with 24 features.\n",
      "Fitting estimator with 23 features.\n",
      "Fitting estimator with 22 features.\n",
      "Fitting estimator with 21 features.\n",
      "Fitting estimator with 20 features.\n",
      "Fitting estimator with 19 features.\n",
      "Fitting estimator with 18 features.\n",
      "Fitting estimator with 17 features.\n",
      "Fitting estimator with 16 features.\n",
      "Fitting estimator with 15 features.\n",
      "Fitting estimator with 14 features.\n",
      "Fitting estimator with 13 features.\n"
     ]
    },
    {
     "data": {
      "text/plain": [
       "RFECV(cv=3,\n",
       "      estimator=LogisticRegression(class_weight='balanced', max_iter=1000),\n",
       "      n_jobs=-1, scoring='f1', verbose=1)"
      ]
     },
     "execution_count": 94,
     "metadata": {},
     "output_type": "execute_result"
    }
   ],
   "source": [
    "rfe_lr = RFECV(estimator=LogisticRegression(class_weight = 'balanced', max_iter = 1000), step = 1, cv = 3, scoring = 'f1', n_jobs = -1, verbose = 1)\n",
    "rfe_lr.fit(X_train_sc, y_train)\n",
    "# X_train_sc.columns[rfe_lr.get_support()]"
   ]
  },
  {
   "cell_type": "code",
   "execution_count": 107,
   "metadata": {},
   "outputs": [
    {
     "name": "stdout",
     "output_type": "stream",
     "text": [
      "Fitting estimator with 64 features.\n",
      "Fitting estimator with 63 features.\n",
      "Fitting estimator with 62 features.\n",
      "Fitting estimator with 61 features.\n",
      "Fitting estimator with 60 features.\n",
      "Fitting estimator with 59 features.\n",
      "Fitting estimator with 58 features.\n",
      "Fitting estimator with 57 features.\n",
      "Fitting estimator with 56 features.\n",
      "Fitting estimator with 55 features.\n",
      "Fitting estimator with 54 features.\n",
      "Fitting estimator with 53 features.\n",
      "Fitting estimator with 52 features.\n",
      "Fitting estimator with 51 features.\n",
      "Fitting estimator with 50 features.\n",
      "Fitting estimator with 49 features.\n",
      "Fitting estimator with 64 features.\n",
      "Fitting estimator with 63 features.\n",
      "Fitting estimator with 62 features.\n",
      "Fitting estimator with 61 features.\n",
      "Fitting estimator with 60 features.\n",
      "Fitting estimator with 59 features.\n",
      "Fitting estimator with 58 features.\n",
      "Fitting estimator with 57 features.\n",
      "Fitting estimator with 56 features.\n",
      "Fitting estimator with 55 features.\n",
      "Fitting estimator with 54 features.\n",
      "Fitting estimator with 53 features.\n",
      "Fitting estimator with 52 features.\n",
      "Fitting estimator with 51 features.\n",
      "Fitting estimator with 50 features.\n",
      "Fitting estimator with 49 features.\n",
      "Fitting estimator with 48 features.\n",
      "Fitting estimator with 47 features.\n",
      "Fitting estimator with 46 features.\n",
      "Fitting estimator with 45 features.\n",
      "Fitting estimator with 44 features.\n",
      "Fitting estimator with 43 features.\n",
      "Fitting estimator with 42 features.\n",
      "Fitting estimator with 41 features.\n",
      "Fitting estimator with 40 features.\n",
      "Fitting estimator with 39 features.\n",
      "Fitting estimator with 38 features.\n",
      "Fitting estimator with 37 features.\n",
      "Fitting estimator with 36 features.\n",
      "Fitting estimator with 35 features.\n",
      "Fitting estimator with 34 features.\n",
      "Fitting estimator with 33 features.\n",
      "Fitting estimator with 32 features.\n",
      "Fitting estimator with 31 features.\n",
      "Fitting estimator with 30 features.\n",
      "Fitting estimator with 29 features.\n",
      "Fitting estimator with 28 features.\n",
      "Fitting estimator with 27 features.\n",
      "Fitting estimator with 26 features.\n",
      "Fitting estimator with 25 features.\n",
      "Fitting estimator with 24 features.\n",
      "Fitting estimator with 23 features.\n",
      "Fitting estimator with 22 features.\n",
      "Fitting estimator with 21 features.\n",
      "Fitting estimator with 20 features.\n",
      "Fitting estimator with 64 features.\n",
      "Fitting estimator with 63 features.\n",
      "Fitting estimator with 62 features.\n",
      "Fitting estimator with 61 features.\n",
      "Fitting estimator with 60 features.\n",
      "Fitting estimator with 59 features.\n",
      "Fitting estimator with 58 features.\n",
      "Fitting estimator with 57 features.\n",
      "Fitting estimator with 56 features.\n",
      "Fitting estimator with 55 features.\n",
      "Fitting estimator with 54 features.\n",
      "Fitting estimator with 53 features.\n",
      "Fitting estimator with 52 features.\n",
      "Fitting estimator with 51 features.\n",
      "Fitting estimator with 50 features.\n",
      "Fitting estimator with 49 features.\n",
      "Fitting estimator with 48 features.\n",
      "Fitting estimator with 47 features.\n",
      "Fitting estimator with 46 features.\n",
      "Fitting estimator with 45 features.\n",
      "Fitting estimator with 44 features.\n"
     ]
    },
    {
     "data": {
      "text/plain": [
       "array([0.90588235, 0.90855457, 0.86430678])"
      ]
     },
     "execution_count": 107,
     "metadata": {},
     "output_type": "execute_result"
    }
   ],
   "source": [
    "cross_val_score(rfe_lr, X_train_sc, y_train, cv=3)"
   ]
  },
  {
   "cell_type": "code",
   "execution_count": 108,
   "metadata": {},
   "outputs": [],
   "source": [
    "selected_rfe = X_train_sc.columns[rfe_lr.support_]\n",
    "removed_rfe = X_train_sc.columns[~rfe_lr.support_]"
   ]
  },
  {
   "cell_type": "code",
   "execution_count": 109,
   "metadata": {},
   "outputs": [],
   "source": [
    "#instantiate a logistic regression object\n",
    "lr_rfe = LogisticRegression(class_weight = 'balanced')\n",
    "\n",
    "#fit the linear regression to the data\n",
    "lr_rfe = lr_rfe.fit(X_train_sc[selected_rfe], y_train)\n",
    "\n",
    "#Use the model to predict on the training and test set\n",
    "y_rfe = lr_rfe.predict(X_train_sc[selected_rfe])"
   ]
  },
  {
   "cell_type": "code",
   "execution_count": 110,
   "metadata": {},
   "outputs": [],
   "source": [
    "y_train_pred_rfe = lr_rfe.predict(X_train_sc[selected_rfe])\n",
    "y_pred_rfe = lr_rfe.predict(X_test_sc[selected_rfe])"
   ]
  },
  {
   "cell_type": "code",
   "execution_count": 111,
   "metadata": {},
   "outputs": [
    {
     "data": {
      "text/html": [
       "<div>\n",
       "<style scoped>\n",
       "    .dataframe tbody tr th:only-of-type {\n",
       "        vertical-align: middle;\n",
       "    }\n",
       "\n",
       "    .dataframe tbody tr th {\n",
       "        vertical-align: top;\n",
       "    }\n",
       "\n",
       "    .dataframe thead th {\n",
       "        text-align: right;\n",
       "    }\n",
       "</style>\n",
       "<table border=\"1\" class=\"dataframe\">\n",
       "  <thead>\n",
       "    <tr style=\"text-align: right;\">\n",
       "      <th></th>\n",
       "      <th>Model</th>\n",
       "      <th>Accuracy</th>\n",
       "      <th>Precision</th>\n",
       "      <th>Recall</th>\n",
       "      <th>F1 Score</th>\n",
       "    </tr>\n",
       "  </thead>\n",
       "  <tbody>\n",
       "    <tr>\n",
       "      <th>0</th>\n",
       "      <td>LR_RFE Model</td>\n",
       "      <td>0.894118</td>\n",
       "      <td>0.384615</td>\n",
       "      <td>0.833333</td>\n",
       "      <td>0.526316</td>\n",
       "    </tr>\n",
       "  </tbody>\n",
       "</table>\n",
       "</div>"
      ],
      "text/plain": [
       "          Model  Accuracy  Precision    Recall  F1 Score\n",
       "0  LR_RFE Model  0.894118   0.384615  0.833333  0.526316"
      ]
     },
     "execution_count": 111,
     "metadata": {},
     "output_type": "execute_result"
    }
   ],
   "source": [
    "acc_rfe = accuracy_score(y_test, y_pred_rfe)\n",
    "prec_rfe = precision_score(y_test, y_pred_rfe)\n",
    "rec_rfe = recall_score(y_test, y_pred_rfe)\n",
    "f1_rfe = f1_score(y_test, y_pred_rfe)\n",
    "\n",
    "results = pd.DataFrame([['LR_RFE Model', acc_rfe, prec_rfe, rec_rfe, f1_rfe]],\n",
    "               columns = ['Model', 'Accuracy', 'Precision', 'Recall', 'F1 Score'])\n",
    "# results = results.append(rfe_model, ignore_index = True)\n",
    "results"
   ]
  },
  {
   "cell_type": "code",
   "execution_count": 112,
   "metadata": {},
   "outputs": [
    {
     "data": {
      "text/plain": [
       "Index(['STL', 'PTS', 'WS_2', 'ppg_2', 'rpg_2', 'spg_2', 'ftpg_2', 'PER_2',\n",
       "       'VORP_2', 'WS_3', 'ppg_3', 'rpg_3', 'spg_3', 'tpg_3', 'ftpg_3', 'PER_3',\n",
       "       'OWS_3', 'DWS_3', 'VORP_3'],\n",
       "      dtype='object')"
      ]
     },
     "execution_count": 112,
     "metadata": {},
     "output_type": "execute_result"
    }
   ],
   "source": [
    "rfe_rf = RFECV(estimator=RandomForestClassifier(random_state = 42))\n",
    "rfe_rf.fit(X_train_sc, y_train)\n",
    "X_train_sc.columns[rfe_rf.get_support()]"
   ]
  },
  {
   "cell_type": "code",
   "execution_count": 114,
   "metadata": {},
   "outputs": [],
   "source": [
    "selected_rfe = X_train_sc.columns[rfe_rf.support_]\n",
    "removed_rfe = X_train_sc.columns[~rfe_rf.support_]"
   ]
  },
  {
   "cell_type": "code",
   "execution_count": 120,
   "metadata": {},
   "outputs": [
    {
     "data": {
      "text/html": [
       "<div>\n",
       "<style scoped>\n",
       "    .dataframe tbody tr th:only-of-type {\n",
       "        vertical-align: middle;\n",
       "    }\n",
       "\n",
       "    .dataframe tbody tr th {\n",
       "        vertical-align: top;\n",
       "    }\n",
       "\n",
       "    .dataframe thead th {\n",
       "        text-align: right;\n",
       "    }\n",
       "</style>\n",
       "<table border=\"1\" class=\"dataframe\">\n",
       "  <thead>\n",
       "    <tr style=\"text-align: right;\">\n",
       "      <th></th>\n",
       "      <th>STL</th>\n",
       "      <th>PTS</th>\n",
       "      <th>WS_2</th>\n",
       "      <th>rpg_2</th>\n",
       "      <th>ftpg_2</th>\n",
       "      <th>PER_2</th>\n",
       "      <th>VORP_2</th>\n",
       "      <th>WS_3</th>\n",
       "      <th>rpg_3</th>\n",
       "      <th>spg_3</th>\n",
       "      <th>tpg_3</th>\n",
       "      <th>ftpg_3</th>\n",
       "      <th>PER_3</th>\n",
       "      <th>VORP_3</th>\n",
       "    </tr>\n",
       "  </thead>\n",
       "  <tbody>\n",
       "    <tr>\n",
       "      <th>STL</th>\n",
       "      <td>1.000000</td>\n",
       "      <td>0.748175</td>\n",
       "      <td>0.628512</td>\n",
       "      <td>0.348136</td>\n",
       "      <td>0.605545</td>\n",
       "      <td>0.487642</td>\n",
       "      <td>0.679451</td>\n",
       "      <td>0.595871</td>\n",
       "      <td>0.294812</td>\n",
       "      <td>0.880858</td>\n",
       "      <td>0.703182</td>\n",
       "      <td>0.567637</td>\n",
       "      <td>0.460649</td>\n",
       "      <td>0.654883</td>\n",
       "    </tr>\n",
       "    <tr>\n",
       "      <th>PTS</th>\n",
       "      <td>0.748175</td>\n",
       "      <td>1.000000</td>\n",
       "      <td>0.761023</td>\n",
       "      <td>0.593014</td>\n",
       "      <td>0.842922</td>\n",
       "      <td>0.633662</td>\n",
       "      <td>0.696477</td>\n",
       "      <td>0.740556</td>\n",
       "      <td>0.536769</td>\n",
       "      <td>0.603171</td>\n",
       "      <td>0.791555</td>\n",
       "      <td>0.815269</td>\n",
       "      <td>0.609791</td>\n",
       "      <td>0.694026</td>\n",
       "    </tr>\n",
       "    <tr>\n",
       "      <th>WS_2</th>\n",
       "      <td>0.628512</td>\n",
       "      <td>0.761023</td>\n",
       "      <td>1.000000</td>\n",
       "      <td>0.665010</td>\n",
       "      <td>0.718994</td>\n",
       "      <td>0.702373</td>\n",
       "      <td>0.886782</td>\n",
       "      <td>0.713081</td>\n",
       "      <td>0.555354</td>\n",
       "      <td>0.485882</td>\n",
       "      <td>0.577199</td>\n",
       "      <td>0.625552</td>\n",
       "      <td>0.531280</td>\n",
       "      <td>0.655942</td>\n",
       "    </tr>\n",
       "    <tr>\n",
       "      <th>rpg_2</th>\n",
       "      <td>0.348136</td>\n",
       "      <td>0.593014</td>\n",
       "      <td>0.665010</td>\n",
       "      <td>1.000000</td>\n",
       "      <td>0.605308</td>\n",
       "      <td>0.567661</td>\n",
       "      <td>0.482809</td>\n",
       "      <td>0.519179</td>\n",
       "      <td>0.834168</td>\n",
       "      <td>0.225758</td>\n",
       "      <td>0.452241</td>\n",
       "      <td>0.501558</td>\n",
       "      <td>0.444860</td>\n",
       "      <td>0.406114</td>\n",
       "    </tr>\n",
       "    <tr>\n",
       "      <th>ftpg_2</th>\n",
       "      <td>0.605545</td>\n",
       "      <td>0.842922</td>\n",
       "      <td>0.718994</td>\n",
       "      <td>0.605308</td>\n",
       "      <td>1.000000</td>\n",
       "      <td>0.671507</td>\n",
       "      <td>0.647154</td>\n",
       "      <td>0.622056</td>\n",
       "      <td>0.479906</td>\n",
       "      <td>0.490523</td>\n",
       "      <td>0.710085</td>\n",
       "      <td>0.834494</td>\n",
       "      <td>0.544213</td>\n",
       "      <td>0.599855</td>\n",
       "    </tr>\n",
       "    <tr>\n",
       "      <th>PER_2</th>\n",
       "      <td>0.487642</td>\n",
       "      <td>0.633662</td>\n",
       "      <td>0.702373</td>\n",
       "      <td>0.567661</td>\n",
       "      <td>0.671507</td>\n",
       "      <td>1.000000</td>\n",
       "      <td>0.676417</td>\n",
       "      <td>0.585004</td>\n",
       "      <td>0.492632</td>\n",
       "      <td>0.415372</td>\n",
       "      <td>0.523190</td>\n",
       "      <td>0.590920</td>\n",
       "      <td>0.581705</td>\n",
       "      <td>0.566160</td>\n",
       "    </tr>\n",
       "    <tr>\n",
       "      <th>VORP_2</th>\n",
       "      <td>0.679451</td>\n",
       "      <td>0.696477</td>\n",
       "      <td>0.886782</td>\n",
       "      <td>0.482809</td>\n",
       "      <td>0.647154</td>\n",
       "      <td>0.676417</td>\n",
       "      <td>1.000000</td>\n",
       "      <td>0.676111</td>\n",
       "      <td>0.416595</td>\n",
       "      <td>0.579502</td>\n",
       "      <td>0.588627</td>\n",
       "      <td>0.589687</td>\n",
       "      <td>0.537235</td>\n",
       "      <td>0.754237</td>\n",
       "    </tr>\n",
       "    <tr>\n",
       "      <th>WS_3</th>\n",
       "      <td>0.595871</td>\n",
       "      <td>0.740556</td>\n",
       "      <td>0.713081</td>\n",
       "      <td>0.519179</td>\n",
       "      <td>0.622056</td>\n",
       "      <td>0.585004</td>\n",
       "      <td>0.676111</td>\n",
       "      <td>1.000000</td>\n",
       "      <td>0.634236</td>\n",
       "      <td>0.575735</td>\n",
       "      <td>0.608627</td>\n",
       "      <td>0.762767</td>\n",
       "      <td>0.726167</td>\n",
       "      <td>0.905326</td>\n",
       "    </tr>\n",
       "    <tr>\n",
       "      <th>rpg_3</th>\n",
       "      <td>0.294812</td>\n",
       "      <td>0.536769</td>\n",
       "      <td>0.555354</td>\n",
       "      <td>0.834168</td>\n",
       "      <td>0.479906</td>\n",
       "      <td>0.492632</td>\n",
       "      <td>0.416595</td>\n",
       "      <td>0.634236</td>\n",
       "      <td>1.000000</td>\n",
       "      <td>0.280247</td>\n",
       "      <td>0.521476</td>\n",
       "      <td>0.573384</td>\n",
       "      <td>0.549910</td>\n",
       "      <td>0.470354</td>\n",
       "    </tr>\n",
       "    <tr>\n",
       "      <th>spg_3</th>\n",
       "      <td>0.880858</td>\n",
       "      <td>0.603171</td>\n",
       "      <td>0.485882</td>\n",
       "      <td>0.225758</td>\n",
       "      <td>0.490523</td>\n",
       "      <td>0.415372</td>\n",
       "      <td>0.579502</td>\n",
       "      <td>0.575735</td>\n",
       "      <td>0.280247</td>\n",
       "      <td>1.000000</td>\n",
       "      <td>0.703657</td>\n",
       "      <td>0.562563</td>\n",
       "      <td>0.502415</td>\n",
       "      <td>0.657844</td>\n",
       "    </tr>\n",
       "    <tr>\n",
       "      <th>tpg_3</th>\n",
       "      <td>0.703182</td>\n",
       "      <td>0.791555</td>\n",
       "      <td>0.577199</td>\n",
       "      <td>0.452241</td>\n",
       "      <td>0.710085</td>\n",
       "      <td>0.523190</td>\n",
       "      <td>0.588627</td>\n",
       "      <td>0.608627</td>\n",
       "      <td>0.521476</td>\n",
       "      <td>0.703657</td>\n",
       "      <td>1.000000</td>\n",
       "      <td>0.794065</td>\n",
       "      <td>0.538728</td>\n",
       "      <td>0.610718</td>\n",
       "    </tr>\n",
       "    <tr>\n",
       "      <th>ftpg_3</th>\n",
       "      <td>0.567637</td>\n",
       "      <td>0.815269</td>\n",
       "      <td>0.625552</td>\n",
       "      <td>0.501558</td>\n",
       "      <td>0.834494</td>\n",
       "      <td>0.590920</td>\n",
       "      <td>0.589687</td>\n",
       "      <td>0.762767</td>\n",
       "      <td>0.573384</td>\n",
       "      <td>0.562563</td>\n",
       "      <td>0.794065</td>\n",
       "      <td>1.000000</td>\n",
       "      <td>0.688639</td>\n",
       "      <td>0.716333</td>\n",
       "    </tr>\n",
       "    <tr>\n",
       "      <th>PER_3</th>\n",
       "      <td>0.460649</td>\n",
       "      <td>0.609791</td>\n",
       "      <td>0.531280</td>\n",
       "      <td>0.444860</td>\n",
       "      <td>0.544213</td>\n",
       "      <td>0.581705</td>\n",
       "      <td>0.537235</td>\n",
       "      <td>0.726167</td>\n",
       "      <td>0.549910</td>\n",
       "      <td>0.502415</td>\n",
       "      <td>0.538728</td>\n",
       "      <td>0.688639</td>\n",
       "      <td>1.000000</td>\n",
       "      <td>0.710580</td>\n",
       "    </tr>\n",
       "    <tr>\n",
       "      <th>VORP_3</th>\n",
       "      <td>0.654883</td>\n",
       "      <td>0.694026</td>\n",
       "      <td>0.655942</td>\n",
       "      <td>0.406114</td>\n",
       "      <td>0.599855</td>\n",
       "      <td>0.566160</td>\n",
       "      <td>0.754237</td>\n",
       "      <td>0.905326</td>\n",
       "      <td>0.470354</td>\n",
       "      <td>0.657844</td>\n",
       "      <td>0.610718</td>\n",
       "      <td>0.716333</td>\n",
       "      <td>0.710580</td>\n",
       "      <td>1.000000</td>\n",
       "    </tr>\n",
       "  </tbody>\n",
       "</table>\n",
       "</div>"
      ],
      "text/plain": [
       "             STL       PTS      WS_2     rpg_2    ftpg_2     PER_2    VORP_2  \\\n",
       "STL     1.000000  0.748175  0.628512  0.348136  0.605545  0.487642  0.679451   \n",
       "PTS     0.748175  1.000000  0.761023  0.593014  0.842922  0.633662  0.696477   \n",
       "WS_2    0.628512  0.761023  1.000000  0.665010  0.718994  0.702373  0.886782   \n",
       "rpg_2   0.348136  0.593014  0.665010  1.000000  0.605308  0.567661  0.482809   \n",
       "ftpg_2  0.605545  0.842922  0.718994  0.605308  1.000000  0.671507  0.647154   \n",
       "PER_2   0.487642  0.633662  0.702373  0.567661  0.671507  1.000000  0.676417   \n",
       "VORP_2  0.679451  0.696477  0.886782  0.482809  0.647154  0.676417  1.000000   \n",
       "WS_3    0.595871  0.740556  0.713081  0.519179  0.622056  0.585004  0.676111   \n",
       "rpg_3   0.294812  0.536769  0.555354  0.834168  0.479906  0.492632  0.416595   \n",
       "spg_3   0.880858  0.603171  0.485882  0.225758  0.490523  0.415372  0.579502   \n",
       "tpg_3   0.703182  0.791555  0.577199  0.452241  0.710085  0.523190  0.588627   \n",
       "ftpg_3  0.567637  0.815269  0.625552  0.501558  0.834494  0.590920  0.589687   \n",
       "PER_3   0.460649  0.609791  0.531280  0.444860  0.544213  0.581705  0.537235   \n",
       "VORP_3  0.654883  0.694026  0.655942  0.406114  0.599855  0.566160  0.754237   \n",
       "\n",
       "            WS_3     rpg_3     spg_3     tpg_3    ftpg_3     PER_3    VORP_3  \n",
       "STL     0.595871  0.294812  0.880858  0.703182  0.567637  0.460649  0.654883  \n",
       "PTS     0.740556  0.536769  0.603171  0.791555  0.815269  0.609791  0.694026  \n",
       "WS_2    0.713081  0.555354  0.485882  0.577199  0.625552  0.531280  0.655942  \n",
       "rpg_2   0.519179  0.834168  0.225758  0.452241  0.501558  0.444860  0.406114  \n",
       "ftpg_2  0.622056  0.479906  0.490523  0.710085  0.834494  0.544213  0.599855  \n",
       "PER_2   0.585004  0.492632  0.415372  0.523190  0.590920  0.581705  0.566160  \n",
       "VORP_2  0.676111  0.416595  0.579502  0.588627  0.589687  0.537235  0.754237  \n",
       "WS_3    1.000000  0.634236  0.575735  0.608627  0.762767  0.726167  0.905326  \n",
       "rpg_3   0.634236  1.000000  0.280247  0.521476  0.573384  0.549910  0.470354  \n",
       "spg_3   0.575735  0.280247  1.000000  0.703657  0.562563  0.502415  0.657844  \n",
       "tpg_3   0.608627  0.521476  0.703657  1.000000  0.794065  0.538728  0.610718  \n",
       "ftpg_3  0.762767  0.573384  0.562563  0.794065  1.000000  0.688639  0.716333  \n",
       "PER_3   0.726167  0.549910  0.502415  0.538728  0.688639  1.000000  0.710580  \n",
       "VORP_3  0.905326  0.470354  0.657844  0.610718  0.716333  0.710580  1.000000  "
      ]
     },
     "execution_count": 120,
     "metadata": {},
     "output_type": "execute_result"
    }
   ],
   "source": [
    "X_train[['STL', 'PTS', 'WS_2', 'rpg_2', 'ftpg_2', 'PER_2',\n",
    "       'VORP_2', 'WS_3', 'rpg_3', 'spg_3', 'tpg_3', 'ftpg_3', 'PER_3', 'VORP_3']].corr()"
   ]
  },
  {
   "cell_type": "code",
   "execution_count": 103,
   "metadata": {},
   "outputs": [],
   "source": [
    "#instantiate a RF object\n",
    "rf_rfe = RandomForestClassifier(random_state = 42)\n",
    "\n",
    "#fit the linear regression to the data\n",
    "rf_rfe = rf_rfe.fit(X_train_sc[selected_rfe], y_train)\n",
    "\n",
    "#Use the model to predict on the training and test set\n",
    "y_rfe = rf_rfe.predict(X_train_sc[selected_rfe])"
   ]
  },
  {
   "cell_type": "code",
   "execution_count": 104,
   "metadata": {},
   "outputs": [],
   "source": [
    "y_train_pred_rfe = rf_rfe.predict(X_train_sc[selected_rfe])\n",
    "y_pred_rfe = rf_rfe.predict(X_test_sc[selected_rfe])"
   ]
  },
  {
   "cell_type": "code",
   "execution_count": 105,
   "metadata": {},
   "outputs": [
    {
     "data": {
      "text/html": [
       "<div>\n",
       "<style scoped>\n",
       "    .dataframe tbody tr th:only-of-type {\n",
       "        vertical-align: middle;\n",
       "    }\n",
       "\n",
       "    .dataframe tbody tr th {\n",
       "        vertical-align: top;\n",
       "    }\n",
       "\n",
       "    .dataframe thead th {\n",
       "        text-align: right;\n",
       "    }\n",
       "</style>\n",
       "<table border=\"1\" class=\"dataframe\">\n",
       "  <thead>\n",
       "    <tr style=\"text-align: right;\">\n",
       "      <th></th>\n",
       "      <th>Model</th>\n",
       "      <th>Accuracy</th>\n",
       "      <th>Precision</th>\n",
       "      <th>Recall</th>\n",
       "      <th>F1 Score</th>\n",
       "    </tr>\n",
       "  </thead>\n",
       "  <tbody>\n",
       "    <tr>\n",
       "      <th>0</th>\n",
       "      <td>LR_RFE Model</td>\n",
       "      <td>0.894118</td>\n",
       "      <td>0.384615</td>\n",
       "      <td>0.833333</td>\n",
       "      <td>0.526316</td>\n",
       "    </tr>\n",
       "    <tr>\n",
       "      <th>1</th>\n",
       "      <td>RF_RFE Model</td>\n",
       "      <td>0.941176</td>\n",
       "      <td>0.600000</td>\n",
       "      <td>0.500000</td>\n",
       "      <td>0.545455</td>\n",
       "    </tr>\n",
       "  </tbody>\n",
       "</table>\n",
       "</div>"
      ],
      "text/plain": [
       "          Model  Accuracy  Precision    Recall  F1 Score\n",
       "0  LR_RFE Model  0.894118   0.384615  0.833333  0.526316\n",
       "1  RF_RFE Model  0.941176   0.600000  0.500000  0.545455"
      ]
     },
     "execution_count": 105,
     "metadata": {},
     "output_type": "execute_result"
    }
   ],
   "source": [
    "acc_rfe = accuracy_score(y_test, y_pred_rfe)\n",
    "prec_rfe = precision_score(y_test, y_pred_rfe)\n",
    "rec_rfe = recall_score(y_test, y_pred_rfe)\n",
    "f1_rfe = f1_score(y_test, y_pred_rfe)\n",
    "\n",
    "rf_rfe = pd.DataFrame([['RF_RFE Model', acc_rfe, prec_rfe, rec_rfe, f1_rfe]],\n",
    "               columns = ['Model', 'Accuracy', 'Precision', 'Recall', 'F1 Score'])\n",
    "results = results.append(rf_rfe, ignore_index = True)\n",
    "results"
   ]
  },
  {
   "cell_type": "markdown",
   "metadata": {},
   "source": [
    "#### ..."
   ]
  },
  {
   "cell_type": "code",
   "execution_count": 121,
   "metadata": {},
   "outputs": [],
   "source": [
    "#final columns based on recursive feature elimination\n",
    "final_cols = ['STL', 'PTS', 'WS_2', 'rpg_2', 'ftpg_2', 'PER_2',\n",
    "       'VORP_2', 'WS_3', 'rpg_3', 'spg_3', 'tpg_3', 'ftpg_3', 'PER_3', 'VORP_3']"
   ]
  },
  {
   "cell_type": "code",
   "execution_count": 122,
   "metadata": {},
   "outputs": [],
   "source": [
    "# create function to call for evaluation of each model\n",
    "\n",
    "def metrics_score(train_preds, y_train, test_preds, y_test):\n",
    "    print(f\"Training Accuracy:\\t{accuracy_score(y_train, train_preds):.4}\",\n",
    "          f\"\\tTesting Accuracy:\\t{accuracy_score(y_test, test_preds):.4}\")\n",
    "    print(f\"Training Precision:\\t{precision_score(y_train, train_preds):.4}\",\n",
    "          f\"\\tTesting Precision:\\t{precision_score(y_test, test_preds):.4}\")\n",
    "    print(f\"Training Recall:\\t{recall_score(y_train, train_preds):.4}\",\n",
    "          f\"\\tTesting Recall:\\t\\t{recall_score(y_test, test_preds):.4}\")\n",
    "    print(f\"Training F1:\\t\\t{f1_score(y_train, train_preds):.4}\",\n",
    "          f\"\\tTesting F1:\\t\\t{f1_score(y_test, test_preds):.4}\")"
   ]
  },
  {
   "cell_type": "markdown",
   "metadata": {},
   "source": [
    "#### Logistic Regression GS Model w/ RFE selected features"
   ]
  },
  {
   "cell_type": "code",
   "execution_count": 123,
   "metadata": {},
   "outputs": [],
   "source": [
    "ss = StandardScaler()\n",
    "train_scaled = ss.fit_transform(X_train[final_cols])\n",
    "test_scaled = ss.transform(X_test[final_cols])\n",
    "\n",
    "scorer = make_scorer(recall_score, average='weighted')"
   ]
  },
  {
   "cell_type": "code",
   "execution_count": 124,
   "metadata": {},
   "outputs": [],
   "source": [
    "C = np.logspace(0, 1, 10)\n",
    "\n",
    "params = dict(C=C, max_iter=[50, 100])\n",
    "\n",
    "logistic = LogisticRegression(penalty='l2', class_weight='balanced', random_state=42)\n",
    "\n",
    "grid_search_LR = GridSearchCV(estimator = logistic,scoring=scorer, param_grid = params, \n",
    "                              cv = 3, n_jobs = -1, verbose = 2)"
   ]
  },
  {
   "cell_type": "code",
   "execution_count": 125,
   "metadata": {},
   "outputs": [
    {
     "name": "stdout",
     "output_type": "stream",
     "text": [
      "Fitting 3 folds for each of 20 candidates, totalling 60 fits\n"
     ]
    },
    {
     "name": "stderr",
     "output_type": "stream",
     "text": [
      "[Parallel(n_jobs=-1)]: Using backend LokyBackend with 4 concurrent workers.\n",
      "[Parallel(n_jobs=-1)]: Done  33 tasks      | elapsed:    5.0s\n",
      "[Parallel(n_jobs=-1)]: Done  60 out of  60 | elapsed:    5.7s finished\n"
     ]
    },
    {
     "data": {
      "text/plain": [
       "GridSearchCV(cv=3,\n",
       "             estimator=LogisticRegression(class_weight='balanced',\n",
       "                                          random_state=42),\n",
       "             n_jobs=-1,\n",
       "             param_grid={'C': array([ 1.        ,  1.29154967,  1.66810054,  2.15443469,  2.7825594 ,\n",
       "        3.59381366,  4.64158883,  5.9948425 ,  7.74263683, 10.        ]),\n",
       "                         'max_iter': [50, 100]},\n",
       "             scoring=make_scorer(recall_score, average=weighted), verbose=2)"
      ]
     },
     "execution_count": 125,
     "metadata": {},
     "output_type": "execute_result"
    }
   ],
   "source": [
    "grid_search_LR.fit(train_scaled, y_train)"
   ]
  },
  {
   "cell_type": "code",
   "execution_count": 126,
   "metadata": {},
   "outputs": [
    {
     "name": "stdout",
     "output_type": "stream",
     "text": [
      "Training Accuracy:\t0.889 \tTesting Accuracy:\t0.8627\n",
      "Training Precision:\t0.3815 \tTesting Precision:\t0.3111\n",
      "Training Recall:\t0.9167 \tTesting Recall:\t\t0.7778\n",
      "Training F1:\t\t0.5388 \tTesting F1:\t\t0.4444\n"
     ]
    }
   ],
   "source": [
    "lr_train_preds = grid_search_LR.best_estimator_.predict(train_scaled)\n",
    "lr_test_preds = grid_search_LR.best_estimator_.predict(test_scaled)\n",
    "metrics_score(lr_train_preds, y_train, lr_test_preds, y_test)"
   ]
  },
  {
   "cell_type": "code",
   "execution_count": 127,
   "metadata": {},
   "outputs": [
    {
     "data": {
      "image/png": "[encoded data removed]",
      "text/plain": [
       "<Figure size 432x288 with 2 Axes>"
      ]
     },
     "metadata": {
      "needs_background": "light"
     },
     "output_type": "display_data"
    }
   ],
   "source": [
    "fig, ax = plt.subplots()\n",
    "\n",
    "fig.suptitle(\"Logistic Regression Model\")\n",
    "\n",
    "plot_confusion_matrix(grid_search_LR, test_scaled, y_test, ax=ax, cmap=\"YlGnBu\");"
   ]
  },
  {
   "cell_type": "markdown",
   "metadata": {},
   "source": [
    "##### w/ resampling"
   ]
  },
  {
   "cell_type": "code",
   "execution_count": 131,
   "metadata": {},
   "outputs": [
    {
     "name": "stdout",
     "output_type": "stream",
     "text": [
      "Fitting 3 folds for each of 20 candidates, totalling 60 fits\n"
     ]
    },
    {
     "name": "stderr",
     "output_type": "stream",
     "text": [
      "[Parallel(n_jobs=-1)]: Using backend LokyBackend with 4 concurrent workers.\n",
      "[Parallel(n_jobs=-1)]: Done  53 out of  60 | elapsed:    0.8s remaining:    0.1s\n",
      "[Parallel(n_jobs=-1)]: Done  60 out of  60 | elapsed:    0.9s finished\n"
     ]
    },
    {
     "data": {
      "text/plain": [
       "GridSearchCV(cv=3,\n",
       "             estimator=LogisticRegression(class_weight='balanced',\n",
       "                                          random_state=42),\n",
       "             n_jobs=-1,\n",
       "             param_grid={'C': array([ 1.        ,  1.29154967,  1.66810054,  2.15443469,  2.7825594 ,\n",
       "        3.59381366,  4.64158883,  5.9948425 ,  7.74263683, 10.        ]),\n",
       "                         'max_iter': [50, 100]},\n",
       "             scoring=make_scorer(recall_score, average=weighted), verbose=2)"
      ]
     },
     "execution_count": 131,
     "metadata": {},
     "output_type": "execute_result"
    }
   ],
   "source": [
    "# t1 = TomekLinks()\n",
    "# X_train_tl, y_train_tl = tl.fit_resample(X_train, y_train)\n",
    "\n",
    "sm = SMOTE(random_state = 42)\n",
    "X_train_sm, y_train_sm = sm.fit_sample(train_scaled, y_train.ravel())\n",
    "\n",
    "C = np.logspace(0, 1, 10)\n",
    "\n",
    "params = dict(C=C, max_iter=[50, 100])\n",
    "\n",
    "logistic = LogisticRegression(penalty='l2', class_weight='balanced', random_state=42)\n",
    "\n",
    "grid_search_LR_sm = GridSearchCV(estimator = logistic,scoring=scorer, param_grid = params, \n",
    "                              cv = 3, n_jobs = -1, verbose = 2)\n",
    "grid_search_LR_sm.fit(X_train_sm, y_train_sm)"
   ]
  },
  {
   "cell_type": "code",
   "execution_count": 132,
   "metadata": {},
   "outputs": [
    {
     "name": "stdout",
     "output_type": "stream",
     "text": [
      "Training Accuracy:\t0.9281 \tTesting Accuracy:\t0.8706\n",
      "Training Precision:\t0.9066 \tTesting Precision:\t0.3333\n",
      "Training Recall:\t0.9545 \tTesting Recall:\t\t0.8333\n",
      "Training F1:\t\t0.93 \tTesting F1:\t\t0.4762\n"
     ]
    }
   ],
   "source": [
    "lr_train_preds_sm = grid_search_LR_sm.best_estimator_.predict(X_train_sm)\n",
    "lr_test_preds_sm = grid_search_LR_sm.best_estimator_.predict(test_scaled)\n",
    "metrics_score(lr_train_preds_sm, y_train_sm, lr_test_preds_sm, y_test)"
   ]
  },
  {
   "cell_type": "code",
   "execution_count": 133,
   "metadata": {},
   "outputs": [
    {
     "data": {
      "image/png": "[encoded data removed]",
      "text/plain": [
       "<Figure size 432x288 with 2 Axes>"
      ]
     },
     "metadata": {
      "needs_background": "light"
     },
     "output_type": "display_data"
    }
   ],
   "source": [
    "fig, ax = plt.subplots()\n",
    "\n",
    "fig.suptitle(\"Logistic Regression Model w/ SMOTE\")\n",
    "\n",
    "plot_confusion_matrix(grid_search_LR_sm, test_scaled, y_test, ax=ax, cmap=\"YlGnBu\");"
   ]
  },
  {
   "cell_type": "code",
   "execution_count": null,
   "metadata": {},
   "outputs": [],
   "source": [
    "X_train_smt, y_train_smt"
   ]
  },
  {
   "cell_type": "markdown",
   "metadata": {},
   "source": [
    "#### Random Forest GS Model w/ RFE Features"
   ]
  },
  {
   "cell_type": "code",
   "execution_count": 135,
   "metadata": {},
   "outputs": [],
   "source": [
    "params = { \n",
    "    'n_estimators': [10, 25, 50, 100, 200, 500],\n",
    "    'max_features': ['sqrt', 'auto', 'log2'],\n",
    "    'max_depth' : [2,4,6,8,10,12,15,20],\n",
    "    'criterion' :['gini', 'entropy']\n",
    "}\n",
    "\n",
    "rf = RandomForestClassifier(random_state = 42)\n",
    "\n",
    "grid_search_RF = GridSearchCV(estimator=rf, param_grid=params, scoring=scorer, \n",
    "                              cv = 5, n_jobs = -1, verbose = 2)"
   ]
  },
  {
   "cell_type": "code",
   "execution_count": 136,
   "metadata": {},
   "outputs": [
    {
     "name": "stdout",
     "output_type": "stream",
     "text": [
      "Fitting 5 folds for each of 288 candidates, totalling 1440 fits\n"
     ]
    },
    {
     "name": "stderr",
     "output_type": "stream",
     "text": [
      "[Parallel(n_jobs=-1)]: Using backend LokyBackend with 4 concurrent workers.\n",
      "[Parallel(n_jobs=-1)]: Done  33 tasks      | elapsed:    4.1s\n",
      "[Parallel(n_jobs=-1)]: Done 154 tasks      | elapsed:   29.6s\n",
      "[Parallel(n_jobs=-1)]: Done 357 tasks      | elapsed:  1.3min\n",
      "[Parallel(n_jobs=-1)]: Done 640 tasks      | elapsed:  2.5min\n",
      "[Parallel(n_jobs=-1)]: Done 1005 tasks      | elapsed:  4.0min\n",
      "[Parallel(n_jobs=-1)]: Done 1440 out of 1440 | elapsed:  5.8min finished\n"
     ]
    },
    {
     "data": {
      "text/plain": [
       "GridSearchCV(cv=5, estimator=RandomForestClassifier(random_state=42), n_jobs=-1,\n",
       "             param_grid={'criterion': ['gini', 'entropy'],\n",
       "                         'max_depth': [2, 4, 6, 8, 10, 12, 15, 20],\n",
       "                         'max_features': ['sqrt', 'auto', 'log2'],\n",
       "                         'n_estimators': [10, 25, 50, 100, 200, 500]},\n",
       "             scoring=make_scorer(recall_score, average=weighted), verbose=2)"
      ]
     },
     "execution_count": 136,
     "metadata": {},
     "output_type": "execute_result"
    }
   ],
   "source": [
    "grid_search_RF.fit(train_scaled, y_train)"
   ]
  },
  {
   "cell_type": "code",
   "execution_count": 137,
   "metadata": {},
   "outputs": [
    {
     "data": {
      "text/plain": [
       "{'criterion': 'gini',\n",
       " 'max_depth': 4,\n",
       " 'max_features': 'sqrt',\n",
       " 'n_estimators': 10}"
      ]
     },
     "execution_count": 137,
     "metadata": {},
     "output_type": "execute_result"
    }
   ],
   "source": [
    "grid_search_RF.best_params_"
   ]
  },
  {
   "cell_type": "code",
   "execution_count": 138,
   "metadata": {},
   "outputs": [
    {
     "name": "stdout",
     "output_type": "stream",
     "text": [
      "Training Accuracy:\t0.9646 \tTesting Accuracy:\t0.9412\n",
      "Training Precision:\t0.875 \tTesting Precision:\t0.6154\n",
      "Training Recall:\t0.5833 \tTesting Recall:\t\t0.4444\n",
      "Training F1:\t\t0.7 \tTesting F1:\t\t0.5161\n"
     ]
    }
   ],
   "source": [
    "rf_train_preds = grid_search_RF.best_estimator_.predict(train_scaled)\n",
    "rf_test_preds = grid_search_RF.best_estimator_.predict(test_scaled)\n",
    "metrics_score(rf_train_preds, y_train, rf_test_preds, y_test)"
   ]
  },
  {
   "cell_type": "code",
   "execution_count": 139,
   "metadata": {},
   "outputs": [
    {
     "name": "stdout",
     "output_type": "stream",
     "text": [
      "Feature: 0, Score: 0.03110\n",
      "Feature: 1, Score: 0.03358\n",
      "Feature: 2, Score: 0.07455\n",
      "Feature: 3, Score: 0.02836\n",
      "Feature: 4, Score: 0.09464\n",
      "Feature: 5, Score: 0.04786\n",
      "Feature: 6, Score: 0.01895\n",
      "Feature: 7, Score: 0.12568\n",
      "Feature: 8, Score: 0.02253\n",
      "Feature: 9, Score: 0.10869\n",
      "Feature: 10, Score: 0.01810\n",
      "Feature: 11, Score: 0.05349\n",
      "Feature: 12, Score: 0.22757\n",
      "Feature: 13, Score: 0.11489\n"
     ]
    },
    {
     "data": {
      "image/png": "[encoded data removed]",
      "text/plain": [
       "<Figure size 432x288 with 1 Axes>"
      ]
     },
     "metadata": {
      "needs_background": "light"
     },
     "output_type": "display_data"
    }
   ],
   "source": [
    "importance = grid_search_RF.best_estimator_.feature_importances_\n",
    "\n",
    "for i,v in enumerate(importance):\n",
    "\tprint('Feature: %0d, Score: %.5f' % (i,v))\n",
    "# plot feature importance\n",
    "pyplot.bar([x for x in range(len(importance))], importance)\n",
    "pyplot.show()"
   ]
  },
  {
   "cell_type": "code",
   "execution_count": 140,
   "metadata": {},
   "outputs": [
    {
     "data": {
      "image/png": "[encoded data removed]",
      "text/plain": [
       "<Figure size 432x288 with 2 Axes>"
      ]
     },
     "metadata": {
      "needs_background": "light"
     },
     "output_type": "display_data"
    }
   ],
   "source": [
    "fig, ax = plt.subplots()\n",
    "\n",
    "fig.suptitle(\"Random Forest Classifier Model- TRAIN\")\n",
    "\n",
    "plot_confusion_matrix(grid_search_RF, train_scaled, y_train, ax=ax, cmap=\"YlGnBu\");"
   ]
  },
  {
   "cell_type": "code",
   "execution_count": 141,
   "metadata": {},
   "outputs": [
    {
     "data": {
      "image/png": "[encoded data removed]",
      "text/plain": [
       "<Figure size 432x288 with 2 Axes>"
      ]
     },
     "metadata": {
      "needs_background": "light"
     },
     "output_type": "display_data"
    }
   ],
   "source": [
    "fig, ax = plt.subplots()\n",
    "\n",
    "fig.suptitle(\"Random Forest Classifier Model - TEST\")\n",
    "\n",
    "plot_confusion_matrix(grid_search_RF, test_scaled, y_test, ax=ax, cmap=\"YlGnBu\");"
   ]
  },
  {
   "cell_type": "markdown",
   "metadata": {},
   "source": [
    "##### w/ SMOTE resampling"
   ]
  },
  {
   "cell_type": "code",
   "execution_count": 142,
   "metadata": {},
   "outputs": [
    {
     "name": "stdout",
     "output_type": "stream",
     "text": [
      "Fitting 5 folds for each of 288 candidates, totalling 1440 fits\n"
     ]
    },
    {
     "name": "stderr",
     "output_type": "stream",
     "text": [
      "[Parallel(n_jobs=-1)]: Using backend LokyBackend with 4 concurrent workers.\n",
      "[Parallel(n_jobs=-1)]: Done  53 tasks      | elapsed:    9.5s\n",
      "[Parallel(n_jobs=-1)]: Done 174 tasks      | elapsed:   36.7s\n",
      "[Parallel(n_jobs=-1)]: Done 377 tasks      | elapsed:  1.8min\n",
      "[Parallel(n_jobs=-1)]: Done 660 tasks      | elapsed:  3.7min\n",
      "[Parallel(n_jobs=-1)]: Done 1025 tasks      | elapsed:  5.8min\n",
      "[Parallel(n_jobs=-1)]: Done 1440 out of 1440 | elapsed:  8.7min finished\n"
     ]
    },
    {
     "data": {
      "text/plain": [
       "GridSearchCV(cv=5, estimator=RandomForestClassifier(random_state=42), n_jobs=-1,\n",
       "             param_grid={'criterion': ['gini', 'entropy'],\n",
       "                         'max_depth': [2, 4, 6, 8, 10, 12, 15, 20],\n",
       "                         'max_features': ['sqrt', 'auto', 'log2'],\n",
       "                         'n_estimators': [10, 25, 50, 100, 200, 500]},\n",
       "             scoring=make_scorer(recall_score, average=weighted), verbose=2)"
      ]
     },
     "execution_count": 142,
     "metadata": {},
     "output_type": "execute_result"
    }
   ],
   "source": [
    "params = { \n",
    "    'n_estimators': [10, 25, 50, 100, 200, 500],\n",
    "    'max_features': ['sqrt', 'auto', 'log2'],\n",
    "    'max_depth' : [2,4,6,8,10,12,15,20],\n",
    "    'criterion' :['gini', 'entropy']\n",
    "}\n",
    "\n",
    "rf = RandomForestClassifier(random_state = 42)\n",
    "\n",
    "grid_search_RF_sm = GridSearchCV(estimator=rf, param_grid=params, scoring=scorer, \n",
    "                              cv = 5, n_jobs = -1, verbose = 2)\n",
    "\n",
    "grid_search_RF_sm.fit(X_train_sm, y_train_sm)"
   ]
  },
  {
   "cell_type": "code",
   "execution_count": 143,
   "metadata": {},
   "outputs": [
    {
     "data": {
      "text/plain": [
       "{'criterion': 'gini',\n",
       " 'max_depth': 20,\n",
       " 'max_features': 'sqrt',\n",
       " 'n_estimators': 500}"
      ]
     },
     "execution_count": 143,
     "metadata": {},
     "output_type": "execute_result"
    }
   ],
   "source": [
    "grid_search_RF_sm.best_params_"
   ]
  },
  {
   "cell_type": "code",
   "execution_count": 146,
   "metadata": {},
   "outputs": [
    {
     "name": "stdout",
     "output_type": "stream",
     "text": [
      "Training Accuracy:\t1.0 \tTesting Accuracy:\t0.9294\n",
      "Training Precision:\t1.0 \tTesting Precision:\t0.5\n",
      "Training Recall:\t1.0 \tTesting Recall:\t\t0.6667\n",
      "Training F1:\t\t1.0 \tTesting F1:\t\t0.5714\n"
     ]
    }
   ],
   "source": [
    "rf_train_preds_sm = grid_search_RF_sm.best_estimator_.predict(X_train_sm)\n",
    "rf_test_preds_sm = grid_search_RF_sm.best_estimator_.predict(test_scaled)\n",
    "metrics_score(rf_train_preds_sm, y_train_sm, rf_test_preds_sm, y_test)"
   ]
  },
  {
   "cell_type": "code",
   "execution_count": 154,
   "metadata": {},
   "outputs": [
    {
     "data": {
      "image/png": "[encoded data removed]",
      "text/plain": [
       "<Figure size 432x288 with 2 Axes>"
      ]
     },
     "metadata": {
      "needs_background": "light"
     },
     "output_type": "display_data"
    }
   ],
   "source": [
    "fig, ax = plt.subplots()\n",
    "\n",
    "fig.suptitle(\"Random Forest Classifier Model w/ SMOTE\")\n",
    "\n",
    "plot_confusion_matrix(grid_search_RF_sm, test_scaled, y_test, ax=ax, cmap=\"YlGnBu\");"
   ]
  },
  {
   "cell_type": "markdown",
   "metadata": {},
   "source": [
    "## RFE w/ SMOTETomek"
   ]
  },
  {
   "cell_type": "code",
   "execution_count": 61,
   "metadata": {},
   "outputs": [
    {
     "data": {
      "text/plain": [
       "array([[ 0.94345433,  0.94742309,  0.39837264, ..., -0.22402731,\n",
       "         0.97440729,  1.68911794],\n",
       "       [ 0.09610248,  0.02265202, -0.22010545, ...,  0.8849818 ,\n",
       "         0.53556221, -0.22106909],\n",
       "       [-0.50047962, -0.72992031, -0.87600038, ..., -1.33303642,\n",
       "        -1.59597107, -1.2822841 ],\n",
       "       ...,\n",
       "       [ 0.92877933,  0.89907236,  0.34921468, ..., -0.19162393,\n",
       "         1.07826804,  1.68332998],\n",
       "       [ 0.54145879,  0.38560983,  0.30593955, ...,  1.83556104,\n",
       "         1.53969559,  1.52722661],\n",
       "       [ 2.45079836,  3.09258702,  2.84895407, ...,  2.50377499,\n",
       "         2.23616617,  5.80090006]])"
      ]
     },
     "execution_count": 61,
     "metadata": {},
     "output_type": "execute_result"
    }
   ],
   "source": []
  },
  {
   "cell_type": "code",
   "execution_count": 60,
   "metadata": {},
   "outputs": [
    {
     "name": "stdout",
     "output_type": "stream",
     "text": [
      "Fitting 5 folds for each of 288 candidates, totalling 1440 fits\n"
     ]
    },
    {
     "name": "stderr",
     "output_type": "stream",
     "text": [
      "[Parallel(n_jobs=-1)]: Using backend LokyBackend with 4 concurrent workers.\n",
      "[Parallel(n_jobs=-1)]: Done  48 tasks      | elapsed:    8.4s\n",
      "[Parallel(n_jobs=-1)]: Done 170 tasks      | elapsed:   48.2s\n",
      "[Parallel(n_jobs=-1)]: Done 373 tasks      | elapsed:  2.6min\n",
      "[Parallel(n_jobs=-1)]: Done 656 tasks      | elapsed:  6.3min\n",
      "[Parallel(n_jobs=-1)]: Done 1021 tasks      | elapsed:  9.3min\n",
      "[Parallel(n_jobs=-1)]: Done 1440 out of 1440 | elapsed: 14.4min finished\n"
     ]
    },
    {
     "name": "stdout",
     "output_type": "stream",
     "text": [
      "Training Accuracy:\t0.9958 \tTesting Accuracy:\t0.9255\n",
      "Training Precision:\t0.9916 \tTesting Precision:\t0.4762\n",
      "Training Recall:\t1.0 \tTesting Recall:\t\t0.5556\n",
      "Training F1:\t\t0.9958 \tTesting F1:\t\t0.5128\n"
     ]
    }
   ],
   "source": [
    "# X_train_smt, y_train_smt\n",
    "\n",
    "params = { \n",
    "    'n_estimators': [10, 25, 50, 100, 200, 500],\n",
    "    'max_features': ['sqrt', 'auto', 'log2'],\n",
    "    'max_depth' : [2,4,6,8,10,12,15,20],\n",
    "    'criterion' :['gini', 'entropy']\n",
    "}\n",
    "\n",
    "rf = RandomForestClassifier(random_state = 42)\n",
    "\n",
    "grid_search_RF = GridSearchCV(estimator=rf, param_grid=params, scoring=scorer, \n",
    "                              cv = 5, n_jobs = -1, verbose = 2)\n",
    "\n",
    "grid_search_RF.fit(X_train_smt, y_train_smt)\n",
    "\n",
    "# print(grid_search_RF.best_params_)\n",
    "\n",
    "rf_train_preds = grid_search_RF.best_estimator_.predict(X_train_smt)\n",
    "rf_test_preds = grid_search_RF.best_estimator_.predict(X_test_sc)\n",
    "metrics_score(rf_train_preds, y_train_smt, rf_test_preds, y_test)\n"
   ]
  },
  {
   "cell_type": "markdown",
   "metadata": {},
   "source": [
    "#### Decision Tree GS w/ RFE "
   ]
  },
  {
   "cell_type": "code",
   "execution_count": null,
   "metadata": {},
   "outputs": [],
   "source": []
  },
  {
   "cell_type": "code",
   "execution_count": 147,
   "metadata": {},
   "outputs": [],
   "source": [
    "criterion = ['gini', 'entropy']\n",
    "max_depth = [2,4,6,8,10,12]\n",
    "\n",
    "params = dict(criterion=['gini', 'entropy'],\n",
    "                max_depth=[2,4,6,8,10,12,15,20,25],\n",
    "                 splitter = ['best', 'random'],\n",
    "             )\n",
    "\n",
    "DT = tree.DecisionTreeClassifier(random_state = 42, class_weight = 'balanced')\n",
    "\n",
    "grid_search_DT = GridSearchCV(estimator=DT, param_grid=params, scoring=scorer, \n",
    "                              cv = 5, n_jobs = -1, verbose = 2)"
   ]
  },
  {
   "cell_type": "code",
   "execution_count": 148,
   "metadata": {},
   "outputs": [
    {
     "name": "stdout",
     "output_type": "stream",
     "text": [
      "Fitting 5 folds for each of 36 candidates, totalling 180 fits\n"
     ]
    },
    {
     "name": "stderr",
     "output_type": "stream",
     "text": [
      "[Parallel(n_jobs=-1)]: Using backend LokyBackend with 4 concurrent workers.\n",
      "[Parallel(n_jobs=-1)]: Done 128 tasks      | elapsed:    1.1s\n",
      "[Parallel(n_jobs=-1)]: Done 180 out of 180 | elapsed:    1.4s finished\n"
     ]
    },
    {
     "data": {
      "text/plain": [
       "GridSearchCV(cv=5,\n",
       "             estimator=DecisionTreeClassifier(class_weight='balanced',\n",
       "                                              random_state=42),\n",
       "             n_jobs=-1,\n",
       "             param_grid={'criterion': ['gini', 'entropy'],\n",
       "                         'max_depth': [2, 4, 6, 8, 10, 12, 15, 20, 25],\n",
       "                         'splitter': ['best', 'random']},\n",
       "             scoring=make_scorer(recall_score, average=weighted), verbose=2)"
      ]
     },
     "execution_count": 148,
     "metadata": {},
     "output_type": "execute_result"
    }
   ],
   "source": [
    "grid_search_DT.fit(train_scaled, y_train)"
   ]
  },
  {
   "cell_type": "code",
   "execution_count": 149,
   "metadata": {},
   "outputs": [
    {
     "data": {
      "text/plain": [
       "{'criterion': 'entropy', 'max_depth': 10, 'splitter': 'best'}"
      ]
     },
     "execution_count": 149,
     "metadata": {},
     "output_type": "execute_result"
    }
   ],
   "source": [
    "grid_search_DT.best_params_"
   ]
  },
  {
   "cell_type": "code",
   "execution_count": 150,
   "metadata": {},
   "outputs": [
    {
     "name": "stdout",
     "output_type": "stream",
     "text": [
      "Training Accuracy:\t0.9833 \tTesting Accuracy:\t0.9059\n",
      "Training Precision:\t0.809 \tTesting Precision:\t0.3929\n",
      "Training Recall:\t1.0 \tTesting Recall:\t\t0.6111\n",
      "Training F1:\t\t0.8944 \tTesting F1:\t\t0.4783\n"
     ]
    }
   ],
   "source": [
    "dt_train_preds = grid_search_DT.best_estimator_.predict(train_scaled)\n",
    "dt_test_preds = grid_search_DT.best_estimator_.predict(test_scaled)\n",
    "metrics_score(dt_train_preds, y_train, dt_test_preds, y_test)"
   ]
  },
  {
   "cell_type": "code",
   "execution_count": 151,
   "metadata": {},
   "outputs": [
    {
     "data": {
      "image/png": "[encoded data removed]",
      "text/plain": [
       "<Figure size 432x288 with 2 Axes>"
      ]
     },
     "metadata": {
      "needs_background": "light"
     },
     "output_type": "display_data"
    }
   ],
   "source": [
    "fig, ax = plt.subplots()\n",
    "\n",
    "fig.suptitle(\"Decision Tree Classifier Model\")\n",
    "\n",
    "plot_confusion_matrix(grid_search_DT, test_scaled, y_test, ax=ax, cmap=\"YlGnBu\");"
   ]
  },
  {
   "cell_type": "markdown",
   "metadata": {},
   "source": [
    "##### w/ SMOTE"
   ]
  },
  {
   "cell_type": "code",
   "execution_count": 153,
   "metadata": {},
   "outputs": [
    {
     "name": "stdout",
     "output_type": "stream",
     "text": [
      "Fitting 5 folds for each of 36 candidates, totalling 180 fits\n"
     ]
    },
    {
     "name": "stderr",
     "output_type": "stream",
     "text": [
      "[Parallel(n_jobs=-1)]: Using backend LokyBackend with 4 concurrent workers.\n",
      "[Parallel(n_jobs=-1)]: Done 128 tasks      | elapsed:    1.1s\n",
      "[Parallel(n_jobs=-1)]: Done 180 out of 180 | elapsed:    1.4s finished\n"
     ]
    },
    {
     "data": {
      "text/plain": [
       "GridSearchCV(cv=5,\n",
       "             estimator=DecisionTreeClassifier(class_weight='balanced',\n",
       "                                              random_state=42),\n",
       "             n_jobs=-1,\n",
       "             param_grid={'criterion': ['gini', 'entropy'],\n",
       "                         'max_depth': [2, 4, 6, 8, 10, 12, 15, 20, 25],\n",
       "                         'splitter': ['best', 'random']},\n",
       "             scoring=make_scorer(recall_score, average=weighted), verbose=2)"
      ]
     },
     "execution_count": 153,
     "metadata": {},
     "output_type": "execute_result"
    }
   ],
   "source": [
    "params = dict(criterion=['gini', 'entropy'],\n",
    "                max_depth=[2,4,6,8,10,12,15,20,25],\n",
    "                 splitter = ['best', 'random'],\n",
    "             )\n",
    "\n",
    "DT = tree.DecisionTreeClassifier(random_state = 42, class_weight = 'balanced')\n",
    "\n",
    "\n",
    "grid_search_DT_sm = GridSearchCV(estimator=DT, param_grid=params, scoring=scorer, \n",
    "                              cv = 5, n_jobs = -1, verbose = 2)\n",
    "\n",
    "grid_search_DT_sm.fit(X_train_sm, y_train_sm)"
   ]
  },
  {
   "cell_type": "code",
   "execution_count": 154,
   "metadata": {},
   "outputs": [
    {
     "data": {
      "text/plain": [
       "{'criterion': 'entropy', 'max_depth': 12, 'splitter': 'best'}"
      ]
     },
     "execution_count": 154,
     "metadata": {},
     "output_type": "execute_result"
    }
   ],
   "source": [
    "grid_search_DT_sm.best_params_"
   ]
  },
  {
   "cell_type": "code",
   "execution_count": 156,
   "metadata": {},
   "outputs": [
    {
     "name": "stdout",
     "output_type": "stream",
     "text": [
      "Training Accuracy:\t0.9974 \tTesting Accuracy:\t0.8824\n",
      "Training Precision:\t1.0 \tTesting Precision:\t0.3125\n",
      "Training Recall:\t0.9947 \tTesting Recall:\t\t0.5556\n",
      "Training F1:\t\t0.9974 \tTesting F1:\t\t0.4\n"
     ]
    }
   ],
   "source": [
    "dt_train_preds_sm = grid_search_DT_sm.best_estimator_.predict(X_train_sm)\n",
    "dt_test_preds_sm = grid_search_DT_sm.best_estimator_.predict(test_scaled)\n",
    "metrics_score(dt_train_preds_sm, y_train_sm, dt_test_preds_sm, y_test)"
   ]
  },
  {
   "cell_type": "code",
   "execution_count": 157,
   "metadata": {},
   "outputs": [
    {
     "data": {
      "image/png": "[encoded data removed]",
      "text/plain": [
       "<Figure size 432x288 with 2 Axes>"
      ]
     },
     "metadata": {
      "needs_background": "light"
     },
     "output_type": "display_data"
    }
   ],
   "source": [
    "fig, ax = plt.subplots()\n",
    "\n",
    "fig.suptitle(\"Decision Tree Classifier Model w/ SMOTE\")\n",
    "\n",
    "plot_confusion_matrix(grid_search_DT_sm, test_scaled, y_test, ax=ax, cmap=\"YlGnBu\");"
   ]
  },
  {
   "cell_type": "markdown",
   "metadata": {},
   "source": [
    "#### KNN GS w/ RFE Features"
   ]
  },
  {
   "cell_type": "code",
   "execution_count": 176,
   "metadata": {},
   "outputs": [],
   "source": [
    "knn = KNeighborsClassifier()\n",
    "params = {\n",
    "    'n_neighbors': [3,5,11,15,19],\n",
    "    'weights': ['uniform', 'distance'],\n",
    "    'metric': ['eucilidean', 'manhattan', 'minkowski']\n",
    "}\n",
    "\n",
    "grid_knn = GridSearchCV(knn, params, verbose = 1,\n",
    "                        cv = 3, n_jobs =-1)"
   ]
  },
  {
   "cell_type": "code",
   "execution_count": 177,
   "metadata": {},
   "outputs": [
    {
     "name": "stdout",
     "output_type": "stream",
     "text": [
      "Fitting 3 folds for each of 30 candidates, totalling 90 fits\n"
     ]
    },
    {
     "name": "stderr",
     "output_type": "stream",
     "text": [
      "[Parallel(n_jobs=-1)]: Using backend LokyBackend with 4 concurrent workers.\n",
      "[Parallel(n_jobs=-1)]: Done  56 tasks      | elapsed:    4.5s\n",
      "[Parallel(n_jobs=-1)]: Done  90 out of  90 | elapsed:    4.6s finished\n"
     ]
    },
    {
     "data": {
      "text/plain": [
       "GridSearchCV(cv=3, estimator=KNeighborsClassifier(), n_jobs=-1,\n",
       "             param_grid={'metric': ['eucilidean', 'manhattan', 'minkowski'],\n",
       "                         'n_neighbors': [3, 5, 11, 15, 19],\n",
       "                         'weights': ['uniform', 'distance']},\n",
       "             verbose=1)"
      ]
     },
     "execution_count": 177,
     "metadata": {},
     "output_type": "execute_result"
    }
   ],
   "source": [
    "grid_knn.fit(train_scaled, y_train)"
   ]
  },
  {
   "cell_type": "code",
   "execution_count": 178,
   "metadata": {},
   "outputs": [
    {
     "data": {
      "text/plain": [
       "{'metric': 'minkowski', 'n_neighbors': 11, 'weights': 'uniform'}"
      ]
     },
     "execution_count": 178,
     "metadata": {},
     "output_type": "execute_result"
    }
   ],
   "source": [
    "grid_knn.best_params_"
   ]
  },
  {
   "cell_type": "code",
   "execution_count": 179,
   "metadata": {},
   "outputs": [
    {
     "name": "stdout",
     "output_type": "stream",
     "text": [
      "Training Accuracy:\t0.944 \tTesting Accuracy:\t0.9451\n",
      "Training Precision:\t0.9356 \tTesting Precision:\t0.9371\n",
      "Training Recall:\t0.944 \tTesting Recall:\t\t0.9451\n",
      "Training F1:\t\t0.9335 \tTesting F1:\t\t0.9377\n"
     ]
    }
   ],
   "source": [
    "knn_train_preds = grid_knn.best_estimator_.predict(train_scaled)\n",
    "knn_test_preds = grid_knn.best_estimator_.predict(test_scaled)\n",
    "metrics_score(knn_train_preds, y_train, knn_test_preds, y_test)"
   ]
  },
  {
   "cell_type": "markdown",
   "metadata": {},
   "source": [
    "##### KNN w/ resampling"
   ]
  },
  {
   "cell_type": "code",
   "execution_count": 181,
   "metadata": {},
   "outputs": [
    {
     "name": "stdout",
     "output_type": "stream",
     "text": [
      "Fitting 3 folds for each of 30 candidates, totalling 90 fits\n"
     ]
    },
    {
     "name": "stderr",
     "output_type": "stream",
     "text": [
      "[Parallel(n_jobs=-1)]: Using backend LokyBackend with 4 concurrent workers.\n"
     ]
    },
    {
     "name": "stdout",
     "output_type": "stream",
     "text": [
      "{'metric': 'minkowski', 'n_neighbors': 3, 'weights': 'distance'}\n",
      "Training Accuracy:\t1.0 \tTesting Accuracy:\t0.8941\n",
      "Training Precision:\t1.0 \tTesting Precision:\t0.9345\n",
      "Training Recall:\t1.0 \tTesting Recall:\t\t0.8941\n",
      "Training F1:\t\t1.0 \tTesting F1:\t\t0.9091\n"
     ]
    },
    {
     "name": "stderr",
     "output_type": "stream",
     "text": [
      "[Parallel(n_jobs=-1)]: Done  90 out of  90 | elapsed:    1.0s finished\n"
     ]
    }
   ],
   "source": [
    "knn = KNeighborsClassifier()\n",
    "params = {\n",
    "    'n_neighbors': [3,5,11,15,19],\n",
    "    'weights': ['uniform', 'distance'],\n",
    "    'metric': ['eucilidean', 'manhattan', 'minkowski']\n",
    "}\n",
    "\n",
    "grid_knn_sm = GridSearchCV(knn, params, verbose = 1,\n",
    "                        cv = 3, n_jobs =-1)\n",
    "\n",
    "grid_knn_sm.fit(X_train_res, y_train_res)\n",
    "\n",
    "print(grid_knn_sm.best_params_)\n",
    "\n",
    "knn_train_preds_sm = grid_knn_sm.best_estimator_.predict(X_train_res)\n",
    "knn_test_preds_sm = grid_knn_sm.best_estimator_.predict(test_scaled)\n",
    "metrics_score(knn_train_preds_sm, y_train_res, knn_test_preds_sm, y_test)"
   ]
  },
  {
   "cell_type": "code",
   "execution_count": null,
   "metadata": {},
   "outputs": [],
   "source": []
  },
  {
   "cell_type": "code",
   "execution_count": null,
   "metadata": {},
   "outputs": [],
   "source": []
  },
  {
   "cell_type": "code",
   "execution_count": null,
   "metadata": {},
   "outputs": [],
   "source": []
  },
  {
   "cell_type": "code",
   "execution_count": null,
   "metadata": {},
   "outputs": [],
   "source": []
  },
  {
   "cell_type": "markdown",
   "metadata": {},
   "source": [
    "### PCA"
   ]
  },
  {
   "cell_type": "code",
   "execution_count": 43,
   "metadata": {},
   "outputs": [],
   "source": [
    "pca = PCA(n_components= .9, random_state=42)\n",
    "\n",
    "pca_train = pca.fit_transform(X_train)\n",
    "pca_test = pca.transform(X_test)"
   ]
  },
  {
   "cell_type": "code",
   "execution_count": 44,
   "metadata": {},
   "outputs": [
    {
     "data": {
      "text/plain": [
       "2"
      ]
     },
     "execution_count": 44,
     "metadata": {},
     "output_type": "execute_result"
    }
   ],
   "source": [
    "pca.n_components_"
   ]
  },
  {
   "cell_type": "code",
   "execution_count": 34,
   "metadata": {},
   "outputs": [],
   "source": [
    "pca_result = pca.fit_transform(X_train)\n",
    "pca1 = pca_result[:,0]\n",
    "pca2 = pca_result[:,1] \n",
    "\n",
    "\n",
    "target = pd.Categorical(y_train).codes"
   ]
  },
  {
   "cell_type": "code",
   "execution_count": 36,
   "metadata": {},
   "outputs": [
    {
     "data": {
      "image/png": "[encoded data removed]",
      "text/plain": [
       "<Figure size 1368x504 with 1 Axes>"
      ]
     },
     "metadata": {
      "needs_background": "light"
     },
     "output_type": "display_data"
    }
   ],
   "source": [
    "fig = plt.figure(figsize=(19, 7))\n",
    "\n",
    "ax = fig.add_subplot(1, 2, 1, projection='3d')\n",
    "ax.set_title('PCA', fontsize=25, loc='left')\n",
    "ax.scatter(xs=pca1, \n",
    "           ys=pca2, \n",
    "#            zs=pca3, \n",
    "           c=target,\n",
    "           alpha=.9,)\n",
    "\n",
    "ax.w_xaxis.line.set_color((1.0, 1.0, 1.0, 0.0))\n",
    "ax.w_yaxis.line.set_color((1.0, 1.0, 1.0, 0.0))\n",
    "# ax.w_zaxis.line.set_color((1.0, 1.0, 1.0, 0.0))\n",
    "\n",
    "ax.xaxis.set_pane_color((1.0, 1.0, 1.0, 0.0))\n",
    "ax.yaxis.set_pane_color((1.0, 1.0, 1.0, 0.0))\n",
    "# ax.zaxis.set_pane_color((1.0, 1.0, 1.0, 0.0))\n"
   ]
  },
  {
   "cell_type": "code",
   "execution_count": 97,
   "metadata": {},
   "outputs": [],
   "source": [
    "from sklearn.feature_extraction.text import TfidfVectorizer, CountVectorizer\n",
    "from sklearn.ensemble import RandomForestClassifier\n",
    "from sklearn.naive_bayes import MultinomialNB\n",
    "from sklearn import metrics\n",
    "from sklearn.metrics import roc_curve, auc, accuracy_score, precision_score, f1_score, recall_score, confusion_matrix, classification_report, make_scorer\n",
    "from sklearn.decomposition import PCA\n",
    "from sklearn import linear_model\n",
    "from sklearn.preprocessing import MinMaxScaler, StandardScaler\n",
    "from sklearn import tree \n",
    "from xgboost import XGBClassifier\n",
    "from lightgbm import LGBMRegressor, LGBMClassifier, Booster\n",
    "from sklearn.neighbors import KNeighborsClassifier\n",
    "from sklearn.multiclass import OneVsRestClassifier\n",
    "from sklearn.svm import SVC\n",
    "from sklearn.metrics import f1_score, confusion_matrix,\\\n",
    "recall_score, precision_score, accuracy_score, log_loss,\\\n",
    "roc_curve, roc_auc_score, classification_report,plot_confusion_matrix\n",
    "from sklearn.feature_selection import RFE, RFECV\n"
   ]
  },
  {
   "cell_type": "code",
   "execution_count": 98,
   "metadata": {
    "collapsed": true,
    "jupyter": {
     "outputs_hidden": true
    }
   },
   "outputs": [
    {
     "name": "stdout",
     "output_type": "stream",
     "text": [
      "Fitting estimator with 133 features.\n",
      "Fitting estimator with 132 features.\n",
      "Fitting estimator with 131 features.\n",
      "Fitting estimator with 130 features.\n",
      "Fitting estimator with 129 features.\n",
      "Fitting estimator with 128 features.\n",
      "Fitting estimator with 127 features.\n",
      "Fitting estimator with 126 features.\n",
      "Fitting estimator with 125 features.\n",
      "Fitting estimator with 124 features.\n",
      "Fitting estimator with 123 features.\n",
      "Fitting estimator with 122 features.\n",
      "Fitting estimator with 121 features.\n",
      "Fitting estimator with 120 features.\n",
      "Fitting estimator with 119 features.\n",
      "Fitting estimator with 118 features.\n",
      "Fitting estimator with 117 features.\n",
      "Fitting estimator with 116 features.\n",
      "Fitting estimator with 115 features.\n",
      "Fitting estimator with 114 features.\n",
      "Fitting estimator with 113 features.\n",
      "Fitting estimator with 112 features.\n",
      "Fitting estimator with 111 features.\n",
      "Fitting estimator with 110 features.\n",
      "Fitting estimator with 109 features.\n",
      "Fitting estimator with 108 features.\n",
      "Fitting estimator with 107 features.\n",
      "Fitting estimator with 106 features.\n",
      "Fitting estimator with 105 features.\n",
      "Fitting estimator with 104 features.\n",
      "Fitting estimator with 103 features.\n",
      "Fitting estimator with 102 features.\n",
      "Fitting estimator with 101 features.\n",
      "Fitting estimator with 100 features.\n",
      "Fitting estimator with 99 features.\n",
      "Fitting estimator with 98 features.\n",
      "Fitting estimator with 97 features.\n",
      "Fitting estimator with 96 features.\n",
      "Fitting estimator with 95 features.\n",
      "Fitting estimator with 94 features.\n",
      "Fitting estimator with 93 features.\n",
      "Fitting estimator with 92 features.\n",
      "Fitting estimator with 91 features.\n",
      "Fitting estimator with 90 features.\n",
      "Fitting estimator with 89 features.\n",
      "Fitting estimator with 88 features.\n",
      "Fitting estimator with 87 features.\n",
      "Fitting estimator with 86 features.\n",
      "Fitting estimator with 85 features.\n",
      "Fitting estimator with 84 features.\n",
      "Fitting estimator with 83 features.\n",
      "Fitting estimator with 82 features.\n",
      "Fitting estimator with 81 features.\n",
      "Fitting estimator with 80 features.\n",
      "Fitting estimator with 79 features.\n",
      "Fitting estimator with 78 features.\n",
      "Fitting estimator with 77 features.\n",
      "Fitting estimator with 76 features.\n",
      "Fitting estimator with 75 features.\n",
      "Fitting estimator with 74 features.\n",
      "Fitting estimator with 73 features.\n",
      "Fitting estimator with 72 features.\n",
      "Fitting estimator with 71 features.\n",
      "Fitting estimator with 70 features.\n",
      "Fitting estimator with 69 features.\n",
      "Fitting estimator with 68 features.\n",
      "Fitting estimator with 67 features.\n",
      "Fitting estimator with 66 features.\n",
      "Fitting estimator with 65 features.\n",
      "Fitting estimator with 64 features.\n",
      "Fitting estimator with 63 features.\n",
      "Fitting estimator with 62 features.\n",
      "Fitting estimator with 61 features.\n",
      "Fitting estimator with 60 features.\n",
      "Fitting estimator with 59 features.\n",
      "Fitting estimator with 58 features.\n",
      "Fitting estimator with 57 features.\n",
      "Fitting estimator with 56 features.\n",
      "Fitting estimator with 55 features.\n",
      "Fitting estimator with 54 features.\n",
      "Fitting estimator with 53 features.\n",
      "Fitting estimator with 52 features.\n",
      "Fitting estimator with 51 features.\n",
      "Fitting estimator with 50 features.\n",
      "Fitting estimator with 49 features.\n",
      "Fitting estimator with 48 features.\n",
      "Fitting estimator with 47 features.\n",
      "Fitting estimator with 46 features.\n",
      "Fitting estimator with 45 features.\n",
      "Fitting estimator with 44 features.\n",
      "Fitting estimator with 43 features.\n",
      "Fitting estimator with 42 features.\n",
      "Fitting estimator with 41 features.\n",
      "Fitting estimator with 40 features.\n",
      "Fitting estimator with 39 features.\n",
      "Fitting estimator with 38 features.\n",
      "Fitting estimator with 37 features.\n",
      "[ True False False False False False  True  True  True False False False\n",
      "  True False  True False False False False False False False False False\n",
      " False False False False False False False False False False False False\n",
      " False False False False False False False False False False False False\n",
      " False False False False False False  True False False False False False\n",
      " False False False  True  True  True  True False False False False False\n",
      " False False False  True False  True  True False False False  True False\n",
      " False False False False False  True False  True  True  True False False\n",
      "  True False False False False False  True False  True False  True False\n",
      " False  True False False False False False  True False  True  True False\n",
      "  True  True  True False False False  True  True  True  True False  True\n",
      "  True]\n",
      "[ 1 34 56 84 24 33  1  1  1  4 25 48  1 31  1 97 98 46 94 70 83 86 51 65\n",
      " 23 64 39 87 55 77 17 88 44 13 96  9 80 66 67  8 81 78 38 22 20 90 43 19\n",
      " 35 32 54 75 58 72  1 95 93 69 71 82 49 76 21  1  1  1  1 40 12 50 11 45\n",
      " 53 52 26  1  6  1  1 47 30  3  1 74 62 59 37  2  5  1 28  1  1  1 85 73\n",
      "  1 41 42 15  7 60  1 63  1 14  1 27 68  1 61 79 92 29 89  1 18  1  1 91\n",
      "  1  1  1 36 57 10  1  1  1  1 16  1  1]\n"
     ]
    }
   ],
   "source": [
    "RF = RandomForestClassifier(random_state = 42)\n",
    "rfe = RFECV(estimator = DT, step =1, cv = 3, scoring = 'recall', n_jobs = -1, verbose = 1)\n",
    "rfe = rfe.fit(X_train, y_train)\n",
    "# print summaries for the selection of attributes\n",
    "print(rfe.support_)\n",
    "print(rfe.ranking_)\n"
   ]
  },
  {
   "cell_type": "code",
   "execution_count": 102,
   "metadata": {},
   "outputs": [
    {
     "ename": "NameError",
     "evalue": "name 'rfe_features' is not defined",
     "output_type": "error",
     "traceback": [
      "\u001b[0;31m---------------------------------------------------------------------------\u001b[0m",
      "\u001b[0;31mNameError\u001b[0m                                 Traceback (most recent call last)",
      "\u001b[0;32m<ipython-input-102-87b55b3fe432>\u001b[0m in \u001b[0;36m<module>\u001b[0;34m\u001b[0m\n\u001b[0;32m----> 1\u001b[0;31m \u001b[0mselected_rfe\u001b[0m \u001b[0;34m=\u001b[0m \u001b[0mX_train\u001b[0m\u001b[0;34m[\u001b[0m\u001b[0mrfe_features\u001b[0m\u001b[0;34m]\u001b[0m\u001b[0;34m.\u001b[0m\u001b[0mcolumns\u001b[0m\u001b[0;34m[\u001b[0m\u001b[0mselector\u001b[0m\u001b[0;34m.\u001b[0m\u001b[0msupport_\u001b[0m\u001b[0;34m]\u001b[0m\u001b[0;34m\u001b[0m\u001b[0;34m\u001b[0m\u001b[0m\n\u001b[0m",
      "\u001b[0;31mNameError\u001b[0m: name 'rfe_features' is not defined"
     ]
    }
   ],
   "source": [
    "selected_rfe = X_train[rfe_features].columns[selector.support_]"
   ]
  },
  {
   "cell_type": "code",
   "execution_count": 100,
   "metadata": {},
   "outputs": [
    {
     "ename": "NotFittedError",
     "evalue": "This RandomForestClassifier instance is not fitted yet. Call 'fit' with appropriate arguments before using this estimator.",
     "output_type": "error",
     "traceback": [
      "\u001b[0;31m---------------------------------------------------------------------------\u001b[0m",
      "\u001b[0;31mNotFittedError\u001b[0m                            Traceback (most recent call last)",
      "\u001b[0;32m<ipython-input-100-84d7261afd68>\u001b[0m in \u001b[0;36m<module>\u001b[0;34m\u001b[0m\n\u001b[1;32m      1\u001b[0m feat_import = {name: score \n\u001b[1;32m      2\u001b[0m                    \u001b[0;32mfor\u001b[0m \u001b[0mname\u001b[0m\u001b[0;34m,\u001b[0m \u001b[0mscore\u001b[0m\u001b[0;34m\u001b[0m\u001b[0;34m\u001b[0m\u001b[0m\n\u001b[0;32m----> 3\u001b[0;31m                                in zip(X_test.columns, RF.feature_importances_)}\n\u001b[0m\u001b[1;32m      4\u001b[0m \u001b[0mfeat_import\u001b[0m\u001b[0;34m\u001b[0m\u001b[0;34m\u001b[0m\u001b[0m\n",
      "\u001b[0;32m~/opt/anaconda3/envs/learn-env/lib/python3.8/site-packages/sklearn/ensemble/_forest.py\u001b[0m in \u001b[0;36mfeature_importances_\u001b[0;34m(self)\u001b[0m\n\u001b[1;32m    442\u001b[0m             \u001b[0marray\u001b[0m \u001b[0mof\u001b[0m \u001b[0mzeros\u001b[0m\u001b[0;34m.\u001b[0m\u001b[0;34m\u001b[0m\u001b[0;34m\u001b[0m\u001b[0m\n\u001b[1;32m    443\u001b[0m         \"\"\"\n\u001b[0;32m--> 444\u001b[0;31m         \u001b[0mcheck_is_fitted\u001b[0m\u001b[0;34m(\u001b[0m\u001b[0mself\u001b[0m\u001b[0;34m)\u001b[0m\u001b[0;34m\u001b[0m\u001b[0;34m\u001b[0m\u001b[0m\n\u001b[0m\u001b[1;32m    445\u001b[0m \u001b[0;34m\u001b[0m\u001b[0m\n\u001b[1;32m    446\u001b[0m         all_importances = Parallel(n_jobs=self.n_jobs,\n",
      "\u001b[0;32m~/opt/anaconda3/envs/learn-env/lib/python3.8/site-packages/sklearn/utils/validation.py\u001b[0m in \u001b[0;36minner_f\u001b[0;34m(*args, **kwargs)\u001b[0m\n\u001b[1;32m     70\u001b[0m                           FutureWarning)\n\u001b[1;32m     71\u001b[0m         \u001b[0mkwargs\u001b[0m\u001b[0;34m.\u001b[0m\u001b[0mupdate\u001b[0m\u001b[0;34m(\u001b[0m\u001b[0;34m{\u001b[0m\u001b[0mk\u001b[0m\u001b[0;34m:\u001b[0m \u001b[0marg\u001b[0m \u001b[0;32mfor\u001b[0m \u001b[0mk\u001b[0m\u001b[0;34m,\u001b[0m \u001b[0marg\u001b[0m \u001b[0;32min\u001b[0m \u001b[0mzip\u001b[0m\u001b[0;34m(\u001b[0m\u001b[0msig\u001b[0m\u001b[0;34m.\u001b[0m\u001b[0mparameters\u001b[0m\u001b[0;34m,\u001b[0m \u001b[0margs\u001b[0m\u001b[0;34m)\u001b[0m\u001b[0;34m}\u001b[0m\u001b[0;34m)\u001b[0m\u001b[0;34m\u001b[0m\u001b[0;34m\u001b[0m\u001b[0m\n\u001b[0;32m---> 72\u001b[0;31m         \u001b[0;32mreturn\u001b[0m \u001b[0mf\u001b[0m\u001b[0;34m(\u001b[0m\u001b[0;34m**\u001b[0m\u001b[0mkwargs\u001b[0m\u001b[0;34m)\u001b[0m\u001b[0;34m\u001b[0m\u001b[0;34m\u001b[0m\u001b[0m\n\u001b[0m\u001b[1;32m     73\u001b[0m     \u001b[0;32mreturn\u001b[0m \u001b[0minner_f\u001b[0m\u001b[0;34m\u001b[0m\u001b[0;34m\u001b[0m\u001b[0m\n\u001b[1;32m     74\u001b[0m \u001b[0;34m\u001b[0m\u001b[0m\n",
      "\u001b[0;32m~/opt/anaconda3/envs/learn-env/lib/python3.8/site-packages/sklearn/utils/validation.py\u001b[0m in \u001b[0;36mcheck_is_fitted\u001b[0;34m(estimator, attributes, msg, all_or_any)\u001b[0m\n\u001b[1;32m   1017\u001b[0m \u001b[0;34m\u001b[0m\u001b[0m\n\u001b[1;32m   1018\u001b[0m     \u001b[0;32mif\u001b[0m \u001b[0;32mnot\u001b[0m \u001b[0mattrs\u001b[0m\u001b[0;34m:\u001b[0m\u001b[0;34m\u001b[0m\u001b[0;34m\u001b[0m\u001b[0m\n\u001b[0;32m-> 1019\u001b[0;31m         \u001b[0;32mraise\u001b[0m \u001b[0mNotFittedError\u001b[0m\u001b[0;34m(\u001b[0m\u001b[0mmsg\u001b[0m \u001b[0;34m%\u001b[0m \u001b[0;34m{\u001b[0m\u001b[0;34m'name'\u001b[0m\u001b[0;34m:\u001b[0m \u001b[0mtype\u001b[0m\u001b[0;34m(\u001b[0m\u001b[0mestimator\u001b[0m\u001b[0;34m)\u001b[0m\u001b[0;34m.\u001b[0m\u001b[0m__name__\u001b[0m\u001b[0;34m}\u001b[0m\u001b[0;34m)\u001b[0m\u001b[0;34m\u001b[0m\u001b[0;34m\u001b[0m\u001b[0m\n\u001b[0m\u001b[1;32m   1020\u001b[0m \u001b[0;34m\u001b[0m\u001b[0m\n\u001b[1;32m   1021\u001b[0m \u001b[0;34m\u001b[0m\u001b[0m\n",
      "\u001b[0;31mNotFittedError\u001b[0m: This RandomForestClassifier instance is not fitted yet. Call 'fit' with appropriate arguments before using this estimator."
     ]
    }
   ],
   "source": [
    "feat_import = {name: score \n",
    "                   for name, score \n",
    "                               in zip(X_test.columns, RF.feature_importances_)}\n",
    "feat_import"
   ]
  },
  {
   "cell_type": "code",
   "execution_count": 70,
   "metadata": {},
   "outputs": [],
   "source": [
    "# create function to call for evaluation of each model\n",
    "\n",
    "def metrics_score(train_preds, y_train, test_preds, y_test):\n",
    "    print(f\"Training Accuracy:\\t{accuracy_score(y_train, train_preds):.4}\",\n",
    "          f\"\\tTesting Accuracy:\\t{accuracy_score(y_test, test_preds):.4}\")\n",
    "    print(f\"Training Precision:\\t{precision_score(y_train, train_preds, average='weighted'):.4}\",\n",
    "          f\"\\tTesting Precision:\\t{precision_score(y_test, test_preds, average='weighted'):.4}\")\n",
    "    print(f\"Training Recall:\\t{recall_score(y_train, train_preds, average='weighted'):.4}\",\n",
    "          f\"\\tTesting Recall:\\t\\t{recall_score(y_test, test_preds, average='weighted'):.4}\")\n",
    "    print(f\"Training F1:\\t\\t{f1_score(y_train, train_preds, average='weighted'):.4}\",\n",
    "          f\"\\tTesting F1:\\t\\t{f1_score(y_test, test_preds, average='weighted'):.4}\")"
   ]
  },
  {
   "cell_type": "code",
   "execution_count": 101,
   "metadata": {},
   "outputs": [
    {
     "name": "stdout",
     "output_type": "stream",
     "text": [
      "Training Accuracy:\t1.0 \tTesting Accuracy:\t0.9412\n",
      "Training Precision:\t1.0 \tTesting Precision:\t0.9344\n",
      "Training Recall:\t1.0 \tTesting Recall:\t\t0.9412\n",
      "Training F1:\t\t1.0 \tTesting F1:\t\t0.9367\n"
     ]
    }
   ],
   "source": [
    "rf_train_preds = rfe.predict(X_train)\n",
    "rf_test_preds = rfe.predict(X_test)\n",
    "metrics_score(rf_train_preds, y_train, rf_test_preds, y_test)"
   ]
  },
  {
   "cell_type": "code",
   "execution_count": 68,
   "metadata": {},
   "outputs": [
    {
     "data": {
      "image/png": "[encoded data removed]",
      "text/plain": [
       "<Figure size 432x288 with 2 Axes>"
      ]
     },
     "metadata": {
      "needs_background": "light"
     },
     "output_type": "display_data"
    }
   ],
   "source": [
    "fig, ax = plt.subplots()\n",
    "\n",
    "fig.suptitle(\"RF RFE Model\")\n",
    "\n",
    "plot_confusion_matrix(rfe, X_test, y_test, ax=ax, cmap=\"YlGnBu\");"
   ]
  },
  {
   "cell_type": "code",
   "execution_count": 54,
   "metadata": {},
   "outputs": [
    {
     "data": {
      "text/plain": [
       "RandomForestClassifier(random_state=42)"
      ]
     },
     "execution_count": 54,
     "metadata": {},
     "output_type": "execute_result"
    }
   ],
   "source": [
    "RF2 = RandomForestClassifier(random_state = 42)\n",
    "RF2.fit(X_train, y_train)"
   ]
  },
  {
   "cell_type": "code",
   "execution_count": 55,
   "metadata": {},
   "outputs": [
    {
     "name": "stdout",
     "output_type": "stream",
     "text": [
      "Training Accuracy:\t1.0 \tTesting Accuracy:\t0.9373\n",
      "Training Precision:\t1.0 \tTesting Precision:\t0.9312\n",
      "Training Recall:\t1.0 \tTesting Recall:\t\t0.9373\n",
      "Training F1:\t\t1.0 \tTesting F1:\t\t0.9336\n"
     ]
    }
   ],
   "source": [
    "rf_train_preds = RF2.predict(X_train)\n",
    "rf_test_preds = RF2.predict(X_test)\n",
    "metrics_score(rf_train_preds, y_train, rf_test_preds, y_test)"
   ]
  },
  {
   "cell_type": "code",
   "execution_count": 81,
   "metadata": {},
   "outputs": [
    {
     "data": {
      "text/plain": [
       "KNeighborsClassifier(n_neighbors=7, weights='distance')"
      ]
     },
     "execution_count": 81,
     "metadata": {},
     "output_type": "execute_result"
    }
   ],
   "source": [
    "knn = KNeighborsClassifier(n_neighbors=7, weights = 'distance')\n",
    "knn.fit(X_train, y_train)"
   ]
  },
  {
   "cell_type": "code",
   "execution_count": 82,
   "metadata": {},
   "outputs": [
    {
     "data": {
      "text/plain": [
       "array([0.93137255, 0.92156863, 0.93137255, 0.9408867 , 0.93596059])"
      ]
     },
     "execution_count": 82,
     "metadata": {},
     "output_type": "execute_result"
    }
   ],
   "source": [
    "\n",
    "cross_val_score(knn, X_train, y_train, cv=5)"
   ]
  },
  {
   "cell_type": "code",
   "execution_count": 83,
   "metadata": {},
   "outputs": [
    {
     "name": "stdout",
     "output_type": "stream",
     "text": [
      "Training Accuracy:\t1.0 \tTesting Accuracy:\t0.949\n",
      "Training Precision:\t1.0 \tTesting Precision:\t0.9455\n",
      "Training Recall:\t1.0 \tTesting Recall:\t\t0.949\n",
      "Training F1:\t\t1.0 \tTesting F1:\t\t0.9469\n"
     ]
    }
   ],
   "source": [
    "knn_train_preds = knn.predict(X_train)\n",
    "knn_test_preds = knn.predict(X_test)\n",
    "metrics_score(rf_train_preds, y_train, rf_test_preds, y_test)"
   ]
  },
  {
   "cell_type": "code",
   "execution_count": 84,
   "metadata": {},
   "outputs": [
    {
     "data": {
      "text/plain": [
       "0.07069913589945012"
      ]
     },
     "execution_count": 84,
     "metadata": {},
     "output_type": "execute_result"
    }
   ],
   "source": [
    "df['target'].mean()"
   ]
  },
  {
   "cell_type": "code",
   "execution_count": 85,
   "metadata": {},
   "outputs": [
    {
     "data": {
      "image/png": "[encoded data removed]",
      "text/plain": [
       "<Figure size 432x288 with 2 Axes>"
      ]
     },
     "metadata": {
      "needs_background": "light"
     },
     "output_type": "display_data"
    }
   ],
   "source": [
    "fig, ax = plt.subplots()\n",
    "\n",
    "fig.suptitle(\"KNN Model\")\n",
    "\n",
    "plot_confusion_matrix(knn, X_test, y_test, ax=ax, cmap=\"YlGnBu\");"
   ]
  },
  {
   "cell_type": "code",
   "execution_count": null,
   "metadata": {},
   "outputs": [],
   "source": []
  }
 ],
 "metadata": {
  "kernelspec": {
   "display_name": "learn-env",
   "language": "python",
   "name": "learn-env"
  },
  "language_info": {
   "codemirror_mode": {
    "name": "ipython",
    "version": 3
   },
   "file_extension": ".py",
   "mimetype": "text/x-python",
   "name": "python",
   "nbconvert_exporter": "python",
   "pygments_lexer": "ipython3",
   "version": "3.8.5"
  }
 },
 "nbformat": 4,
 "nbformat_minor": 4
}
